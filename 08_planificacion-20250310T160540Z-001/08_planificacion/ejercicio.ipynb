{
 "cells": [
  {
   "cell_type": "markdown",
   "metadata": {},
   "source": [
    "# Diseño y despliegue de un modelo predictivo para una cooperativa agrícola\n",
    "\n",
    "## Contexto\n",
    "Una cooperativa agrícola local necesita automatizar la clasificación de calidad de sus productos (frutas y hortalizas) antes del envasado. Siguiendo el caso práctico del material, debes planificar un proyecto completo de machine learning.\n",
    "\n",
    "## Requerimientos\n",
    "\n",
    "### Diseña un documento detallado que incluya:\n",
    "* Identificación de necesidades específicas de la cooperativa\n",
    "* Propuesta de arquitectura del sistema (diagrama requerido) \n",
    "* Plan de adquisición de datos con al menos 3 fuentes\n",
    "* Selección justificada del algoritmo de ML más adecuado\n",
    "* Estrategia para feature engineering\n",
    "* Definición de hiperparámetros iniciales a probar\n",
    "\n",
    "### Propuesta de implementación:\n",
    "* Descripción de entornos necesarios (desarrollo, QA, producción)\n",
    "* Selección entre enfoque serverless o servidor privado, justificando ventajas y desventajas\n",
    "* Plan de monitorización de datos reales y feedback\n",
    "* Estrategia para actualización del modelo\n",
    "\n",
    "### Elabora un cronograma que incluya las 10 etapas del proceso de ML mencionadas en el material, asignando tiempos realistas.\n",
    "\n",
    "### Entregable: \n",
    "Documento PDF con la propuesta completa, incluyendo diagramas, tablas de decisión y cronograma."
   ]
  },
  {
   "cell_type": "markdown",
   "metadata": {},
   "source": []
  }
 ],
 "metadata": {
  "language_info": {
   "name": "python"
  }
 },
 "nbformat": 4,
 "nbformat_minor": 2
}
