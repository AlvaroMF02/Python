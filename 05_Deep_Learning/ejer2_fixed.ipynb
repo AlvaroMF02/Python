{
    "cells": [
        {
            "cell_type": "code",
            "execution_count": null,
            "metadata": {},
            "outputs": [
                {
                    "ename": "",
                    "evalue": "",
                    "output_type": "error",
                    "traceback": [
                        "\u001b[1;31mFailed to start the Kernel. \n",
                        "\u001b[1;31mPermissionError: [WinError 32] El proceso no tiene acceso al archivo porque está siendo utilizado por otro proceso: 'C:\\\\Users\\\\albaro\\\\.ipython\\\\profile_default\\\\history.sqlite' -> 'C:\\\\Users\\\\albaro\\\\.ipython\\\\profile_default\\\\history-corrupt-2025-02-12T20.23.27.071869.sqlite'. \n",
                        "\u001b[1;31mView Jupyter <a href='command:jupyter.viewOutput'>log</a> for further details."
                    ]
                }
            ],
            "source": [
                "import pandas as pd\n",
                "import glob\n",
                "from sklearn.preprocessing import MinMaxScaler"
            ]
        },
        {
            "cell_type": "markdown",
            "metadata": {},
            "source": [
                "## Ejercicio 2: Análisis de Funciones de Activación y Loss en Predicción de Series Temporales\n",
                "\n",
                "Utilizarás el dataset público de calidad del aire de Beijing para crear un modelo de predicción de niveles de contaminación. Analizarás el impacto de diferentes funciones de activación y pérdida:\n",
                "\n",
                "1. Preprocesamiento de datos:\n",
                "   - Carga el dataset de calidad del aire de Beijing\n",
                "   - Maneja valores faltantes\n",
                "   - Normaliza las características\n",
                "   - Crea secuencias temporales con ventana deslizante"
            ]
        },
        {
            "cell_type": "code",
            "execution_count": 36,
            "metadata": {},
            "outputs": [],
            "source": [
                "# Lista de archivos CSV en la carpeta (ajusta el path si es necesario)\n",
                "archivos = glob.glob(\"C:/Users/albaro/Documents/DataSets/beijingPollution/cities/*.csv\")  # Puedes cambiar esto por una lista de nombres de archivos\n",
                "\n",
                "# Cargar y concatenar todos los datasets\n",
                "df = pd.concat([pd.read_csv(archivo) for archivo in archivos], ignore_index=True)\n",
                "\n",
                "# Guardar el dataset combinado\n",
                "df.to_csv(\"dataset_completo.csv\", index=False)\n"
            ]
        },
        {
            "cell_type": "code",
            "execution_count": 37,
            "metadata": {},
            "outputs": [
                {
                    "name": "stdout",
                    "output_type": "stream",
                    "text": [
                        "No         0\n",
                        "year       0\n",
                        "month      0\n",
                        "day        0\n",
                        "hour       0\n",
                        "PM2.5      0\n",
                        "PM10       0\n",
                        "SO2        0\n",
                        "NO2        0\n",
                        "CO         0\n",
                        "O3         0\n",
                        "TEMP       0\n",
                        "PRES       0\n",
                        "DEWP       0\n",
                        "RAIN       0\n",
                        "wd         0\n",
                        "WSPM       0\n",
                        "station    0\n",
                        "dtype: int64\n"
                    ]
                }
            ],
            "source": [
                "# -------------------------------- QUITAR NULOS --------------------------------\n",
                "\n",
                "# manejar los nulos con la mediana\n",
                "# df.fillna(df.median(numeric_only=True), inplace=True)\n",
                "\n",
                "# ffill para coger los anterires datos y rellenarlos por los null\n",
                "df.ffill(inplace=True)\n",
                "\n",
                "# Comprobar nulos\n",
                "print(df.isnull().sum())"
            ]
        },
        {
            "cell_type": "code",
            "execution_count": null,
            "metadata": {},
            "outputs": [],
            "source": [
                "# -------------------------------- NORMALIZAR --------------------------------\n",
                "# Definir columnas a normalizar (todas menos \"wd\", \"station\" y \"year\")\n",
                "columnas_a_normalizar = df.drop(columns=[\"No\",\"wd\", \"station\", \"year\",\"month\",\"day\"]).columns\n",
                "\n",
                "# Aplicar Min-Max Scaling\n",
                "scaler = MinMaxScaler()\n",
                "df[columnas_a_normalizar] = scaler.fit_transform(df[columnas_a_normalizar])"
            ]
        },
        {
            "cell_type": "code",
            "execution_count": 39,
            "metadata": {},
            "outputs": [
                {
                    "data": {
                        "text/html": [
                            "<div>\n",
                            "<style scoped>\n",
                            "    .dataframe tbody tr th:only-of-type {\n",
                            "        vertical-align: middle;\n",
                            "    }\n",
                            "\n",
                            "    .dataframe tbody tr th {\n",
                            "        vertical-align: top;\n",
                            "    }\n",
                            "\n",
                            "    .dataframe thead th {\n",
                            "        text-align: right;\n",
                            "    }\n",
                            "</style>\n",
                            "<table border=\"1\" class=\"dataframe\">\n",
                            "  <thead>\n",
                            "    <tr style=\"text-align: right;\">\n",
                            "      <th></th>\n",
                            "      <th>No</th>\n",
                            "      <th>year</th>\n",
                            "      <th>month</th>\n",
                            "      <th>day</th>\n",
                            "      <th>hour</th>\n",
                            "      <th>PM2.5</th>\n",
                            "      <th>PM10</th>\n",
                            "      <th>SO2</th>\n",
                            "      <th>NO2</th>\n",
                            "      <th>CO</th>\n",
                            "      <th>O3</th>\n",
                            "      <th>TEMP</th>\n",
                            "      <th>PRES</th>\n",
                            "      <th>DEWP</th>\n",
                            "      <th>RAIN</th>\n",
                            "      <th>wd</th>\n",
                            "      <th>WSPM</th>\n",
                            "      <th>station</th>\n",
                            "    </tr>\n",
                            "  </thead>\n",
                            "  <tbody>\n",
                            "    <tr>\n",
                            "      <th>0</th>\n",
                            "      <td>0.000000</td>\n",
                            "      <td>2013</td>\n",
                            "      <td>3</td>\n",
                            "      <td>1</td>\n",
                            "      <td>0.000000</td>\n",
                            "      <td>0.002006</td>\n",
                            "      <td>0.002006</td>\n",
                            "      <td>0.007433</td>\n",
                            "      <td>0.020671</td>\n",
                            "      <td>0.020202</td>\n",
                            "      <td>0.071710</td>\n",
                            "      <td>0.312195</td>\n",
                            "      <td>0.672185</td>\n",
                            "      <td>0.339310</td>\n",
                            "      <td>0.0</td>\n",
                            "      <td>NNW</td>\n",
                            "      <td>0.333333</td>\n",
                            "      <td>Aotizhongxin</td>\n",
                            "    </tr>\n",
                            "    <tr>\n",
                            "      <th>1</th>\n",
                            "      <td>0.000029</td>\n",
                            "      <td>2013</td>\n",
                            "      <td>3</td>\n",
                            "      <td>1</td>\n",
                            "      <td>0.043478</td>\n",
                            "      <td>0.006018</td>\n",
                            "      <td>0.006018</td>\n",
                            "      <td>0.007433</td>\n",
                            "      <td>0.020671</td>\n",
                            "      <td>0.020202</td>\n",
                            "      <td>0.071710</td>\n",
                            "      <td>0.305691</td>\n",
                            "      <td>0.675497</td>\n",
                            "      <td>0.347586</td>\n",
                            "      <td>0.0</td>\n",
                            "      <td>N</td>\n",
                            "      <td>0.356061</td>\n",
                            "      <td>Aotizhongxin</td>\n",
                            "    </tr>\n",
                            "    <tr>\n",
                            "      <th>2</th>\n",
                            "      <td>0.000057</td>\n",
                            "      <td>2013</td>\n",
                            "      <td>3</td>\n",
                            "      <td>1</td>\n",
                            "      <td>0.086957</td>\n",
                            "      <td>0.005015</td>\n",
                            "      <td>0.005015</td>\n",
                            "      <td>0.009434</td>\n",
                            "      <td>0.031053</td>\n",
                            "      <td>0.020202</td>\n",
                            "      <td>0.067974</td>\n",
                            "      <td>0.305691</td>\n",
                            "      <td>0.680464</td>\n",
                            "      <td>0.347586</td>\n",
                            "      <td>0.0</td>\n",
                            "      <td>NNW</td>\n",
                            "      <td>0.424242</td>\n",
                            "      <td>Aotizhongxin</td>\n",
                            "    </tr>\n",
                            "    <tr>\n",
                            "      <th>3</th>\n",
                            "      <td>0.000086</td>\n",
                            "      <td>2013</td>\n",
                            "      <td>3</td>\n",
                            "      <td>1</td>\n",
                            "      <td>0.130435</td>\n",
                            "      <td>0.004012</td>\n",
                            "      <td>0.004012</td>\n",
                            "      <td>0.021441</td>\n",
                            "      <td>0.034514</td>\n",
                            "      <td>0.020202</td>\n",
                            "      <td>0.067040</td>\n",
                            "      <td>0.300813</td>\n",
                            "      <td>0.697020</td>\n",
                            "      <td>0.331034</td>\n",
                            "      <td>0.0</td>\n",
                            "      <td>NW</td>\n",
                            "      <td>0.234848</td>\n",
                            "      <td>Aotizhongxin</td>\n",
                            "    </tr>\n",
                            "    <tr>\n",
                            "      <th>4</th>\n",
                            "      <td>0.000114</td>\n",
                            "      <td>2013</td>\n",
                            "      <td>3</td>\n",
                            "      <td>1</td>\n",
                            "      <td>0.173913</td>\n",
                            "      <td>0.001003</td>\n",
                            "      <td>0.001003</td>\n",
                            "      <td>0.023442</td>\n",
                            "      <td>0.037974</td>\n",
                            "      <td>0.020202</td>\n",
                            "      <td>0.067040</td>\n",
                            "      <td>0.291057</td>\n",
                            "      <td>0.708609</td>\n",
                            "      <td>0.329655</td>\n",
                            "      <td>0.0</td>\n",
                            "      <td>N</td>\n",
                            "      <td>0.151515</td>\n",
                            "      <td>Aotizhongxin</td>\n",
                            "    </tr>\n",
                            "  </tbody>\n",
                            "</table>\n",
                            "</div>"
                        ],
                        "text/plain": [
                            "         No  year  month  day      hour     PM2.5      PM10       SO2  \\\n",
                            "0  0.000000  2013      3    1  0.000000  0.002006  0.002006  0.007433   \n",
                            "1  0.000029  2013      3    1  0.043478  0.006018  0.006018  0.007433   \n",
                            "2  0.000057  2013      3    1  0.086957  0.005015  0.005015  0.009434   \n",
                            "3  0.000086  2013      3    1  0.130435  0.004012  0.004012  0.021441   \n",
                            "4  0.000114  2013      3    1  0.173913  0.001003  0.001003  0.023442   \n",
                            "\n",
                            "        NO2        CO        O3      TEMP      PRES      DEWP  RAIN   wd  \\\n",
                            "0  0.020671  0.020202  0.071710  0.312195  0.672185  0.339310   0.0  NNW   \n",
                            "1  0.020671  0.020202  0.071710  0.305691  0.675497  0.347586   0.0    N   \n",
                            "2  0.031053  0.020202  0.067974  0.305691  0.680464  0.347586   0.0  NNW   \n",
                            "3  0.034514  0.020202  0.067040  0.300813  0.697020  0.331034   0.0   NW   \n",
                            "4  0.037974  0.020202  0.067040  0.291057  0.708609  0.329655   0.0    N   \n",
                            "\n",
                            "       WSPM       station  \n",
                            "0  0.333333  Aotizhongxin  \n",
                            "1  0.356061  Aotizhongxin  \n",
                            "2  0.424242  Aotizhongxin  \n",
                            "3  0.234848  Aotizhongxin  \n",
                            "4  0.151515  Aotizhongxin  "
                        ]
                    },
                    "execution_count": 39,
                    "metadata": {},
                    "output_type": "execute_result"
                }
            ],
            "source": [
                "df.head()"
            ]
        },
        {
            "cell_type": "code",
            "execution_count": null,
            "metadata": {},
            "outputs": [
                {
                    "name": "stdout",
                    "output_type": "stream",
                    "text": [
                        "   year  month  day      hour      PM10       SO2       NO2        CO  \\\n",
                        "0  2013      3    1  0.000000  0.002006  0.007433  0.020671  0.020202   \n",
                        "1  2013      3    1  0.043478  0.006018  0.007433  0.020671  0.020202   \n",
                        "2  2013      3    1  0.086957  0.005015  0.009434  0.031053  0.020202   \n",
                        "3  2013      3    1  0.130435  0.004012  0.021441  0.034514  0.020202   \n",
                        "4  2013      3    1  0.173913  0.001003  0.023442  0.037974  0.020202   \n",
                        "\n",
                        "         O3      TEMP      PRES      DEWP  RAIN      WSPM  \n",
                        "0  0.071710  0.312195  0.672185  0.339310   0.0  0.333333  \n",
                        "1  0.071710  0.305691  0.675497  0.347586   0.0  0.356061  \n",
                        "2  0.067974  0.305691  0.680464  0.347586   0.0  0.424242  \n",
                        "3  0.067040  0.300813  0.697020  0.331034   0.0  0.234848  \n",
                        "4  0.067040  0.291057  0.708609  0.329655   0.0  0.151515  \n",
                        "1    0.006018\n",
                        "2    0.005015\n",
                        "3    0.004012\n",
                        "4    0.001003\n",
                        "5    0.003009\n",
                        "Name: PM2.5, dtype: float64\n"
                    ]
                }
            ],
            "source": [
                "# -------------------------------- SECUENCIA TEMPORAL --------------------------------\n",
                "\n",
                "# Supongamos que df es tu DataFrame original\n",
                "\n",
                "# Definir las columnas a utilizar (puedes incluir 'year', 'month', 'day', 'hour' si deseas)\n",
                "columnas_a_utilizar = [\"year\", \"month\", \"day\", \"hour\", \"PM10\", \"SO2\", \"NO2\", \"CO\", \"O3\", \"TEMP\", \"PRES\", \"DEWP\", \"RAIN\", \"WSPM\"]\n",
                "\n",
                "# Crear las características (X) y las etiquetas (y)\n",
                "X = df[columnas_a_utilizar].iloc[:-1]  # Usamos todos los datos menos el último (X)\n",
                "y = df[\"PM2.5\"].iloc[1:]  # Usamos los datos de PM2.5 desplazados un paso para predecir el siguiente valor\n",
                "\n",
                "# Ver las primeras filas para comprobar que las características y etiquetas se han creado correctamente\n",
                "print(X.head())\n",
                "print(y.head())"
            ]
        },
        {
            "cell_type": "markdown",
            "metadata": {},
            "source": [
                "2. Implementa una red LSTM con:\n",
                "   - 2 capas LSTM\n",
                "   - Capas densas intermedias\n",
                "   - Capa de salida para predicción"
            ]
        },
        {
            "cell_type": "code",
            "execution_count": null,
            "metadata": {},
            "outputs": [],
            "source": []
        },
        {
            "cell_type": "markdown",
            "metadata": {},
            "source": [
                "3. Experimenta con las siguientes combinaciones:\n",
                "   Funciones de activación en capas intermedias:\n",
                "   - ReLU\n",
                "   - LeakyReLU\n",
                "   - SELU\n",
                "   - Tanh\n",
                "   \n",
                "   Funciones de pérdida:\n",
                "   - MSE\n",
                "   - MAE\n",
                "   - Huber Loss\n",
                "   - Log-cosh"
            ]
        },
        {
            "cell_type": "markdown",
            "metadata": {},
            "source": [
                "4. Analiza y visualiza:\n",
                "   - Error de predicción (RMSE y MAE)\n",
                "   - Estabilidad del entrenamiento\n",
                "   - Capacidad de generalización\n",
                "   - Comportamiento con outliers"
            ]
        },
        {
            "cell_type": "markdown",
            "metadata": {},
            "source": []
        }
    ],
    "metadata": {
        "kernelspec": {
            "display_name": "Python 3",
            "language": "python",
            "name": "python3"
        },
        "language_info": {
            "codemirror_mode": {
                "name": "ipython",
                "version": 3
            },
            "file_extension": ".py",
            "mimetype": "text/x-python",
            "name": "python",
            "nbconvert_exporter": "python",
            "pygments_lexer": "ipython3",
            "version": "3.10.11"
        }
    },
    "nbformat": 4,
    "nbformat_minor": 2
}
