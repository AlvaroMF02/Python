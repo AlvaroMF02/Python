{
 "cells": [
  {
   "cell_type": "markdown",
   "metadata": {},
   "source": [
    "## Parte 3: Análisis y Conclusiones\n",
    "\n",
    "1. Compara las dos visualizaciones:\n",
    "   - ¿Qué características (sépalos o pétalos) separan mejor las especies?\n",
    "   - ¿Hay solapamiento entre especies? ¿En qué casos?\n",
    "2. Propón y crea visualizaciones adicionales que consideres útiles\n",
    "3. Escribe un breve análisis de tus conclusiones\n",
    "\n"
   ]
  },
  {
   "cell_type": "code",
   "execution_count": null,
   "metadata": {},
   "outputs": [],
   "source": []
  }
 ],
 "metadata": {
  "kernelspec": {
   "display_name": "Python 3",
   "language": "python",
   "name": "python3"
  },
  "language_info": {
   "codemirror_mode": {
    "name": "ipython",
    "version": 3
   },
   "file_extension": ".py",
   "mimetype": "text/x-python",
   "name": "python",
   "nbconvert_exporter": "python",
   "pygments_lexer": "ipython3",
   "version": "3.12.8"
  }
 },
 "nbformat": 4,
 "nbformat_minor": 2
}
