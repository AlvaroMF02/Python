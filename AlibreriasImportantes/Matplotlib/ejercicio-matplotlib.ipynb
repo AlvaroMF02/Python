{
 "cells": [
  {
   "cell_type": "markdown",
   "metadata": {},
   "source": [
    "# Análisis del Dataset Iris con Matplotlib\n",
    "\n",
    "En este ejercicio trabajaremos con el famoso dataset de flores Iris para practicar la visualización de datos usando Matplotlib.\n",
    "\n",
    "## Objetivos\n",
    "1. Crear visualizaciones de dispersión (scatter plots) para analizar las relaciones entre variables\n",
    "2. Diferenciar las especies de Iris por colores\n",
    "3. Comparar las características de sépalos vs pétalos\n",
    "4. Extraer conclusiones sobre qué variables son más útiles para clasificar las especies\n",
    "\n",
    "## Parte 1: Visualización de Sépalos\n",
    "\n",
    "1. Importa las librerías necesarias (matplotlib.pyplot, pandas, seaborn)\n",
    "2. Carga el dataset iris de seaborn\n",
    "3. Crea un scatter plot básico con:\n",
    "   - Eje X: sepal length (cm)\n",
    "   - Eje Y: sepal width (cm)\n",
    "4. Crea un segundo scatter plot diferenciando las especies por colores:\n",
    "   - Setosa: azul\n",
    "   - Versicolor: verde \n",
    "   - Virginica: rojo\n",
    "5. Añade títulos, leyendas y etiquetas a los ejes\n",
    "\n",
    "## Parte 2: Visualización de Pétalos\n",
    "\n",
    "1. Crea un scatter plot para las medidas de los pétalos:\n",
    "   - Eje X: petal length (cm)\n",
    "   - Eje Y: petal width (cm)\n",
    "2. Utiliza los mismos colores que antes para diferenciar especies\n",
    "3. Añade los elementos decorativos necesarios (título, leyenda, etiquetas)\n",
    "\n",
    "## Parte 3: Análisis y Conclusiones\n",
    "\n",
    "1. Compara las dos visualizaciones:\n",
    "   - ¿Qué características (sépalos o pétalos) separan mejor las especies?\n",
    "   - ¿Hay solapamiento entre especies? ¿En qué casos?\n",
    "2. Propón y crea visualizaciones adicionales que consideres útiles\n",
    "3. Escribe un breve análisis de tus conclusiones\n",
    "\n"
   ]
  },
  {
   "cell_type": "markdown",
   "metadata": {},
   "source": []
  }
 ],
 "metadata": {
  "kernelspec": {
   "display_name": "Python 3",
   "language": "python",
   "name": "python3"
  },
  "language_info": {
   "codemirror_mode": {
    "name": "ipython",
    "version": 3
   },
   "file_extension": ".py",
   "mimetype": "text/x-python",
   "name": "python",
   "nbconvert_exporter": "python",
   "pygments_lexer": "ipython3",
   "version": "3.8.5"
  }
 },
 "nbformat": 4,
 "nbformat_minor": 4
}
