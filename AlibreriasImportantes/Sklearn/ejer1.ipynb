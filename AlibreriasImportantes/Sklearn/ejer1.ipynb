{
 "cells": [
  {
   "cell_type": "markdown",
   "metadata": {},
   "source": [
    "## Parte 1: Preparación de Datos\n",
    "\n",
    "1. Importar las bibliotecas necesarias:\n",
    "   - sklearn.linear_model (LogisticRegression)\n",
    "   - sklearn.svm (SVC)\n",
    "   - sklearn.neighbors (KNeighborsClassifier)\n",
    "   - sklearn.tree (DecisionTreeClassifier)\n",
    "   - sklearn.model_selection (train_test_split)\n",
    "   - sklearn.metrics (accuracy_score)\n",
    "   \n",
    "2. Preparar los datos:\n",
    "   - Cargar el dataset iris\n",
    "   - Separar features (X) y target (y)\n",
    "   - Realizar la división train-test (70-30)"
   ]
  },
  {
   "cell_type": "code",
   "execution_count": 45,
   "metadata": {},
   "outputs": [],
   "source": [
    "from sklearn.linear_model import LogisticRegression\n",
    "from sklearn.svm import SVC\n",
    "from sklearn.neighbors import KNeighborsClassifier\n",
    "from sklearn.tree import DecisionTreeClassifier\n",
    "from sklearn.metrics import accuracy_score\n",
    "\n",
    "from sklearn import datasets\n",
    "from sklearn.model_selection import train_test_split\n"
   ]
  },
  {
   "cell_type": "code",
   "execution_count": 46,
   "metadata": {},
   "outputs": [
    {
     "name": "stdout",
     "output_type": "stream",
     "text": [
      "Shape de X: (150, 4)\n",
      "Shape de y: (150,)\n"
     ]
    }
   ],
   "source": [
    "iris = datasets.load_iris()\n",
    "\n",
    "# Separasion de los datos por categoria y clase\n",
    "X = iris.data   # feautres\n",
    "y = iris.target # target\n",
    "\n",
    "print(\"Shape de X:\", X.shape)  # Debería ser (150, 4)\n",
    "print(\"Shape de y:\", y.shape)  # Debería ser (150,)\n"
   ]
  },
  {
   "cell_type": "code",
   "execution_count": 47,
   "metadata": {},
   "outputs": [],
   "source": [
    "# Realizar la división train-test (70-30)\n",
    "xTrain,xTest,yTrain,yTest = train_test_split(X,y, train_size = 0.7,shuffle=True,random_state=1)"
   ]
  },
  {
   "cell_type": "code",
   "execution_count": 48,
   "metadata": {},
   "outputs": [
    {
     "name": "stdout",
     "output_type": "stream",
     "text": [
      "Entrenando con 105 muestras y 105 etiquetas\n"
     ]
    }
   ],
   "source": [
    "print(f\"Entrenando con {xTrain.shape[0]} muestras y {yTrain.shape[0]} etiquetas\")\n"
   ]
  },
  {
   "cell_type": "markdown",
   "metadata": {},
   "source": [
    "## Parte 2: Entrenamiento de Modelos\n",
    "\n",
    "Para cada uno de los siguientes modelos:\n",
    "1. Regresión Logística\n",
    "2. Support Vector Machine (SVM)\n",
    "3. K-Nearest Neighbors (KNN)\n",
    "4. Árbol de Decisión\n",
    "\n",
    "Realizar:\n",
    "- Instanciar el modelo\n",
    "- Entrenar con los datos de training\n",
    "- Realizar predicciones con los datos de test\n",
    "- Calcular y mostrar la precisión"
   ]
  },
  {
   "cell_type": "code",
   "execution_count": 49,
   "metadata": {},
   "outputs": [
    {
     "name": "stdout",
     "output_type": "stream",
     "text": [
      "Accuracy Regresión Logística: 0.98\n",
      "Accuracy SVM: 0.98\n",
      "Accuracy KNN: 0.98\n",
      "Accuracy Árbol de Decisión: 0.96\n"
     ]
    }
   ],
   "source": [
    "\n",
    "# instanciar los modelos\n",
    "logRegr = LogisticRegression()\n",
    "svm = SVC()\n",
    "knn = KNeighborsClassifier(n_neighbors=5)\n",
    "arbol = DecisionTreeClassifier()\n",
    "\n",
    "# entrenar a cada uno de los modelos con el 70 % de los datos\n",
    "logRegr.fit(xTrain,yTrain)\n",
    "svm.fit(xTrain,yTrain)\n",
    "knn.fit(xTrain,yTrain)\n",
    "arbol.fit(xTrain,yTrain)\n",
    "\n",
    "# hacer los tests (predicciones) de cada modelo\n",
    "predLogRegr = logRegr.predict(xTest)\n",
    "predSvm = svm.predict(xTest)\n",
    "predKnn = knn.predict(xTest)\n",
    "predArbol = arbol.predict(xTest)\n",
    "\n",
    "# sacar la precision de cada modelo\n",
    "precisionLogRegr = accuracy_score(yTest,predLogRegr)\n",
    "precisionSvm = accuracy_score(yTest,predSvm)\n",
    "precisionKnn = accuracy_score(yTest,predKnn)\n",
    "precisionArbol = accuracy_score(yTest,predArbol)\n",
    "\n",
    "print(f\"Accuracy Regresión Logística: {precisionLogRegr:.2f}\")\n",
    "print(f\"Accuracy SVM: {precisionSvm:.2f}\")\n",
    "print(f\"Accuracy KNN: {precisionKnn:.2f}\")\n",
    "print(f\"Accuracy Árbol de Decisión: {precisionArbol:.2f}\")"
   ]
  },
  {
   "cell_type": "markdown",
   "metadata": {},
   "source": [
    "## Parte 3: Análisis Comparativo\n",
    "\n",
    "1. Crear una tabla comparativa que incluya:\n",
    "   - Nombre del modelo\n",
    "   - Precisión obtenida\n",
    "   - Tiempo de entrenamiento (opcional)\n",
    "\n",
    "2. Repetir el proceso con diferentes semillas aleatorias:\n",
    "   - Realizar 5 iteraciones con diferentes divisiones train-test\n",
    "   - Registrar los resultados de cada iteración\n",
    "   - Calcular media y desviación estándar de las precisiones"
   ]
  },
  {
   "cell_type": "code",
   "execution_count": 50,
   "metadata": {},
   "outputs": [],
   "source": [
    "import pandas as pd"
   ]
  },
  {
   "cell_type": "code",
   "execution_count": 51,
   "metadata": {},
   "outputs": [
    {
     "name": "stdout",
     "output_type": "stream",
     "text": [
      "                Modelo  Precisión\n",
      "0  Regresión Logística   0.977778\n",
      "1                  SVM   0.977778\n",
      "2                  KNN   0.977778\n",
      "3    Árbol de Decisión   0.955556\n"
     ]
    }
   ],
   "source": [
    "res = {\n",
    "    \"Modelo\": [\"Regresión Logística\", \"SVM\", \"KNN\", \"Árbol de Decisión\"],\n",
    "    \"Precisión\": [precisionLogRegr, precisionSvm, precisionKnn, precisionArbol]\n",
    "}\n",
    "# Crear un DataFrame con pandas\n",
    "df_resultados = pd.DataFrame(res)\n",
    "\n",
    "# Mostrar la tabla\n",
    "print(df_resultados)\n"
   ]
  },
  {
   "cell_type": "code",
   "execution_count": 52,
   "metadata": {},
   "outputs": [
    {
     "name": "stdout",
     "output_type": "stream",
     "text": [
      "\n",
      "Resultados por iteración:\n",
      "   Random State    LogReg       SVM       KNN  Decision Tree\n",
      "0             1  0.977778  0.977778  0.977778       0.955556\n",
      "1            42  1.000000  1.000000  1.000000       1.000000\n",
      "2             7  0.911111  0.888889  0.911111       0.911111\n",
      "3            99  0.955556  0.933333  0.955556       0.955556\n",
      "4           123  0.933333  0.911111  0.977778       0.933333\n",
      "\n",
      "Media de accuracies:\n",
      "LogReg           0.955556\n",
      "SVM              0.942222\n",
      "KNN              0.964444\n",
      "Decision Tree    0.951111\n",
      "dtype: float64\n",
      "\n",
      "Desviación estándar de accuracies:\n",
      "LogReg           0.035136\n",
      "SVM              0.046081\n",
      "KNN              0.033702\n",
      "Decision Tree    0.032961\n",
      "dtype: float64\n"
     ]
    }
   ],
   "source": [
    "import numpy as np\n",
    "import pandas as pd\n",
    "from sklearn.model_selection import train_test_split\n",
    "from sklearn.linear_model import LogisticRegression\n",
    "from sklearn.svm import SVC\n",
    "from sklearn.neighbors import KNeighborsClassifier\n",
    "from sklearn.tree import DecisionTreeClassifier\n",
    "from sklearn.metrics import accuracy_score\n",
    "\n",
    "# Semillas aleatorias para las 5 iteraciones\n",
    "random_states = [1, 42, 7, 99, 123]\n",
    "\n",
    "# Almacenar resultados\n",
    "resultados = []\n",
    "\n",
    "for seed in random_states:\n",
    "    # Dividir los datos con una nueva semilla\n",
    "    xTrain, xTest, yTrain, yTest = train_test_split(X, y, train_size=0.7, shuffle=True, random_state=seed)\n",
    "    \n",
    "    # Inicializar los modelos\n",
    "    logRegr = LogisticRegression()\n",
    "    svm = SVC()\n",
    "    knn = KNeighborsClassifier(n_neighbors=5)\n",
    "    arbol = DecisionTreeClassifier()\n",
    "\n",
    "    # Entrenar los modelos\n",
    "    logRegr.fit(xTrain, yTrain)\n",
    "    svm.fit(xTrain, yTrain)\n",
    "    knn.fit(xTrain, yTrain)\n",
    "    arbol.fit(xTrain, yTrain)\n",
    "\n",
    "    # Hacer predicciones\n",
    "    predLogRegr = logRegr.predict(xTest)\n",
    "    predSvm = svm.predict(xTest)\n",
    "    predKnn = knn.predict(xTest)\n",
    "    predArbol = arbol.predict(xTest)\n",
    "\n",
    "    # Evaluar precisión\n",
    "    acc_log = accuracy_score(yTest, predLogRegr)\n",
    "    acc_svm = accuracy_score(yTest, predSvm)\n",
    "    acc_knn = accuracy_score(yTest, predKnn)\n",
    "    acc_arbol = accuracy_score(yTest, predArbol)\n",
    "\n",
    "    # Guardar resultados de esta iteración\n",
    "    resultados.append([seed, acc_log, acc_svm, acc_knn, acc_arbol])\n",
    "\n",
    "# Convertir resultados en DataFrame\n",
    "df_resultados = pd.DataFrame(resultados, columns=[\"Random State\", \"LogReg\", \"SVM\", \"KNN\", \"Decision Tree\"])\n",
    "\n",
    "# Calcular media y desviación estándar de cada modelo\n",
    "mean_results = df_resultados.iloc[:, 1:].mean()\n",
    "std_results = df_resultados.iloc[:, 1:].std()\n",
    "\n",
    "# Mostrar la tabla con los resultados\n",
    "print(\"\\nResultados por iteración:\")\n",
    "print(df_resultados)\n",
    "\n",
    "print(\"\\nMedia de accuracies:\")\n",
    "print(mean_results)\n",
    "\n",
    "print(\"\\nDesviación estándar de accuracies:\")\n",
    "print(std_results)\n"
   ]
  },
  {
   "cell_type": "markdown",
   "metadata": {},
   "source": [
    "## Parte 4: Conclusiones\n",
    "\n",
    "1. Analizar los resultados:\n",
    "   - ¿Qué modelo obtiene mejor precisión media?\n",
    "         La regresión, svm y knn\n",
    "   - ¿Qué modelo es más estable (menor variación entre iteraciones)?\n",
    "         El de Decision Tree ya que al hacer la desviacion estandar es el mas bajo\n",
    "   - ¿Qué modelo sería el más recomendable y por qué?\n",
    "         El del arbol\n",
    "\n",
    "2. Consideraciones adicionales:\n",
    "   - Complejidad computacional\n",
    "   - Facilidad de interpretación\n",
    "   - Potencial de mejora mediante ajuste de hiperparámetros"
   ]
  },
  {
   "cell_type": "code",
   "execution_count": null,
   "metadata": {},
   "outputs": [],
   "source": []
  }
 ],
 "metadata": {
  "kernelspec": {
   "display_name": "Python 3",
   "language": "python",
   "name": "python3"
  },
  "language_info": {
   "codemirror_mode": {
    "name": "ipython",
    "version": 3
   },
   "file_extension": ".py",
   "mimetype": "text/x-python",
   "name": "python",
   "nbconvert_exporter": "python",
   "pygments_lexer": "ipython3",
   "version": "3.12.8"
  }
 },
 "nbformat": 4,
 "nbformat_minor": 2
}
