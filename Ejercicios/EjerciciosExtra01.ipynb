{
 "cells": [
  {
   "cell_type": "markdown",
   "metadata": {},
   "source": [
    "# Ejercicios de Iniciación a Python"
   ]
  },
  {
   "cell_type": "markdown",
   "metadata": {},
   "source": [
    "## Ejercicio 1: Slicing\n",
    "Dada la lista `numeros = [1, 2, 3, 4, 5, 6, 7, 8, 9, 10]`, extrae los números del 4 al 8 usando slicing."
   ]
  },
  {
   "cell_type": "code",
   "execution_count": 84,
   "metadata": {},
   "outputs": [
    {
     "name": "stdout",
     "output_type": "stream",
     "text": [
      "[5, 6, 7, 8]\n"
     ]
    }
   ],
   "source": [
    "#Resultado aquí\n",
    "numeros = [1, 2, 3, 4, 5, 6, 7, 8, 9, 10]\n",
    "print(numeros[4:8])"
   ]
  },
  {
   "cell_type": "markdown",
   "metadata": {},
   "source": [
    "## Ejercicio 2: Conjuntos\n",
    "Crea un conjunto a partir de la lista `['manzana', 'naranja', 'manzana', 'pera', 'naranja']` y muestra el conjunto resultante."
   ]
  },
  {
   "cell_type": "code",
   "execution_count": 85,
   "metadata": {},
   "outputs": [
    {
     "data": {
      "text/plain": [
       "{'manzana', 'naranja', 'pera'}"
      ]
     },
     "execution_count": 85,
     "metadata": {},
     "output_type": "execute_result"
    }
   ],
   "source": [
    "#Resultado aquí\n",
    "set(['manzana', 'naranja', 'manzana', 'pera', 'naranja'])"
   ]
  },
  {
   "cell_type": "markdown",
   "metadata": {},
   "source": [
    "## Ejercicio 3: Tuplas\n",
    "Crea una tupla que contenga los números del 1 al 5 y accede al segundo elemento."
   ]
  },
  {
   "cell_type": "code",
   "execution_count": 86,
   "metadata": {},
   "outputs": [
    {
     "data": {
      "text/plain": [
       "2"
      ]
     },
     "execution_count": 86,
     "metadata": {},
     "output_type": "execute_result"
    }
   ],
   "source": [
    "#Resultado aquí\n",
    "tupla = (1,2,3,4,5)\n",
    "tupla[1]"
   ]
  },
  {
   "cell_type": "markdown",
   "metadata": {},
   "source": [
    "## Ejercicio 4: Listas\n",
    "Añade el número 6 al final de la lista `numeros = [1, 2, 3, 4, 5]`."
   ]
  },
  {
   "cell_type": "code",
   "execution_count": 87,
   "metadata": {},
   "outputs": [
    {
     "data": {
      "text/plain": [
       "[1, 2, 3, 4, 5, 6]"
      ]
     },
     "execution_count": 87,
     "metadata": {},
     "output_type": "execute_result"
    }
   ],
   "source": [
    "#Resultado aquí\n",
    "numeros = [1, 2, 3, 4, 5]\n",
    "numeros.append(6)\n",
    "numeros"
   ]
  },
  {
   "cell_type": "markdown",
   "metadata": {},
   "source": [
    "## Ejercicio 5: Diccionarios\n",
    "Crea un diccionario con las claves \"nombre\", \"edad\", y \"ciudad\" y valores \"Ana\", 25, y \"Madrid\" respectivamente."
   ]
  },
  {
   "cell_type": "code",
   "execution_count": 88,
   "metadata": {},
   "outputs": [
    {
     "data": {
      "text/plain": [
       "{'nombre': 'Ana', 'edad': 25, 'ciudad': 'Madrid'}"
      ]
     },
     "execution_count": 88,
     "metadata": {},
     "output_type": "execute_result"
    }
   ],
   "source": [
    "#Resultado aquí\n",
    "persona = {\"nombre\":\"Ana\",\"edad\":25,\"ciudad\":\"Madrid\"}\n",
    "persona"
   ]
  },
  {
   "cell_type": "markdown",
   "metadata": {},
   "source": [
    "## Ejercicio 6: Funciones\n",
    "Escribe una función `suma` que reciba dos números y devuelva su suma."
   ]
  },
  {
   "cell_type": "code",
   "execution_count": 89,
   "metadata": {},
   "outputs": [
    {
     "name": "stdout",
     "output_type": "stream",
     "text": [
      "8\n"
     ]
    }
   ],
   "source": [
    "#Resultado aquí\n",
    "def suma(a,b):\n",
    "    return a + b\n",
    "\n",
    "print(suma(4,4))"
   ]
  },
  {
   "cell_type": "markdown",
   "metadata": {},
   "source": [
    "## Ejercicio 7: Slicing\n",
    "Dada la cadena `palabra = 'abracadabra'`, usa slicing para obtener los primeros 3 caracteres."
   ]
  },
  {
   "cell_type": "code",
   "execution_count": 119,
   "metadata": {},
   "outputs": [
    {
     "data": {
      "text/plain": [
       "'abr'"
      ]
     },
     "execution_count": 119,
     "metadata": {},
     "output_type": "execute_result"
    }
   ],
   "source": [
    "#Resultado aquí\n",
    "palabra = 'abracadabra'\n",
    "palabra[:3]"
   ]
  },
  {
   "cell_type": "markdown",
   "metadata": {},
   "source": [
    "## Ejercicio 8: Conjuntos\n",
    "Encuentra la intersección entre los conjuntos `{1, 2, 3, 4}` y `{3, 4, 5, 6}`."
   ]
  },
  {
   "cell_type": "code",
   "execution_count": 120,
   "metadata": {},
   "outputs": [
    {
     "data": {
      "text/plain": [
       "{3, 4}"
      ]
     },
     "execution_count": 120,
     "metadata": {},
     "output_type": "execute_result"
    }
   ],
   "source": [
    "#Resultado aquí\n",
    "conj1 = {1, 2, 3, 4}\n",
    "conj2 = {3, 4, 5, 6}\n",
    "conj3 = conj1 & conj2\n",
    "conj3"
   ]
  },
  {
   "cell_type": "markdown",
   "metadata": {},
   "source": [
    "## Ejercicio 9: Tuplas\n",
    "Crea una tupla con un solo elemento: el número 7."
   ]
  },
  {
   "cell_type": "code",
   "execution_count": null,
   "metadata": {},
   "outputs": [
    {
     "data": {
      "text/plain": [
       "(7,)"
      ]
     },
     "execution_count": 123,
     "metadata": {},
     "output_type": "execute_result"
    }
   ],
   "source": [
    "#Resultado aquí\n",
    "tupla = (7,)\n",
    "type(tupla)\n"
   ]
  },
  {
   "cell_type": "markdown",
   "metadata": {},
   "source": [
    "## Ejercicio 10: Listas\n",
    "Reemplaza el segundo elemento de la lista `colores = ['rojo', 'verde', 'azul']` por `amarillo`."
   ]
  },
  {
   "cell_type": "code",
   "execution_count": 93,
   "metadata": {},
   "outputs": [
    {
     "data": {
      "text/plain": [
       "['rojo', 'amarillo', 'azul']"
      ]
     },
     "execution_count": 93,
     "metadata": {},
     "output_type": "execute_result"
    }
   ],
   "source": [
    "#Resultado aquí\n",
    "colores = ['rojo', 'verde', 'azul']\n",
    "colores[1] = \"amarillo\"\n",
    "colores"
   ]
  },
  {
   "cell_type": "markdown",
   "metadata": {},
   "source": [
    "## Ejercicio 11: Diccionarios\n",
    "Añade una nueva clave \"país\" con el valor \"España\" al diccionario `persona`."
   ]
  },
  {
   "cell_type": "code",
   "execution_count": 94,
   "metadata": {},
   "outputs": [
    {
     "data": {
      "text/plain": [
       "{'nombre': 'Ana', 'edad': 25, 'ciudad': 'Madrid', 'pais': 'España'}"
      ]
     },
     "execution_count": 94,
     "metadata": {},
     "output_type": "execute_result"
    }
   ],
   "source": [
    "#Resultado aquí\n",
    "persona.update({\"pais\":\"España\"})\n",
    "persona"
   ]
  },
  {
   "cell_type": "markdown",
   "metadata": {},
   "source": [
    "## Ejercicio 12: Funciones\n",
    "Escribe una función `es_par` que reciba un número y devuelva `True` si es par y `False` si es impar."
   ]
  },
  {
   "cell_type": "code",
   "execution_count": 95,
   "metadata": {},
   "outputs": [
    {
     "name": "stdout",
     "output_type": "stream",
     "text": [
      "True\n"
     ]
    }
   ],
   "source": [
    "#Resultado aquí\n",
    "def es_par(num):\n",
    "    if num%2==0:\n",
    "        return True\n",
    "    else:\n",
    "        return False\n",
    "\n",
    "print(es_par(2))"
   ]
  },
  {
   "cell_type": "markdown",
   "metadata": {},
   "source": [
    "## Ejercicio 13: Slicing\n",
    "Invierte la lista `letras = ['a', 'b', 'c', 'd', 'e']` usando slicing."
   ]
  },
  {
   "cell_type": "code",
   "execution_count": 96,
   "metadata": {},
   "outputs": [
    {
     "data": {
      "text/plain": [
       "['e', 'd', 'c', 'b', 'a']"
      ]
     },
     "execution_count": 96,
     "metadata": {},
     "output_type": "execute_result"
    }
   ],
   "source": [
    "#Resultado aquí\n",
    "letras = ['a', 'b', 'c', 'd', 'e']\n",
    "letras[::-1]"
   ]
  },
  {
   "cell_type": "markdown",
   "metadata": {},
   "source": [
    "## Ejercicio 14: Conjuntos\n",
    "Determina si el conjunto `{1, 2, 3}` es un subconjunto de `{1, 2, 3, 4, 5}`."
   ]
  },
  {
   "cell_type": "code",
   "execution_count": null,
   "metadata": {},
   "outputs": [
    {
     "name": "stdout",
     "output_type": "stream",
     "text": [
      "False\n"
     ]
    }
   ],
   "source": [
    "#Resultado aquí\n",
    "conj = {1,2,3}\n",
    "subcj = {1,2,3,4,5}\n",
    "\n",
    "conj = {1,2,3}\n",
    "subcj = {1,2,3,4,5}\n",
    "\n",
    "print(conj<=subcj)\n",
    "\n",
    "flag = True\n",
    "for i in conj:\n",
    "    if i in subcj:\n",
    "        continue\n",
    "    elif i not in subcj:\n",
    "        flag = False\n",
    "        break\n",
    "\n",
    "print(flag)\n",
    "\n"
   ]
  },
  {
   "cell_type": "markdown",
   "metadata": {},
   "source": [
    "## Ejercicio 15: Tuplas\n",
    "Cambia el valor de la tupla `mi_tupla = (10, 20, 30)` usando un casting a lista."
   ]
  },
  {
   "cell_type": "code",
   "execution_count": null,
   "metadata": {},
   "outputs": [
    {
     "data": {
      "text/plain": [
       "[10, 20, 30]"
      ]
     },
     "execution_count": 45,
     "metadata": {},
     "output_type": "execute_result"
    }
   ],
   "source": [
    "#Resultado aquí\n",
    "mi_tupla = (10, 20, 30)\n",
    "list(mi_tupla)\n"
   ]
  },
  {
   "cell_type": "markdown",
   "metadata": {},
   "source": [
    "## Ejercicio 16: Listas\n",
    "Ordena la lista `desordenada = [3, 1, 4, 2, 5]` de forma ascendente."
   ]
  },
  {
   "cell_type": "code",
   "execution_count": null,
   "metadata": {},
   "outputs": [
    {
     "data": {
      "text/plain": [
       "[1, 2, 3, 4, 5]"
      ]
     },
     "execution_count": 53,
     "metadata": {},
     "output_type": "execute_result"
    }
   ],
   "source": [
    "#Resultado aquí\n",
    "desordenada = [3, 1, 4, 2, 5]\n",
    "desordenada.sort()\n",
    "desordenada\n"
   ]
  },
  {
   "cell_type": "markdown",
   "metadata": {},
   "source": [
    "## Ejercicio 17: Diccionarios\n",
    "Elimina la clave \"edad\" del diccionario `persona`."
   ]
  },
  {
   "cell_type": "code",
   "execution_count": 99,
   "metadata": {},
   "outputs": [
    {
     "data": {
      "text/plain": [
       "{'nombre': 'Ana', 'ciudad': 'Madrid', 'pais': 'España'}"
      ]
     },
     "execution_count": 99,
     "metadata": {},
     "output_type": "execute_result"
    }
   ],
   "source": [
    "#Resultado aquí\n",
    "del(persona[\"edad\"])\n",
    "persona"
   ]
  },
  {
   "cell_type": "markdown",
   "metadata": {},
   "source": [
    "## Ejercicio 18: Funciones\n",
    "Crea una función `factorial` que calcule el factorial de un número entero."
   ]
  },
  {
   "cell_type": "code",
   "execution_count": 112,
   "metadata": {},
   "outputs": [
    {
     "data": {
      "text/plain": [
       "720"
      ]
     },
     "execution_count": 112,
     "metadata": {},
     "output_type": "execute_result"
    }
   ],
   "source": [
    "#Resultado aquí\n",
    "def factorial(num):\n",
    "    if num > 1: # hasta llegar a 1\n",
    "        # numero = a la formula n × (n-1)\n",
    "        # se va llamando restando uno a num, a la vuelta se multiplica\n",
    "        num = num * factorial(num -1)    \n",
    "    return num\n",
    "\n",
    "factorial(6)"
   ]
  },
  {
   "cell_type": "markdown",
   "metadata": {},
   "source": [
    "## Ejercicio 19: Slicing\n",
    "Usa slicing para obtener los elementos pares de la lista `numeros = [0, 1, 2, 3, 4, 5, 6, 7, 8, 9, 10]`."
   ]
  },
  {
   "cell_type": "code",
   "execution_count": 101,
   "metadata": {},
   "outputs": [
    {
     "data": {
      "text/plain": [
       "[0, 2, 4, 6, 8, 10]"
      ]
     },
     "execution_count": 101,
     "metadata": {},
     "output_type": "execute_result"
    }
   ],
   "source": [
    "#Resultado aquí\n",
    "numeros = [0, 1, 2, 3, 4, 5, 6, 7, 8, 9, 10]\n",
    "numeros[::2]"
   ]
  },
  {
   "cell_type": "markdown",
   "metadata": {},
   "source": [
    "## Ejercicio 20: Conjuntos\n",
    "Agrega el elemento `7` al conjunto `{1, 2, 3, 4, 5, 6}`."
   ]
  },
  {
   "cell_type": "code",
   "execution_count": 107,
   "metadata": {},
   "outputs": [
    {
     "data": {
      "text/plain": [
       "{1, 2, 3, 4, 5, 6, 7}"
      ]
     },
     "execution_count": 107,
     "metadata": {},
     "output_type": "execute_result"
    }
   ],
   "source": [
    "#Resultado aquí\n",
    "conj = {1, 2, 3, 4, 5, 6}\n",
    "conj.add(7)\n",
    "conj"
   ]
  }
 ],
 "metadata": {
  "kernelspec": {
   "display_name": "Python 3",
   "language": "python",
   "name": "python3"
  },
  "language_info": {
   "codemirror_mode": {
    "name": "ipython",
    "version": 3
   },
   "file_extension": ".py",
   "mimetype": "text/x-python",
   "name": "python",
   "nbconvert_exporter": "python",
   "pygments_lexer": "ipython3",
   "version": "3.13.0"
  }
 },
 "nbformat": 4,
 "nbformat_minor": 5
}
