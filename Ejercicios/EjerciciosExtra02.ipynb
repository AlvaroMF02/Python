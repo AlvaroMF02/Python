{
 "cells": [
  {
   "cell_type": "markdown",
   "metadata": {},
   "source": [
    "# Ejercicios Avanzados de Python"
   ]
  },
  {
   "cell_type": "markdown",
   "metadata": {},
   "source": [
    "## Ejercicio 1: Slicing\n",
    "Dada una lista de temperaturas diarias, calcula la media de las temperaturas de fin de semana (últimos dos días)."
   ]
  },
  {
   "cell_type": "code",
   "execution_count": null,
   "metadata": {},
   "outputs": [],
   "source": [
    "#Resultado aquí\n",
    "\n",
    "\n",
    "temperaturas = [20, 22, 24, 21, 23, 25, 27]\n",
    "media_fin_de_semana(temperaturas)"
   ]
  },
  {
   "cell_type": "markdown",
   "metadata": {},
   "source": [
    "## Ejercicio 2: Conjuntos\n",
    "Determina si dos listas de estudiantes tienen al menos un estudiante en común."
   ]
  },
  {
   "cell_type": "code",
   "execution_count": null,
   "metadata": {},
   "outputs": [],
   "source": [
    "#Resultado aquí\n",
    "\n",
    "\n",
    "lista1 = ['Ana', 'Luis', 'Carlos']\n",
    "lista2 = ['Marta', 'Juan', 'Ana']\n",
    "tienen_estudiante_comun(lista1, lista2)"
   ]
  },
  {
   "cell_type": "markdown",
   "metadata": {},
   "source": [
    "## Ejercicio 3: Tuplas\n",
    "Dado un diccionario de productos con sus precios, devuelve el producto más caro."
   ]
  },
  {
   "cell_type": "code",
   "execution_count": null,
   "metadata": {},
   "outputs": [],
   "source": [
    "#Resultado aquí\n",
    "\n",
    "\n",
    "productos = {'manzana': 1.5, 'pera': 2.0, 'naranja': 1.8}\n",
    "producto_mas_caro(productos)"
   ]
  },
  {
   "cell_type": "markdown",
   "metadata": {},
   "source": [
    "## Ejercicio 4: Listas\n",
    "Implementa una función que elimine los duplicados de una lista conservando el orden original."
   ]
  },
  {
   "cell_type": "code",
   "execution_count": null,
   "metadata": {},
   "outputs": [],
   "source": [
    "#Resultado aquí\n",
    "\n",
    "\n",
    "lista = [1, 2, 2, 3, 4, 4, 5]\n",
    "eliminar_duplicados(lista)"
   ]
  },
  {
   "cell_type": "markdown",
   "metadata": {},
   "source": [
    "## Ejercicio 5: Diccionarios\n",
    "Crea un diccionario que cuente la frecuencia de cada palabra en una oración."
   ]
  },
  {
   "cell_type": "code",
   "execution_count": null,
   "metadata": {},
   "outputs": [],
   "source": [
    "#Resultado aquí\n",
    "\n",
    "\n",
    "oracion = \"el sol brilla en el cielo el cielo es azul\"\n",
    "contar_palabras(oracion)"
   ]
  },
  {
   "cell_type": "markdown",
   "metadata": {},
   "source": [
    "## Ejercicio 6: Funciones\n",
    "Escribe una función que calcule el n-ésimo número de Fibonacci de manera eficiente."
   ]
  },
  {
   "cell_type": "code",
   "execution_count": null,
   "metadata": {},
   "outputs": [],
   "source": [
    "#Resultado aquí\n",
    "\n",
    "\n",
    "fibonacci(10)"
   ]
  },
  {
   "cell_type": "markdown",
   "metadata": {},
   "source": [
    "## Ejercicio 7: Slicing\n",
    "Implementa una función que divida una lista en trozos de tamaño n."
   ]
  },
  {
   "cell_type": "code",
   "execution_count": null,
   "metadata": {},
   "outputs": [],
   "source": [
    "#Resultado aquí\n",
    "\n",
    "\n",
    "lista = [1, 2, 3, 4, 5, 6, 7, 8, 9]\n",
    "dividir_lista(lista, 3)"
   ]
  },
  {
   "cell_type": "markdown",
   "metadata": {},
   "source": [
    "## Ejercicio 8: Conjuntos\n",
    "Calcula la diferencia simétrica entre dos conjuntos de datos de clientes."
   ]
  },
  {
   "cell_type": "code",
   "execution_count": null,
   "metadata": {},
   "outputs": [],
   "source": [
    "#Resultado aquí\n",
    "\n",
    "\n",
    "clientes1 = {'Juan', 'Ana', 'Pedro'}\n",
    "clientes2 = {'Ana', 'Luis', 'Carlos'}\n",
    "diferencia_simetrica(clientes1, clientes2)"
   ]
  },
  {
   "cell_type": "markdown",
   "metadata": {},
   "source": [
    "## Ejercicio 9: Tuplas\n",
    "Convierte una lista de tuplas (nombre, edad) en un diccionario con el nombre como clave."
   ]
  },
  {
   "cell_type": "code",
   "execution_count": null,
   "metadata": {},
   "outputs": [],
   "source": [
    "#Resultado aquí\n",
    "\n",
    "\n",
    "lista_tuplas = [('Ana', 30), ('Luis', 25), ('Pedro', 40)]\n",
    "lista_a_diccionario(lista_tuplas)"
   ]
  },
  {
   "cell_type": "markdown",
   "metadata": {},
   "source": [
    "## Ejercicio 10: Listas\n",
    "Escribe una función que encuentre todos los números duplicados en una lista."
   ]
  },
  {
   "cell_type": "code",
   "execution_count": null,
   "metadata": {},
   "outputs": [],
   "source": [
    "#Resultado aquí\n",
    "\n",
    "\n",
    "lista = [1, 2, 3, 1, 2, 4, 5]\n",
    "encontrar_duplicados(lista)"
   ]
  },
  {
   "cell_type": "markdown",
   "metadata": {},
   "source": [
    "## Ejercicio 11: Diccionarios\n",
    "Dado un diccionario de estudiantes y sus notas, calcula la media de las notas."
   ]
  },
  {
   "cell_type": "code",
   "execution_count": null,
   "metadata": {},
   "outputs": [],
   "source": [
    "#Resultado aquí\n",
    "\n",
    "\n",
    "estudiantes = {'Ana': 90, 'Luis': 80, 'Pedro': 85}\n",
    "media_notas(estudiantes)"
   ]
  },
  {
   "cell_type": "markdown",
   "metadata": {},
   "source": [
    "## Ejercicio 12: Funciones\n",
    "Crea una función que reciba una lista de números y devuelva una lista con los números primos."
   ]
  },
  {
   "cell_type": "code",
   "execution_count": null,
   "metadata": {},
   "outputs": [],
   "source": [
    "#Resultado aquí\n",
    "\n",
    "\n",
    "lista = [2, 3, 4, 5, 6, 7, 8, 9, 10]\n",
    "numeros_primos(lista)"
   ]
  },
  {
   "cell_type": "markdown",
   "metadata": {},
   "source": [
    "## Ejercicio 13: Slicing\n",
    "Escribe una función que obtenga el segundo elemento más grande de una lista de números."
   ]
  },
  {
   "cell_type": "code",
   "execution_count": null,
   "metadata": {},
   "outputs": [],
   "source": [
    "#Resultado aquí\n",
    "\n",
    "\n",
    "numeros = [1, 3, 5, 7, 9, 5, 3]\n",
    "segundo_mayor(numeros)"
   ]
  },
  {
   "cell_type": "markdown",
   "metadata": {},
   "source": [
    "## Ejercicio 14: Conjuntos\n",
    "Encuentra los elementos que están en la primera lista pero no en la segunda usando conjuntos."
   ]
  },
  {
   "cell_type": "code",
   "execution_count": null,
   "metadata": {},
   "outputs": [],
   "source": [
    "#Resultado aquí\n",
    "\n",
    "\n",
    "lista1 = [1, 2, 3, 4, 5]\n",
    "lista2 = [4, 5, 6, 7]\n",
    "elementos_unicos(lista1, lista2)"
   ]
  },
  {
   "cell_type": "markdown",
   "metadata": {},
   "source": [
    "## Ejercicio 15: Tuplas\n",
    "Dado un conjunto de coordenadas (x, y), encuentra la distancia al origen para cada una."
   ]
  },
  {
   "cell_type": "code",
   "execution_count": null,
   "metadata": {},
   "outputs": [],
   "source": [
    "#Resultado aquí\n",
    "\n",
    "\n",
    "coordenadas = [(1, 2), (3, 4), (5, 6)]\n",
    "distancia_origen(coordenadas)"
   ]
  },
  {
   "cell_type": "markdown",
   "metadata": {},
   "source": [
    "## Ejercicio 16: Listas\n",
    "Implementa una función que rote los elementos de una lista n posiciones a la derecha."
   ]
  },
  {
   "cell_type": "code",
   "execution_count": null,
   "metadata": {},
   "outputs": [],
   "source": [
    "#Resultado aquí\n",
    "\n",
    "\n",
    "lista = [1, 2, 3, 4, 5]\n",
    "rotar_lista(lista, 2)"
   ]
  },
  {
   "cell_type": "markdown",
   "metadata": {},
   "source": [
    "## Ejercicio 17: Diccionarios\n",
    "Crea una función que invierta las claves y valores de un diccionario."
   ]
  },
  {
   "cell_type": "code",
   "execution_count": null,
   "metadata": {},
   "outputs": [],
   "source": [
    "#Resultado aquí\n",
    "\n",
    "\n",
    "diccionario = {'a': 1, 'b': 2, 'c': 3}\n",
    "invertir_diccionario(diccionario)"
   ]
  },
  {
   "cell_type": "markdown",
   "metadata": {},
   "source": [
    "## Ejercicio 18: Funciones\n",
    "Escribe una función que devuelva el mínimo común múltiplo de dos números."
   ]
  },
  {
   "cell_type": "code",
   "execution_count": null,
   "metadata": {},
   "outputs": [],
   "source": [
    "#Resultado aquí\n",
    "\n",
    "\n",
    "mcm(12, 15)"
   ]
  },
  {
   "cell_type": "markdown",
   "metadata": {},
   "source": [
    "## Ejercicio 19: Slicing\n",
    "Implementa una función que obtenga las palabras que comienzan con una vocal en una oración."
   ]
  },
  {
   "cell_type": "code",
   "execution_count": null,
   "metadata": {},
   "outputs": [],
   "source": [
    "#Resultado aquí\n",
    "\n",
    "\n",
    "oracion = \"El águila vuela alto en el cielo azul\"\n",
    "palabras_con_vocal(oracion)"
   ]
  },
  {
   "cell_type": "markdown",
   "metadata": {},
   "source": [
    "## Ejercicio 20: Conjuntos\n",
    "Determina si dos conjuntos de datos son disjuntos."
   ]
  },
  {
   "cell_type": "code",
   "execution_count": null,
   "metadata": {},
   "outputs": [],
   "source": [
    "#Resultado aquí\n",
    "\n",
    "\n",
    "datos1 = {1, 2, 3}\n",
    "datos2 = {4, 5, 6}\n",
    "son_disjuntos(datos1, datos2)"
   ]
  }
 ],
 "metadata": {
  "kernelspec": {
   "display_name": "Python 3",
   "language": "python",
   "name": "python3"
  },
  "language_info": {
   "codemirror_mode": {
    "name": "ipython",
    "version": 3
   },
   "file_extension": ".py",
   "mimetype": "text/x-python",
   "name": "python",
   "nbconvert_exporter": "python",
   "pygments_lexer": "ipython3",
   "version": "3.9.6"
  }
 },
 "nbformat": 4,
 "nbformat_minor": 5
}
