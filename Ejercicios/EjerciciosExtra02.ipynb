{
 "cells": [
  {
   "cell_type": "markdown",
   "metadata": {},
   "source": [
    "# Ejercicios Avanzados de Python"
   ]
  },
  {
   "cell_type": "markdown",
   "metadata": {},
   "source": [
    "## Ejercicio 1: Slicing\n",
    "Dada una lista de temperaturas diarias, calcula la media de las temperaturas de fin de semana (últimos dos días)."
   ]
  },
  {
   "cell_type": "code",
   "execution_count": 94,
   "id": "c19c78a9",
   "metadata": {},
   "outputs": [
    {
     "name": "stdout",
     "output_type": "stream",
     "text": [
      "26.0\n"
     ]
    }
   ],
   "source": [
    "#Resultado aquí\n",
    "temperaturas = [20, 22, 24, 21, 23, 25, 27]\n",
    "\n",
    "finde = temperaturas[5:7]\n",
    "finde\n",
    "print((finde[0] + finde[1])/2)"
   ]
  },
  {
   "cell_type": "markdown",
   "id": "df5a9e80",
   "metadata": {},
   "source": [
    "## Ejercicio 2: Conjuntos\n",
    "Determina si dos listas de estudiantes tienen al menos un estudiante en común."
   ]
  },
  {
   "cell_type": "code",
   "execution_count": 6,
   "id": "16399538",
   "metadata": {},
   "outputs": [
    {
     "name": "stdout",
     "output_type": "stream",
     "text": [
      "Si\n"
     ]
    }
   ],
   "source": [
    "#Resultado aquí\n",
    "lista1 = ['Ana', 'Luis', 'Carlos']\n",
    "lista2 = ['Marta', 'Juan', 'Ana']\n",
    "for i in lista1:\n",
    "    if i in lista2:\n",
    "        print(\"Si\")"
   ]
  },
  {
   "cell_type": "markdown",
   "id": "60c5d657",
   "metadata": {},
   "source": [
    "## Ejercicio 3: Tuplas\n",
    "Dado un diccionario de productos con sus precios, devuelve el producto más caro."
   ]
  },
  {
   "cell_type": "code",
   "execution_count": null,
   "id": "eb341fee",
   "metadata": {},
   "outputs": [
    {
     "name": "stdout",
     "output_type": "stream",
     "text": [
      "El producto más caro en pera\n"
     ]
    }
   ],
   "source": [
    "#Resultado aquí\n",
    "productos = {'manzana': 1.5, 'pera': 2.0, 'naranja': 1.8}\n",
    "\n",
    "for i in productos:\n",
    "    if productos[i]==max(list(productos.values())):\n",
    "        print(\"El producto más caro en \" + i)\n"
   ]
  },
  {
   "cell_type": "markdown",
   "metadata": {},
   "source": [
    "## Ejercicio 4: Listas\n",
    "Implementa una función que elimine los duplicados de una lista conservando el orden original."
   ]
  },
  {
   "cell_type": "code",
   "execution_count": null,
   "metadata": {},
   "outputs": [
    {
     "name": "stdout",
     "output_type": "stream",
     "text": [
      "[1, 2, 5, 3, 4]\n"
     ]
    }
   ],
   "source": [
    "#Resultado aquí\n",
    "lista = [1, 2, 5, 3, 4, 4, 5]\n",
    "\n",
    "def eliminar_duplicados(lista):\n",
    "    # al pasar una lista como diccionario se borran los duplicados pero siguen con el mismo orden ya que esta leyendo los datos como claves\n",
    "    return list(dict.fromkeys(lista))\n",
    "\n",
    "print(eliminar_duplicados(lista))"
   ]
  },
  {
   "cell_type": "markdown",
   "metadata": {},
   "source": [
    "## Ejercicio 5: Diccionarios\n",
    "Crea un diccionario que cuente la frecuencia de cada palabra en una oración."
   ]
  },
  {
   "cell_type": "code",
   "execution_count": 105,
   "metadata": {},
   "outputs": [
    {
     "name": "stdout",
     "output_type": "stream",
     "text": [
      "{'el': None, 'sol': None, 'brilla': None, 'en': None, 'cielo': None, 'es': None, 'azul': None}\n"
     ]
    },
    {
     "ename": "KeyError",
     "evalue": "0",
     "output_type": "error",
     "traceback": [
      "\u001b[1;31m---------------------------------------------------------------------------\u001b[0m",
      "\u001b[1;31mKeyError\u001b[0m                                  Traceback (most recent call last)",
      "Cell \u001b[1;32mIn[105], line 7\u001b[0m\n\u001b[0;32m      5\u001b[0m \u001b[38;5;28mprint\u001b[39m(dicc)\n\u001b[0;32m      6\u001b[0m \u001b[38;5;28;01mfor\u001b[39;00m i,val \u001b[38;5;129;01min\u001b[39;00m \u001b[38;5;28menumerate\u001b[39m(lista):\n\u001b[1;32m----> 7\u001b[0m     \u001b[38;5;28mprint\u001b[39m(\u001b[43mdicc\u001b[49m\u001b[43m[\u001b[49m\u001b[43mi\u001b[49m\u001b[43m]\u001b[49m)\n",
      "\u001b[1;31mKeyError\u001b[0m: 0"
     ]
    }
   ],
   "source": [
    "#Resultado aquí\n",
    "oracion = \"el sol brilla en el cielo el cielo es azul\"\n",
    "lista = oracion.split()\n",
    "dicc = dict.fromkeys(lista)\n",
    "print(dicc)\n",
    "for i,val in enumerate(lista):\n",
    "    print(dicc[i])\n",
    "        "
   ]
  },
  {
   "cell_type": "markdown",
   "metadata": {},
   "source": [
    "## Ejercicio 6: Funciones\n",
    "Escribe una función que calcule el n-ésimo número de Fibonacci de manera eficiente."
   ]
  },
  {
   "cell_type": "code",
   "execution_count": null,
   "metadata": {},
   "outputs": [],
   "source": [
    "#Resultado aquí                                         qqqqqqqqqqqqqqqqqqqqqqqqqqqqqqqqqqqqqqqqqqqqqqqqqqqqqqqqqqqqqqqqqqqqqq\n",
    "\n",
    "\n",
    "fibonacci(10)"
   ]
  },
  {
   "cell_type": "markdown",
   "metadata": {},
   "source": [
    "## Ejercicio 7: Slicing\n",
    "Implementa una función que divida una lista en trozos de tamaño n."
   ]
  },
  {
   "cell_type": "code",
   "execution_count": null,
   "metadata": {},
   "outputs": [],
   "source": [
    "#Resultado aquí                                         qqqqqqqqqqqqqqqqqqqqqqqqqqqqqqqqqqqqqqqqqqqqqqqqqqqqqqqqqqqqqqqqqqqqqq\n",
    "def dividir_lista(lista,n):\n",
    "    \n",
    "\n",
    "lista = [1, 2, 3, 4, 5, 6, 7, 8, 9]\n",
    "dividir_lista(lista, 3)"
   ]
  },
  {
   "cell_type": "markdown",
   "metadata": {},
   "source": [
    "## Ejercicio 8: Conjuntos\n",
    "Calcula la diferencia simétrica entre dos conjuntos de datos de clientes."
   ]
  },
  {
   "cell_type": "code",
   "execution_count": null,
   "metadata": {},
   "outputs": [],
   "source": [
    "#Resultado aquí                                         qqqqqqqqqqqqqqqqqqqqqqqqqqqqqqqqqqqqqqqqqqqqqqqqqqqqqqqqqqqqqqqqqqqqqq\n",
    "\n",
    "\n",
    "clientes1 = {'Juan', 'Ana', 'Pedro'}\n",
    "clientes2 = {'Ana', 'Luis', 'Carlos'}\n",
    "diferencia_simetrica(clientes1, clientes2)"
   ]
  },
  {
   "cell_type": "markdown",
   "metadata": {},
   "source": [
    "## Ejercicio 9: Tuplas\n",
    "Convierte una lista de tuplas (nombre, edad) en un diccionario con el nombre como clave."
   ]
  },
  {
   "cell_type": "code",
   "execution_count": null,
   "metadata": {},
   "outputs": [
    {
     "ename": "KeyError",
     "evalue": "'Ana'",
     "output_type": "error",
     "traceback": [
      "\u001b[1;31m---------------------------------------------------------------------------\u001b[0m",
      "\u001b[1;31mKeyError\u001b[0m                                  Traceback (most recent call last)",
      "Cell \u001b[1;32mIn[22], line 8\u001b[0m\n\u001b[0;32m      5\u001b[0m dicc \u001b[38;5;241m=\u001b[39m {\u001b[38;5;124m\"\u001b[39m\u001b[38;5;124mNombre\u001b[39m\u001b[38;5;124m\"\u001b[39m:\u001b[38;5;241m12\u001b[39m}\n\u001b[0;32m      7\u001b[0m \u001b[38;5;28;01mfor\u001b[39;00m i,val \u001b[38;5;129;01min\u001b[39;00m lista_tuplas:\n\u001b[1;32m----> 8\u001b[0m     \u001b[38;5;28mprint\u001b[39m(\u001b[43mdicc\u001b[49m\u001b[43m[\u001b[49m\u001b[43mi\u001b[49m\u001b[43m]\u001b[49m)\n\u001b[0;32m     10\u001b[0m dicc\n",
      "\u001b[1;31mKeyError\u001b[0m: 'Ana'"
     ]
    }
   ],
   "source": [
    "#Resultado aquí                                         qqqqqqqqqqqqqqqqqqqqqqqqqqqqqqqqqqqqqqqqqqqqqqqqqqqqqqqqqqqqqqqqqqqqqq\n",
    "\n",
    "\n",
    "lista_tuplas = [('Ana', 30), ('Luis', 25), ('Pedro', 40)]\n",
    "dicc = {\"Nombre\":12}\n",
    "\n",
    "for i,val in lista_tuplas:\n",
    "    print(dicc[i])\n",
    "\n",
    "dicc"
   ]
  },
  {
   "cell_type": "markdown",
   "metadata": {},
   "source": [
    "## Ejercicio 10: Listas\n",
    "Escribe una función que encuentre todos los números duplicados en una lista."
   ]
  },
  {
   "cell_type": "code",
   "execution_count": 113,
   "metadata": {},
   "outputs": [
    {
     "ename": "TypeError",
     "evalue": "unsupported operand type(s) for -: 'list' and 'list'",
     "output_type": "error",
     "traceback": [
      "\u001b[1;31m---------------------------------------------------------------------------\u001b[0m",
      "\u001b[1;31mTypeError\u001b[0m                                 Traceback (most recent call last)",
      "Cell \u001b[1;32mIn[113], line 10\u001b[0m\n\u001b[0;32m      6\u001b[0m     \u001b[38;5;66;03m# restar los de la lista original con esta y despues mostrarlos\u001b[39;00m\n\u001b[0;32m      9\u001b[0m lista \u001b[38;5;241m=\u001b[39m [\u001b[38;5;241m1\u001b[39m, \u001b[38;5;241m2\u001b[39m, \u001b[38;5;241m3\u001b[39m, \u001b[38;5;241m1\u001b[39m, \u001b[38;5;241m2\u001b[39m, \u001b[38;5;241m4\u001b[39m, \u001b[38;5;241m5\u001b[39m]\n\u001b[1;32m---> 10\u001b[0m \u001b[38;5;28mprint\u001b[39m(\u001b[43mencontrar_duplicadas\u001b[49m\u001b[43m(\u001b[49m\u001b[43mlista\u001b[49m\u001b[43m)\u001b[49m)\n",
      "Cell \u001b[1;32mIn[113], line 4\u001b[0m, in \u001b[0;36mencontrar_duplicadas\u001b[1;34m(lista)\u001b[0m\n\u001b[0;32m      2\u001b[0m \u001b[38;5;28;01mdef\u001b[39;00m \u001b[38;5;21mencontrar_duplicadas\u001b[39m(lista):\n\u001b[0;32m      3\u001b[0m     sinRepe \u001b[38;5;241m=\u001b[39m \u001b[38;5;28mlist\u001b[39m(\u001b[38;5;28mset\u001b[39m(lista))\n\u001b[1;32m----> 4\u001b[0m     res \u001b[38;5;241m=\u001b[39m \u001b[43msinRepe\u001b[49m\u001b[43m \u001b[49m\u001b[38;5;241;43m-\u001b[39;49m\u001b[43m \u001b[49m\u001b[43mlista\u001b[49m\n\u001b[0;32m      5\u001b[0m     \u001b[38;5;28;01mreturn\u001b[39;00m res\n",
      "\u001b[1;31mTypeError\u001b[0m: unsupported operand type(s) for -: 'list' and 'list'"
     ]
    }
   ],
   "source": [
    "#Resultado aquí                                         qqqqqqqqqqqqqqqqqqqqqqqqqqqqqqqqqqqqqqqqqqqqqqqqqqqqqqqqqqqqqqqqqqqqqq\n",
    "def encontrar_duplicadas(lista):\n",
    "    sinRepe = list(set(lista))\n",
    "    res = sinRepe - lista\n",
    "    return res\n",
    "    # restar los de la lista original con esta y despues mostrarlos\n",
    "    \n",
    "\n",
    "lista = [1, 2, 3, 1, 2, 4, 5]\n",
    "print(encontrar_duplicadas(lista))"
   ]
  },
  {
   "cell_type": "markdown",
   "metadata": {},
   "source": [
    "## Ejercicio 11: Diccionarios\n",
    "Dado un diccionario de estudiantes y sus notas, calcula la media de las notas."
   ]
  },
  {
   "cell_type": "code",
   "execution_count": 35,
   "metadata": {},
   "outputs": [
    {
     "data": {
      "text/plain": [
       "85.0"
      ]
     },
     "execution_count": 35,
     "metadata": {},
     "output_type": "execute_result"
    }
   ],
   "source": [
    "#Resultado aquí\n",
    "\n",
    "\n",
    "estudiantes = {'Ana': 90, 'Luis': 80, 'Pedro': 85}\n",
    "suma = 0\n",
    "for i in estudiantes:\n",
    "    suma += estudiantes[i]\n",
    "\n",
    "media = suma/3\n",
    "media"
   ]
  },
  {
   "cell_type": "markdown",
   "metadata": {},
   "source": [
    "## Ejercicio 12: Funciones\n",
    "Crea una función que reciba una lista de números y devuelva una lista con los números primos."
   ]
  },
  {
   "cell_type": "code",
   "execution_count": 36,
   "metadata": {},
   "outputs": [
    {
     "name": "stdout",
     "output_type": "stream",
     "text": [
      "[2, 4, 6, 8, 10]\n"
     ]
    }
   ],
   "source": [
    "#Resultado aquí\n",
    "def numeros_primos(lista):\n",
    "    res = []\n",
    "    for i in lista:\n",
    "        if i%2==0:\n",
    "            res.append(i)\n",
    "    return res\n",
    "\n",
    "lista = [2, 3, 4, 5, 6, 7, 8, 9, 10]\n",
    "print(numeros_primos(lista))"
   ]
  },
  {
   "cell_type": "markdown",
   "metadata": {},
   "source": [
    "## Ejercicio 13: Slicing\n",
    "Escribe una función que obtenga el segundo elemento más grande de una lista de números."
   ]
  },
  {
   "cell_type": "code",
   "execution_count": 53,
   "metadata": {},
   "outputs": [
    {
     "name": "stdout",
     "output_type": "stream",
     "text": [
      "[7]\n"
     ]
    }
   ],
   "source": [
    "#Resultado aquí\n",
    "def segundo_mayor(numeros):\n",
    "    numeros.sort()\n",
    "    return numeros[len(numeros)-2:len(numeros)-1]\n",
    "\n",
    "numeros = [1, 3, 5, 7, 9, 5, 3]\n",
    "\n",
    "print(segundo_mayor(numeros))"
   ]
  },
  {
   "cell_type": "markdown",
   "metadata": {},
   "source": [
    "## Ejercicio 14: Conjuntos\n",
    "Encuentra los elementos que están en la primera lista pero no en la segunda usando conjuntos."
   ]
  },
  {
   "cell_type": "code",
   "execution_count": null,
   "metadata": {},
   "outputs": [],
   "source": [
    "#Resultado aquí                                         qqqqqqqqqqqqqqqqqqqqqqqqqqqqqqqqqqqqqqqqqqqqqqqqqqqqqqqqqqqqqqqqqqqqqq\n",
    "lista1 = [1, 2, 3, 4, 5]\n",
    "lista2 = [4, 5, 6, 7]\n"
   ]
  },
  {
   "cell_type": "markdown",
   "metadata": {},
   "source": [
    "## Ejercicio 15: Tuplas\n",
    "Dado un conjunto de coordenadas (x, y), encuentra la distancia al origen para cada una."
   ]
  },
  {
   "cell_type": "code",
   "execution_count": null,
   "metadata": {},
   "outputs": [],
   "source": [
    "#Resultado aquí                                         qqqqqqqqqqqqqqqqqqqqqqqqqqqqqqqqqqqqqqqqqqqqqqqqqqqqqqqqqqqqqqqqqqqqqq\n",
    "\n",
    "\n",
    "coordenadas = [(1, 2), (3, 4), (5, 6)]\n",
    "distancia_origen(coordenadas)"
   ]
  },
  {
   "cell_type": "markdown",
   "metadata": {},
   "source": [
    "## Ejercicio 16: Listas\n",
    "Implementa una función que rote los elementos de una lista n posiciones a la derecha."
   ]
  },
  {
   "cell_type": "code",
   "execution_count": null,
   "metadata": {},
   "outputs": [],
   "source": [
    "#Resultado aquí                                         qqqqqqqqqqqqqqqqqqqqqqqqqqqqqqqqqqqqqqqqqqqqqqqqqqqqqqqqqqqqqqqqqqqqqq\n",
    "\n",
    "\n",
    "lista = [1, 2, 3, 4, 5]\n",
    "rotar_lista(lista, 2)"
   ]
  },
  {
   "cell_type": "markdown",
   "metadata": {},
   "source": [
    "## Ejercicio 17: Diccionarios\n",
    "Crea una función que invierta las claves y valores de un diccionario."
   ]
  },
  {
   "cell_type": "code",
   "execution_count": null,
   "metadata": {},
   "outputs": [
    {
     "name": "stdout",
     "output_type": "stream",
     "text": [
      "a 1\n"
     ]
    },
    {
     "ename": "RuntimeError",
     "evalue": "dictionary changed size during iteration",
     "output_type": "error",
     "traceback": [
      "\u001b[1;31m---------------------------------------------------------------------------\u001b[0m",
      "\u001b[1;31mRuntimeError\u001b[0m                              Traceback (most recent call last)",
      "Cell \u001b[1;32mIn[59], line 9\u001b[0m\n\u001b[0;32m      6\u001b[0m         dicc[i] \u001b[38;5;241m=\u001b[39m i\n\u001b[0;32m      8\u001b[0m diccionario \u001b[38;5;241m=\u001b[39m {\u001b[38;5;124m'\u001b[39m\u001b[38;5;124ma\u001b[39m\u001b[38;5;124m'\u001b[39m: \u001b[38;5;241m1\u001b[39m, \u001b[38;5;124m'\u001b[39m\u001b[38;5;124mb\u001b[39m\u001b[38;5;124m'\u001b[39m: \u001b[38;5;241m2\u001b[39m, \u001b[38;5;124m'\u001b[39m\u001b[38;5;124mc\u001b[39m\u001b[38;5;124m'\u001b[39m: \u001b[38;5;241m3\u001b[39m}\n\u001b[1;32m----> 9\u001b[0m \u001b[43minvertir_diccionario\u001b[49m\u001b[43m(\u001b[49m\u001b[43mdiccionario\u001b[49m\u001b[43m)\u001b[49m\n",
      "Cell \u001b[1;32mIn[59], line 3\u001b[0m, in \u001b[0;36minvertir_diccionario\u001b[1;34m(dicc)\u001b[0m\n\u001b[0;32m      2\u001b[0m \u001b[38;5;28;01mdef\u001b[39;00m \u001b[38;5;21minvertir_diccionario\u001b[39m(dicc):\n\u001b[1;32m----> 3\u001b[0m \u001b[43m    \u001b[49m\u001b[38;5;28;43;01mfor\u001b[39;49;00m\u001b[43m \u001b[49m\u001b[43mi\u001b[49m\u001b[43m \u001b[49m\u001b[38;5;129;43;01min\u001b[39;49;00m\u001b[43m \u001b[49m\u001b[43mdicc\u001b[49m\u001b[43m:\u001b[49m\n\u001b[0;32m      4\u001b[0m \u001b[43m        \u001b[49m\u001b[38;5;28;43mprint\u001b[39;49m\u001b[43m(\u001b[49m\u001b[43mi\u001b[49m\u001b[43m \u001b[49m\u001b[43m,\u001b[49m\u001b[43mdicc\u001b[49m\u001b[43m[\u001b[49m\u001b[43mi\u001b[49m\u001b[43m]\u001b[49m\u001b[43m)\u001b[49m\n\u001b[0;32m      5\u001b[0m \u001b[43m        \u001b[49m\u001b[43mi\u001b[49m\u001b[38;5;241;43m=\u001b[39;49m\u001b[43mdicc\u001b[49m\u001b[43m[\u001b[49m\u001b[43mi\u001b[49m\u001b[43m]\u001b[49m\n",
      "\u001b[1;31mRuntimeError\u001b[0m: dictionary changed size during iteration"
     ]
    }
   ],
   "source": [
    "#Resultado aquí                                         qqqqqqqqqqqqqqqqqqqqqqqqqqqqqqqqqqqqqqqqqqqqqqqqqqqqqqqqqqqqqqqqqqqqqq\n",
    "def invertir_diccionario(dicc):\n",
    "    for i in dicc:\n",
    "        print(i ,dicc[i])\n",
    "        \n",
    "        dicc[i] = i\n",
    "\n",
    "diccionario = {'a': 1, 'b': 2, 'c': 3}\n",
    "invertir_diccionario(diccionario)"
   ]
  },
  {
   "cell_type": "markdown",
   "metadata": {},
   "source": [
    "## Ejercicio 18: Funciones\n",
    "Escribe una función que devuelva el mínimo común múltiplo de dos números."
   ]
  },
  {
   "cell_type": "code",
   "execution_count": null,
   "metadata": {},
   "outputs": [],
   "source": [
    "#Resultado aquí                                         qqqqqqqqqqqqqqqqqqqqqqqqqqqqqqqqqqqqqqqqqqqqqqqqqqqqqqqqqqqqqqqqqqqqqq\n",
    "\n",
    "\n",
    "mcm(12, 15)"
   ]
  },
  {
   "cell_type": "markdown",
   "metadata": {},
   "source": [
    "## Ejercicio 19: Slicing\n",
    "Implementa una función que obtenga las palabras que comienzan con una vocal en una oración."
   ]
  },
  {
   "cell_type": "code",
   "execution_count": null,
   "metadata": {},
   "outputs": [],
   "source": [
    "#Resultado aquí                                         qqqqqqqqqqqqqqqqqqqqqqqqqqqqqqqqqqqqqqqqqqqqqqqqqqqqqqqqqqqqqqqqqqqqqq\n",
    "\n",
    "\n",
    "oracion = \"El águila vuela alto en el cielo azul\"\n",
    "palabras_con_vocal(oracion)"
   ]
  },
  {
   "cell_type": "markdown",
   "metadata": {},
   "source": [
    "## Ejercicio 20: Conjuntos\n",
    "Determina si dos conjuntos de datos son disjuntos."
   ]
  },
  {
   "cell_type": "code",
   "execution_count": null,
   "metadata": {},
   "outputs": [],
   "source": [
    "#Resultado aquí                                         qqqqqqqqqqqqqqqqqqqqqqqqqqqqqqqqqqqqqqqqqqqqqqqqqqqqqqqqqqqqqqqqqqqqqq\n",
    "\n",
    "\n",
    "datos1 = {1, 2, 3}\n",
    "datos2 = {4, 5, 6}\n",
    "son_disjuntos(datos1, datos2)"
   ]
  }
 ],
 "metadata": {
  "kernelspec": {
   "display_name": "Python 3",
   "language": "python",
   "name": "python3"
  },
  "language_info": {
   "codemirror_mode": {
    "name": "ipython",
    "version": 3
   },
   "file_extension": ".py",
   "mimetype": "text/x-python",
   "name": "python",
   "nbconvert_exporter": "python",
   "pygments_lexer": "ipython3",
   "version": "3.13.0"
  }
 },
 "nbformat": 4,
 "nbformat_minor": 5
}
