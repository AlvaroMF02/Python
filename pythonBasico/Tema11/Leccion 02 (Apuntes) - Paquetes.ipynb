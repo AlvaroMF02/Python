{
 "cells": [
  {
   "cell_type": "markdown",
   "metadata": {},
   "source": [
    "# Paquetes en Python\n",
    "\n",
    "Los paquetes nos ofrecen varias ventajas:\n",
    "* Unificar distintos módulos bajo un mismo nombre de paquete\n",
    "* Crear jerarquías de módulos y submódulos, o subpaquetes\n",
    "* Distribuir y manejar fácilmente nuestro código como librerías instalables\n",
    "\n",
    "## Estructura básica de un paquete\n",
    "\n",
    "Para crear un paquete necesitamos crear un fichero especial `__init__.py` vacío en el directorio donde tengamos los módulos:"
   ]
  },
  {
   "cell_type": "markdown",
   "metadata": {},
   "source": [
    "```\n",
    "paquete/\n",
    "    __init__.py\n",
    "    saludos.py\n",
    "    script.py\n",
    "```"
   ]
  },
  {
   "cell_type": "code",
   "execution_count": null,
   "metadata": {},
   "outputs": [],
   "source": [
    "# Importar desde el paquete\n",
    "from paquete.saludos import Saludo\n",
    "\n",
    "s = Saludo()"
   ]
  },
  {
   "cell_type": "markdown",
   "metadata": {},
   "source": [
    "## Estructura con subpaquetes\n",
    "\n",
    "Podemos crear una jerarquía más compleja con subpaquetes:"
   ]
  },
  {
   "cell_type": "markdown",
   "metadata": {},
   "source": [
    "```\n",
    "script.py\n",
    "paquete/\n",
    "    __init__.py\n",
    "    hola/\n",
    "        __init__.py\n",
    "        saludos.py\n",
    "    adios/\n",
    "        __init__.py\n",
    "        despedidas.py\n",
    "```"
   ]
  },
  {
   "cell_type": "code",
   "execution_count": null,
   "metadata": {},
   "outputs": [],
   "source": [
    "# paquete/hola/saludos.py\n",
    "def saludar():\n",
    "    print(\"Hola, te estoy saludando desde la función saludar() del módulo saludos\")\n",
    "\n",
    "class Saludo():\n",
    "    def __init__(self):\n",
    "        print(\"Hola, te estoy saludando desde el __init__ de la clase Saludo\")"
   ]
  },
  {
   "cell_type": "code",
   "execution_count": null,
   "metadata": {},
   "outputs": [],
   "source": [
    "# paquete/adios/despedidas.py\n",
    "def despedir():\n",
    "    print(\"Adiós, me estoy despidiendo desde la función despedir() del módulo despedidas\")\n",
    "\n",
    "class Despedida():\n",
    "    def __init__(self):\n",
    "        print(\"Adiós, me estoy despidiendo desde el __init__ de la clase Despedida\")"
   ]
  },
  {
   "cell_type": "code",
   "execution_count": null,
   "metadata": {},
   "outputs": [],
   "source": [
    "# script.py\n",
    "from paquete.hola.saludos import saludar\n",
    "from paquete.adios.despedidas import Despedida\n",
    "\n",
    "saludar()\n",
    "Despedida()"
   ]
  },
  {
   "cell_type": "markdown",
   "metadata": {},
   "source": [
    "## Distribución del paquete\n",
    "\n",
    "Para crear un paquete distribuible necesitamos crear un fichero `setup.py`:"
   ]
  },
  {
   "cell_type": "markdown",
   "metadata": {},
   "source": [
    "```\n",
    "setup.py\n",
    "paquete/\n",
    "    __init__.py\n",
    "    hola/\n",
    "        __init__.py\n",
    "        saludos.py\n",
    "    adios/\n",
    "        __init__.py\n",
    "        despedidas.py\n",
    "```"
   ]
  },
  {
   "cell_type": "code",
   "execution_count": null,
   "metadata": {},
   "outputs": [],
   "source": [
    "# setup.py\n",
    "from setuptools import setup\n",
    "setup(\n",
    "    name=\"paquete\",\n",
    "    version=\"0.1\",\n",
    "    description=\"Este es un paquete de ejemplo\",\n",
    "    author=\"Yo mismo\",\n",
    "    author_email=\"yo.mismo@gmail.com\",\n",
    "    url=\"http://www.mi-web.net\",\n",
    "    packages=['paquete','paquete.hola','paquete.adios'],\n",
    "    scripts=[]\n",
    ")"
   ]
  },
  {
   "cell_type": "markdown",
   "metadata": {},
   "source": [
    "### Comandos para crear y gestionar el paquete\n",
    "\n",
    "Crear el distribuible:\n",
    "```\n",
    "python setup.py sdist\n",
    "```\n",
    "\n",
    "Instalar el paquete:\n",
    "```\n",
    "pip install paquete-0.1.zip\n",
    "```\n",
    "\n",
    "Desinstalar el paquete:\n",
    "```\n",
    "pip uninstall paquete\n",
    "```"
   ]
  }
 ],
 "metadata": {
  "kernelspec": {
   "display_name": "Python 3",
   "language": "python",
   "name": "python3"
  },
  "language_info": {
   "codemirror_mode": {
    "name": "ipython",
    "version": 3
   },
   "file_extension": ".py",
   "mimetype": "text/x-python",
   "name": "python",
   "nbconvert_exporter": "python",
   "pygments_lexer": "ipython3",
   "version": "3.8.0"
  }
 },
 "nbformat": 4,
 "nbformat_minor": 4
}
