{
 "cells": [
  {
   "cell_type": "markdown",
   "metadata": {},
   "source": [
    "# Bases de datos SQLite\n",
    "\n",
    "## ¿Qué es una base de datos?\n",
    "\n",
    "Las bases de datos, también conocidas como bancos de datos, son simplemente conjuntos de información. Contienen diferentes tipos de datos como números, cadenas de caracteres, fechas, etc.\n",
    "\n",
    "## Conceptos Básicos\n",
    "\n",
    "Una base de datos contiene datos que hacen referencia a información perteneciente a un mismo contexto. Por ejemplo:\n",
    "\n",
    "- **Clientes de una empresa**: nombres, apellidos, direcciones, teléfonos...\n",
    "- **Productos de una tienda**: nombre, precio, descripción...\n",
    "\n",
    "Las bases de datos permiten:\n",
    "- Almacenar datos sistemáticamente\n",
    "- Realizar consultas\n",
    "- Hacer comparativas\n",
    "- Analizar datos\n",
    "- Modificar información\n",
    "- Eliminar registros\n",
    "\n",
    "### SGBD (Sistemas Gestores de Bases de Datos)\n",
    "\n",
    "Son programas especializados que implementan sus propios lenguajes de programación para realizar consultas, desde las más simples hasta las más complejas."
   ]
  },
  {
   "cell_type": "markdown",
   "metadata": {},
   "source": [
    "## Modelos de Bases de Datos\n",
    "\n",
    "Existen diferentes modelos para gestionar las bases de datos:\n",
    "\n",
    "1. **Jerárquicas**: Organizadas en forma de árbol invertido\n",
    "2. **De red**: Mejora del modelo jerárquico\n",
    "3. **Transaccionales**: Para envío y recepción de datos a alta velocidad\n",
    "4. **Relacionales**: El modelo más común actualmente\n",
    "5. **Documentales**: Para grandes volúmenes de texto\n",
    "6. **Orientadas a objetos**: Modelo reciente basado en POO\n",
    "7. **Deductivas**: Basadas en reglas y hechos"
   ]
  },
  {
   "cell_type": "markdown",
   "metadata": {},
   "source": [
    "## Modelo Relacional\n",
    "\n",
    "Las bases de datos relacionales se basan en:\n",
    "- Relaciones entre conjuntos de datos\n",
    "- Cada relación es una tabla\n",
    "- Las tablas tienen registros (filas y columnas)\n",
    "\n",
    "### Principales SGBD Relacionales:\n",
    "\n",
    "1. **SQL Server**: \n",
    "   - Desarrollado por Microsoft\n",
    "   - Solo para Windows\n",
    "   - Privativo\n",
    "\n",
    "2. **Oracle**:\n",
    "   - Sistema objeto-relacional\n",
    "   - Multiplataforma\n",
    "   - Uno de los más completos\n",
    "\n",
    "3. **MySQL**:\n",
    "   - Licencia dual GPL/Comercial\n",
    "   - Muy popular en desarrollo web\n",
    "   - Open source\n",
    "\n",
    "4. **PostgreSQL**:\n",
    "   - Código abierto\n",
    "   - Orientado a objetos\n",
    "   - Desarrollo comunitario\n",
    "\n",
    "5. **SQLite**:\n",
    "   - Biblioteca en C\n",
    "   - Dominio público\n",
    "   - Motor integrado en el programa\n",
    "   - Hasta 2TB de datos\n",
    "   - Configuración simple"
   ]
  },
  {
   "cell_type": "markdown",
   "metadata": {},
   "source": [
    "## El lenguaje SQL\n",
    "\n",
    "SQL (Structured Query Language) es el lenguaje estándar para:\n",
    "- Realizar consultas\n",
    "- Modificar registros\n",
    "- Gestionar bases de datos relacionales\n",
    "\n",
    "Es compatible con la mayoría de SGBD relacionales, lo que facilita la migración entre sistemas.\n",
    "\n",
    "### Ejemplo básico de SQL:\n"
   ]
  },
  {
   "cell_type": "code",
   "execution_count": 1,
   "metadata": {},
   "outputs": [],
   "source": [
    "# Ejemplo de consulta SQL básica\n",
    "import sqlite3\n",
    "\n",
    "# Crear conexión\n",
    "conn = sqlite3.connect('ejemplo.db')\n",
    "cursor = conn.cursor()\n",
    "\n",
    "# Crear tabla\n",
    "cursor.execute('''\n",
    "CREATE TABLE IF NOT EXISTS usuarios (\n",
    "    id INTEGER PRIMARY KEY,\n",
    "    nombre TEXT NOT NULL,\n",
    "    email TEXT UNIQUE\n",
    ")''')\n",
    "\n",
    "# Guardar cambios y cerrar\n",
    "conn.commit()\n",
    "conn.close()"
   ]
  },
  {
   "cell_type": "code",
   "execution_count": null,
   "metadata": {},
   "outputs": [],
   "source": []
  }
 ],
 "metadata": {
  "kernelspec": {
   "display_name": "Python 3",
   "language": "python",
   "name": "python3"
  },
  "language_info": {
   "codemirror_mode": {
    "name": "ipython",
    "version": 3
   },
   "file_extension": ".py",
   "mimetype": "text/x-python",
   "name": "python",
   "nbconvert_exporter": "python",
   "pygments_lexer": "ipython3",
   "version": "3.13.0"
  }
 },
 "nbformat": 4,
 "nbformat_minor": 4
}
