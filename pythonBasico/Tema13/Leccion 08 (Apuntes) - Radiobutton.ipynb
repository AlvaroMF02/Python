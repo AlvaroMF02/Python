{
 "cells": [
  {
   "cell_type": "markdown",
   "metadata": {},
   "source": [
    "# Widget Radiobutton (Radial)\n",
    "\n",
    "Otro componente básico de los formularios son los botones radiales. Se utilizan cuando quieres ofrecerle al usuario la posibilidad de elegir una opción entre varias."
   ]
  },
  {
   "cell_type": "code",
   "execution_count": null,
   "metadata": {},
   "outputs": [],
   "source": [
    "from tkinter import *\n",
    "\n",
    "def selec():\n",
    "    monitor.config(text = \"Opción {}\".format(opcion.get() ) )\n",
    "\n",
    "root = Tk()\n",
    "root.config(bd=15)\n",
    "\n",
    "opcion = IntVar() # Como StrinVar pero en entero\n",
    "\n",
    "Radiobutton(root, text=\"Opción 1\", variable=opcion, \n",
    "            value=1, command=selec).pack()\n",
    "Radiobutton(root, text=\"Opción 2\", variable=opcion,\n",
    "            value=2, command=selec).pack()\n",
    "Radiobutton(root, text=\"Opción 3\", variable=opcion, \n",
    "            value=3, command=selec).pack()\n",
    "\n",
    "monitor = Label(root)\n",
    "monitor.pack()\n",
    "\n",
    "root.mainloop()"
   ]
  },
  {
   "cell_type": "markdown",
   "metadata": {},
   "source": [
    "Si quisiéramos reiniciar el formulario podríamos añadir un botón y establecer los valores iniciales:"
   ]
  },
  {
   "cell_type": "code",
   "execution_count": null,
   "metadata": {},
   "outputs": [],
   "source": [
    "def reset():\n",
    "    opcion.set(None)          # Reiniciamos el seleccionable\n",
    "    monitor.config(text='')   # Reiniciamos la etiqueta\n",
    "\n",
    "Button(root, text=\"Reiniciar\", command=reset).pack()"
   ]
  },
  {
   "cell_type": "markdown",
   "metadata": {},
   "source": [
    "<img src=\"img\\14.png\">"
   ]
  },
  {
   "cell_type": "markdown",
   "metadata": {},
   "source": [
    "## Código final"
   ]
  },
  {
   "cell_type": "code",
   "execution_count": null,
   "metadata": {},
   "outputs": [],
   "source": [
    "from tkinter import *\n",
    "\n",
    "def seleccionar():\n",
    "    monitor.config(text=\"{}\".format(opcion.get()))\n",
    "\n",
    "def reset():\n",
    "    opcion.set(None)\n",
    "    monitor.config(text=\"\")\n",
    "\n",
    "# Configuración de la raíz\n",
    "root = Tk()\n",
    "\n",
    "opcion = IntVar()\n",
    "\n",
    "Radiobutton(root, text=\"Opción 1\", variable=opcion, \n",
    "            value=1, command=seleccionar).pack()\n",
    "Radiobutton(root, text=\"Opción 2\", variable=opcion, \n",
    "            value=2, command=seleccionar).pack()\n",
    "Radiobutton(root, text=\"Opción 3\", variable=opcion,   \n",
    "            value=3, command=seleccionar).pack()\n",
    "\n",
    "monitor = Label(root)\n",
    "monitor.pack()\n",
    "\n",
    "Button(root, text=\"Reiniciar\", command=reset).pack()\n",
    "\n",
    "root.mainloop()"
   ]
  }
 ],
 "metadata": {
  "kernelspec": {
   "display_name": "Python 3",
   "language": "python",
   "name": "python3"
  },
  "language_info": {
   "codemirror_mode": {
    "name": "ipython",
    "version": 3
   },
   "file_extension": ".py",
   "mimetype": "text/x-python",
   "name": "python",
   "nbconvert_exporter": "python",
   "pygments_lexer": "ipython3",
   "version": "3.8.0"
  }
 },
 "nbformat": 4,
 "nbformat_minor": 4
}
