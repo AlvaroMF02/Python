{
 "cells": [
  {
   "cell_type": "markdown",
   "metadata": {},
   "source": [
    "# Interfaces gráficas con Tkinter\n",
    "\n",
    "Las interfaces gráficas son medios visuales, mucho más cómodos que una terminal de texto, a través de las cuales nuestros usuarios pueden interactuar y realizar tareas gráficamente.\n",
    "\n",
    "## Recursos\n",
    "\n",
    "En esta unidad haremos servir algunos ficheros, básicamente imágenes. \n",
    "\n",
    "| Fichero |\n",
    "| --- |\n",
    "| hola.ico |\n",
    "| hola.xbm |\n",
    "| imagen.gif |"
   ]
  },
  {
   "cell_type": "markdown",
   "metadata": {},
   "source": [
    "## Widgets\n",
    "\n",
    "El módulo Tkinter cuenta con una serie de componentes gráficos llamados Widgets, gracias a los cuales podemos diseñar nuestras interfaces.\n",
    "\n",
    "Los widgets deben seguir una jerarquía a la hora de añadirse a la interfaz. Por ejemplo, un Marco (frame) forma parte del objeto raíz Tk. Y a su vez, un botón (button) puede formar parte de un contenedor como la raíz o un marco.\n",
    "\n",
    "Los que veremos en esta introducción a Tkinter son:\n",
    "\n",
    "* **Tk**: Contenedor base o raíz de todos los widgets que forman la interfaz. No tiene tamaño propio sino que se adapta a los widgets que contiene.\n",
    "\n",
    "* **Frame**: Marco contenedor de otros widgets. Puede tener tamaño propio y posicionarse en distintos lugares de otro contenedor (ya sea la raíz u otro marco).\n",
    "\n",
    "* **Label**: Etiqueta dónde podemos mostrar algún texto estático.\n",
    "\n",
    "* **Entry**: Campo de texto sencillo para escribir texto corto. Nombres, apellidos, números..\n",
    "\n",
    "* **Text**: Campo de texto multilínea para escribir texto largo. Descripciones, comentarios...\n",
    "\n",
    "* **Button**: Botón con un texto sobre el cual el usuario puede hacer clic.\n",
    "\n",
    "* **Radiobutton**: Botón radial que se usa en conjunto donde es posible marcar una opción.\n",
    "\n",
    "* **Checkbutton**: Botón cuadrado que se puede marcar con un tic.\n",
    "\n",
    "* **Menu**: Estructura de botones centrados en la composición de menús superiores.\n",
    "\n",
    "* **Dialogs**: Ventanas emergentes que permiten desde mostrar información al usuario (típico mensaje de alerta o de confirmación) hasta ofrecer una forma gráfica de interactuar con el sistema operativo (seleccionar un fichero de un directorio para abrirlo).\n",
    "\n",
    "Hay otros widgets, pero estos son los más importantes."
   ]
  },
  {
   "cell_type": "code",
   "execution_count": 2,
   "metadata": {},
   "outputs": [],
   "source": [
    "# Ejemplo básico de una ventana Tkinter\n",
    "import tkinter as tk\n",
    "\n",
    "# Crear la ventana principal\n",
    "root = tk.Tk()\n",
    "root.title(\"Mi primera interfaz\")\n",
    "\n",
    "# Crear una etiqueta\n",
    "label = tk.Label(root, text=\"¡Hola, Tkinter!\")\n",
    "label.pack()\n",
    "\n",
    "# Iniciar el bucle principal\n",
    "root.mainloop()"
   ]
  },
  {
   "cell_type": "code",
   "execution_count": null,
   "metadata": {},
   "outputs": [],
   "source": []
  }
 ],
 "metadata": {
  "kernelspec": {
   "display_name": "Python 3",
   "language": "python",
   "name": "python3"
  },
  "language_info": {
   "codemirror_mode": {
    "name": "ipython",
    "version": 3
   },
   "file_extension": ".py",
   "mimetype": "text/x-python",
   "name": "python",
   "nbconvert_exporter": "python",
   "pygments_lexer": "ipython3",
   "version": "3.13.0"
  }
 },
 "nbformat": 4,
 "nbformat_minor": 4
}
