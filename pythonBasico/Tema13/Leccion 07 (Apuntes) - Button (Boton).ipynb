{
 "cells": [
  {
   "cell_type": "markdown",
   "metadata": {},
   "source": [
    "# Widget Button (Botón)\n",
    "\n",
    "Los botones son posiblemente los componentes más utilizados en el diseño de interfaces gráficas. Yo he llegado a crear una interfaz que únicamente tenía un botón, suena raro, pero uno de mis clientes, ya hace tiempo quería un programa con un botón para ejecutar una tarea con una flecha de esas de carga debajo girando para saber que estaba \"en marcha\". Y véis que hay gente para todo.\n",
    "\n",
    "Pero bueno, nosotros a lo nuestro. A partir de esta unidad todo se pone más interesante, porque gracias a los botones vamos a añadir comportamientos dinámicos a nuestras interfaces."
   ]
  },
  {
   "cell_type": "markdown",
   "metadata": {},
   "source": [
    "## Crear un botón simple"
   ]
  },
  {
   "cell_type": "code",
   "execution_count": null,
   "metadata": {},
   "outputs": [],
   "source": [
    "# Podemos crearlos y empacarlos en una línea\n",
    "Button(root, text=\"Clícame\").pack()"
   ]
  },
  {
   "cell_type": "markdown",
   "metadata": {},
   "source": [
    "Sin más complicación aquí tenemos un botón, ¿pero la gracia es que haga algo no? Pues vamos a añadirle comportamiento. Para hacerlo tenemos que crear un parámetro command que ejecutará un código cuando apretemos el botón. Este código se lo pasaremos en forma de función."
   ]
  },
  {
   "cell_type": "code",
   "execution_count": null,
   "metadata": {},
   "outputs": [],
   "source": [
    "from tkinter import *\n",
    "\n",
    "# Definimos una función a ejecutar al clic el botón\n",
    "def hola():\n",
    "    print(\"Hola mundo!\")\n",
    "\n",
    "root = Tk()\n",
    "\n",
    "# Enlazamos la función a la acción del botón\n",
    "Button(root, text=\"Clícame\", command=hola).pack()\n",
    "\n",
    "root.mainloop()"
   ]
  },
  {
   "cell_type": "markdown",
   "metadata": {},
   "source": [
    "## Calculadora simple\n",
    "\n",
    "La verdad es que podemos realizar mil cosas jugando con los botones y otros widgets, vamos a crear una interfaz para realizar una suma a partir de dos campos y un tercero no editable para el resultado:"
   ]
  },
  {
   "cell_type": "code",
   "execution_count": null,
   "metadata": {},
   "outputs": [],
   "source": [
    "from tkinter import *\n",
    "\n",
    "# Funciones backend\n",
    "def borrar():\n",
    "    n1.set('')\n",
    "    n2.set('')\n",
    "\n",
    "def sumar():\n",
    "    r.set( float( n1.get() ) + float(n2.get() ) )\n",
    "    borrar()\n",
    "\n",
    "# Estructura del formulario\n",
    "root = Tk()\n",
    "root.config(bd=15)  # borde exterior de 15 píxeles\n",
    "\n",
    "# Tres StringVar para manejar los números y el resultado\n",
    "n1 = StringVar()\n",
    "n2 = StringVar()\n",
    "r = StringVar()\n",
    "\n",
    "Label(root, text=\"Numero 1\").pack()\n",
    "Entry(root, justify=CENTER, textvariable=n1).pack()\n",
    "\n",
    "Label(root, text=\"\\nNumero 2\").pack()\n",
    "Entry(root, justify=CENTER, textvariable=n2).pack()\n",
    "\n",
    "Label(root, text=\"\\nResultado\").pack()\n",
    "Entry(root, justify=CENTER, state=DISABLED, textvariable=r).pack()\n",
    "\n",
    "Label(root).pack() # Separador\n",
    "\n",
    "Button(root, text=\"Sumar\", command=sumar).pack()\n",
    "\n",
    "root.mainloop()"
   ]
  },
  {
   "cell_type": "markdown",
   "metadata": {},
   "source": [
    "Como véis ya podemos hacer cosas bastante interesantes. Lo mejor de todo es que fácilmente podríamos extender el formulario para realizar más operaciones:"
   ]
  },
  {
   "cell_type": "code",
   "execution_count": null,
   "metadata": {},
   "outputs": [],
   "source": [
    "def restar():\n",
    "    r.set( float( n1.get() ) - float(n2.get() ) )\n",
    "    borrar()\n",
    "\n",
    "def multiplicar():\n",
    "    r.set( float( n1.get() ) * float(n2.get() ) )\n",
    "    borrar()\n",
    "\n",
    "Button(root, text=\"Sumar\", command=sumar).pack(side=LEFT)\n",
    "Button(root, text=\"Restar\", command=restar).pack(side=LEFT)\n",
    "Button(root, text=\"Multiplicar\", command=multiplicar).pack(side=LEFT)"
   ]
  },
  {
   "cell_type": "markdown",
   "metadata": {},
   "source": [
    "<img src=\"img\\13.png\">"
   ]
  },
  {
   "cell_type": "markdown",
   "metadata": {},
   "source": [
    "## Código final - Calculadora completa"
   ]
  },
  {
   "cell_type": "code",
   "execution_count": null,
   "metadata": {},
   "outputs": [],
   "source": [
    "from tkinter import *\n",
    "\n",
    "def sumar():\n",
    "    r.set( float(n1.get()) + float(n2.get()) )\n",
    "    borrar()\n",
    "\n",
    "def resta():\n",
    "    r.set( float(n1.get()) - float(n2.get()) )\n",
    "    borrar()\n",
    "\n",
    "def producto():\n",
    "    r.set( float(n1.get()) * float(n2.get()) )\n",
    "    borrar()\n",
    "\n",
    "def borrar():\n",
    "    n1.set(\"\")\n",
    "    n2.set(\"\")\n",
    "\n",
    "# Configuración de la raíz\n",
    "root = Tk()\n",
    "root.config(bd=15)\n",
    "\n",
    "n1 = StringVar()\n",
    "n2 = StringVar()\n",
    "r = StringVar()\n",
    "\n",
    "Label(root, text=\"Número 1\").pack()\n",
    "Entry(root, justify=\"center\", textvariable=n1).pack()\n",
    "\n",
    "Label(root, text=\"Número 2\").pack()\n",
    "Entry(root, justify=\"center\", textvariable=n2).pack()\n",
    "\n",
    "Label(root, text=\"Resultado\").pack()\n",
    "Entry(root, justify=\"center\", textvariable=r, state=\"disabled\").pack()\n",
    "\n",
    "Label(root, text=\"\").pack()  # Separador\n",
    "\n",
    "Button(root, text=\"Sumar\", command=sumar).pack(side=\"left\")\n",
    "Button(root, text=\"Resta\", command=resta).pack(side=\"left\")\n",
    "Button(root, text=\"Producto\", command=producto).pack(side=\"left\")\n",
    "\n",
    "root.mainloop()"
   ]
  }
 ],
 "metadata": {
  "kernelspec": {
   "display_name": "Python 3",
   "language": "python",
   "name": "python3"
  },
  "language_info": {
   "codemirror_mode": {
    "name": "ipython",
    "version": 3
   },
   "file_extension": ".py",
   "mimetype": "text/x-python",
   "name": "python",
   "nbconvert_exporter": "python",
   "pygments_lexer": "ipython3",
   "version": "3.8.0"
  }
 },
 "nbformat": 4,
 "nbformat_minor": 4
}
