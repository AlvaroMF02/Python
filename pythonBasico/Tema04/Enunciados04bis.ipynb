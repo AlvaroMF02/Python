{
 "cells": [
  {
   "cell_type": "markdown",
   "id": "5f4263fa",
   "metadata": {},
   "source": [
    "# Ejercicio 1: Control de flujo y bucles\n",
    "Imprime los números del 1 al 100. Para los múltiplos de 3, imprime \"Fizz\" en lugar del número. Para los múltiplos de 5, imprime \"Buzz\". Para números que son múltiplos de ambos, imprime \"FizzBuzz\"."
   ]
  },
  {
   "cell_type": "code",
   "execution_count": null,
   "id": "77e16d97",
   "metadata": {},
   "outputs": [
    {
     "name": "stdout",
     "output_type": "stream",
     "text": [
      "1\n",
      "2\n",
      "Fizz\n",
      "4\n",
      "Buzz\n",
      "Fizz\n",
      "7\n",
      "8\n",
      "Fizz\n",
      "Buzz\n",
      "11\n",
      "Fizz\n",
      "13\n",
      "14\n",
      "Fizz\n",
      "16\n",
      "17\n",
      "Fizz\n",
      "19\n",
      "Buzz\n",
      "Fizz\n",
      "22\n",
      "23\n",
      "Fizz\n",
      "Buzz\n",
      "26\n",
      "Fizz\n",
      "28\n",
      "29\n",
      "Fizz\n",
      "31\n",
      "32\n",
      "Fizz\n",
      "34\n",
      "Buzz\n",
      "Fizz\n",
      "37\n",
      "38\n",
      "Fizz\n",
      "Buzz\n",
      "41\n",
      "Fizz\n",
      "43\n",
      "44\n",
      "Fizz\n",
      "46\n",
      "47\n",
      "Fizz\n",
      "49\n",
      "Buzz\n",
      "Fizz\n",
      "52\n",
      "53\n",
      "Fizz\n",
      "Buzz\n",
      "56\n",
      "Fizz\n",
      "58\n",
      "59\n",
      "Fizz\n",
      "61\n",
      "62\n",
      "Fizz\n",
      "64\n",
      "Buzz\n",
      "Fizz\n",
      "67\n",
      "68\n",
      "Fizz\n",
      "Buzz\n",
      "71\n",
      "Fizz\n",
      "73\n",
      "74\n",
      "Fizz\n",
      "76\n",
      "77\n",
      "Fizz\n",
      "79\n",
      "Buzz\n",
      "Fizz\n",
      "82\n",
      "83\n",
      "Fizz\n",
      "Buzz\n",
      "86\n",
      "Fizz\n",
      "88\n",
      "89\n",
      "Fizz\n",
      "91\n",
      "92\n",
      "Fizz\n",
      "94\n",
      "Buzz\n",
      "Fizz\n",
      "97\n",
      "98\n",
      "Fizz\n",
      "Buzz\n"
     ]
    }
   ],
   "source": [
    "## Resultado\n",
    "for i in range(1,101):\n",
    "    # para los multiplos de 3\n",
    "    if i%3 == 0:\n",
    "        print(\"Fizz\")\n",
    "    # para los multiplos de 5\n",
    "    elif i%5 == 0:\n",
    "        print(\"Buzz\")\n",
    "    elif i%5 == 0 and i%3 == 0:     # esto iria arriba\n",
    "        print(\"FizzBuzz\")\n",
    "    else:\n",
    "        print(i)"
   ]
  },
  {
   "cell_type": "markdown",
   "id": "0a37b660",
   "metadata": {},
   "source": [
    "# Ejercicio 2: Listas y comprensión de listas\n",
    "Dada una lista de números, crea una nueva lista que contenga solo los números pares."
   ]
  },
  {
   "cell_type": "code",
   "execution_count": 7,
   "id": "fa90673c",
   "metadata": {},
   "outputs": [
    {
     "data": {
      "text/plain": [
       "[2, 4, 6, 8, 10]"
      ]
     },
     "execution_count": 7,
     "metadata": {},
     "output_type": "execute_result"
    }
   ],
   "source": [
    "numeros = [1, 2, 3, 4, 5, 6, 7, 8, 9, 10]\n",
    "res = []\n",
    "for i in numeros:\n",
    "    if i%2==0:\n",
    "        res.append(i)\n",
    "## Resultado\n",
    "res"
   ]
  },
  {
   "cell_type": "markdown",
   "id": "1bbf899f",
   "metadata": {},
   "source": [
    "# Ejercicio 3: Tuplas\n",
    "Dada una lista de tuplas con el nombre de un estudiante y su calificación, crea una lista de nombres de estudiantes que tengan una calificación mayor a 70."
   ]
  },
  {
   "cell_type": "code",
   "execution_count": null,
   "id": "2a250922",
   "metadata": {},
   "outputs": [
    {
     "data": {
      "text/plain": [
       "[('Ana', 85), ('Luis', 90), ('Maria', 70)]"
      ]
     },
     "execution_count": 10,
     "metadata": {},
     "output_type": "execute_result"
    }
   ],
   "source": [
    "estudiantes = [(\"Ana\", 85), (\"Juan\", 60), (\"Luis\", 90), (\"Maria\", 70)]\n",
    "res = []\n",
    "\n",
    "for i in estudiantes:       # tmb puede ser for nombre,nota in lista    para no tener que usar i[1]\n",
    "    # print(i[1])\n",
    "    if i[1]>=70:\n",
    "        res.append(i)\n",
    "    \n",
    "## Resultado\n",
    "res"
   ]
  },
  {
   "cell_type": "markdown",
   "id": "79a4d648",
   "metadata": {},
   "source": [
    "# Ejercicio 4: Conjuntos\n",
    "Recibe dos listas de números y devuelve una lista que contenga solo los elementos que están en ambas listas (intersección)."
   ]
  },
  {
   "cell_type": "code",
   "execution_count": 11,
   "id": "efc639a6",
   "metadata": {},
   "outputs": [
    {
     "data": {
      "text/plain": [
       "[4, 5]"
      ]
     },
     "execution_count": 11,
     "metadata": {},
     "output_type": "execute_result"
    }
   ],
   "source": [
    "lista1 = [1, 2, 3, 4, 5]\n",
    "lista2 = [4, 5, 6, 7, 8]\n",
    "lista3 = []\n",
    "## Resultado\n",
    "for i in lista1:\n",
    "    for j in lista2:\n",
    "        if i == j:\n",
    "            lista3.append(i)\n",
    "            \n",
    "lista3"
   ]
  },
  {
   "cell_type": "markdown",
   "id": "99661c3b",
   "metadata": {},
   "source": [
    "# Ejercicio 5: Diccionarios\n",
    "Crea un diccionario con nombres de países como claves y sus capitales como valores. Luego, dado el nombre de un país, imprime su capital."
   ]
  },
  {
   "cell_type": "code",
   "execution_count": null,
   "id": "def05972",
   "metadata": {},
   "outputs": [
    {
     "name": "stdout",
     "output_type": "stream",
     "text": [
      "La capital de España es Madrid\n"
     ]
    }
   ],
   "source": [
    "paises_capitales = {\n",
    "    \"España\": \"Madrid\",\n",
    "    \"Francia\": \"París\",\n",
    "    \"Italia\": \"Roma\",\n",
    "    \"Alemania\": \"Berlín\"\n",
    "}\n",
    "\n",
    "## Resultado\n",
    "busca = input(\"Ingresa un país\")\n",
    "\n",
    "for i in paises_capitales:\n",
    "    if i == busca:\n",
    "        print(\"La capital de \" + busca + \" es \" + paises_capitales[i])\n",
    "    else:\n",
    "        print(\"No está en la lista\")"
   ]
  },
  {
   "cell_type": "code",
   "execution_count": null,
   "id": "f6304e06",
   "metadata": {},
   "outputs": [],
   "source": []
  }
 ],
 "metadata": {
  "kernelspec": {
   "display_name": "Python 3",
   "language": "python",
   "name": "python3"
  },
  "language_info": {
   "codemirror_mode": {
    "name": "ipython",
    "version": 3
   },
   "file_extension": ".py",
   "mimetype": "text/x-python",
   "name": "python",
   "nbconvert_exporter": "python",
   "pygments_lexer": "ipython3",
   "version": "3.13.0"
  }
 },
 "nbformat": 4,
 "nbformat_minor": 5
}
