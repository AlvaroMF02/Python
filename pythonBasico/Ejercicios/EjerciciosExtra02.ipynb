{
 "cells": [
  {
   "cell_type": "markdown",
   "metadata": {},
   "source": [
    "# Ejercicios Avanzados de Python"
   ]
  },
  {
   "cell_type": "markdown",
   "metadata": {},
   "source": [
    "## Ejercicio 1: Slicing\n",
    "Dada una lista de temperaturas diarias, calcula la media de las temperaturas de fin de semana (últimos dos días)."
   ]
  },
  {
   "cell_type": "code",
   "execution_count": 94,
   "id": "c19c78a9",
   "metadata": {},
   "outputs": [
    {
     "name": "stdout",
     "output_type": "stream",
     "text": [
      "26.0\n"
     ]
    }
   ],
   "source": [
    "#Resultado aquí\n",
    "temperaturas = [20, 22, 24, 21, 23, 25, 27]\n",
    "\n",
    "finde = temperaturas[5:7]\n",
    "finde\n",
    "print((finde[0] + finde[1])/2)"
   ]
  },
  {
   "cell_type": "markdown",
   "id": "df5a9e80",
   "metadata": {},
   "source": [
    "## Ejercicio 2: Conjuntos\n",
    "Determina si dos listas de estudiantes tienen al menos un estudiante en común."
   ]
  },
  {
   "cell_type": "code",
   "execution_count": 6,
   "id": "16399538",
   "metadata": {},
   "outputs": [
    {
     "name": "stdout",
     "output_type": "stream",
     "text": [
      "Si\n"
     ]
    }
   ],
   "source": [
    "#Resultado aquí\n",
    "lista1 = ['Ana', 'Luis', 'Carlos']\n",
    "lista2 = ['Marta', 'Juan', 'Ana']\n",
    "for i in lista1:\n",
    "    if i in lista2:\n",
    "        print(\"Si\")"
   ]
  },
  {
   "cell_type": "markdown",
   "id": "60c5d657",
   "metadata": {},
   "source": [
    "## Ejercicio 3: Tuplas\n",
    "Dado un diccionario de productos con sus precios, devuelve el producto más caro."
   ]
  },
  {
   "cell_type": "code",
   "execution_count": null,
   "id": "eb341fee",
   "metadata": {},
   "outputs": [
    {
     "name": "stdout",
     "output_type": "stream",
     "text": [
      "El producto más caro en pera\n"
     ]
    }
   ],
   "source": [
    "#Resultado aquí\n",
    "productos = {'manzana': 1.5, 'pera': 2.0, 'naranja': 1.8}\n",
    "\n",
    "for i in productos:\n",
    "    if productos[i]==max(list(productos.values())):\n",
    "        print(\"El producto más caro en \" + i)\n"
   ]
  },
  {
   "cell_type": "markdown",
   "id": "bb25b22b",
   "metadata": {},
   "source": [
    "## Ejercicio 4: Listas\n",
    "Implementa una función que elimine los duplicados de una lista conservando el orden original."
   ]
  },
  {
   "cell_type": "code",
   "execution_count": null,
   "id": "c96e0934",
   "metadata": {},
   "outputs": [
    {
     "name": "stdout",
     "output_type": "stream",
     "text": [
      "[1, 2, 5, 3, 4]\n"
     ]
    }
   ],
   "source": [
    "#Resultado aquí\n",
    "lista = [1, 2, 5, 3, 4, 4, 5]\n",
    "\n",
    "def eliminar_duplicados(lista):\n",
    "    # al pasar una lista como diccionario se borran los duplicados pero siguen con el mismo orden ya que esta leyendo los datos como claves\n",
    "    return list(dict.fromkeys(lista))\n",
    "\n",
    "print(eliminar_duplicados(lista))"
   ]
  },
  {
   "cell_type": "markdown",
   "id": "c4629484",
   "metadata": {},
   "source": [
    "## Ejercicio 5: Diccionarios\n",
    "Crea un diccionario que cuente la frecuencia de cada palabra en una oración."
   ]
  },
  {
   "cell_type": "code",
   "execution_count": null,
   "id": "8511e25a",
   "metadata": {},
   "outputs": [
    {
     "data": {
      "text/plain": [
       "{'el': 3, 'sol': 1, 'brilla': 1, 'en': 1, 'cielo': 2, 'es': 1, 'azul': 1}"
      ]
     },
     "execution_count": 1,
     "metadata": {},
     "output_type": "execute_result"
    }
   ],
   "source": [
    "#Resultado aquí\n",
    "oracion = \"el sol brilla en el cielo el cielo es azul\"\n",
    "lista = oracion.split()\n",
    "# Diccionario vacio\n",
    "frecPalab = {}\n",
    "\n",
    "for palabra in lista:\n",
    "    if palabra in frecPalab:\n",
    "        frecPalab[palabra] += 1\n",
    "    else:\n",
    "        frecPalab[palabra] = 1\n",
    "\n",
    "frecPalab\n"
   ]
  },
  {
   "cell_type": "markdown",
   "id": "c295bead",
   "metadata": {},
   "source": [
    "## Ejercicio 6: Funciones\n",
    "Escribe una función que calcule el n-ésimo número de Fibonacci de manera eficiente."
   ]
  },
  {
   "cell_type": "code",
   "execution_count": 9,
   "id": "4be101ab",
   "metadata": {},
   "outputs": [
    {
     "name": "stdout",
     "output_type": "stream",
     "text": [
      "55\n"
     ]
    }
   ],
   "source": [
    "#Resultado aquí\n",
    "\n",
    "def fibonacci(num):\n",
    "    if num <= 0:\n",
    "        return 0\n",
    "    elif num == 1:\n",
    "        return 1\n",
    "    else:\n",
    "        return fibonacci(num - 1) + fibonacci(num - 2)\n",
    "\n",
    "print(fibonacci(10))\n"
   ]
  },
  {
   "cell_type": "markdown",
   "id": "e71ed9ec",
   "metadata": {},
   "source": [
    "## Ejercicio 7: Slicing\n",
    "Implementa una función que divida una lista en trozos de tamaño n."
   ]
  },
  {
   "cell_type": "code",
   "execution_count": 15,
   "id": "44a38ee4",
   "metadata": {},
   "outputs": [
    {
     "data": {
      "text/plain": [
       "[[1, 2, 3], [4, 5, 6], [7, 8, 9]]"
      ]
     },
     "execution_count": 15,
     "metadata": {},
     "output_type": "execute_result"
    }
   ],
   "source": [
    "#Resultado aquí\n",
    "def dividir_lista(lista,n):\n",
    "    # Usamos una comprensión de listas con el operador de slicing para dividir la lista\n",
    "    return [lista[i:i + n] for i in range(0, len(lista), n)]\n",
    "\n",
    "\n",
    "lista = [1, 2, 3, 4, 5, 6, 7, 8, 9]\n",
    "dividir_lista(lista, 3)"
   ]
  },
  {
   "cell_type": "markdown",
   "id": "a2c8769b",
   "metadata": {},
   "source": [
    "## Ejercicio 8: Conjuntos\n",
    "Calcula la diferencia simétrica entre dos conjuntos de datos de clientes."
   ]
  },
  {
   "cell_type": "code",
   "execution_count": 16,
   "id": "9bcd2f5e",
   "metadata": {},
   "outputs": [
    {
     "name": "stdout",
     "output_type": "stream",
     "text": [
      "{'Pedro', 'Luis', 'Juan', 'Carlos'}\n"
     ]
    }
   ],
   "source": [
    "#Resultado aquí\n",
    "clientes1 = {'Juan', 'Ana', 'Pedro'}\n",
    "clientes2 = {'Ana', 'Luis', 'Carlos'}\n",
    "\n",
    "# Con ^ se puede calcular la diferencia simetrica\n",
    "print(clientes1^clientes2)\n"
   ]
  },
  {
   "cell_type": "markdown",
   "id": "9b302e40",
   "metadata": {},
   "source": [
    "## Ejercicio 9: Tuplas\n",
    "Convierte una lista de tuplas (nombre, edad) en un diccionario con el nombre como clave."
   ]
  },
  {
   "cell_type": "code",
   "execution_count": null,
   "id": "4a3094d0",
   "metadata": {},
   "outputs": [
    {
     "data": {
      "text/plain": [
       "{'Ana': 30, 'Luis': 25, 'Pedro': 40}"
      ]
     },
     "execution_count": 17,
     "metadata": {},
     "output_type": "execute_result"
    }
   ],
   "source": [
    "#Resultado aquí\n",
    "lista_tuplas = [('Ana', 30), ('Luis', 25), ('Pedro', 40)]\n",
    "# Diccionario de compresión\n",
    "dicc = {nombre: edad for nombre, edad in lista_tuplas}\n",
    "\n",
    "dicc"
   ]
  },
  {
   "cell_type": "markdown",
   "id": "ce5978db",
   "metadata": {},
   "source": [
    "## Ejercicio 10: Listas\n",
    "Escribe una función que encuentre todos los números duplicados en una lista."
   ]
  },
  {
   "cell_type": "code",
   "execution_count": null,
   "id": "1709865c",
   "metadata": {},
   "outputs": [
    {
     "name": "stdout",
     "output_type": "stream",
     "text": [
      "[1, 2]\n"
     ]
    }
   ],
   "source": [
    "#Resultado aquí\n",
    "def encontrar_duplicadas(lista):\n",
    "    vistos = set()\n",
    "    duplicados = set()\n",
    "    \n",
    "    for num in lista:\n",
    "        # Si num está en vistos va a duplicados\n",
    "        if num in vistos:\n",
    "            duplicados.add(num)\n",
    "        else:\n",
    "            vistos.add(num)\n",
    "    return list(duplicados)\n",
    "\n",
    "lista = [1, 2, 3, 1, 2, 4, 5]\n",
    "print(encontrar_duplicadas(lista))"
   ]
  },
  {
   "cell_type": "markdown",
   "id": "c3e1b901",
   "metadata": {},
   "source": [
    "## Ejercicio 11: Diccionarios\n",
    "Dado un diccionario de estudiantes y sus notas, calcula la media de las notas."
   ]
  },
  {
   "cell_type": "code",
   "execution_count": 35,
   "id": "1da6b7c3",
   "metadata": {},
   "outputs": [
    {
     "data": {
      "text/plain": [
       "85.0"
      ]
     },
     "execution_count": 35,
     "metadata": {},
     "output_type": "execute_result"
    }
   ],
   "source": [
    "#Resultado aquí\n",
    "\n",
    "\n",
    "estudiantes = {'Ana': 90, 'Luis': 80, 'Pedro': 85}\n",
    "suma = 0\n",
    "for i in estudiantes:\n",
    "    suma += estudiantes[i]\n",
    "\n",
    "media = suma/3\n",
    "media"
   ]
  },
  {
   "cell_type": "markdown",
   "id": "abff9e30",
   "metadata": {},
   "source": [
    "## Ejercicio 12: Funciones\n",
    "Crea una función que reciba una lista de números y devuelva una lista con los números primos."
   ]
  },
  {
   "cell_type": "code",
   "execution_count": 36,
   "id": "4e8af5a8",
   "metadata": {},
   "outputs": [
    {
     "name": "stdout",
     "output_type": "stream",
     "text": [
      "[2, 4, 6, 8, 10]\n"
     ]
    }
   ],
   "source": [
    "#Resultado aquí\n",
    "def numeros_primos(lista):\n",
    "    res = []\n",
    "    for i in lista:\n",
    "        if i%2==0:\n",
    "            res.append(i)\n",
    "    return res\n",
    "\n",
    "lista = [2, 3, 4, 5, 6, 7, 8, 9, 10]\n",
    "print(numeros_primos(lista))"
   ]
  },
  {
   "cell_type": "markdown",
   "id": "9ff567b7",
   "metadata": {},
   "source": [
    "## Ejercicio 13: Slicing\n",
    "Escribe una función que obtenga el segundo elemento más grande de una lista de números."
   ]
  },
  {
   "cell_type": "code",
   "execution_count": 53,
   "id": "3c11b33b",
   "metadata": {},
   "outputs": [
    {
     "name": "stdout",
     "output_type": "stream",
     "text": [
      "[7]\n"
     ]
    }
   ],
   "source": [
    "#Resultado aquí\n",
    "def segundo_mayor(numeros):\n",
    "    numeros.sort()\n",
    "    return numeros[len(numeros)-2:len(numeros)-1]\n",
    "\n",
    "numeros = [1, 3, 5, 7, 9, 5, 3]\n",
    "\n",
    "print(segundo_mayor(numeros))"
   ]
  },
  {
   "cell_type": "markdown",
   "id": "09fd2e18",
   "metadata": {},
   "source": [
    "## Ejercicio 14: Conjuntos\n",
    "Encuentra los elementos que están en la primera lista pero no en la segunda usando conjuntos."
   ]
  },
  {
   "cell_type": "code",
   "execution_count": null,
   "id": "c7c55782",
   "metadata": {},
   "outputs": [
    {
     "name": "stdout",
     "output_type": "stream",
     "text": [
      "[1, 2, 3]\n"
     ]
    }
   ],
   "source": [
    "#Resultado aquí\n",
    "lista1 = [1, 2, 3, 4, 5]\n",
    "lista2 = [4, 5, 6, 7]\n",
    "# ns como pero lo hace\n",
    "print(list(set(lista1) - set(lista2)))"
   ]
  },
  {
   "cell_type": "markdown",
   "id": "50eca8bc",
   "metadata": {},
   "source": [
    "## Ejercicio 15: Tuplas\n",
    "Dado un conjunto de coordenadas (x, y), encuentra la distancia al origen para cada una."
   ]
  },
  {
   "cell_type": "code",
   "execution_count": null,
   "id": "b4435a58",
   "metadata": {},
   "outputs": [
    {
     "name": "stdout",
     "output_type": "stream",
     "text": [
      "[2.23606797749979, 5.0, 7.810249675906654]\n"
     ]
    }
   ],
   "source": [
    "#Resultado aquí\n",
    "import math\n",
    "\n",
    "coordenadas = [(1, 2), (3, 4), (5, 6)]\n",
    "# Compresion de listas, sqrt es para la raiz\n",
    "# 1º se pone la operacion (lo q se devuelve,se puede devolver mas de uno) 2º pones los valores q va a calcular de lista\n",
    "res = [math.sqrt(x**2 + y**2) for x, y in coordenadas]\n",
    "print(res)"
   ]
  },
  {
   "cell_type": "markdown",
   "id": "02e942b1",
   "metadata": {},
   "source": [
    "## Ejercicio 16: Listas\n",
    "Implementa una función que rote los elementos de una lista n posiciones a la derecha."
   ]
  },
  {
   "cell_type": "code",
   "execution_count": null,
   "id": "8b417249",
   "metadata": {},
   "outputs": [
    {
     "name": "stdout",
     "output_type": "stream",
     "text": [
      "[1, 2, 3, 4, 5]\n"
     ]
    }
   ],
   "source": [
    "#Resultado aquí\n",
    "def rotar_lista(lista, n):\n",
    "    # Calculamos n módulo longitud de la lista para evitar rotaciones innecesarias\n",
    "    n = n % len(lista) # quitarle vueltas de mas, si pones mas de len(lista) no hace nada\n",
    "    return lista[-n:] + lista[:-n]\n",
    "\n",
    "lista = [1, 2, 3, 4, 5]\n",
    "rotada = rotar_lista(lista, 5)\n",
    "print(rotada)\n"
   ]
  },
  {
   "cell_type": "markdown",
   "id": "a2543f4a",
   "metadata": {},
   "source": [
    "## Ejercicio 17: Diccionarios\n",
    "Crea una función que invierta las claves y valores de un diccionario."
   ]
  },
  {
   "cell_type": "code",
   "execution_count": null,
   "id": "9b76ee3b",
   "metadata": {},
   "outputs": [
    {
     "name": "stdout",
     "output_type": "stream",
     "text": [
      "dict_items([('a', 1), ('b', 2), ('c', 3)])\n"
     ]
    },
    {
     "data": {
      "text/plain": [
       "{1: 'a', 2: 'b', 3: 'c'}"
      ]
     },
     "execution_count": 26,
     "metadata": {},
     "output_type": "execute_result"
    }
   ],
   "source": [
    "#Resultado aquí\n",
    "def invertir_diccionario(diccionario):\n",
    "    print(diccionario.items())\n",
    "    # igual que antes pero dandole la vuelta a los valores\n",
    "    return {valor: clave for clave, valor in diccionario.items()}\n",
    "\n",
    "diccionario = {'a': 1, 'b': 2, 'c': 3}\n",
    "invertir_diccionario(diccionario)"
   ]
  },
  {
   "cell_type": "markdown",
   "id": "0f74d024",
   "metadata": {},
   "source": [
    "## Ejercicio 18: Funciones\n",
    "Escribe una función que devuelva el mínimo común múltiplo de dos números."
   ]
  },
  {
   "cell_type": "code",
   "execution_count": null,
   "id": "2babb3fb",
   "metadata": {},
   "outputs": [
    {
     "name": "stdout",
     "output_type": "stream",
     "text": [
      "60\n"
     ]
    }
   ],
   "source": [
    "#Resultado aquí\n",
    "import math\n",
    "\n",
    "def mcm(num1,num2):\n",
    "    # Division entera y gcd calcula el ma comun divisor\n",
    "    return num1 * num2 // math.gcd(num1, num2) \n",
    "\n",
    "print(mcm(12, 15))"
   ]
  },
  {
   "cell_type": "markdown",
   "id": "7867c8a4",
   "metadata": {},
   "source": [
    "## Ejercicio 19: Slicing\n",
    "Implementa una función que obtenga las palabras que comienzan con una vocal en una oración."
   ]
  },
  {
   "cell_type": "code",
   "execution_count": 7,
   "id": "86eaee45",
   "metadata": {},
   "outputs": [
    {
     "name": "stdout",
     "output_type": "stream",
     "text": [
      "['El', 'águila', 'alto', 'en', 'el', 'azul']\n"
     ]
    }
   ],
   "source": [
    "#Resultado aquí\n",
    "\n",
    "oracion = \"El águila vuela alto en el cielo azul\"\n",
    "vocales = \"aeiouáéíóú\"\n",
    "res = [palabra for palabra in oracion.split() if palabra[0].lower() in vocales]\n",
    "print(res)"
   ]
  },
  {
   "cell_type": "markdown",
   "id": "e0fa547d",
   "metadata": {},
   "source": [
    "## Ejercicio 20: Conjuntos\n",
    "Determina si dos conjuntos de datos son disjuntos."
   ]
  },
  {
   "cell_type": "code",
   "execution_count": null,
   "id": "8c51a16d",
   "metadata": {},
   "outputs": [
    {
     "name": "stdout",
     "output_type": "stream",
     "text": [
      "True\n",
      "{1, 2, 3, 7}\n"
     ]
    }
   ],
   "source": [
    "#Resultado aquí\n",
    "datos1 = {1, 2, 3}\n",
    "datos2 = {4, 5, 6}\n",
    "\n",
    "# con la funcion q tienen los conjuntos se hace facil\n",
    "print(datos1.isdisjoint(datos2))"
   ]
  },
  {
   "cell_type": "code",
   "execution_count": null,
   "id": "f99eb579",
   "metadata": {},
   "outputs": [],
   "source": []
  }
 ],
 "metadata": {
  "kernelspec": {
   "display_name": "Python 3",
   "language": "python",
   "name": "python3"
  },
  "language_info": {
   "codemirror_mode": {
    "name": "ipython",
    "version": 3
   },
   "file_extension": ".py",
   "mimetype": "text/x-python",
   "name": "python",
   "nbconvert_exporter": "python",
   "pygments_lexer": "ipython3",
   "version": "3.13.0"
  }
 },
 "nbformat": 4,
 "nbformat_minor": 5
}
