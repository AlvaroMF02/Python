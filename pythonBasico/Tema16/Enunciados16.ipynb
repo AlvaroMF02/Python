{
 "cells": [
  {
   "cell_type": "markdown",
   "metadata": {},
   "source": [
    "# Ejercicios de Documentación y Testing en Python\n",
    "\n",
    "Los siguientes ejercicios están diseñados para practicar los conceptos de docstrings, pydoc, doctest y unittest."
   ]
  },
  {
   "cell_type": "markdown",
   "metadata": {},
   "source": [
    "## Ejercicio 1: Documentación de una Calculadora\n",
    "\n",
    "Crea una clase `Calculadora` con métodos para las operaciones básicas (suma, resta, multiplicación, división). \n",
    "Debes incluir:\n",
    "\n",
    "- Docstring para la clase explicando su propósito\n",
    "- Docstring para cada método incluyendo ejemplos de uso\n",
    "- Al menos 3 doctests por método\n",
    "- Documentación sobre el manejo de errores (por ejemplo, división por cero)\n",
    "\n",
    "Guarda la clase en un módulo llamado `calculadora.py` y genera su documentación HTML usando pydoc."
   ]
  },
  {
   "cell_type": "markdown",
   "metadata": {},
   "source": [
    "## Ejercicio 2: Validador de Contraseñas\n",
    "\n",
    "Desarrolla una función `validar_password` que verifique si una contraseña cumple con los siguientes criterios:\n",
    "- Mínimo 8 caracteres\n",
    "- Al menos una letra mayúscula\n",
    "- Al menos un número\n",
    "- Al menos un carácter especial (@#$%&)\n",
    "\n",
    "Requisitos:\n",
    "- Incluir docstring con ejemplos claros de contraseñas válidas e inválidas\n",
    "- Implementar al menos 5 doctests cubriendo diferentes casos\n",
    "- Crear tests unitarios usando unittest en un archivo separado"
   ]
  },
  {
   "cell_type": "markdown",
   "metadata": {},
   "source": [
    "## Ejercicio 3: Gestión de Biblioteca\n",
    "\n",
    "Crea un paquete llamado `biblioteca` con los siguientes módulos:\n",
    "- `libro.py`: Clase para gestionar libros\n",
    "- `usuario.py`: Clase para gestionar usuarios\n",
    "- `prestamo.py`: Clase para gestionar préstamos\n",
    "\n",
    "Cada módulo debe incluir:\n",
    "- Documentación completa del módulo\n",
    "- Docstrings en todas las clases y métodos\n",
    "- Ejemplos de uso en los docstrings\n",
    "- Tests unitarios\n",
    "\n",
    "Genera la documentación completa del paquete usando pydoc."
   ]
  },
  {
   "cell_type": "markdown",
   "metadata": {},
   "source": [
    "## Ejercicio 4: Conversor de Unidades\n",
    "\n",
    "Implementa una clase `Conversor` que maneje conversiones entre diferentes unidades:\n",
    "- Temperatura (Celsius, Fahrenheit, Kelvin)\n",
    "- Longitud (metros, pies, pulgadas)\n",
    "- Peso (kilogramos, libras, onzas)\n",
    "\n",
    "Requisitos:\n",
    "- Documentación detallada de cada método de conversión\n",
    "- Docstrings con fórmulas matemáticas utilizadas\n",
    "- Doctests que verifiquen la precisión de las conversiones\n",
    "- Tests unitarios para casos extremos y errores"
   ]
  },
  {
   "cell_type": "markdown",
   "metadata": {},
   "source": [
    "## Ejercicio 5: Analizador de Texto\n",
    "\n",
    "Desarrolla una clase `AnalizadorTexto` que incluya métodos para:\n",
    "- Contar palabras\n",
    "- Contar frecuencia de palabras\n",
    "\n",
    "Requisitos:\n",
    "- Documentación exhaustiva de cada método\n",
    "- Ejemplos prácticos en los docstrings\n",
    "- Doctests con diferentes tipos de textos\n",
    "- Suite completa de tests unitarios\n"
   ]
  },
  {
   "cell_type": "markdown",
   "metadata": {},
   "source": []
  }
 ],
 "metadata": {
  "kernelspec": {
   "display_name": "Python 3",
   "language": "python",
   "name": "python3"
  },
  "language_info": {
   "codemirror_mode": {
    "name": "ipython",
    "version": 3
   },
   "file_extension": ".py",
   "mimetype": "text/x-python",
   "name": "python",
   "nbconvert_exporter": "python",
   "pygments_lexer": "ipython3",
   "version": "3.13.0"
  }
 },
 "nbformat": 4,
 "nbformat_minor": 4
}
