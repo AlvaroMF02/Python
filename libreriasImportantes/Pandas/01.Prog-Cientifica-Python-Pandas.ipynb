{
 "cells": [
  {
   "cell_type": "markdown",
   "metadata": {},
   "source": [
    "# Programación científica en Python: Pandas"
   ]
  },
  {
   "cell_type": "markdown",
   "metadata": {},
   "source": [
    "## Contenidos"
   ]
  },
  {
   "cell_type": "markdown",
   "metadata": {},
   "source": [
    "* [4. El paquete Pandas para análisis de datos en Python](#4.-El-paquete-Pandas-para-an%C3%A1lisis-de-datos-en-Python).\n",
    "    + [4.1 La clase `Series`](#4.1-La-clase-Series).\n",
    "        * [4.1.1 Creación de objetos de tipo `Series`](#4.1.1-Creación-de-objetos-de-tipo-Series).\n",
    "        * [4.1.2 Indexación de objetos `Series`](#4.1.2-Indexación-de-objetos-Series).\n",
    "        * [4.1.3 Operaciones con objetos `Series`](#4.1.3-Operaciones-con-objetos-Series).\n",
    "    + [4.2 La clase `DataFrame`](#4.2-La-clase-DataFrame).\n",
    "        * [4.2.1 Creación de objetos de tipo `DataFrame`](#4.2.1-Creación-de-objetos-de-tipo-DataFrame).\n",
    "        * [4.2.2 Indexación de objetos `DataFrame`](#4.2.2-Indexación-de-objetos-DataFrame).\n",
    "    + [4.3 La clase `Panel`](#4.3-La-clase-Panel).\n",
    "        * [4.3.1 Creación de objetos de tipo `Panel`](#4.3.1-Creación-de-objetos-de-tipo-Panel).\n",
    "        * [4.3.2 Indexación de objetos `Panel`](#4.3.2-Indexación-de-objetos-Panel).\n",
    "    + [4.4 Importación de datos](#4.4-Importaci%C3%B3n-de-datos).\n",
    "    + [4.5 Gestión de datos de series temporales: fechas y marcas de tiempo](#4.5-Gesti%C3%B3n-de-datos-de-series-temporales:-fechas-y-marcas-de-tiempo).\n",
    "    + [4.6 Soporte para concatenación de operaciones](#4.6-Soporte-para-concatenaci%C3%B3n-de-operaciones).\n",
    "    + [4.7 Ejemplo: Análisis de datos de servicios de taxis en NYC](#4.7-Ejemplo:-An%C3%A1lisis-de-datos-de-servicios-de-taxi-en-NYC).\n",
    "    + [4.8 Referencias](#4.8-Referencias)."
   ]
  },
  {
   "cell_type": "markdown",
   "metadata": {},
   "source": [
    "# 4. El paquete Pandas para análisis de datos en Python"
   ]
  },
  {
   "cell_type": "markdown",
   "metadata": {},
   "source": [
    "Mientras que NumPy y SciPy proporcionan soporte para operaciones de programación científica a bajo nivel, la biblioteca [**Pandas**](http://pandas.pydata.org/pandas-docs/stable/) se sitúa en la cima del *stack* de programación científica en Python. Proporciona todas las operaciones principales para preparación de datos y limpieza, así como estructuras de datos y clases familiares para el científico de datos, tales como la clase **Series**, para **series de valores**, o la clase **DataFrame**.\n",
    "\n",
    "El nombre de la biblioteca Pandas deriva en parte de los llamados **datos de panel** (pan(el)-da(ta)-s). Esta denominación se suele utilizar con frecuencia en econometría y ciencias sociales para denominar a los datos organizados en tablas similares a las de una base de datos relacional, con un caso por cada fila y tantas columnas como variables estamos midiendo para cada caso."
   ]
  },
  {
   "cell_type": "markdown",
   "metadata": {},
   "source": [
    "Las principales ventajas del empleo de Pandas para limpieza, preparación y análisis de datos radica en la gran flexibilidad que otorga para trabajar con **datos estructurados**, incluyendo datos procedentes de bases de datos relacionales, así como datos etiquetados.\n",
    "\n",
    "Principales aplicaciones de Pandas:\n",
    "\n",
    "* Trabajo con tablas de datos con columnas de tipos heterogéneos (pero homogéneos dentro de la misma columna), similares a los objetos `data.frame` en R.\n",
    "* Trabajo con datos de series temporales, regulares o irregulares y no necesariamente ordenadas.\n",
    "* Datos en formato matricial, con filas y columnas que pueden estar etiquetadas (de nuevo, similar a R).\n",
    "* En general, es adecuado para tratar la mayoría de conjuntos de datos que encontramos en estudios y análisis de ciencia de datos."
   ]
  },
  {
   "cell_type": "markdown",
   "metadata": {},
   "source": [
    "Entre sus **características clave** podemos destacar:\n",
    "\n",
    "* Capacidad para manejo de datos faltantes (*missing data*).\n",
    "* El tamaño de los objetos es mutable, pudiendo añadir o eliminar columnas o filas de colecciones de objetos en múltiples dimensiones.\n",
    "* Alineamiento de datos explícito, de acuerdo con una serie de etiquetas, o completamente automático.\n",
    "* Posibilidad de aplicar operaciones de tipo *split-apply-combine*, similares a la filosofía de trabajo con las bibliotecas `dplyr` y `tidyr` en el lenguaje R.\n",
    "* Potentes capacidades de indexado y creación de subconjuntos, que puede estar basado en etiquetas o categorías.\n",
    "* Capacidad de unir e integrar conjuntos de datos (operaciones tipo *join* y *union*).\n",
    "* Capacidad para cambiar tablas de datos de formato *long* a formato *wide* y viceversa (lo que se denomina *reshaping* y *pivoting* en el argot de Pandas).\n",
    "* Etiquetado jerárquico de los ejes dimensionales.\n",
    "* Gran variedad de funciones de E/S, que facilitan la lectura/escritura de ficheros de datos en diferentes formatos, tales como datos en texto plano (CSV/TSV), archivos MS Excel, bases de datos o HDF5.\n",
    "* Soprte para operaciones con series temporales, como generación de datos en intervalos, conversión de frecuencia, estadísticas o regresión lineal aplicadas sobre ventanas deslizantes, desplazamieto y retardo de los datos, etc. (muchas funciones similares a las que econtramos en el paquete `xts` de R)."
   ]
  },
  {
   "cell_type": "markdown",
   "metadata": {},
   "source": [
    "La documentación de la biblioteca Pandas ofrece un [paseo introductorio de 10 mins.](http://pandas.pydata.org/pandas-docs/stable/10min.html), con ejemplos que muestran algunas de sus funciones básicas.\n",
    "\n",
    "Para comenzar a trabajar con Pandas, solo hay que importar la biblioteca siguiendo una convención similar a la de NumPy para acortar su identificador."
   ]
  },
  {
   "cell_type": "code",
   "execution_count": 2,
   "metadata": {},
   "outputs": [],
   "source": [
    "import numpy as np\n",
    "import pandas as pd"
   ]
  },
  {
   "cell_type": "markdown",
   "metadata": {},
   "source": [
    "En una primera aproximación podemos ver los objetos de Pandas como una versión mejorada de los arrays de NumPy, en los que las filas y columnas se identifican con etiquetas en lugar de simples índices enteros.  Como veremos a lo largo del presente NoteBook, Pandas ofrece una gran cantidad de herramientas, métodos y funciones útiles para trabajar con estructuras de datos. A continuación presentemos estas tres estructuras de datos fundamentales de Pandas: **Serie**, **DataFrame** e **Index**."
   ]
  },
  {
   "cell_type": "markdown",
   "metadata": {},
   "source": [
    "## 4.1 La clase `Series`"
   ]
  },
  {
   "cell_type": "markdown",
   "metadata": {},
   "source": [
    "Los objetos de tipo `Series` contienen un **vector unidimensional de datos** (similar a un array de NumPy), pero además añaden **etiquetas que identifican a cada elemento** del vector, en lugar de usar exclusivamente un índice numérico para marcar el orden. Esto supone una gran ventaja, puesto que nos permite reordenar los valores de la serie de forma eficiente (usando las etiquetas), o encontrar valores dentro de la serie (para una etiqueta unívoca). Además, este tipo de estructura es ideal, como veremos más adelante, para gestionar **datos de series temporales**, en los que junto a cada valor tenemos la marca de fecha y hora en la que fue recogido."
   ]
  },
  {
   "cell_type": "markdown",
   "metadata": {},
   "source": [
    "### 4.1.1 Creación de objetos de tipo `Series`\n",
    "\n",
    "Los objetos de [tipo `Series`](http://pandas.pydata.org/pandas-docs/stable/dsintro.html#series) se pueden crear a partir de diversos tipos de datos de entrada, recogidos por el argumento `data`, tales como un diccionario Python, un `ndarray` de NumPy o un valor escalar.\n",
    "\n",
    "```python\n",
    "mi_serie = pd.Series(data, index=my_index)\n",
    "```\n",
    "Además, debemos proporcionar un índice con un vector de etiquetas que identifican a cada uno de los valores de la serie, recogidos por el argumento `index`. Los índices pueden ser cualquier tipo de dato: int, string, ... Esto da lugar a diferentes casos.\n",
    "Veamos como podemos definir una serie a partir de un **array unidimensional**:"
   ]
  },
  {
   "cell_type": "code",
   "execution_count": 7,
   "metadata": {},
   "outputs": [
    {
     "data": {
      "text/plain": [
       "a    0.459813\n",
       "b   -2.672073\n",
       "c   -0.968325\n",
       "d    1.502002\n",
       "e   -1.097645\n",
       "dtype: float64"
      ]
     },
     "execution_count": 7,
     "metadata": {},
     "output_type": "execute_result"
    }
   ],
   "source": [
    "# Si data es un ndarray entonces el vector de índices debe tener\n",
    "# la misma longitud que el array de entrada. \n",
    "serie_1 = pd.Series(np.random.randn(5), index=['a', 'b', 'c', 'd', 'e'])\n",
    "serie_1"
   ]
  },
  {
   "cell_type": "markdown",
   "metadata": {},
   "source": [
    "El tamaño del ndarray debe coincidir con el del vector de índices. En caso de que no coincida nos dará un error."
   ]
  },
  {
   "cell_type": "code",
   "execution_count": 10,
   "metadata": {},
   "outputs": [
    {
     "data": {
      "text/plain": [
       "Index(['a', 'b', 'c', 'd', 'e'], dtype='object')"
      ]
     },
     "execution_count": 10,
     "metadata": {},
     "output_type": "execute_result"
    }
   ],
   "source": [
    "# El atributo index guarda el vector de etiquetas para cada\n",
    "# valor de la serie\n",
    "serie_1.index"
   ]
  },
  {
   "cell_type": "code",
   "execution_count": 32,
   "metadata": {},
   "outputs": [
    {
     "data": {
      "text/plain": [
       "Index(['a', 'b', 'c', 'd', 'e'], dtype='object')"
      ]
     },
     "execution_count": 32,
     "metadata": {},
     "output_type": "execute_result"
    }
   ],
   "source": [
    "serie_1.keys()"
   ]
  },
  {
   "cell_type": "code",
   "execution_count": 4,
   "metadata": {},
   "outputs": [
    {
     "data": {
      "text/plain": [
       "array([ 1.94745163,  2.3021222 , -0.8505316 , -0.15116116, -0.39703249])"
      ]
     },
     "execution_count": 4,
     "metadata": {},
     "output_type": "execute_result"
    }
   ],
   "source": [
    "# El vector de valores está en el atributo values\n",
    "serie_1.values"
   ]
  },
  {
   "cell_type": "code",
   "execution_count": 5,
   "metadata": {},
   "outputs": [
    {
     "data": {
      "text/plain": [
       "0    0.653760\n",
       "1    0.293331\n",
       "2    0.139865\n",
       "3    0.139171\n",
       "4    0.283751\n",
       "dtype: float64"
      ]
     },
     "execution_count": 5,
     "metadata": {},
     "output_type": "execute_result"
    }
   ],
   "source": [
    "# Si no se proporciona un vector de índices, entonces se crea \n",
    "# uno automáticamente con los índices numéricos\n",
    "serie_2 = pd.Series(np.random.rand(5))\n",
    "serie_2"
   ]
  },
  {
   "cell_type": "markdown",
   "metadata": {},
   "source": [
    "De acuerdo a esta forma de definir una serie, la podemos ver como una generalización de un array unidimensional. La diferencia entre un array de la clase ndarray y una serie de la clase Seires es que en los objetos de clase Seires podemos definir de forma explícita el índice de cada elemento, que además puede ser no secuenciales o no contiguos."
   ]
  },
  {
   "cell_type": "code",
   "execution_count": 9,
   "metadata": {},
   "outputs": [
    {
     "data": {
      "text/plain": [
       "2    0.25\n",
       "5    0.50\n",
       "3    0.75\n",
       "7    1.00\n",
       "dtype: float64"
      ]
     },
     "execution_count": 9,
     "metadata": {},
     "output_type": "execute_result"
    }
   ],
   "source": [
    "serie_3 = pd.Series([0.25, 0.5, 0.75, 1.0], index=[2, 5, 3, 7]) \n",
    "serie_3"
   ]
  },
  {
   "cell_type": "markdown",
   "metadata": {},
   "source": [
    "Otra forma típica de definir una serie es a partir de un **diccionario**:"
   ]
  },
  {
   "cell_type": "code",
   "execution_count": 5,
   "metadata": {},
   "outputs": [
    {
     "data": {
      "text/plain": [
       "a    1.0\n",
       "b    2.0\n",
       "c    3.0\n",
       "d    4.0\n",
       "dtype: float64"
      ]
     },
     "execution_count": 5,
     "metadata": {},
     "output_type": "execute_result"
    }
   ],
   "source": [
    "# Definición de una serie a partir de un diccionario\n",
    "d = {'a': 1., 'b': 2., 'c': 3.0, 'd': 4. }\n",
    "pd.Series(d)"
   ]
  },
  {
   "cell_type": "code",
   "execution_count": 14,
   "metadata": {},
   "outputs": [
    {
     "data": {
      "text/plain": [
       "e    NaN\n",
       "d    4.0\n",
       "c    3.0\n",
       "f    NaN\n",
       "b    2.0\n",
       "a    1.0\n",
       "dtype: float64"
      ]
     },
     "execution_count": 14,
     "metadata": {},
     "output_type": "execute_result"
    }
   ],
   "source": [
    "# Si data es un diccionario, entonces si pasamos un vector de\n",
    "# índices se usará para tomar los elementos del diccionario de\n",
    "# datos que se correspondan con las etiquetas proporcionadas,\n",
    "# en el mismo orden que indique el vector de índices\n",
    "# En caso de que algún índice no tenga valor, pondrá NaN\n",
    "pd.Series(d, index = ['e', 'd', 'c', 'f', 'b', 'a'])"
   ]
  },
  {
   "cell_type": "code",
   "execution_count": 8,
   "metadata": {},
   "outputs": [
    {
     "data": {
      "text/plain": [
       "Ordinal\n",
       "0    0.653760\n",
       "1    0.293331\n",
       "2    0.139865\n",
       "3    0.139171\n",
       "4    0.283751\n",
       "Name: Serie 2, dtype: float64"
      ]
     },
     "execution_count": 8,
     "metadata": {},
     "output_type": "execute_result"
    }
   ],
   "source": [
    "# Finalmente, también podemos poner un nombre a la serie de valores\n",
    "# y de índices con los argumentos name e index.name\n",
    "serie_2.name = \"Serie 2\"\n",
    "serie_2.index.name = \"Ordinal\"\n",
    "serie_2"
   ]
  },
  {
   "cell_type": "markdown",
   "metadata": {},
   "source": [
    "### 4.1.2 Indexación de objetos `Series`"
   ]
  },
  {
   "cell_type": "markdown",
   "metadata": {},
   "source": [
    "Las operaciones de indexación sobre el contenido de objetos de tipo `Series` son similares a las que podemos aplicar en arrays de NumPy: usando índices numéricos (individuales o *slicing* para intervalos), filtros con expresiones booleanas, etc. Adicionalmente, puesto que tenemos un vector de etiquetas análogo a los valores de la serie, que identifica a cada valor, también podemos usar estas etiquetas para indexar el contenido de estos objetos como si se tratase de un diccionario Python. Además, esta opción tiene la ventaja añadida de ser rápida (baja complejidad computacional) y el código queda muy legible, al usar identificadores con sentido para acceder a los valores."
   ]
  },
  {
   "cell_type": "code",
   "execution_count": 10,
   "metadata": {},
   "outputs": [
    {
     "data": {
      "text/plain": [
       "1.9474516266344353"
      ]
     },
     "execution_count": 10,
     "metadata": {},
     "output_type": "execute_result"
    }
   ],
   "source": [
    "# Indexamos empleando posiciones numércias individuales \n",
    "# Accedemos a un úncio elemento\n",
    "serie_1[0]"
   ]
  },
  {
   "cell_type": "code",
   "execution_count": 35,
   "metadata": {},
   "outputs": [
    {
     "data": {
      "text/plain": [
       "c    0.706867\n",
       "d   -0.403411\n",
       "e   -1.453600\n",
       "dtype: float64"
      ]
     },
     "execution_count": 35,
     "metadata": {},
     "output_type": "execute_result"
    }
   ],
   "source": [
    "# Indexamos empleando slicing\n",
    "# Accedemos a un subconjunto mediante posiciones numéricas\n",
    "# OJO: el últio índice NO se incluye\n",
    "serie_1[2:5]"
   ]
  },
  {
   "cell_type": "code",
   "execution_count": 12,
   "metadata": {},
   "outputs": [
    {
     "data": {
      "text/plain": [
       "a    1.947452\n",
       "b    2.302122\n",
       "dtype: float64"
      ]
     },
     "execution_count": 12,
     "metadata": {},
     "output_type": "execute_result"
    }
   ],
   "source": [
    "# Indexación directa mediante etiquetas de índices\n",
    "# Accedemos a dos elementos concretos\n",
    "serie_1[['a', 'b']]"
   ]
  },
  {
   "cell_type": "code",
   "execution_count": 34,
   "metadata": {},
   "outputs": [
    {
     "data": {
      "text/plain": [
       "a   -0.048601\n",
       "b   -0.394599\n",
       "c    0.706867\n",
       "dtype: float64"
      ]
     },
     "execution_count": 34,
     "metadata": {},
     "output_type": "execute_result"
    }
   ],
   "source": [
    "# Slicing mediante etiquetas\n",
    "# OJO: el último índice SI se incluye\n",
    "serie_1['a':'c']"
   ]
  },
  {
   "cell_type": "code",
   "execution_count": 41,
   "metadata": {},
   "outputs": [
    {
     "data": {
      "text/plain": [
       "a   -0.048601\n",
       "e   -1.453600\n",
       "dtype: float64"
      ]
     },
     "execution_count": 41,
     "metadata": {},
     "output_type": "execute_result"
    }
   ],
   "source": [
    "# Ejemplo de Funcy Indexing\n",
    "serie_1[['a','e']]"
   ]
  },
  {
   "cell_type": "code",
   "execution_count": 8,
   "metadata": {},
   "outputs": [
    {
     "data": {
      "text/plain": [
       "0.4598133238455399"
      ]
     },
     "execution_count": 8,
     "metadata": {},
     "output_type": "execute_result"
    }
   ],
   "source": [
    "serie_1['a']"
   ]
  },
  {
   "cell_type": "markdown",
   "metadata": {},
   "source": [
    "Resultan intersantes las funciones `loc` e `iloc` ya que nos permiten realizar slicing bien indicándoles el nombre de las filas o bien indicáncoles los índices de las filas."
   ]
  },
  {
   "cell_type": "code",
   "execution_count": 9,
   "metadata": {},
   "outputs": [
    {
     "data": {
      "text/plain": [
       "0.4598133238455399"
      ]
     },
     "execution_count": 9,
     "metadata": {},
     "output_type": "execute_result"
    }
   ],
   "source": [
    "# Obtenemos el elemento etiquetado por 'a'\n",
    "serie_1.loc['a']"
   ]
  },
  {
   "cell_type": "code",
   "execution_count": 77,
   "metadata": {},
   "outputs": [
    {
     "data": {
      "text/plain": [
       "-0.048600972973169156"
      ]
     },
     "execution_count": 77,
     "metadata": {},
     "output_type": "execute_result"
    }
   ],
   "source": [
    "# Obtenemos el elemento que se encuentra en la posición 0\n",
    "serie_1.iloc[0]"
   ]
  },
  {
   "cell_type": "code",
   "execution_count": 78,
   "metadata": {},
   "outputs": [
    {
     "data": {
      "text/plain": [
       "a   -0.048601\n",
       "b   -0.394599\n",
       "c    0.706867\n",
       "dtype: float64"
      ]
     },
     "execution_count": 78,
     "metadata": {},
     "output_type": "execute_result"
    }
   ],
   "source": [
    "# Obtenemos los elementos con las etiquetas dentro\n",
    "# del rango indicando\n",
    "serie_1.loc['a':'c']"
   ]
  },
  {
   "cell_type": "code",
   "execution_count": 79,
   "metadata": {},
   "outputs": [
    {
     "data": {
      "text/plain": [
       "a   -0.048601\n",
       "b   -0.394599\n",
       "c    0.706867\n",
       "dtype: float64"
      ]
     },
     "execution_count": 79,
     "metadata": {},
     "output_type": "execute_result"
    }
   ],
   "source": [
    "# Obtenemos los elementos que ocupan las posiciones\n",
    "# dentro del rango especificado\n",
    "serie_1.iloc[0:3]"
   ]
  },
  {
   "cell_type": "markdown",
   "metadata": {},
   "source": [
    "También se pueden utilizar **máscaras** para seleccionar un determinado conjunto de valores."
   ]
  },
  {
   "cell_type": "code",
   "execution_count": 36,
   "metadata": {},
   "outputs": [
    {
     "data": {
      "text/plain": [
       "a   -0.048601\n",
       "b   -0.394599\n",
       "d   -0.403411\n",
       "e   -1.453600\n",
       "dtype: float64"
      ]
     },
     "execution_count": 36,
     "metadata": {},
     "output_type": "execute_result"
    }
   ],
   "source": [
    "# Ejemplo de máscara\n",
    "# Indexación empleando una expresión booleana\n",
    "serie_1[serie_1 < 0]"
   ]
  },
  {
   "cell_type": "code",
   "execution_count": 37,
   "metadata": {},
   "outputs": [
    {
     "data": {
      "text/plain": [
       "1.3    1.254561\n",
       "dtype: float64"
      ]
     },
     "execution_count": 37,
     "metadata": {},
     "output_type": "execute_result"
    }
   ],
   "source": [
    "# Ejemplo de máscara\n",
    "# También podemos usar expresiones más complejas\n",
    "serie_2[serie_2 > serie_2.median()]"
   ]
  },
  {
   "cell_type": "markdown",
   "metadata": {},
   "source": [
    "Además, si nos fijamos bien en los resultados de los ejemplos anteriores podemos comprobar como no solo obtenemos un subconjunto de los valores sino también del vector de índices. Es decir, el *slicing* de la indexación se aplica a ambos arrays (valores e índices) dentro del objeto `Series`. De esta forma, indexamos sin perder ninguna de las propiedades del objeto (que sigue siendo de tipo `Series`)."
   ]
  },
  {
   "cell_type": "markdown",
   "metadata": {},
   "source": [
    "Una `Serie` también puede ser modificada añadiendo nuevos elementos:"
   ]
  },
  {
   "cell_type": "code",
   "execution_count": 38,
   "metadata": {},
   "outputs": [
    {
     "data": {
      "text/plain": [
       "a   -0.048601\n",
       "b   -0.394599\n",
       "c    0.706867\n",
       "d   -0.403411\n",
       "e   -1.453600\n",
       "f    1.258930\n",
       "dtype: float64"
      ]
     },
     "execution_count": 38,
     "metadata": {},
     "output_type": "execute_result"
    }
   ],
   "source": [
    "serie_1['f'] = 1.25893\n",
    "serie_1"
   ]
  },
  {
   "cell_type": "markdown",
   "metadata": {},
   "source": [
    "También podemos preguntar si un determinado índice se encuentra dentro de la `Serie`."
   ]
  },
  {
   "cell_type": "code",
   "execution_count": 40,
   "metadata": {},
   "outputs": [
    {
     "data": {
      "text/plain": [
       "True"
      ]
     },
     "execution_count": 40,
     "metadata": {},
     "output_type": "execute_result"
    }
   ],
   "source": [
    "'f' in serie_1"
   ]
  },
  {
   "cell_type": "markdown",
   "metadata": {},
   "source": [
    "### 4.1.3 Operaciones con objetos `Series`\n",
    "\n",
    "Es posible efectuar operaciones aritméticas o aplicar funciones a los valores almacenados en objetos de tipo `Series`, al igual que también podemos hacer con arrays de NumPy. Veamos algunos ejemplos:"
   ]
  },
  {
   "cell_type": "code",
   "execution_count": 15,
   "metadata": {},
   "outputs": [
    {
     "data": {
      "text/plain": [
       "Ordinal\n",
       "0   -0.184581\n",
       "1   -0.532642\n",
       "2   -0.854290\n",
       "3   -0.856453\n",
       "4   -0.547063\n",
       "Name: Serie 2, dtype: float64"
      ]
     },
     "execution_count": 15,
     "metadata": {},
     "output_type": "execute_result"
    }
   ],
   "source": [
    "np.log10(serie_2)"
   ]
  },
  {
   "cell_type": "code",
   "execution_count": 16,
   "metadata": {},
   "outputs": [
    {
     "data": {
      "text/plain": [
       "a    3.894903\n",
       "b    4.604244\n",
       "c   -1.701063\n",
       "d   -0.302322\n",
       "e   -0.794065\n",
       "dtype: float64"
      ]
     },
     "execution_count": 16,
     "metadata": {},
     "output_type": "execute_result"
    }
   ],
   "source": [
    "# Suma elemento a elemento, fijándonos en las etiquetas\n",
    "# para efectuar el emparejamiento\n",
    "serie_1 + serie_1"
   ]
  },
  {
   "cell_type": "markdown",
   "metadata": {},
   "source": [
    "Una diferencia fundamental entre Series y ndarray es que las operaciones entre series realizan una alienación automáticamente los datos en función de su etiqueta. Por lo tanto, podremos realizar cálculos sin tener en cuenta si las Series involucradas tienen las mismas etiquetas. Veamos un ejemplo:"
   ]
  },
  {
   "cell_type": "code",
   "execution_count": 133,
   "metadata": {},
   "outputs": [
    {
     "name": "stdout",
     "output_type": "stream",
     "text": [
      "a    0.1\n",
      "c    0.3\n",
      "d    0.5\n",
      "f    0.7\n",
      "dtype: float64\n",
      "a    0.8\n",
      "b    0.4\n",
      "d    0.6\n",
      "e    0.1\n",
      "dtype: float64\n",
      "a    0.9\n",
      "b    NaN\n",
      "c    NaN\n",
      "d    1.1\n",
      "e    NaN\n",
      "f    NaN\n",
      "dtype: float64\n"
     ]
    }
   ],
   "source": [
    "serie_A = pd.Series({'a':0.1, 'c':0.3, 'd':0.5, 'f':0.7})\n",
    "print(serie_A)\n",
    "serie_B = pd.Series({'a':0.8, 'b':0.4, 'd':0.6, 'e':0.1})\n",
    "print(serie_B)\n",
    "print(serie_A + serie_B)"
   ]
  },
  {
   "cell_type": "markdown",
   "metadata": {},
   "source": [
    "## 4.2 La clase `DataFrame`"
   ]
  },
  {
   "cell_type": "markdown",
   "metadata": {},
   "source": [
    "La [clase `DataFrame`](http://pandas.pydata.org/pandas-docs/stable/dsintro.html#dataframe) de Pandas define una estructura de almacenamiento y tratamiento de datos completamente análoga a la ofrecida por los objetos `data.frame` en R. Se trata de una tabla de valores organizados por filas y columnas que están etiquetadas. También podemos ver los `DataFrame` como un **array 2-D con etiquetas**, que pueden ser de cualquier tipo, tomando valores enteros por defecto. Los nombres de las columnas corresponden a cada una de las variables disponibles, mientras que cada fila corresponde a un caso. Al igual que ocurría en R, si no tenemos valores para alguna de estas celdas tenemos un **dato faltante** y el hueco queda marcado explícitamente. Por tanto, se trata de un tipo de datos estructurado."
   ]
  },
  {
   "cell_type": "markdown",
   "metadata": {},
   "source": [
    "### 4.2.1 Creación de objetos de tipo `DataFrame`"
   ]
  },
  {
   "cell_type": "markdown",
   "metadata": {},
   "source": [
    "Podemos crear objetos `DataFrame` a partir de diversos tipos de datos de entrada, incluyendo listas y diccionarios Python, objetos de tipo `ndarray` de NumPy, o también a partir de otros objetos `Series` o `DataFrame` de Pandas. Tanto las filas como las columnas suelen estar etiquetadas, especialmente las columnas, ya que identifican las variables que estamos midiendo en el análisis.\n",
    "Como un `DataFrame`se puede construir de diversas maneras, veamos algunos ejemplos:"
   ]
  },
  {
   "cell_type": "markdown",
   "metadata": {},
   "source": [
    "Construcción de un `DataFrame` a partir de un **diccionario**:"
   ]
  },
  {
   "cell_type": "code",
   "execution_count": 15,
   "metadata": {},
   "outputs": [
    {
     "data": {
      "text/html": [
       "<div>\n",
       "<style>\n",
       "    .dataframe thead tr:only-child th {\n",
       "        text-align: right;\n",
       "    }\n",
       "\n",
       "    .dataframe thead th {\n",
       "        text-align: left;\n",
       "    }\n",
       "\n",
       "    .dataframe tbody tr th {\n",
       "        vertical-align: top;\n",
       "    }\n",
       "</style>\n",
       "<table border=\"1\" class=\"dataframe\">\n",
       "  <thead>\n",
       "    <tr style=\"text-align: right;\">\n",
       "      <th></th>\n",
       "      <th>collate</th>\n",
       "      <th>gender</th>\n",
       "      <th>group</th>\n",
       "      <th>intake</th>\n",
       "      <th>output</th>\n",
       "      <th>year</th>\n",
       "    </tr>\n",
       "  </thead>\n",
       "  <tbody>\n",
       "    <tr>\n",
       "      <th>0</th>\n",
       "      <td>15</td>\n",
       "      <td>M</td>\n",
       "      <td>A</td>\n",
       "      <td>55.3</td>\n",
       "      <td>1.1</td>\n",
       "      <td>2010</td>\n",
       "    </tr>\n",
       "    <tr>\n",
       "      <th>1</th>\n",
       "      <td>5</td>\n",
       "      <td>M</td>\n",
       "      <td>A</td>\n",
       "      <td>55.4</td>\n",
       "      <td>1.1</td>\n",
       "      <td>2011</td>\n",
       "    </tr>\n",
       "    <tr>\n",
       "      <th>2</th>\n",
       "      <td>10</td>\n",
       "      <td>M</td>\n",
       "      <td>A</td>\n",
       "      <td>55.3</td>\n",
       "      <td>1.1</td>\n",
       "      <td>2012</td>\n",
       "    </tr>\n",
       "    <tr>\n",
       "      <th>3</th>\n",
       "      <td>40</td>\n",
       "      <td>M</td>\n",
       "      <td>A</td>\n",
       "      <td>55.5</td>\n",
       "      <td>1.1</td>\n",
       "      <td>2013</td>\n",
       "    </tr>\n",
       "    <tr>\n",
       "      <th>4</th>\n",
       "      <td>20</td>\n",
       "      <td>M</td>\n",
       "      <td>A</td>\n",
       "      <td>54.4</td>\n",
       "      <td>1.1</td>\n",
       "      <td>2014</td>\n",
       "    </tr>\n",
       "    <tr>\n",
       "      <th>5</th>\n",
       "      <td>12</td>\n",
       "      <td>M</td>\n",
       "      <td>B</td>\n",
       "      <td>56.6</td>\n",
       "      <td>1.1</td>\n",
       "      <td>2010</td>\n",
       "    </tr>\n",
       "    <tr>\n",
       "      <th>6</th>\n",
       "      <td>12</td>\n",
       "      <td>M</td>\n",
       "      <td>B</td>\n",
       "      <td>57.7</td>\n",
       "      <td>1.1</td>\n",
       "      <td>2011</td>\n",
       "    </tr>\n",
       "    <tr>\n",
       "      <th>7</th>\n",
       "      <td>12</td>\n",
       "      <td>M</td>\n",
       "      <td>B</td>\n",
       "      <td>55.4</td>\n",
       "      <td>1.1</td>\n",
       "      <td>2012</td>\n",
       "    </tr>\n",
       "    <tr>\n",
       "      <th>8</th>\n",
       "      <td>12</td>\n",
       "      <td>M</td>\n",
       "      <td>B</td>\n",
       "      <td>57.9</td>\n",
       "      <td>1.1</td>\n",
       "      <td>2013</td>\n",
       "    </tr>\n",
       "    <tr>\n",
       "      <th>9</th>\n",
       "      <td>12</td>\n",
       "      <td>M</td>\n",
       "      <td>B</td>\n",
       "      <td>56.0</td>\n",
       "      <td>1.1</td>\n",
       "      <td>2014</td>\n",
       "    </tr>\n",
       "  </tbody>\n",
       "</table>\n",
       "</div>"
      ],
      "text/plain": [
       "   collate gender group  intake  output  year\n",
       "0       15      M     A    55.3     1.1  2010\n",
       "1        5      M     A    55.4     1.1  2011\n",
       "2       10      M     A    55.3     1.1  2012\n",
       "3       40      M     A    55.5     1.1  2013\n",
       "4       20      M     A    54.4     1.1  2014\n",
       "5       12      M     B    56.6     1.1  2010\n",
       "6       12      M     B    57.7     1.1  2011\n",
       "7       12      M     B    55.4     1.1  2012\n",
       "8       12      M     B    57.9     1.1  2013\n",
       "9       12      M     B    56.0     1.1  2014"
      ]
     },
     "execution_count": 15,
     "metadata": {},
     "output_type": "execute_result"
    }
   ],
   "source": [
    "# Definimos los datos de entrada de formas diferentes para ilustrar\n",
    "# algunos de los posibles formatos admitidos\n",
    "\n",
    "# En caso de introducir un solo valor para alguna columna, el valor\n",
    "# se replica tantas veces como sea preciso para rellenar la columna\n",
    "data_1 = {\n",
    "    'year': [2010, 2011, 2012, 2013, 2014] * 2,\n",
    "    'group': ['A'] * 5 + ['B'] * 5,\n",
    "    'intake': (55.3, 55.4, 55.3, 55.5, 54.4, 56.6, 57.7, 55.4, 57.9, 56),\n",
    "    'output': 1.1,\n",
    "    'collate': np.array([15, 5, 10, 40, 20, 12, 12, 12, 12, 12]),\n",
    "    'gender': \"M\"\n",
    "}\n",
    "df_1 = pd.DataFrame(data_1)\n",
    "df_1"
   ]
  },
  {
   "cell_type": "code",
   "execution_count": 16,
   "metadata": {},
   "outputs": [
    {
     "data": {
      "text/plain": [
       "Index(['collate', 'gender', 'group', 'intake', 'output', 'year'], dtype='object')"
      ]
     },
     "execution_count": 16,
     "metadata": {},
     "output_type": "execute_result"
    }
   ],
   "source": [
    "# Listado de columnas en el DataFrame\n",
    "df_1.columns"
   ]
  },
  {
   "cell_type": "code",
   "execution_count": 17,
   "metadata": {},
   "outputs": [
    {
     "data": {
      "text/plain": [
       "RangeIndex(start=0, stop=10, step=1)"
      ]
     },
     "execution_count": 17,
     "metadata": {},
     "output_type": "execute_result"
    }
   ],
   "source": [
    "# Listado de índices de las filas\n",
    "df_1.index"
   ]
  },
  {
   "cell_type": "markdown",
   "metadata": {},
   "source": [
    "Construcción de un `DataFrame` a partir de un **subconjunto** de columnas de otro **`DataFrame`**:"
   ]
  },
  {
   "cell_type": "code",
   "execution_count": 50,
   "metadata": {},
   "outputs": [
    {
     "data": {
      "text/html": [
       "<div>\n",
       "<style>\n",
       "    .dataframe thead tr:only-child th {\n",
       "        text-align: right;\n",
       "    }\n",
       "\n",
       "    .dataframe thead th {\n",
       "        text-align: left;\n",
       "    }\n",
       "\n",
       "    .dataframe tbody tr th {\n",
       "        vertical-align: top;\n",
       "    }\n",
       "</style>\n",
       "<table border=\"1\" class=\"dataframe\">\n",
       "  <thead>\n",
       "    <tr style=\"text-align: right;\">\n",
       "      <th></th>\n",
       "      <th>collate</th>\n",
       "      <th>group</th>\n",
       "      <th>intake</th>\n",
       "      <th>genotype</th>\n",
       "    </tr>\n",
       "  </thead>\n",
       "  <tbody>\n",
       "    <tr>\n",
       "      <th>0</th>\n",
       "      <td>15</td>\n",
       "      <td>A</td>\n",
       "      <td>55.3</td>\n",
       "      <td>NaN</td>\n",
       "    </tr>\n",
       "    <tr>\n",
       "      <th>1</th>\n",
       "      <td>5</td>\n",
       "      <td>A</td>\n",
       "      <td>55.4</td>\n",
       "      <td>NaN</td>\n",
       "    </tr>\n",
       "    <tr>\n",
       "      <th>2</th>\n",
       "      <td>10</td>\n",
       "      <td>A</td>\n",
       "      <td>55.3</td>\n",
       "      <td>NaN</td>\n",
       "    </tr>\n",
       "    <tr>\n",
       "      <th>3</th>\n",
       "      <td>40</td>\n",
       "      <td>A</td>\n",
       "      <td>55.5</td>\n",
       "      <td>NaN</td>\n",
       "    </tr>\n",
       "    <tr>\n",
       "      <th>4</th>\n",
       "      <td>20</td>\n",
       "      <td>A</td>\n",
       "      <td>54.4</td>\n",
       "      <td>NaN</td>\n",
       "    </tr>\n",
       "    <tr>\n",
       "      <th>5</th>\n",
       "      <td>12</td>\n",
       "      <td>B</td>\n",
       "      <td>56.6</td>\n",
       "      <td>NaN</td>\n",
       "    </tr>\n",
       "    <tr>\n",
       "      <th>6</th>\n",
       "      <td>12</td>\n",
       "      <td>B</td>\n",
       "      <td>57.7</td>\n",
       "      <td>NaN</td>\n",
       "    </tr>\n",
       "    <tr>\n",
       "      <th>7</th>\n",
       "      <td>12</td>\n",
       "      <td>B</td>\n",
       "      <td>55.4</td>\n",
       "      <td>NaN</td>\n",
       "    </tr>\n",
       "    <tr>\n",
       "      <th>8</th>\n",
       "      <td>12</td>\n",
       "      <td>B</td>\n",
       "      <td>57.9</td>\n",
       "      <td>NaN</td>\n",
       "    </tr>\n",
       "    <tr>\n",
       "      <th>9</th>\n",
       "      <td>12</td>\n",
       "      <td>B</td>\n",
       "      <td>56.0</td>\n",
       "      <td>NaN</td>\n",
       "    </tr>\n",
       "  </tbody>\n",
       "</table>\n",
       "</div>"
      ],
      "text/plain": [
       "   collate group  intake  genotype\n",
       "0       15     A    55.3       NaN\n",
       "1        5     A    55.4       NaN\n",
       "2       10     A    55.3       NaN\n",
       "3       40     A    55.5       NaN\n",
       "4       20     A    54.4       NaN\n",
       "5       12     B    56.6       NaN\n",
       "6       12     B    57.7       NaN\n",
       "7       12     B    55.4       NaN\n",
       "8       12     B    57.9       NaN\n",
       "9       12     B    56.0       NaN"
      ]
     },
     "execution_count": 50,
     "metadata": {},
     "output_type": "execute_result"
    }
   ],
   "source": [
    "# En caso de que haya columnas que no existan\n",
    "# se rellena con marca de dato faltante 'NaN'\n",
    "df_2 = pd.DataFrame(df_1, columns=['collate', 'group', 'intake', 'genotype'])\n",
    "df_2"
   ]
  },
  {
   "cell_type": "markdown",
   "metadata": {},
   "source": [
    "Construcción de un `DataFrame` a partir de una **`Serie`**:"
   ]
  },
  {
   "cell_type": "code",
   "execution_count": 42,
   "metadata": {},
   "outputs": [
    {
     "data": {
      "text/html": [
       "<div>\n",
       "<style>\n",
       "    .dataframe thead tr:only-child th {\n",
       "        text-align: right;\n",
       "    }\n",
       "\n",
       "    .dataframe thead th {\n",
       "        text-align: left;\n",
       "    }\n",
       "\n",
       "    .dataframe tbody tr th {\n",
       "        vertical-align: top;\n",
       "    }\n",
       "</style>\n",
       "<table border=\"1\" class=\"dataframe\">\n",
       "  <thead>\n",
       "    <tr style=\"text-align: right;\">\n",
       "      <th></th>\n",
       "      <th>population</th>\n",
       "    </tr>\n",
       "  </thead>\n",
       "  <tbody>\n",
       "    <tr>\n",
       "      <th>California</th>\n",
       "      <td>36332521</td>\n",
       "    </tr>\n",
       "    <tr>\n",
       "      <th>Florida</th>\n",
       "      <td>19552860</td>\n",
       "    </tr>\n",
       "    <tr>\n",
       "      <th>Illinois</th>\n",
       "      <td>12882135</td>\n",
       "    </tr>\n",
       "    <tr>\n",
       "      <th>New York</th>\n",
       "      <td>19651127</td>\n",
       "    </tr>\n",
       "    <tr>\n",
       "      <th>Texas</th>\n",
       "      <td>26448193</td>\n",
       "    </tr>\n",
       "  </tbody>\n",
       "</table>\n",
       "</div>"
      ],
      "text/plain": [
       "            population\n",
       "California    36332521\n",
       "Florida       19552860\n",
       "Illinois      12882135\n",
       "New York      19651127\n",
       "Texas         26448193"
      ]
     },
     "execution_count": 42,
     "metadata": {},
     "output_type": "execute_result"
    }
   ],
   "source": [
    "# A partir de un solo Serie\n",
    "population_dict = {'California':36332521,'Texas':26448193,\n",
    "                   'New York':19651127,'Florida':19552860,\n",
    "                   'Illinois':12882135}\n",
    "population = pd.Series(population_dict)\n",
    "df_population = pd.DataFrame(population, columns=['population'])\n",
    "df_population"
   ]
  },
  {
   "cell_type": "code",
   "execution_count": 43,
   "metadata": {},
   "outputs": [
    {
     "data": {
      "text/html": [
       "<div>\n",
       "<style>\n",
       "    .dataframe thead tr:only-child th {\n",
       "        text-align: right;\n",
       "    }\n",
       "\n",
       "    .dataframe thead th {\n",
       "        text-align: left;\n",
       "    }\n",
       "\n",
       "    .dataframe tbody tr th {\n",
       "        vertical-align: top;\n",
       "    }\n",
       "</style>\n",
       "<table border=\"1\" class=\"dataframe\">\n",
       "  <thead>\n",
       "    <tr style=\"text-align: right;\">\n",
       "      <th></th>\n",
       "      <th>area</th>\n",
       "      <th>population</th>\n",
       "    </tr>\n",
       "  </thead>\n",
       "  <tbody>\n",
       "    <tr>\n",
       "      <th>California</th>\n",
       "      <td>423967.0</td>\n",
       "      <td>36332521</td>\n",
       "    </tr>\n",
       "    <tr>\n",
       "      <th>Florida</th>\n",
       "      <td>NaN</td>\n",
       "      <td>19552860</td>\n",
       "    </tr>\n",
       "    <tr>\n",
       "      <th>Illinois</th>\n",
       "      <td>149995.0</td>\n",
       "      <td>12882135</td>\n",
       "    </tr>\n",
       "    <tr>\n",
       "      <th>New York</th>\n",
       "      <td>141297.0</td>\n",
       "      <td>19651127</td>\n",
       "    </tr>\n",
       "    <tr>\n",
       "      <th>Texas</th>\n",
       "      <td>695662.0</td>\n",
       "      <td>26448193</td>\n",
       "    </tr>\n",
       "  </tbody>\n",
       "</table>\n",
       "</div>"
      ],
      "text/plain": [
       "                area  population\n",
       "California  423967.0    36332521\n",
       "Florida          NaN    19552860\n",
       "Illinois    149995.0    12882135\n",
       "New York    141297.0    19651127\n",
       "Texas       695662.0    26448193"
      ]
     },
     "execution_count": 43,
     "metadata": {},
     "output_type": "execute_result"
    }
   ],
   "source": [
    "# A partir de dos Series, es decir, a partir de un diccionario de objetos Series\n",
    "# Los datos faltantes siempre los marca como NaN\n",
    "area_dict = {'California':423967,'Texas':695662,\n",
    "             'New York':141297,'Illinois':149995}\n",
    "area = pd.Series(area_dict)\n",
    "df_states = pd.DataFrame({'population':population, 'area':area})\n",
    "df_states"
   ]
  },
  {
   "cell_type": "markdown",
   "metadata": {},
   "source": [
    "Atendiendo a esta forma de definir un `DataFrame` podemos verlo como un contenedor de objetos `Series`."
   ]
  },
  {
   "cell_type": "markdown",
   "metadata": {},
   "source": [
    "Construcción de un DataFrame a partir de un **array 2-D de `NumPy`**:"
   ]
  },
  {
   "cell_type": "code",
   "execution_count": 28,
   "metadata": {},
   "outputs": [
    {
     "data": {
      "text/html": [
       "<div>\n",
       "<style>\n",
       "    .dataframe thead tr:only-child th {\n",
       "        text-align: right;\n",
       "    }\n",
       "\n",
       "    .dataframe thead th {\n",
       "        text-align: left;\n",
       "    }\n",
       "\n",
       "    .dataframe tbody tr th {\n",
       "        vertical-align: top;\n",
       "    }\n",
       "</style>\n",
       "<table border=\"1\" class=\"dataframe\">\n",
       "  <thead>\n",
       "    <tr style=\"text-align: right;\">\n",
       "      <th></th>\n",
       "      <th>col1</th>\n",
       "      <th>col2</th>\n",
       "    </tr>\n",
       "  </thead>\n",
       "  <tbody>\n",
       "    <tr>\n",
       "      <th>a</th>\n",
       "      <td>0.613050</td>\n",
       "      <td>0.755389</td>\n",
       "    </tr>\n",
       "    <tr>\n",
       "      <th>b</th>\n",
       "      <td>0.679346</td>\n",
       "      <td>0.377345</td>\n",
       "    </tr>\n",
       "    <tr>\n",
       "      <th>c</th>\n",
       "      <td>0.560933</td>\n",
       "      <td>0.689555</td>\n",
       "    </tr>\n",
       "  </tbody>\n",
       "</table>\n",
       "</div>"
      ],
      "text/plain": [
       "       col1      col2\n",
       "a  0.613050  0.755389\n",
       "b  0.679346  0.377345\n",
       "c  0.560933  0.689555"
      ]
     },
     "execution_count": 28,
     "metadata": {},
     "output_type": "execute_result"
    }
   ],
   "source": [
    "# Array multidimensional de 3 filas y 2 columnas\n",
    "pd.DataFrame(np.random.rand(3,2), columns=['col1', 'col2'], index=['a', 'b', 'c'])"
   ]
  },
  {
   "cell_type": "markdown",
   "metadata": {},
   "source": [
    "### 4.2.2 Indexación de objetos `DataFrame`"
   ]
  },
  {
   "cell_type": "markdown",
   "metadata": {},
   "source": [
    "Es posible indexar tanto subconjuntos de filas como de columnas. Para ello, podemos usar la sintáxis típica de *slicing* en Python (con índices numéricos) o bien utilizar los nombres de filas o columnas (si se han asignado). Resulta obvio pensar que si se selecciona una fila o una columna (ya sea por su etiqueta o por su índice), el resultado será otro objeto de la clase `Series`, sin embargo, si se selecciona un subconjunto del `DataFrame` el resultado será otro `DataFrame`. "
   ]
  },
  {
   "cell_type": "code",
   "execution_count": 48,
   "metadata": {},
   "outputs": [
    {
     "data": {
      "text/plain": [
       "0    15\n",
       "1     5\n",
       "2    10\n",
       "3    40\n",
       "4    20\n",
       "5    12\n",
       "6    12\n",
       "7    12\n",
       "8    12\n",
       "9    12\n",
       "Name: collate, dtype: int32"
      ]
     },
     "execution_count": 48,
     "metadata": {},
     "output_type": "execute_result"
    }
   ],
   "source": [
    "# Indexación por nombre de columna\n",
    "df_1['collate']"
   ]
  },
  {
   "cell_type": "code",
   "execution_count": 22,
   "metadata": {},
   "outputs": [
    {
     "data": {
      "text/plain": [
       "pandas.core.series.Series"
      ]
     },
     "execution_count": 22,
     "metadata": {},
     "output_type": "execute_result"
    }
   ],
   "source": [
    "# El resultado de la indexación es un objeto de tipo Series\n",
    "type(df_1['collate'])"
   ]
  },
  {
   "cell_type": "markdown",
   "metadata": {},
   "source": [
    "Puede que de una columna solo nos intersen algunas filas. Para realizar esta operación, además de indicar el nombre de la columna tendremos que indicar las filas como se muestra en el siguiente ejemplo:"
   ]
  },
  {
   "cell_type": "code",
   "execution_count": 23,
   "metadata": {},
   "outputs": [
    {
     "data": {
      "text/plain": [
       "0    A\n",
       "1    A\n",
       "2    A\n",
       "3    A\n",
       "Name: group, dtype: object"
      ]
     },
     "execution_count": 23,
     "metadata": {},
     "output_type": "execute_result"
    }
   ],
   "source": [
    "df_1['group'][:4]"
   ]
  },
  {
   "cell_type": "markdown",
   "metadata": {},
   "source": [
    "Si interprestamos un `DataFrame` como un array 2-D, nos puede resultar interesante obtener la matriz de datos subyacente mediante el uso del atributo `values`."
   ]
  },
  {
   "cell_type": "code",
   "execution_count": 51,
   "metadata": {},
   "outputs": [
    {
     "data": {
      "text/plain": [
       "array([[15, 'A', 55.3, nan],\n",
       "       [5, 'A', 55.4, nan],\n",
       "       [10, 'A', 55.3, nan],\n",
       "       [40, 'A', 55.5, nan],\n",
       "       [20, 'A', 54.4, nan],\n",
       "       [12, 'B', 56.6, nan],\n",
       "       [12, 'B', 57.7, nan],\n",
       "       [12, 'B', 55.4, nan],\n",
       "       [12, 'B', 57.9, nan],\n",
       "       [12, 'B', 56.0, nan]], dtype=object)"
      ]
     },
     "execution_count": 51,
     "metadata": {},
     "output_type": "execute_result"
    }
   ],
   "source": [
    "# Podemos obtener un array con todos los valores del DataFrame\n",
    "df_2.values"
   ]
  },
  {
   "cell_type": "code",
   "execution_count": 52,
   "metadata": {},
   "outputs": [
    {
     "data": {
      "text/plain": [
       "array([15, 'A', 55.3, nan], dtype=object)"
      ]
     },
     "execution_count": 52,
     "metadata": {},
     "output_type": "execute_result"
    }
   ],
   "source": [
    "# Podemos obtener los arrays que forman las filas\n",
    "df_2.values[0]"
   ]
  },
  {
   "cell_type": "code",
   "execution_count": 63,
   "metadata": {
    "scrolled": true
   },
   "outputs": [
    {
     "data": {
      "text/html": [
       "<div>\n",
       "<style>\n",
       "    .dataframe thead tr:only-child th {\n",
       "        text-align: right;\n",
       "    }\n",
       "\n",
       "    .dataframe thead th {\n",
       "        text-align: left;\n",
       "    }\n",
       "\n",
       "    .dataframe tbody tr th {\n",
       "        vertical-align: top;\n",
       "    }\n",
       "</style>\n",
       "<table border=\"1\" class=\"dataframe\">\n",
       "  <thead>\n",
       "    <tr style=\"text-align: right;\">\n",
       "      <th></th>\n",
       "      <th>intake</th>\n",
       "      <th>collate</th>\n",
       "      <th>group</th>\n",
       "      <th>genotype</th>\n",
       "    </tr>\n",
       "  </thead>\n",
       "  <tbody>\n",
       "    <tr>\n",
       "      <th>0</th>\n",
       "      <td>55.3</td>\n",
       "      <td>15</td>\n",
       "      <td>A</td>\n",
       "      <td>NaN</td>\n",
       "    </tr>\n",
       "    <tr>\n",
       "      <th>1</th>\n",
       "      <td>55.4</td>\n",
       "      <td>5</td>\n",
       "      <td>A</td>\n",
       "      <td>NaN</td>\n",
       "    </tr>\n",
       "    <tr>\n",
       "      <th>2</th>\n",
       "      <td>55.3</td>\n",
       "      <td>10</td>\n",
       "      <td>A</td>\n",
       "      <td>NaN</td>\n",
       "    </tr>\n",
       "    <tr>\n",
       "      <th>3</th>\n",
       "      <td>55.5</td>\n",
       "      <td>40</td>\n",
       "      <td>A</td>\n",
       "      <td>NaN</td>\n",
       "    </tr>\n",
       "    <tr>\n",
       "      <th>4</th>\n",
       "      <td>54.4</td>\n",
       "      <td>20</td>\n",
       "      <td>A</td>\n",
       "      <td>NaN</td>\n",
       "    </tr>\n",
       "    <tr>\n",
       "      <th>5</th>\n",
       "      <td>56.6</td>\n",
       "      <td>12</td>\n",
       "      <td>B</td>\n",
       "      <td>NaN</td>\n",
       "    </tr>\n",
       "    <tr>\n",
       "      <th>6</th>\n",
       "      <td>57.7</td>\n",
       "      <td>12</td>\n",
       "      <td>B</td>\n",
       "      <td>NaN</td>\n",
       "    </tr>\n",
       "    <tr>\n",
       "      <th>7</th>\n",
       "      <td>55.4</td>\n",
       "      <td>12</td>\n",
       "      <td>B</td>\n",
       "      <td>NaN</td>\n",
       "    </tr>\n",
       "    <tr>\n",
       "      <th>8</th>\n",
       "      <td>57.9</td>\n",
       "      <td>12</td>\n",
       "      <td>B</td>\n",
       "      <td>NaN</td>\n",
       "    </tr>\n",
       "    <tr>\n",
       "      <th>9</th>\n",
       "      <td>56.0</td>\n",
       "      <td>12</td>\n",
       "      <td>B</td>\n",
       "      <td>NaN</td>\n",
       "    </tr>\n",
       "  </tbody>\n",
       "</table>\n",
       "</div>"
      ],
      "text/plain": [
       "   intake  collate group  genotype\n",
       "0    55.3       15     A       NaN\n",
       "1    55.4        5     A       NaN\n",
       "2    55.3       10     A       NaN\n",
       "3    55.5       40     A       NaN\n",
       "4    54.4       20     A       NaN\n",
       "5    56.6       12     B       NaN\n",
       "6    57.7       12     B       NaN\n",
       "7    55.4       12     B       NaN\n",
       "8    57.9       12     B       NaN\n",
       "9    56.0       12     B       NaN"
      ]
     },
     "execution_count": 63,
     "metadata": {},
     "output_type": "execute_result"
    }
   ],
   "source": [
    "# La reindexación consiste en crear un nuevo objeto con sus índices\n",
    "# siguiendo una nueva ordenación\n",
    "df_3 = df_2.reindex(columns=['intake', 'collate', 'group', 'genotype'])\n",
    "df_3"
   ]
  },
  {
   "cell_type": "markdown",
   "metadata": {},
   "source": [
    "Resultan intersantes las funciones `loc` e `iloc` ya que nos permiten realizar slicing bien indicándoles el nombre de las filas y las columnas o bien indicáncoles los índices de las filas y las columnas."
   ]
  },
  {
   "cell_type": "code",
   "execution_count": 65,
   "metadata": {},
   "outputs": [
    {
     "data": {
      "text/html": [
       "<div>\n",
       "<style>\n",
       "    .dataframe thead tr:only-child th {\n",
       "        text-align: right;\n",
       "    }\n",
       "\n",
       "    .dataframe thead th {\n",
       "        text-align: left;\n",
       "    }\n",
       "\n",
       "    .dataframe tbody tr th {\n",
       "        vertical-align: top;\n",
       "    }\n",
       "</style>\n",
       "<table border=\"1\" class=\"dataframe\">\n",
       "  <thead>\n",
       "    <tr style=\"text-align: right;\">\n",
       "      <th></th>\n",
       "      <th>area</th>\n",
       "      <th>population</th>\n",
       "    </tr>\n",
       "  </thead>\n",
       "  <tbody>\n",
       "    <tr>\n",
       "      <th>California</th>\n",
       "      <td>423967.0</td>\n",
       "      <td>36332521</td>\n",
       "    </tr>\n",
       "    <tr>\n",
       "      <th>Florida</th>\n",
       "      <td>NaN</td>\n",
       "      <td>19552860</td>\n",
       "    </tr>\n",
       "    <tr>\n",
       "      <th>Illinois</th>\n",
       "      <td>149995.0</td>\n",
       "      <td>12882135</td>\n",
       "    </tr>\n",
       "  </tbody>\n",
       "</table>\n",
       "</div>"
      ],
      "text/plain": [
       "                area  population\n",
       "California  423967.0    36332521\n",
       "Florida          NaN    19552860\n",
       "Illinois    149995.0    12882135"
      ]
     },
     "execution_count": 65,
     "metadata": {},
     "output_type": "execute_result"
    }
   ],
   "source": [
    "# Ejemplo de uso de la función loc\n",
    "df_states.loc[:'Illinois', :'population']"
   ]
  },
  {
   "cell_type": "code",
   "execution_count": 66,
   "metadata": {},
   "outputs": [
    {
     "data": {
      "text/html": [
       "<div>\n",
       "<style>\n",
       "    .dataframe thead tr:only-child th {\n",
       "        text-align: right;\n",
       "    }\n",
       "\n",
       "    .dataframe thead th {\n",
       "        text-align: left;\n",
       "    }\n",
       "\n",
       "    .dataframe tbody tr th {\n",
       "        vertical-align: top;\n",
       "    }\n",
       "</style>\n",
       "<table border=\"1\" class=\"dataframe\">\n",
       "  <thead>\n",
       "    <tr style=\"text-align: right;\">\n",
       "      <th></th>\n",
       "      <th>area</th>\n",
       "      <th>population</th>\n",
       "    </tr>\n",
       "  </thead>\n",
       "  <tbody>\n",
       "    <tr>\n",
       "      <th>California</th>\n",
       "      <td>423967.0</td>\n",
       "      <td>36332521</td>\n",
       "    </tr>\n",
       "    <tr>\n",
       "      <th>Florida</th>\n",
       "      <td>NaN</td>\n",
       "      <td>19552860</td>\n",
       "    </tr>\n",
       "    <tr>\n",
       "      <th>Illinois</th>\n",
       "      <td>149995.0</td>\n",
       "      <td>12882135</td>\n",
       "    </tr>\n",
       "  </tbody>\n",
       "</table>\n",
       "</div>"
      ],
      "text/plain": [
       "                area  population\n",
       "California  423967.0    36332521\n",
       "Florida          NaN    19552860\n",
       "Illinois    149995.0    12882135"
      ]
     },
     "execution_count": 66,
     "metadata": {},
     "output_type": "execute_result"
    }
   ],
   "source": [
    "# Ejemplo de uso de la función iloc\n",
    "df_states.iloc[:3, :2]"
   ]
  },
  {
   "cell_type": "markdown",
   "metadata": {},
   "source": [
    "Los `DataFrame` se pueden modificar añadiendo o elimnando filas o columnas"
   ]
  },
  {
   "cell_type": "code",
   "execution_count": 64,
   "metadata": {},
   "outputs": [
    {
     "data": {
      "text/html": [
       "<div>\n",
       "<style>\n",
       "    .dataframe thead tr:only-child th {\n",
       "        text-align: right;\n",
       "    }\n",
       "\n",
       "    .dataframe thead th {\n",
       "        text-align: left;\n",
       "    }\n",
       "\n",
       "    .dataframe tbody tr th {\n",
       "        vertical-align: top;\n",
       "    }\n",
       "</style>\n",
       "<table border=\"1\" class=\"dataframe\">\n",
       "  <thead>\n",
       "    <tr style=\"text-align: right;\">\n",
       "      <th></th>\n",
       "      <th>intake</th>\n",
       "      <th>collate</th>\n",
       "      <th>group</th>\n",
       "    </tr>\n",
       "  </thead>\n",
       "  <tbody>\n",
       "    <tr>\n",
       "      <th>0</th>\n",
       "      <td>55.3</td>\n",
       "      <td>15</td>\n",
       "      <td>A</td>\n",
       "    </tr>\n",
       "    <tr>\n",
       "      <th>1</th>\n",
       "      <td>55.4</td>\n",
       "      <td>5</td>\n",
       "      <td>A</td>\n",
       "    </tr>\n",
       "    <tr>\n",
       "      <th>2</th>\n",
       "      <td>55.3</td>\n",
       "      <td>10</td>\n",
       "      <td>A</td>\n",
       "    </tr>\n",
       "    <tr>\n",
       "      <th>3</th>\n",
       "      <td>55.5</td>\n",
       "      <td>40</td>\n",
       "      <td>A</td>\n",
       "    </tr>\n",
       "    <tr>\n",
       "      <th>4</th>\n",
       "      <td>54.4</td>\n",
       "      <td>20</td>\n",
       "      <td>A</td>\n",
       "    </tr>\n",
       "    <tr>\n",
       "      <th>5</th>\n",
       "      <td>56.6</td>\n",
       "      <td>12</td>\n",
       "      <td>B</td>\n",
       "    </tr>\n",
       "    <tr>\n",
       "      <th>6</th>\n",
       "      <td>57.7</td>\n",
       "      <td>12</td>\n",
       "      <td>B</td>\n",
       "    </tr>\n",
       "    <tr>\n",
       "      <th>7</th>\n",
       "      <td>55.4</td>\n",
       "      <td>12</td>\n",
       "      <td>B</td>\n",
       "    </tr>\n",
       "    <tr>\n",
       "      <th>8</th>\n",
       "      <td>57.9</td>\n",
       "      <td>12</td>\n",
       "      <td>B</td>\n",
       "    </tr>\n",
       "    <tr>\n",
       "      <th>9</th>\n",
       "      <td>56.0</td>\n",
       "      <td>12</td>\n",
       "      <td>B</td>\n",
       "    </tr>\n",
       "  </tbody>\n",
       "</table>\n",
       "</div>"
      ],
      "text/plain": [
       "   intake  collate group\n",
       "0    55.3       15     A\n",
       "1    55.4        5     A\n",
       "2    55.3       10     A\n",
       "3    55.5       40     A\n",
       "4    54.4       20     A\n",
       "5    56.6       12     B\n",
       "6    57.7       12     B\n",
       "7    55.4       12     B\n",
       "8    57.9       12     B\n",
       "9    56.0       12     B"
      ]
     },
     "execution_count": 64,
     "metadata": {},
     "output_type": "execute_result"
    }
   ],
   "source": [
    "# También podemos eliminar filas o columnas\n",
    "# Ejemplo de eliminación de una columna\n",
    "df_3 = df_3.drop('genotype', axis=1)\n",
    "df_3"
   ]
  },
  {
   "cell_type": "code",
   "execution_count": 60,
   "metadata": {},
   "outputs": [
    {
     "data": {
      "text/html": [
       "<div>\n",
       "<style>\n",
       "    .dataframe thead tr:only-child th {\n",
       "        text-align: right;\n",
       "    }\n",
       "\n",
       "    .dataframe thead th {\n",
       "        text-align: left;\n",
       "    }\n",
       "\n",
       "    .dataframe tbody tr th {\n",
       "        vertical-align: top;\n",
       "    }\n",
       "</style>\n",
       "<table border=\"1\" class=\"dataframe\">\n",
       "  <thead>\n",
       "    <tr style=\"text-align: right;\">\n",
       "      <th></th>\n",
       "      <th>intake</th>\n",
       "      <th>collate</th>\n",
       "      <th>group</th>\n",
       "    </tr>\n",
       "  </thead>\n",
       "  <tbody>\n",
       "    <tr>\n",
       "      <th>0</th>\n",
       "      <td>55.3</td>\n",
       "      <td>15</td>\n",
       "      <td>A</td>\n",
       "    </tr>\n",
       "    <tr>\n",
       "      <th>1</th>\n",
       "      <td>55.4</td>\n",
       "      <td>5</td>\n",
       "      <td>A</td>\n",
       "    </tr>\n",
       "    <tr>\n",
       "      <th>3</th>\n",
       "      <td>55.5</td>\n",
       "      <td>40</td>\n",
       "      <td>A</td>\n",
       "    </tr>\n",
       "    <tr>\n",
       "      <th>4</th>\n",
       "      <td>54.4</td>\n",
       "      <td>20</td>\n",
       "      <td>A</td>\n",
       "    </tr>\n",
       "    <tr>\n",
       "      <th>5</th>\n",
       "      <td>56.6</td>\n",
       "      <td>12</td>\n",
       "      <td>B</td>\n",
       "    </tr>\n",
       "    <tr>\n",
       "      <th>6</th>\n",
       "      <td>57.7</td>\n",
       "      <td>12</td>\n",
       "      <td>B</td>\n",
       "    </tr>\n",
       "    <tr>\n",
       "      <th>7</th>\n",
       "      <td>55.4</td>\n",
       "      <td>12</td>\n",
       "      <td>B</td>\n",
       "    </tr>\n",
       "    <tr>\n",
       "      <th>8</th>\n",
       "      <td>57.9</td>\n",
       "      <td>12</td>\n",
       "      <td>B</td>\n",
       "    </tr>\n",
       "    <tr>\n",
       "      <th>9</th>\n",
       "      <td>56.0</td>\n",
       "      <td>12</td>\n",
       "      <td>B</td>\n",
       "    </tr>\n",
       "  </tbody>\n",
       "</table>\n",
       "</div>"
      ],
      "text/plain": [
       "   intake  collate group\n",
       "0    55.3       15     A\n",
       "1    55.4        5     A\n",
       "3    55.5       40     A\n",
       "4    54.4       20     A\n",
       "5    56.6       12     B\n",
       "6    57.7       12     B\n",
       "7    55.4       12     B\n",
       "8    57.9       12     B\n",
       "9    56.0       12     B"
      ]
     },
     "execution_count": 60,
     "metadata": {},
     "output_type": "execute_result"
    }
   ],
   "source": [
    "# Ejemplo de eliminación de una fila\n",
    "df_3 = df_3.drop(2, axis=0)\n",
    "df_3"
   ]
  },
  {
   "cell_type": "code",
   "execution_count": 134,
   "metadata": {},
   "outputs": [
    {
     "data": {
      "text/html": [
       "<div>\n",
       "<style>\n",
       "    .dataframe thead tr:only-child th {\n",
       "        text-align: right;\n",
       "    }\n",
       "\n",
       "    .dataframe thead th {\n",
       "        text-align: left;\n",
       "    }\n",
       "\n",
       "    .dataframe tbody tr th {\n",
       "        vertical-align: top;\n",
       "    }\n",
       "</style>\n",
       "<table border=\"1\" class=\"dataframe\">\n",
       "  <thead>\n",
       "    <tr style=\"text-align: right;\">\n",
       "      <th></th>\n",
       "      <th>intake</th>\n",
       "      <th>collate</th>\n",
       "      <th>group</th>\n",
       "      <th>genotype</th>\n",
       "    </tr>\n",
       "  </thead>\n",
       "  <tbody>\n",
       "    <tr>\n",
       "      <th>0</th>\n",
       "      <td>55.3</td>\n",
       "      <td>15</td>\n",
       "      <td>A</td>\n",
       "      <td>3.686667</td>\n",
       "    </tr>\n",
       "    <tr>\n",
       "      <th>1</th>\n",
       "      <td>55.4</td>\n",
       "      <td>5</td>\n",
       "      <td>A</td>\n",
       "      <td>11.080000</td>\n",
       "    </tr>\n",
       "    <tr>\n",
       "      <th>2</th>\n",
       "      <td>55.3</td>\n",
       "      <td>10</td>\n",
       "      <td>A</td>\n",
       "      <td>5.530000</td>\n",
       "    </tr>\n",
       "    <tr>\n",
       "      <th>3</th>\n",
       "      <td>55.5</td>\n",
       "      <td>40</td>\n",
       "      <td>A</td>\n",
       "      <td>1.387500</td>\n",
       "    </tr>\n",
       "    <tr>\n",
       "      <th>4</th>\n",
       "      <td>54.4</td>\n",
       "      <td>20</td>\n",
       "      <td>A</td>\n",
       "      <td>2.720000</td>\n",
       "    </tr>\n",
       "    <tr>\n",
       "      <th>5</th>\n",
       "      <td>56.6</td>\n",
       "      <td>12</td>\n",
       "      <td>B</td>\n",
       "      <td>4.716667</td>\n",
       "    </tr>\n",
       "    <tr>\n",
       "      <th>6</th>\n",
       "      <td>57.7</td>\n",
       "      <td>12</td>\n",
       "      <td>B</td>\n",
       "      <td>4.808333</td>\n",
       "    </tr>\n",
       "    <tr>\n",
       "      <th>7</th>\n",
       "      <td>55.4</td>\n",
       "      <td>12</td>\n",
       "      <td>B</td>\n",
       "      <td>4.616667</td>\n",
       "    </tr>\n",
       "    <tr>\n",
       "      <th>8</th>\n",
       "      <td>57.9</td>\n",
       "      <td>12</td>\n",
       "      <td>B</td>\n",
       "      <td>4.825000</td>\n",
       "    </tr>\n",
       "    <tr>\n",
       "      <th>9</th>\n",
       "      <td>56.0</td>\n",
       "      <td>12</td>\n",
       "      <td>B</td>\n",
       "      <td>4.666667</td>\n",
       "    </tr>\n",
       "    <tr>\n",
       "      <th>10</th>\n",
       "      <td>56.3</td>\n",
       "      <td>11</td>\n",
       "      <td>C</td>\n",
       "      <td>5.118182</td>\n",
       "    </tr>\n",
       "  </tbody>\n",
       "</table>\n",
       "</div>"
      ],
      "text/plain": [
       "    intake  collate group   genotype\n",
       "0     55.3       15     A   3.686667\n",
       "1     55.4        5     A  11.080000\n",
       "2     55.3       10     A   5.530000\n",
       "3     55.5       40     A   1.387500\n",
       "4     54.4       20     A   2.720000\n",
       "5     56.6       12     B   4.716667\n",
       "6     57.7       12     B   4.808333\n",
       "7     55.4       12     B   4.616667\n",
       "8     57.9       12     B   4.825000\n",
       "9     56.0       12     B   4.666667\n",
       "10    56.3       11     C   5.118182"
      ]
     },
     "execution_count": 134,
     "metadata": {},
     "output_type": "execute_result"
    }
   ],
   "source": [
    "# Ejemplo de añadir una columna\n",
    "df_3['genotype'] = df_3['intake']/df_3['collate']\n",
    "df_3"
   ]
  },
  {
   "cell_type": "code",
   "execution_count": 135,
   "metadata": {},
   "outputs": [
    {
     "data": {
      "text/html": [
       "<div>\n",
       "<style>\n",
       "    .dataframe thead tr:only-child th {\n",
       "        text-align: right;\n",
       "    }\n",
       "\n",
       "    .dataframe thead th {\n",
       "        text-align: left;\n",
       "    }\n",
       "\n",
       "    .dataframe tbody tr th {\n",
       "        vertical-align: top;\n",
       "    }\n",
       "</style>\n",
       "<table border=\"1\" class=\"dataframe\">\n",
       "  <thead>\n",
       "    <tr style=\"text-align: right;\">\n",
       "      <th></th>\n",
       "      <th>intake</th>\n",
       "      <th>collate</th>\n",
       "      <th>group</th>\n",
       "      <th>genotype</th>\n",
       "    </tr>\n",
       "  </thead>\n",
       "  <tbody>\n",
       "    <tr>\n",
       "      <th>0</th>\n",
       "      <td>55.3</td>\n",
       "      <td>15</td>\n",
       "      <td>A</td>\n",
       "      <td>3.68667</td>\n",
       "    </tr>\n",
       "    <tr>\n",
       "      <th>1</th>\n",
       "      <td>55.4</td>\n",
       "      <td>5</td>\n",
       "      <td>A</td>\n",
       "      <td>11.08</td>\n",
       "    </tr>\n",
       "    <tr>\n",
       "      <th>2</th>\n",
       "      <td>55.3</td>\n",
       "      <td>10</td>\n",
       "      <td>A</td>\n",
       "      <td>5.53</td>\n",
       "    </tr>\n",
       "    <tr>\n",
       "      <th>3</th>\n",
       "      <td>55.5</td>\n",
       "      <td>40</td>\n",
       "      <td>A</td>\n",
       "      <td>1.3875</td>\n",
       "    </tr>\n",
       "    <tr>\n",
       "      <th>4</th>\n",
       "      <td>54.4</td>\n",
       "      <td>20</td>\n",
       "      <td>A</td>\n",
       "      <td>2.72</td>\n",
       "    </tr>\n",
       "    <tr>\n",
       "      <th>5</th>\n",
       "      <td>56.6</td>\n",
       "      <td>12</td>\n",
       "      <td>B</td>\n",
       "      <td>4.71667</td>\n",
       "    </tr>\n",
       "    <tr>\n",
       "      <th>6</th>\n",
       "      <td>57.7</td>\n",
       "      <td>12</td>\n",
       "      <td>B</td>\n",
       "      <td>4.80833</td>\n",
       "    </tr>\n",
       "    <tr>\n",
       "      <th>7</th>\n",
       "      <td>55.4</td>\n",
       "      <td>12</td>\n",
       "      <td>B</td>\n",
       "      <td>4.61667</td>\n",
       "    </tr>\n",
       "    <tr>\n",
       "      <th>8</th>\n",
       "      <td>57.9</td>\n",
       "      <td>12</td>\n",
       "      <td>B</td>\n",
       "      <td>4.825</td>\n",
       "    </tr>\n",
       "    <tr>\n",
       "      <th>9</th>\n",
       "      <td>56</td>\n",
       "      <td>12</td>\n",
       "      <td>B</td>\n",
       "      <td>4.66667</td>\n",
       "    </tr>\n",
       "    <tr>\n",
       "      <th>10</th>\n",
       "      <td>intake</td>\n",
       "      <td>collate</td>\n",
       "      <td>group</td>\n",
       "      <td>genotype</td>\n",
       "    </tr>\n",
       "  </tbody>\n",
       "</table>\n",
       "</div>"
      ],
      "text/plain": [
       "    intake  collate  group  genotype\n",
       "0     55.3       15      A   3.68667\n",
       "1     55.4        5      A     11.08\n",
       "2     55.3       10      A      5.53\n",
       "3     55.5       40      A    1.3875\n",
       "4     54.4       20      A      2.72\n",
       "5     56.6       12      B   4.71667\n",
       "6     57.7       12      B   4.80833\n",
       "7     55.4       12      B   4.61667\n",
       "8     57.9       12      B     4.825\n",
       "9       56       12      B   4.66667\n",
       "10  intake  collate  group  genotype"
      ]
     },
     "execution_count": 135,
     "metadata": {},
     "output_type": "execute_result"
    }
   ],
   "source": [
    "# Ejemplo de añadir una fila\n",
    "df_3.loc[10] = {'intake':56.3, 'collate':11, 'group':'C', 'genotype':5.1181}\n",
    "df_3"
   ]
  },
  {
   "cell_type": "markdown",
   "metadata": {},
   "source": [
    "También es posible el uso de **máscaras** para seleccionar los datos que cumplan con una determinada condición, la cual se indica mediante una expresión lógica."
   ]
  },
  {
   "cell_type": "code",
   "execution_count": 73,
   "metadata": {},
   "outputs": [
    {
     "data": {
      "text/html": [
       "<div>\n",
       "<style>\n",
       "    .dataframe thead tr:only-child th {\n",
       "        text-align: right;\n",
       "    }\n",
       "\n",
       "    .dataframe thead th {\n",
       "        text-align: left;\n",
       "    }\n",
       "\n",
       "    .dataframe tbody tr th {\n",
       "        vertical-align: top;\n",
       "    }\n",
       "</style>\n",
       "<table border=\"1\" class=\"dataframe\">\n",
       "  <thead>\n",
       "    <tr style=\"text-align: right;\">\n",
       "      <th></th>\n",
       "      <th>intake</th>\n",
       "      <th>collate</th>\n",
       "    </tr>\n",
       "  </thead>\n",
       "  <tbody>\n",
       "    <tr>\n",
       "      <th>5</th>\n",
       "      <td>56.6</td>\n",
       "      <td>12</td>\n",
       "    </tr>\n",
       "    <tr>\n",
       "      <th>6</th>\n",
       "      <td>57.7</td>\n",
       "      <td>12</td>\n",
       "    </tr>\n",
       "    <tr>\n",
       "      <th>8</th>\n",
       "      <td>57.9</td>\n",
       "      <td>12</td>\n",
       "    </tr>\n",
       "    <tr>\n",
       "      <th>9</th>\n",
       "      <td>56.0</td>\n",
       "      <td>12</td>\n",
       "    </tr>\n",
       "    <tr>\n",
       "      <th>10</th>\n",
       "      <td>56.3</td>\n",
       "      <td>11</td>\n",
       "    </tr>\n",
       "  </tbody>\n",
       "</table>\n",
       "</div>"
      ],
      "text/plain": [
       "    intake  collate\n",
       "5     56.6       12\n",
       "6     57.7       12\n",
       "8     57.9       12\n",
       "9     56.0       12\n",
       "10    56.3       11"
      ]
     },
     "execution_count": 73,
     "metadata": {},
     "output_type": "execute_result"
    }
   ],
   "source": [
    "# Mostramos solo los valores de las columnas intake y collate\n",
    "# que cumplen la condición que inda la máscara\n",
    "df_4 = df_3.loc[df_3.intake>=56.0, ['intake', 'collate']]\n",
    "df_4"
   ]
  },
  {
   "cell_type": "code",
   "execution_count": 74,
   "metadata": {},
   "outputs": [
    {
     "data": {
      "text/html": [
       "<div>\n",
       "<style>\n",
       "    .dataframe thead tr:only-child th {\n",
       "        text-align: right;\n",
       "    }\n",
       "\n",
       "    .dataframe thead th {\n",
       "        text-align: left;\n",
       "    }\n",
       "\n",
       "    .dataframe tbody tr th {\n",
       "        vertical-align: top;\n",
       "    }\n",
       "</style>\n",
       "<table border=\"1\" class=\"dataframe\">\n",
       "  <thead>\n",
       "    <tr style=\"text-align: right;\">\n",
       "      <th></th>\n",
       "      <th>intake</th>\n",
       "      <th>collate</th>\n",
       "      <th>group</th>\n",
       "      <th>genotype</th>\n",
       "    </tr>\n",
       "  </thead>\n",
       "  <tbody>\n",
       "    <tr>\n",
       "      <th>5</th>\n",
       "      <td>56.6</td>\n",
       "      <td>12</td>\n",
       "      <td>B</td>\n",
       "      <td>4.716667</td>\n",
       "    </tr>\n",
       "    <tr>\n",
       "      <th>6</th>\n",
       "      <td>57.7</td>\n",
       "      <td>12</td>\n",
       "      <td>B</td>\n",
       "      <td>4.808333</td>\n",
       "    </tr>\n",
       "    <tr>\n",
       "      <th>7</th>\n",
       "      <td>55.4</td>\n",
       "      <td>12</td>\n",
       "      <td>B</td>\n",
       "      <td>4.616667</td>\n",
       "    </tr>\n",
       "    <tr>\n",
       "      <th>8</th>\n",
       "      <td>57.9</td>\n",
       "      <td>12</td>\n",
       "      <td>B</td>\n",
       "      <td>4.825000</td>\n",
       "    </tr>\n",
       "    <tr>\n",
       "      <th>9</th>\n",
       "      <td>56.0</td>\n",
       "      <td>12</td>\n",
       "      <td>B</td>\n",
       "      <td>4.666667</td>\n",
       "    </tr>\n",
       "  </tbody>\n",
       "</table>\n",
       "</div>"
      ],
      "text/plain": [
       "   intake  collate group  genotype\n",
       "5    56.6       12     B  4.716667\n",
       "6    57.7       12     B  4.808333\n",
       "7    55.4       12     B  4.616667\n",
       "8    57.9       12     B  4.825000\n",
       "9    56.0       12     B  4.666667"
      ]
     },
     "execution_count": 74,
     "metadata": {},
     "output_type": "execute_result"
    }
   ],
   "source": [
    "# Mostramos todas las filas que cumplen la condición\n",
    "# expresada en la máscara\n",
    "df_4 = df_3[df_3.group=='B']\n",
    "df_4"
   ]
  },
  {
   "cell_type": "markdown",
   "metadata": {},
   "source": [
    "Para encontrar más ejemplos y ampliar la información sobre esta clase tan importante, se puede consultar la [documentación de `DataFrame`](http://pandas.pydata.org/pandas-docs/stable/dsintro.html#dataframe) en el proyecto Pandas, así como el [notebook de introducción a Pandas](https://github.com/fonnesbeck/Bios8366/blob/master/notebooks/Section2_1-Introduction-to-Pandas.ipynb) creado por C. Fonnesbeck (Vanderbilt Univ.)."
   ]
  },
  {
   "cell_type": "markdown",
   "metadata": {},
   "source": [
    "## 4.3 La clase `Panel`"
   ]
  },
  {
   "cell_type": "markdown",
   "metadata": {},
   "source": [
    "La clase `Panel` proporciona en Pandas una estructura de datos para el almacenamiento de arrays en 3 dimensiones. Cada uno de los tres ejes del objeto recibe un nombre particular:\n",
    "\n",
    "* *items*: corresponde al eje 0 (`axis=0`); cada elemento a lo largo de este eje corresponde a un DataFrame, es decir, una tabla de datos en las dos dimensiones restantes.\n",
    "* *major_axis*: corresponde al eje 1 (`axis=1`); para cada DataFrame, recorre cada una de sus filas, es decir, es el índice que marca el número de fila.\n",
    "* *minor_axis*: corresponde al eje 2 (`axis=2`); para cada DataFrame, recorre las columnas de dicho Data Frame.\n",
    "\n",
    "Por ejemplo, el índice `[0, 1, 2]` corresponde al elemento que está en el primer `DataFrame` del panel, y dentro del mismo en la segunda fila y tercera columna."
   ]
  },
  {
   "cell_type": "markdown",
   "metadata": {},
   "source": [
    "### 4.3.1 Creación de objetos de tipo `Panel`"
   ]
  },
  {
   "cell_type": "code",
   "execution_count": 84,
   "metadata": {},
   "outputs": [
    {
     "data": {
      "text/plain": [
       "<class 'pandas.core.panel.Panel'>\n",
       "Dimensions: 2 (items) x 5 (major_axis) x 4 (minor_axis)\n",
       "Items axis: Item1 to Item2\n",
       "Major_axis axis: 2000-01-01 00:00:00 to 2000-01-05 00:00:00\n",
       "Minor_axis axis: A to D"
      ]
     },
     "execution_count": 84,
     "metadata": {},
     "output_type": "execute_result"
    }
   ],
   "source": [
    "# Panel que contiene dos DataFrame de dimensiones 5x4, ambas rellenas\n",
    "# con valores extraidos de una distribución Gaussiana (o Normal), de\n",
    "# media 0 y desviación típica 1, generando una malla de valores de\n",
    "# dimensiones 2x5x4\n",
    "wp = pd.Panel(np.random.randn(2, 5, 4), items=['Item1', 'Item2'],\n",
    "              major_axis=pd.date_range('1/1/2000', periods=5),\n",
    "              minor_axis=['A', 'B', 'C', 'D'])\n",
    "wp"
   ]
  },
  {
   "cell_type": "markdown",
   "metadata": {},
   "source": [
    "### 4.3.2 Indexación de objetos `Panel`"
   ]
  },
  {
   "cell_type": "markdown",
   "metadata": {},
   "source": [
    "La indexación de determinados elementos en un `Panel` funciona siguiendo el mismo esquema visto hasta ahora. Veamos algunos ejemplos:"
   ]
  },
  {
   "cell_type": "code",
   "execution_count": 89,
   "metadata": {},
   "outputs": [
    {
     "data": {
      "text/html": [
       "<div>\n",
       "<style>\n",
       "    .dataframe thead tr:only-child th {\n",
       "        text-align: right;\n",
       "    }\n",
       "\n",
       "    .dataframe thead th {\n",
       "        text-align: left;\n",
       "    }\n",
       "\n",
       "    .dataframe tbody tr th {\n",
       "        vertical-align: top;\n",
       "    }\n",
       "</style>\n",
       "<table border=\"1\" class=\"dataframe\">\n",
       "  <thead>\n",
       "    <tr style=\"text-align: right;\">\n",
       "      <th></th>\n",
       "      <th>A</th>\n",
       "      <th>B</th>\n",
       "      <th>C</th>\n",
       "    </tr>\n",
       "  </thead>\n",
       "  <tbody>\n",
       "    <tr>\n",
       "      <th>2000-01-01</th>\n",
       "      <td>-0.177565</td>\n",
       "      <td>-1.724965</td>\n",
       "      <td>0.403278</td>\n",
       "    </tr>\n",
       "    <tr>\n",
       "      <th>2000-01-02</th>\n",
       "      <td>1.078636</td>\n",
       "      <td>0.886110</td>\n",
       "      <td>0.268463</td>\n",
       "    </tr>\n",
       "    <tr>\n",
       "      <th>2000-01-03</th>\n",
       "      <td>0.763149</td>\n",
       "      <td>0.857988</td>\n",
       "      <td>-0.093925</td>\n",
       "    </tr>\n",
       "    <tr>\n",
       "      <th>2000-01-04</th>\n",
       "      <td>0.259187</td>\n",
       "      <td>1.671795</td>\n",
       "      <td>-0.288599</td>\n",
       "    </tr>\n",
       "    <tr>\n",
       "      <th>2000-01-05</th>\n",
       "      <td>-0.757024</td>\n",
       "      <td>-0.962191</td>\n",
       "      <td>-0.472573</td>\n",
       "    </tr>\n",
       "  </tbody>\n",
       "</table>\n",
       "</div>"
      ],
      "text/plain": [
       "                   A         B         C\n",
       "2000-01-01 -0.177565 -1.724965  0.403278\n",
       "2000-01-02  1.078636  0.886110  0.268463\n",
       "2000-01-03  0.763149  0.857988 -0.093925\n",
       "2000-01-04  0.259187  1.671795 -0.288599\n",
       "2000-01-05 -0.757024 -0.962191 -0.472573"
      ]
     },
     "execution_count": 89,
     "metadata": {},
     "output_type": "execute_result"
    }
   ],
   "source": [
    "# Indexación mediante etiquetas\n",
    "wp['Item1',:,'A':'C']"
   ]
  },
  {
   "cell_type": "code",
   "execution_count": 96,
   "metadata": {},
   "outputs": [
    {
     "data": {
      "text/html": [
       "<div>\n",
       "<style>\n",
       "    .dataframe thead tr:only-child th {\n",
       "        text-align: right;\n",
       "    }\n",
       "\n",
       "    .dataframe thead th {\n",
       "        text-align: left;\n",
       "    }\n",
       "\n",
       "    .dataframe tbody tr th {\n",
       "        vertical-align: top;\n",
       "    }\n",
       "</style>\n",
       "<table border=\"1\" class=\"dataframe\">\n",
       "  <thead>\n",
       "    <tr style=\"text-align: right;\">\n",
       "      <th></th>\n",
       "      <th>A</th>\n",
       "      <th>B</th>\n",
       "      <th>C</th>\n",
       "      <th>D</th>\n",
       "    </tr>\n",
       "  </thead>\n",
       "  <tbody>\n",
       "    <tr>\n",
       "      <th>2000-01-01</th>\n",
       "      <td>0.121553</td>\n",
       "      <td>-0.060338</td>\n",
       "      <td>0.670147</td>\n",
       "      <td>1.489966</td>\n",
       "    </tr>\n",
       "    <tr>\n",
       "      <th>2000-01-02</th>\n",
       "      <td>0.390769</td>\n",
       "      <td>1.891844</td>\n",
       "      <td>0.432447</td>\n",
       "      <td>1.274492</td>\n",
       "    </tr>\n",
       "    <tr>\n",
       "      <th>2000-01-03</th>\n",
       "      <td>0.273671</td>\n",
       "      <td>-0.330292</td>\n",
       "      <td>-1.659032</td>\n",
       "      <td>-0.399116</td>\n",
       "    </tr>\n",
       "    <tr>\n",
       "      <th>2000-01-04</th>\n",
       "      <td>2.267010</td>\n",
       "      <td>-1.129834</td>\n",
       "      <td>0.361568</td>\n",
       "      <td>-0.820910</td>\n",
       "    </tr>\n",
       "    <tr>\n",
       "      <th>2000-01-05</th>\n",
       "      <td>0.339815</td>\n",
       "      <td>-0.003834</td>\n",
       "      <td>-1.117244</td>\n",
       "      <td>1.237102</td>\n",
       "    </tr>\n",
       "  </tbody>\n",
       "</table>\n",
       "</div>"
      ],
      "text/plain": [
       "                   A         B         C         D\n",
       "2000-01-01  0.121553 -0.060338  0.670147  1.489966\n",
       "2000-01-02  0.390769  1.891844  0.432447  1.274492\n",
       "2000-01-03  0.273671 -0.330292 -1.659032 -0.399116\n",
       "2000-01-04  2.267010 -1.129834  0.361568 -0.820910\n",
       "2000-01-05  0.339815 -0.003834 -1.117244  1.237102"
      ]
     },
     "execution_count": 96,
     "metadata": {},
     "output_type": "execute_result"
    }
   ],
   "source": [
    "wp['Item2',:,:]"
   ]
  },
  {
   "cell_type": "code",
   "execution_count": 97,
   "metadata": {},
   "outputs": [
    {
     "data": {
      "text/plain": [
       "C   -1.659032\n",
       "D   -0.399116\n",
       "Name: 2000-01-03 00:00:00, dtype: float64"
      ]
     },
     "execution_count": 97,
     "metadata": {},
     "output_type": "execute_result"
    }
   ],
   "source": [
    "# Otra forma de indexación mediante etiquetas\n",
    "wp.loc['Item2','1/3/2000','C':'D']"
   ]
  },
  {
   "cell_type": "code",
   "execution_count": 91,
   "metadata": {},
   "outputs": [
    {
     "data": {
      "text/html": [
       "<div>\n",
       "<style>\n",
       "    .dataframe thead tr:only-child th {\n",
       "        text-align: right;\n",
       "    }\n",
       "\n",
       "    .dataframe thead th {\n",
       "        text-align: left;\n",
       "    }\n",
       "\n",
       "    .dataframe tbody tr th {\n",
       "        vertical-align: top;\n",
       "    }\n",
       "</style>\n",
       "<table border=\"1\" class=\"dataframe\">\n",
       "  <thead>\n",
       "    <tr style=\"text-align: right;\">\n",
       "      <th></th>\n",
       "      <th>B</th>\n",
       "      <th>C</th>\n",
       "    </tr>\n",
       "  </thead>\n",
       "  <tbody>\n",
       "    <tr>\n",
       "      <th>2000-01-01</th>\n",
       "      <td>-1.724965</td>\n",
       "      <td>0.403278</td>\n",
       "    </tr>\n",
       "    <tr>\n",
       "      <th>2000-01-02</th>\n",
       "      <td>0.886110</td>\n",
       "      <td>0.268463</td>\n",
       "    </tr>\n",
       "    <tr>\n",
       "      <th>2000-01-03</th>\n",
       "      <td>0.857988</td>\n",
       "      <td>-0.093925</td>\n",
       "    </tr>\n",
       "    <tr>\n",
       "      <th>2000-01-04</th>\n",
       "      <td>1.671795</td>\n",
       "      <td>-0.288599</td>\n",
       "    </tr>\n",
       "    <tr>\n",
       "      <th>2000-01-05</th>\n",
       "      <td>-0.962191</td>\n",
       "      <td>-0.472573</td>\n",
       "    </tr>\n",
       "  </tbody>\n",
       "</table>\n",
       "</div>"
      ],
      "text/plain": [
       "                   B         C\n",
       "2000-01-01 -1.724965  0.403278\n",
       "2000-01-02  0.886110  0.268463\n",
       "2000-01-03  0.857988 -0.093925\n",
       "2000-01-04  1.671795 -0.288599\n",
       "2000-01-05 -0.962191 -0.472573"
      ]
     },
     "execution_count": 91,
     "metadata": {},
     "output_type": "execute_result"
    }
   ],
   "source": [
    "# Indexación mediante posiciones\n",
    "wp.iloc[0,:,1:3]"
   ]
  },
  {
   "cell_type": "markdown",
   "metadata": {},
   "source": [
    "Para más información sobre estos objetos, se recomienda consultar la [documentación sobre la estructura de datos `Panel`](http://pandas.pydata.org/pandas-docs/stable/dsintro.html#panel) en la documentación oficial de Pandas."
   ]
  },
  {
   "cell_type": "markdown",
   "metadata": {},
   "source": [
    "## 4.4 Importación de datos"
   ]
  },
  {
   "cell_type": "markdown",
   "metadata": {},
   "source": [
    "La biblioteca Pandas también incluye diversas funciones que facilitan la importación de archivos de datos desde otros programas, o utilizando diferentes estándares de representación."
   ]
  },
  {
   "cell_type": "code",
   "execution_count": 102,
   "metadata": {},
   "outputs": [
    {
     "data": {
      "text/html": [
       "<div>\n",
       "<style>\n",
       "    .dataframe thead tr:only-child th {\n",
       "        text-align: right;\n",
       "    }\n",
       "\n",
       "    .dataframe thead th {\n",
       "        text-align: left;\n",
       "    }\n",
       "\n",
       "    .dataframe tbody tr th {\n",
       "        vertical-align: top;\n",
       "    }\n",
       "</style>\n",
       "<table border=\"1\" class=\"dataframe\">\n",
       "  <thead>\n",
       "    <tr style=\"text-align: right;\">\n",
       "      <th></th>\n",
       "      <th>indicator_data_id</th>\n",
       "      <th>indicator_id</th>\n",
       "      <th>name</th>\n",
       "      <th>Measure</th>\n",
       "      <th>geo_type_name</th>\n",
       "      <th>geo_entity_id</th>\n",
       "      <th>geo_entity_name</th>\n",
       "      <th>year_description</th>\n",
       "      <th>data_valuemessage</th>\n",
       "    </tr>\n",
       "  </thead>\n",
       "  <tbody>\n",
       "    <tr>\n",
       "      <th>0</th>\n",
       "      <td>130728</td>\n",
       "      <td>646</td>\n",
       "      <td>Air Toxics Concentrations- Average Benzene Con...</td>\n",
       "      <td>Average Concentration</td>\n",
       "      <td>Borough</td>\n",
       "      <td>1</td>\n",
       "      <td>Bronx</td>\n",
       "      <td>2005</td>\n",
       "      <td>2.8</td>\n",
       "    </tr>\n",
       "    <tr>\n",
       "      <th>1</th>\n",
       "      <td>130729</td>\n",
       "      <td>646</td>\n",
       "      <td>Air Toxics Concentrations- Average Benzene Con...</td>\n",
       "      <td>Average Concentration</td>\n",
       "      <td>Borough</td>\n",
       "      <td>2</td>\n",
       "      <td>Brooklyn</td>\n",
       "      <td>2005</td>\n",
       "      <td>2.8</td>\n",
       "    </tr>\n",
       "    <tr>\n",
       "      <th>2</th>\n",
       "      <td>130730</td>\n",
       "      <td>646</td>\n",
       "      <td>Air Toxics Concentrations- Average Benzene Con...</td>\n",
       "      <td>Average Concentration</td>\n",
       "      <td>Borough</td>\n",
       "      <td>3</td>\n",
       "      <td>Manhattan</td>\n",
       "      <td>2005</td>\n",
       "      <td>4.7</td>\n",
       "    </tr>\n",
       "    <tr>\n",
       "      <th>3</th>\n",
       "      <td>130731</td>\n",
       "      <td>646</td>\n",
       "      <td>Air Toxics Concentrations- Average Benzene Con...</td>\n",
       "      <td>Average Concentration</td>\n",
       "      <td>Borough</td>\n",
       "      <td>4</td>\n",
       "      <td>Queens</td>\n",
       "      <td>2005</td>\n",
       "      <td>1.9</td>\n",
       "    </tr>\n",
       "    <tr>\n",
       "      <th>4</th>\n",
       "      <td>130732</td>\n",
       "      <td>646</td>\n",
       "      <td>Air Toxics Concentrations- Average Benzene Con...</td>\n",
       "      <td>Average Concentration</td>\n",
       "      <td>Borough</td>\n",
       "      <td>5</td>\n",
       "      <td>Staten Island</td>\n",
       "      <td>2005</td>\n",
       "      <td>1.6</td>\n",
       "    </tr>\n",
       "  </tbody>\n",
       "</table>\n",
       "</div>"
      ],
      "text/plain": [
       "   indicator_data_id  indicator_id  \\\n",
       "0             130728           646   \n",
       "1             130729           646   \n",
       "2             130730           646   \n",
       "3             130731           646   \n",
       "4             130732           646   \n",
       "\n",
       "                                                name                Measure  \\\n",
       "0  Air Toxics Concentrations- Average Benzene Con...  Average Concentration   \n",
       "1  Air Toxics Concentrations- Average Benzene Con...  Average Concentration   \n",
       "2  Air Toxics Concentrations- Average Benzene Con...  Average Concentration   \n",
       "3  Air Toxics Concentrations- Average Benzene Con...  Average Concentration   \n",
       "4  Air Toxics Concentrations- Average Benzene Con...  Average Concentration   \n",
       "\n",
       "  geo_type_name  geo_entity_id geo_entity_name year_description  \\\n",
       "0       Borough              1           Bronx             2005   \n",
       "1       Borough              2        Brooklyn             2005   \n",
       "2       Borough              3       Manhattan             2005   \n",
       "3       Borough              4          Queens             2005   \n",
       "4       Borough              5   Staten Island             2005   \n",
       "\n",
       "   data_valuemessage  \n",
       "0                2.8  \n",
       "1                2.8  \n",
       "2                4.7  \n",
       "3                1.9  \n",
       "4                1.6  "
      ]
     },
     "execution_count": 102,
     "metadata": {},
     "output_type": "execute_result"
    }
   ],
   "source": [
    "# Carga de un archivo en formato CSV\n",
    "air_data = pd.read_csv('data/Air_Quality.csv')\n",
    "air_data.head()"
   ]
  },
  {
   "cell_type": "markdown",
   "metadata": {},
   "source": [
    "Algunas otras funciones de lectura de datos incluidas en Pandas son:\n",
    "* `read_excel()` (para ficheros en formato MS Excel).\n",
    "* `read_html()` (lectura de ficheros de datos en HTML).\n",
    "* `read_json()` (lectura de ficheros de datos en JSON).\n",
    "* `read_hdf()` (lecutra de ficheros de datos en HDF5).\n",
    "* `read_pickle()` (lectura de ficheros de datos con objetos Python, serializados utilizando `cPickle`)."
   ]
  },
  {
   "cell_type": "markdown",
   "metadata": {},
   "source": [
    "Análogamente, existen funciones similares para escritura de datos en disco. Se puede consultar más información sobre todas estas funcionalidades y métodos en la [documentación sobre E/S](http://pandas.pydata.org/pandas-docs/stable/io.html) de la biblioteca Pandas."
   ]
  },
  {
   "cell_type": "markdown",
   "metadata": {},
   "source": [
    "## 4.5 Gestión de datos de series temporales: fechas y marcas de tiempo\n",
    "\n",
    "Un tipo de datos muy relevante que vamos a tratar a lo largo de todo el curso son los datos de **series temporales**, donde cada valor tiene asociada la información de la fecha (a veces fecha y hora) de su recogida. Con esta información podemos construir series de valores a lo largo del tiempo, ordenándolos de manera cronológica."
   ]
  },
  {
   "cell_type": "markdown",
   "metadata": {},
   "source": [
    "La biblioteca Pandas ofrece una [extensa colección de herramientas y operaciones para manejo de series temporales](http://pandas.pydata.org/pandas-docs/stable/timeseries.html), incluyendo muchas funciones ya presentes en otros paquetes y que se han consolidado en Pandas como herramienta multiusos para este propósito.\n",
    "\n",
    "La primera de las funciones importantes en este apartado es `date_range`, que permite generar rangos de etiquetas en el tiempo a partir de una marca temporal de inicio, especificando la frecuencia de equiespaciado entre los puntos y el número de puntos:"
   ]
  },
  {
   "cell_type": "code",
   "execution_count": 116,
   "metadata": {},
   "outputs": [
    {
     "data": {
      "text/plain": [
       "DatetimeIndex(['2016-01-01 00:00:00', '2016-01-01 01:00:00',\n",
       "               '2016-01-01 02:00:00', '2016-01-01 03:00:00',\n",
       "               '2016-01-01 04:00:00'],\n",
       "              dtype='datetime64[ns]', freq='H')"
      ]
     },
     "execution_count": 116,
     "metadata": {},
     "output_type": "execute_result"
    }
   ],
   "source": [
    "# Generamos 48 horas a partir de las 00:00:00 del día 1 de enero de 2016\n",
    "# freq -> 'H' horas, 'D' días, 'Min' minutos, 's' segundos, 'ms' mili segundos...\n",
    "rng = pd.date_range('01/01/2016', periods=48, freq='H')\n",
    "rng[:5]"
   ]
  },
  {
   "cell_type": "code",
   "execution_count": 32,
   "metadata": {},
   "outputs": [
    {
     "data": {
      "text/plain": [
       "2016-01-01 00:00:00    0.213616\n",
       "2016-01-01 01:00:00    0.395835\n",
       "2016-01-01 02:00:00   -0.437372\n",
       "2016-01-01 03:00:00   -0.353220\n",
       "2016-01-01 04:00:00   -0.329975\n",
       "Freq: H, dtype: float64"
      ]
     },
     "execution_count": 32,
     "metadata": {},
     "output_type": "execute_result"
    }
   ],
   "source": [
    "# Utilización de rangos temporales para indexar objetos `Series`, convirtiéndolos\n",
    "# en series temporales (marca de tiempo/valor)\n",
    "serie_4 = pd.Series(np.random.randn(len(rng)), index=rng)\n",
    "serie_4.head()"
   ]
  },
  {
   "cell_type": "markdown",
   "metadata": {},
   "source": [
    "Esencialmente, existen dos tipos de formas básicas para definir en Pandas un vector de valores a lo largo del tiempo:\n",
    "\n",
    "* *Timestamps*: son datos que marcan exactamente la fecha y hora asociada a cada punto. Se generan mediante la clase `Timestamp`. Sus índices asociados son de la clase `DatetimeIndex`.\n",
    "* *Time spans*: representan un solo intervalo temporal, en el que indicamos el inicio y la frecuencia entre cada uno de los puntos que lo componen. Sus índices asociados son de tipo `PeriodIndex`.\n",
    "\n",
    "Veamos algunos ejemplos:"
   ]
  },
  {
   "cell_type": "code",
   "execution_count": 117,
   "metadata": {
    "collapsed": true,
    "scrolled": true
   },
   "outputs": [],
   "source": [
    "from datetime import datetime\n",
    "ts_1 = pd.Timestamp(datetime(2015, 1, 1))\n",
    "ts_2 = pd.Timestamp(np.datetime64('2016-06-01'))"
   ]
  },
  {
   "cell_type": "code",
   "execution_count": 118,
   "metadata": {},
   "outputs": [
    {
     "data": {
      "text/plain": [
       "Timestamp('2015-01-01 00:00:00')"
      ]
     },
     "execution_count": 118,
     "metadata": {},
     "output_type": "execute_result"
    }
   ],
   "source": [
    "ts_1"
   ]
  },
  {
   "cell_type": "code",
   "execution_count": 119,
   "metadata": {},
   "outputs": [
    {
     "data": {
      "text/plain": [
       "Timestamp('2016-06-01 00:00:00')"
      ]
     },
     "execution_count": 119,
     "metadata": {},
     "output_type": "execute_result"
    }
   ],
   "source": [
    "ts_2"
   ]
  },
  {
   "cell_type": "code",
   "execution_count": 120,
   "metadata": {},
   "outputs": [
    {
     "data": {
      "text/plain": [
       "Timedelta('517 days 00:00:00')"
      ]
     },
     "execution_count": 120,
     "metadata": {},
     "output_type": "execute_result"
    }
   ],
   "source": [
    "# Podemos realizar directamente operaciones aritméticas\n",
    "# como resta de Timestamps, que da como resultado un\n",
    "# objeto Timedelta\n",
    "ts_2 - ts_1"
   ]
  },
  {
   "cell_type": "markdown",
   "metadata": {},
   "source": [
    "En muchsa ocasiones resulta más conveniente asociar determinados eventos, como pueden ser cambios de variables, a intervalos de tiempo. Para ello utilizaremos `Period`, donde se puede especificar el periodo explícitamente o se deduce a partir del formato de la cadena que recibe como parámetro."
   ]
  },
  {
   "cell_type": "code",
   "execution_count": 121,
   "metadata": {},
   "outputs": [
    {
     "data": {
      "text/plain": [
       "Period('2011-01', 'M')"
      ]
     },
     "execution_count": 121,
     "metadata": {},
     "output_type": "execute_result"
    }
   ],
   "source": [
    "periodo_1 = pd.Period('2011-01')\n",
    "periodo_2 = pd.Period('2011-01-01')\n",
    "periodo_1"
   ]
  },
  {
   "cell_type": "code",
   "execution_count": 122,
   "metadata": {},
   "outputs": [
    {
     "data": {
      "text/plain": [
       "Period('2011-01-01', 'D')"
      ]
     },
     "execution_count": 122,
     "metadata": {},
     "output_type": "execute_result"
    }
   ],
   "source": [
    "periodo_2"
   ]
  },
  {
   "cell_type": "code",
   "execution_count": 40,
   "metadata": {},
   "outputs": [
    {
     "data": {
      "text/plain": [
       "2016-05-01    0.990786\n",
       "2016-05-02    0.011975\n",
       "2016-05-03    0.009975\n",
       "dtype: float64"
      ]
     },
     "execution_count": 40,
     "metadata": {},
     "output_type": "execute_result"
    }
   ],
   "source": [
    "# Utilización con el tipo `Series` para crear series temporales\n",
    "dates = [pd.Timestamp('2016-05-01'), pd.Timestamp('2016-05-02'), pd.Timestamp('2016-05-03')]\n",
    "serie_temporal_1 = pd.Series(np.random.randn(3), index=dates)\n",
    "serie_temporal_1"
   ]
  },
  {
   "cell_type": "code",
   "execution_count": 41,
   "metadata": {},
   "outputs": [
    {
     "data": {
      "text/plain": [
       "pandas.core.indexes.datetimes.DatetimeIndex"
      ]
     },
     "execution_count": 41,
     "metadata": {},
     "output_type": "execute_result"
    }
   ],
   "source": [
    "type(serie_temporal_1.index)"
   ]
  },
  {
   "cell_type": "code",
   "execution_count": 42,
   "metadata": {},
   "outputs": [
    {
     "data": {
      "text/plain": [
       "DatetimeIndex(['2016-05-01', '2016-05-02', '2016-05-03'], dtype='datetime64[ns]', freq=None)"
      ]
     },
     "execution_count": 42,
     "metadata": {},
     "output_type": "execute_result"
    }
   ],
   "source": [
    "serie_temporal_1.index"
   ]
  },
  {
   "cell_type": "markdown",
   "metadata": {},
   "source": [
    "Se pueden consultar detalles adicionales sobre el soporte para datos de series temporales e intervalos temmporales en la correspondiente [página de documentación](http://pandas.pydata.org/pandas-docs/stable/timeseries.html) de la biblioteca Pandas. En particular, el soporte para series irregulares y con puntos de comienzo y fin arbitrarios todavía es muy limitado y se espera que mejore sustancialmente en futuras versiones. En este sentido, el soporte que proporcionan en otros lenguajes como R paquetes tales como `xts` es mucho más completo y robusto, actualmente."
   ]
  },
  {
   "cell_type": "markdown",
   "metadata": {},
   "source": [
    "## 4.6 Soporte para concatenación de operaciones"
   ]
  },
  {
   "cell_type": "markdown",
   "metadata": {},
   "source": [
    "En el lenguaje de programación R hemos comprobado como la introducción de los paquetes `dplyr` y `tidyr` han supuesto una verdadera revolución a la hora de permitirnos definir flujos de procesado y transformación de datos explícitamente, mediante el código programado. Aprovechándonos de otros paquetes adicionales, como `magrittr` que proporciona el operador `%>%` (*forward pipe*), la sintaxis que define flujos de tratamiento de datos se vuelve todavía más explícita y legible para el programador.\n",
    "\n",
    "En Python, la biblioteca Pandas no es ajena a esta influencia que comienza a imponerse en el mundo de la ciencia de datos. Así, operaciones como [group by](http://pandas.pydata.org/pandas-docs/stable/groupby.html) (con el paradigma *split-apply-combine*), [*merge*, *join* y concatenación](http://pandas.pydata.org/pandas-docs/stable/merging.html), así como las [transformaciones entre formato de datos *long* y *wide*](http://pandas.pydata.org/pandas-docs/stable/reshaping.html) también estan soportadas por una amplia colección de herramientas y métodos."
   ]
  },
  {
   "cell_type": "code",
   "execution_count": 124,
   "metadata": {},
   "outputs": [
    {
     "data": {
      "text/plain": [
       "1    A\n",
       "2    B\n",
       "3    C\n",
       "dtype: object"
      ]
     },
     "execution_count": 124,
     "metadata": {},
     "output_type": "execute_result"
    }
   ],
   "source": [
    "# Concatenación simple de Series con la función pd.concat()\n",
    "ser_1 = pd.Series(['A','B','C'], index=[1,2,3])\n",
    "ser_2 = pd.Series(['D','E','F'], index=[4,5,6])\n",
    "ser_1"
   ]
  },
  {
   "cell_type": "code",
   "execution_count": 125,
   "metadata": {},
   "outputs": [
    {
     "data": {
      "text/plain": [
       "4    D\n",
       "5    E\n",
       "6    F\n",
       "dtype: object"
      ]
     },
     "execution_count": 125,
     "metadata": {},
     "output_type": "execute_result"
    }
   ],
   "source": [
    "ser_2"
   ]
  },
  {
   "cell_type": "code",
   "execution_count": 126,
   "metadata": {},
   "outputs": [
    {
     "data": {
      "text/plain": [
       "1    A\n",
       "2    B\n",
       "3    C\n",
       "4    D\n",
       "5    E\n",
       "6    F\n",
       "dtype: object"
      ]
     },
     "execution_count": 126,
     "metadata": {},
     "output_type": "execute_result"
    }
   ],
   "source": [
    "ser_1_2 = pd.concat([ser_1, ser_2])\n",
    "ser_1_2"
   ]
  },
  {
   "cell_type": "code",
   "execution_count": 128,
   "metadata": {},
   "outputs": [
    {
     "data": {
      "text/html": [
       "<div>\n",
       "<style>\n",
       "    .dataframe thead tr:only-child th {\n",
       "        text-align: right;\n",
       "    }\n",
       "\n",
       "    .dataframe thead th {\n",
       "        text-align: left;\n",
       "    }\n",
       "\n",
       "    .dataframe tbody tr th {\n",
       "        vertical-align: top;\n",
       "    }\n",
       "</style>\n",
       "<table border=\"1\" class=\"dataframe\">\n",
       "  <thead>\n",
       "    <tr style=\"text-align: right;\">\n",
       "      <th></th>\n",
       "      <th>A</th>\n",
       "      <th>B</th>\n",
       "    </tr>\n",
       "  </thead>\n",
       "  <tbody>\n",
       "    <tr>\n",
       "      <th>0</th>\n",
       "      <td>A0</td>\n",
       "      <td>B0</td>\n",
       "    </tr>\n",
       "    <tr>\n",
       "      <th>1</th>\n",
       "      <td>A1</td>\n",
       "      <td>B1</td>\n",
       "    </tr>\n",
       "  </tbody>\n",
       "</table>\n",
       "</div>"
      ],
      "text/plain": [
       "    A   B\n",
       "0  A0  B0\n",
       "1  A1  B1"
      ]
     },
     "execution_count": 128,
     "metadata": {},
     "output_type": "execute_result"
    }
   ],
   "source": [
    "# Concatenación simple de DataFrame con pd.concat()\n",
    "dict_1 = {'A': ['A0', 'A1'],\n",
    "     'B': ['B0', 'B1']}\n",
    "df_1 = pd.DataFrame(dict_1)\n",
    "df_1"
   ]
  },
  {
   "cell_type": "code",
   "execution_count": 136,
   "metadata": {},
   "outputs": [
    {
     "data": {
      "text/html": [
       "<div>\n",
       "<style>\n",
       "    .dataframe thead tr:only-child th {\n",
       "        text-align: right;\n",
       "    }\n",
       "\n",
       "    .dataframe thead th {\n",
       "        text-align: left;\n",
       "    }\n",
       "\n",
       "    .dataframe tbody tr th {\n",
       "        vertical-align: top;\n",
       "    }\n",
       "</style>\n",
       "<table border=\"1\" class=\"dataframe\">\n",
       "  <thead>\n",
       "    <tr style=\"text-align: right;\">\n",
       "      <th></th>\n",
       "      <th>C</th>\n",
       "      <th>D</th>\n",
       "    </tr>\n",
       "  </thead>\n",
       "  <tbody>\n",
       "    <tr>\n",
       "      <th>0</th>\n",
       "      <td>C0</td>\n",
       "      <td>D0</td>\n",
       "    </tr>\n",
       "    <tr>\n",
       "      <th>1</th>\n",
       "      <td>C1</td>\n",
       "      <td>D1</td>\n",
       "    </tr>\n",
       "  </tbody>\n",
       "</table>\n",
       "</div>"
      ],
      "text/plain": [
       "    C   D\n",
       "0  C0  D0\n",
       "1  C1  D1"
      ]
     },
     "execution_count": 136,
     "metadata": {},
     "output_type": "execute_result"
    }
   ],
   "source": [
    "dict_2 = {'C': ['C0', 'C1'],\n",
    "     'D': ['D0', 'D1']}\n",
    "df_2 = pd.DataFrame(dict_2)\n",
    "df_2"
   ]
  },
  {
   "cell_type": "code",
   "execution_count": 137,
   "metadata": {},
   "outputs": [
    {
     "data": {
      "text/html": [
       "<div>\n",
       "<style>\n",
       "    .dataframe thead tr:only-child th {\n",
       "        text-align: right;\n",
       "    }\n",
       "\n",
       "    .dataframe thead th {\n",
       "        text-align: left;\n",
       "    }\n",
       "\n",
       "    .dataframe tbody tr th {\n",
       "        vertical-align: top;\n",
       "    }\n",
       "</style>\n",
       "<table border=\"1\" class=\"dataframe\">\n",
       "  <thead>\n",
       "    <tr style=\"text-align: right;\">\n",
       "      <th></th>\n",
       "      <th>A</th>\n",
       "      <th>B</th>\n",
       "      <th>C</th>\n",
       "      <th>D</th>\n",
       "    </tr>\n",
       "  </thead>\n",
       "  <tbody>\n",
       "    <tr>\n",
       "      <th>0</th>\n",
       "      <td>A0</td>\n",
       "      <td>B0</td>\n",
       "      <td>NaN</td>\n",
       "      <td>NaN</td>\n",
       "    </tr>\n",
       "    <tr>\n",
       "      <th>1</th>\n",
       "      <td>A1</td>\n",
       "      <td>B1</td>\n",
       "      <td>NaN</td>\n",
       "      <td>NaN</td>\n",
       "    </tr>\n",
       "    <tr>\n",
       "      <th>0</th>\n",
       "      <td>NaN</td>\n",
       "      <td>NaN</td>\n",
       "      <td>C0</td>\n",
       "      <td>D0</td>\n",
       "    </tr>\n",
       "    <tr>\n",
       "      <th>1</th>\n",
       "      <td>NaN</td>\n",
       "      <td>NaN</td>\n",
       "      <td>C1</td>\n",
       "      <td>D1</td>\n",
       "    </tr>\n",
       "  </tbody>\n",
       "</table>\n",
       "</div>"
      ],
      "text/plain": [
       "     A    B    C    D\n",
       "0   A0   B0  NaN  NaN\n",
       "1   A1   B1  NaN  NaN\n",
       "0  NaN  NaN   C0   D0\n",
       "1  NaN  NaN   C1   D1"
      ]
     },
     "execution_count": 137,
     "metadata": {},
     "output_type": "execute_result"
    }
   ],
   "source": [
    "df_1_2 = pd.concat([df_1, df_2], axis=0)\n",
    "df_1_2"
   ]
  },
  {
   "cell_type": "code",
   "execution_count": 138,
   "metadata": {},
   "outputs": [
    {
     "data": {
      "text/html": [
       "<div>\n",
       "<style>\n",
       "    .dataframe thead tr:only-child th {\n",
       "        text-align: right;\n",
       "    }\n",
       "\n",
       "    .dataframe thead th {\n",
       "        text-align: left;\n",
       "    }\n",
       "\n",
       "    .dataframe tbody tr th {\n",
       "        vertical-align: top;\n",
       "    }\n",
       "</style>\n",
       "<table border=\"1\" class=\"dataframe\">\n",
       "  <thead>\n",
       "    <tr style=\"text-align: right;\">\n",
       "      <th></th>\n",
       "      <th>A</th>\n",
       "      <th>B</th>\n",
       "      <th>C</th>\n",
       "      <th>D</th>\n",
       "    </tr>\n",
       "  </thead>\n",
       "  <tbody>\n",
       "    <tr>\n",
       "      <th>0</th>\n",
       "      <td>A0</td>\n",
       "      <td>B0</td>\n",
       "      <td>C0</td>\n",
       "      <td>D0</td>\n",
       "    </tr>\n",
       "    <tr>\n",
       "      <th>1</th>\n",
       "      <td>A1</td>\n",
       "      <td>B1</td>\n",
       "      <td>C1</td>\n",
       "      <td>D1</td>\n",
       "    </tr>\n",
       "  </tbody>\n",
       "</table>\n",
       "</div>"
      ],
      "text/plain": [
       "    A   B   C   D\n",
       "0  A0  B0  C0  D0\n",
       "1  A1  B1  C1  D1"
      ]
     },
     "execution_count": 138,
     "metadata": {},
     "output_type": "execute_result"
    }
   ],
   "source": [
    "df_1_2 = pd.concat([df_1, df_2], axis=1)\n",
    "df_1_2"
   ]
  },
  {
   "cell_type": "code",
   "execution_count": 142,
   "metadata": {},
   "outputs": [
    {
     "data": {
      "text/html": [
       "<div>\n",
       "<style>\n",
       "    .dataframe thead tr:only-child th {\n",
       "        text-align: right;\n",
       "    }\n",
       "\n",
       "    .dataframe thead th {\n",
       "        text-align: left;\n",
       "    }\n",
       "\n",
       "    .dataframe tbody tr th {\n",
       "        vertical-align: top;\n",
       "    }\n",
       "</style>\n",
       "<table border=\"1\" class=\"dataframe\">\n",
       "  <thead>\n",
       "    <tr style=\"text-align: right;\">\n",
       "      <th></th>\n",
       "      <th>dpto.</th>\n",
       "      <th>empleado</th>\n",
       "      <th>ext.</th>\n",
       "    </tr>\n",
       "  </thead>\n",
       "  <tbody>\n",
       "    <tr>\n",
       "      <th>0</th>\n",
       "      <td>Contabilidad</td>\n",
       "      <td>Ana</td>\n",
       "      <td>6895</td>\n",
       "    </tr>\n",
       "    <tr>\n",
       "      <th>1</th>\n",
       "      <td>RRHH</td>\n",
       "      <td>Juan</td>\n",
       "      <td>6745</td>\n",
       "    </tr>\n",
       "    <tr>\n",
       "      <th>2</th>\n",
       "      <td>Marketing</td>\n",
       "      <td>María</td>\n",
       "      <td>6855</td>\n",
       "    </tr>\n",
       "    <tr>\n",
       "      <th>3</th>\n",
       "      <td>RRHH</td>\n",
       "      <td>Carlos</td>\n",
       "      <td>6746</td>\n",
       "    </tr>\n",
       "  </tbody>\n",
       "</table>\n",
       "</div>"
      ],
      "text/plain": [
       "          dpto. empleado  ext.\n",
       "0  Contabilidad      Ana  6895\n",
       "1          RRHH     Juan  6745\n",
       "2     Marketing    María  6855\n",
       "3          RRHH   Carlos  6746"
      ]
     },
     "execution_count": 142,
     "metadata": {},
     "output_type": "execute_result"
    }
   ],
   "source": [
    "# Ejemplo de pd.merge() con dos DataFrame\n",
    "dict_1 = {'empleado': ['Ana', 'Juan', 'María', 'Carlos'],\n",
    "       'dpto.': ['Contabilidad', 'RRHH', 'Marketing', 'RRHH']}\n",
    "df_1 = pd.DataFrame(dict_1)\n",
    "dict_2 = {'empleado': ['Ana', 'Juan', 'María', 'Carlos'],\n",
    "       'ext.': [6895, 6745, 6855, 6746]}\n",
    "df_2 = pd.DataFrame(dict_2)\n",
    "df_1_2 = pd.merge(df_1, df_2)\n",
    "df_1_2"
   ]
  },
  {
   "cell_type": "code",
   "execution_count": 145,
   "metadata": {},
   "outputs": [
    {
     "data": {
      "text/html": [
       "<div>\n",
       "<style>\n",
       "    .dataframe thead tr:only-child th {\n",
       "        text-align: right;\n",
       "    }\n",
       "\n",
       "    .dataframe thead th {\n",
       "        text-align: left;\n",
       "    }\n",
       "\n",
       "    .dataframe tbody tr th {\n",
       "        vertical-align: top;\n",
       "    }\n",
       "</style>\n",
       "<table border=\"1\" class=\"dataframe\">\n",
       "  <thead>\n",
       "    <tr style=\"text-align: right;\">\n",
       "      <th></th>\n",
       "      <th>dpto.</th>\n",
       "      <th>ext.</th>\n",
       "    </tr>\n",
       "  </thead>\n",
       "  <tbody>\n",
       "    <tr>\n",
       "      <th>Ana</th>\n",
       "      <td>Contabilidad</td>\n",
       "      <td>6895</td>\n",
       "    </tr>\n",
       "    <tr>\n",
       "      <th>Juan</th>\n",
       "      <td>RRHH</td>\n",
       "      <td>6745</td>\n",
       "    </tr>\n",
       "    <tr>\n",
       "      <th>María</th>\n",
       "      <td>Marketing</td>\n",
       "      <td>6855</td>\n",
       "    </tr>\n",
       "    <tr>\n",
       "      <th>Carlos</th>\n",
       "      <td>RRHH</td>\n",
       "      <td>6746</td>\n",
       "    </tr>\n",
       "  </tbody>\n",
       "</table>\n",
       "</div>"
      ],
      "text/plain": [
       "               dpto.  ext.\n",
       "Ana     Contabilidad  6895\n",
       "Juan            RRHH  6745\n",
       "María      Marketing  6855\n",
       "Carlos          RRHH  6746"
      ]
     },
     "execution_count": 145,
     "metadata": {},
     "output_type": "execute_result"
    }
   ],
   "source": [
    "# Ejemplo de join() con dos DataFrame\n",
    "dict_1 = {'dpto.': ['Contabilidad', 'RRHH', 'Marketing', 'RRHH']}\n",
    "dict_2 = {'ext.': [6895, 6745, 6855, 6746]}\n",
    "df_1 = pd.DataFrame(dict_1, index=['Ana', 'Juan', 'María', 'Carlos'])\n",
    "df_2 = pd.DataFrame(dict_2, index=['Ana', 'Juan', 'María', 'Carlos'])\n",
    "df_1.join(df_2)"
   ]
  },
  {
   "cell_type": "code",
   "execution_count": null,
   "metadata": {
    "collapsed": true
   },
   "outputs": [],
   "source": []
  },
  {
   "cell_type": "code",
   "execution_count": null,
   "metadata": {
    "collapsed": true
   },
   "outputs": [],
   "source": []
  },
  {
   "cell_type": "markdown",
   "metadata": {},
   "source": [
    "Notablemente, la **concatenación de operaciones y métodos** (similar a la que conseguimos en R con el operador `%>%`) se puede conseguir también en Pandas mediante la [**función `pipe()`**](http://pandas.pydata.org/pandas-docs/stable/basics.html?highlight=pipe#function-application):"
   ]
  },
  {
   "cell_type": "markdown",
   "metadata": {},
   "source": [
    "```python\n",
    "# f, g, y h son funciones que devuelven ``DataFrames``\n",
    ">>> f(g(h(df), arg1=1), arg2=2, arg3=3)\n",
    "```\n",
    "```python\n",
    "# Versión con operadores concatenados mediante pipe()\n",
    "(df.pipe(h)\n",
    "       .pipe(g, arg1=1)\n",
    "       .pipe(f, arg2=2, arg3=3)\n",
    "    )\n",
    "```"
   ]
  },
  {
   "cell_type": "markdown",
   "metadata": {},
   "source": [
    "## 4.7 Ejemplo: Análisis de datos de servicios de taxi en NYC"
   ]
  },
  {
   "cell_type": "markdown",
   "metadata": {},
   "source": [
    "En este ejemplo, realizamos un análisis básico de datos públicos sobre el servicio de Yellow taxis en NYC, EE.UU., durante el mes de enero de 2015. Este ejemplo es similar al que presenta C. Doig (Senior Data Scientist en Continuum Analytics), en su [primer notebook del tutorial DSS](https://github.com/chdoig/dss-scaling-tutorial/blob/master/1-Scaling%20Data%20Analysis/1-pandas.ipynb) disponible en GitHub.\n",
    "\n",
    "Nosotros usaremos una muestra del primer millónn de filas (aprox. 150 MB) del archivo completo para dicho mes. En el apartado [4.8 Referencias](), ofrecemos la URL para descargar el dataset completo de ese mes, para que los alumnos que lo deseen descarguen el archivo completo y repliquen el análisis sobre todos los datos."
   ]
  },
  {
   "cell_type": "code",
   "execution_count": 10,
   "metadata": {},
   "outputs": [
    {
     "data": {
      "text/plain": [
       "'0.24.2'"
      ]
     },
     "execution_count": 10,
     "metadata": {},
     "output_type": "execute_result"
    }
   ],
   "source": [
    "# Comprobar versión de Pandas que tenemos cargada\n",
    "pd.__version__"
   ]
  },
  {
   "cell_type": "code",
   "execution_count": 44,
   "metadata": {
    "collapsed": true
   },
   "outputs": [],
   "source": [
    "df = pd.read_csv('data/yellow_tripdata_2015-01-excerpt.csv')"
   ]
  },
  {
   "cell_type": "code",
   "execution_count": 45,
   "metadata": {},
   "outputs": [
    {
     "data": {
      "text/html": [
       "<div>\n",
       "<style>\n",
       "    .dataframe thead tr:only-child th {\n",
       "        text-align: right;\n",
       "    }\n",
       "\n",
       "    .dataframe thead th {\n",
       "        text-align: left;\n",
       "    }\n",
       "\n",
       "    .dataframe tbody tr th {\n",
       "        vertical-align: top;\n",
       "    }\n",
       "</style>\n",
       "<table border=\"1\" class=\"dataframe\">\n",
       "  <thead>\n",
       "    <tr style=\"text-align: right;\">\n",
       "      <th></th>\n",
       "      <th>VendorID</th>\n",
       "      <th>tpep_pickup_datetime</th>\n",
       "      <th>tpep_dropoff_datetime</th>\n",
       "      <th>passenger_count</th>\n",
       "      <th>trip_distance</th>\n",
       "      <th>pickup_longitude</th>\n",
       "      <th>pickup_latitude</th>\n",
       "      <th>RateCodeID</th>\n",
       "      <th>store_and_fwd_flag</th>\n",
       "      <th>dropoff_longitude</th>\n",
       "      <th>dropoff_latitude</th>\n",
       "      <th>payment_type</th>\n",
       "      <th>fare_amount</th>\n",
       "      <th>extra</th>\n",
       "      <th>mta_tax</th>\n",
       "      <th>tip_amount</th>\n",
       "      <th>tolls_amount</th>\n",
       "      <th>improvement_surcharge</th>\n",
       "      <th>total_amount</th>\n",
       "    </tr>\n",
       "  </thead>\n",
       "  <tbody>\n",
       "    <tr>\n",
       "      <th>0</th>\n",
       "      <td>2</td>\n",
       "      <td>2015-01-15 19:05:39</td>\n",
       "      <td>2015-01-15 19:23:42</td>\n",
       "      <td>1</td>\n",
       "      <td>1.59</td>\n",
       "      <td>-73.993896</td>\n",
       "      <td>40.750111</td>\n",
       "      <td>1</td>\n",
       "      <td>N</td>\n",
       "      <td>-73.974785</td>\n",
       "      <td>40.750618</td>\n",
       "      <td>1</td>\n",
       "      <td>12.0</td>\n",
       "      <td>1.0</td>\n",
       "      <td>0.5</td>\n",
       "      <td>3.25</td>\n",
       "      <td>0.0</td>\n",
       "      <td>0.3</td>\n",
       "      <td>17.05</td>\n",
       "    </tr>\n",
       "    <tr>\n",
       "      <th>1</th>\n",
       "      <td>1</td>\n",
       "      <td>2015-01-10 20:33:38</td>\n",
       "      <td>2015-01-10 20:53:28</td>\n",
       "      <td>1</td>\n",
       "      <td>3.30</td>\n",
       "      <td>-74.001648</td>\n",
       "      <td>40.724243</td>\n",
       "      <td>1</td>\n",
       "      <td>N</td>\n",
       "      <td>-73.994415</td>\n",
       "      <td>40.759109</td>\n",
       "      <td>1</td>\n",
       "      <td>14.5</td>\n",
       "      <td>0.5</td>\n",
       "      <td>0.5</td>\n",
       "      <td>2.00</td>\n",
       "      <td>0.0</td>\n",
       "      <td>0.3</td>\n",
       "      <td>17.80</td>\n",
       "    </tr>\n",
       "    <tr>\n",
       "      <th>2</th>\n",
       "      <td>1</td>\n",
       "      <td>2015-01-10 20:33:38</td>\n",
       "      <td>2015-01-10 20:43:41</td>\n",
       "      <td>1</td>\n",
       "      <td>1.80</td>\n",
       "      <td>-73.963341</td>\n",
       "      <td>40.802788</td>\n",
       "      <td>1</td>\n",
       "      <td>N</td>\n",
       "      <td>-73.951820</td>\n",
       "      <td>40.824413</td>\n",
       "      <td>2</td>\n",
       "      <td>9.5</td>\n",
       "      <td>0.5</td>\n",
       "      <td>0.5</td>\n",
       "      <td>0.00</td>\n",
       "      <td>0.0</td>\n",
       "      <td>0.3</td>\n",
       "      <td>10.80</td>\n",
       "    </tr>\n",
       "    <tr>\n",
       "      <th>3</th>\n",
       "      <td>1</td>\n",
       "      <td>2015-01-10 20:33:39</td>\n",
       "      <td>2015-01-10 20:35:31</td>\n",
       "      <td>1</td>\n",
       "      <td>0.50</td>\n",
       "      <td>-74.009087</td>\n",
       "      <td>40.713818</td>\n",
       "      <td>1</td>\n",
       "      <td>N</td>\n",
       "      <td>-74.004326</td>\n",
       "      <td>40.719986</td>\n",
       "      <td>2</td>\n",
       "      <td>3.5</td>\n",
       "      <td>0.5</td>\n",
       "      <td>0.5</td>\n",
       "      <td>0.00</td>\n",
       "      <td>0.0</td>\n",
       "      <td>0.3</td>\n",
       "      <td>4.80</td>\n",
       "    </tr>\n",
       "    <tr>\n",
       "      <th>4</th>\n",
       "      <td>1</td>\n",
       "      <td>2015-01-10 20:33:39</td>\n",
       "      <td>2015-01-10 20:52:58</td>\n",
       "      <td>1</td>\n",
       "      <td>3.00</td>\n",
       "      <td>-73.971176</td>\n",
       "      <td>40.762428</td>\n",
       "      <td>1</td>\n",
       "      <td>N</td>\n",
       "      <td>-74.004181</td>\n",
       "      <td>40.742653</td>\n",
       "      <td>2</td>\n",
       "      <td>15.0</td>\n",
       "      <td>0.5</td>\n",
       "      <td>0.5</td>\n",
       "      <td>0.00</td>\n",
       "      <td>0.0</td>\n",
       "      <td>0.3</td>\n",
       "      <td>16.30</td>\n",
       "    </tr>\n",
       "  </tbody>\n",
       "</table>\n",
       "</div>"
      ],
      "text/plain": [
       "   VendorID tpep_pickup_datetime tpep_dropoff_datetime  passenger_count  \\\n",
       "0         2  2015-01-15 19:05:39   2015-01-15 19:23:42                1   \n",
       "1         1  2015-01-10 20:33:38   2015-01-10 20:53:28                1   \n",
       "2         1  2015-01-10 20:33:38   2015-01-10 20:43:41                1   \n",
       "3         1  2015-01-10 20:33:39   2015-01-10 20:35:31                1   \n",
       "4         1  2015-01-10 20:33:39   2015-01-10 20:52:58                1   \n",
       "\n",
       "   trip_distance  pickup_longitude  pickup_latitude  RateCodeID  \\\n",
       "0           1.59        -73.993896        40.750111           1   \n",
       "1           3.30        -74.001648        40.724243           1   \n",
       "2           1.80        -73.963341        40.802788           1   \n",
       "3           0.50        -74.009087        40.713818           1   \n",
       "4           3.00        -73.971176        40.762428           1   \n",
       "\n",
       "  store_and_fwd_flag  dropoff_longitude  dropoff_latitude  payment_type  \\\n",
       "0                  N         -73.974785         40.750618             1   \n",
       "1                  N         -73.994415         40.759109             1   \n",
       "2                  N         -73.951820         40.824413             2   \n",
       "3                  N         -74.004326         40.719986             2   \n",
       "4                  N         -74.004181         40.742653             2   \n",
       "\n",
       "   fare_amount  extra  mta_tax  tip_amount  tolls_amount  \\\n",
       "0         12.0    1.0      0.5        3.25           0.0   \n",
       "1         14.5    0.5      0.5        2.00           0.0   \n",
       "2          9.5    0.5      0.5        0.00           0.0   \n",
       "3          3.5    0.5      0.5        0.00           0.0   \n",
       "4         15.0    0.5      0.5        0.00           0.0   \n",
       "\n",
       "   improvement_surcharge  total_amount  \n",
       "0                    0.3         17.05  \n",
       "1                    0.3         17.80  \n",
       "2                    0.3         10.80  \n",
       "3                    0.3          4.80  \n",
       "4                    0.3         16.30  "
      ]
     },
     "execution_count": 45,
     "metadata": {},
     "output_type": "execute_result"
    }
   ],
   "source": [
    "df.head()"
   ]
  },
  {
   "cell_type": "code",
   "execution_count": 46,
   "metadata": {},
   "outputs": [
    {
     "name": "stdout",
     "output_type": "stream",
     "text": [
      "<class 'pandas.core.frame.DataFrame'>\n",
      "RangeIndex: 1000000 entries, 0 to 999999\n",
      "Data columns (total 19 columns):\n",
      "VendorID                 1000000 non-null int64\n",
      "tpep_pickup_datetime     1000000 non-null object\n",
      "tpep_dropoff_datetime    1000000 non-null object\n",
      "passenger_count          1000000 non-null int64\n",
      "trip_distance            1000000 non-null float64\n",
      "pickup_longitude         1000000 non-null float64\n",
      "pickup_latitude          1000000 non-null float64\n",
      "RateCodeID               1000000 non-null int64\n",
      "store_and_fwd_flag       1000000 non-null object\n",
      "dropoff_longitude        1000000 non-null float64\n",
      "dropoff_latitude         1000000 non-null float64\n",
      "payment_type             1000000 non-null int64\n",
      "fare_amount              1000000 non-null float64\n",
      "extra                    1000000 non-null float64\n",
      "mta_tax                  1000000 non-null float64\n",
      "tip_amount               1000000 non-null float64\n",
      "tolls_amount             1000000 non-null float64\n",
      "improvement_surcharge    1000000 non-null float64\n",
      "total_amount             1000000 non-null float64\n",
      "dtypes: float64(12), int64(4), object(3)\n",
      "memory usage: 145.0+ MB\n"
     ]
    }
   ],
   "source": [
    "# Información sobre todos los tipos de datos de cada columna\n",
    "df.info()"
   ]
  },
  {
   "cell_type": "markdown",
   "metadata": {
    "collapsed": true
   },
   "source": [
    "### Nombres de las columnas en el dataset"
   ]
  },
  {
   "cell_type": "code",
   "execution_count": 47,
   "metadata": {},
   "outputs": [
    {
     "data": {
      "text/plain": [
       "Index(['VendorID', 'tpep_pickup_datetime', 'tpep_dropoff_datetime',\n",
       "       'passenger_count', 'trip_distance', 'pickup_longitude',\n",
       "       'pickup_latitude', 'RateCodeID', 'store_and_fwd_flag',\n",
       "       'dropoff_longitude', 'dropoff_latitude', 'payment_type', 'fare_amount',\n",
       "       'extra', 'mta_tax', 'tip_amount', 'tolls_amount',\n",
       "       'improvement_surcharge', 'total_amount'],\n",
       "      dtype='object')"
      ]
     },
     "execution_count": 47,
     "metadata": {},
     "output_type": "execute_result"
    }
   ],
   "source": [
    "df.columns"
   ]
  },
  {
   "cell_type": "markdown",
   "metadata": {
    "collapsed": true
   },
   "source": [
    "### Número total de pasajeros ese mes"
   ]
  },
  {
   "cell_type": "code",
   "execution_count": 48,
   "metadata": {},
   "outputs": [
    {
     "data": {
      "text/plain": [
       "1680560"
      ]
     },
     "execution_count": 48,
     "metadata": {},
     "output_type": "execute_result"
    }
   ],
   "source": [
    "df.passenger_count.sum()\n",
    "# Alternativamente\n",
    "df['passenger_count'].sum()"
   ]
  },
  {
   "cell_type": "markdown",
   "metadata": {
    "collapsed": true
   },
   "source": [
    "### Diferentes métodos de pago, número de clientes que usó cada método"
   ]
  },
  {
   "cell_type": "code",
   "execution_count": 49,
   "metadata": {},
   "outputs": [
    {
     "data": {
      "text/plain": [
       "array([1, 2, 3, 4], dtype=int64)"
      ]
     },
     "execution_count": 49,
     "metadata": {},
     "output_type": "execute_result"
    }
   ],
   "source": [
    "df.payment_type.unique()"
   ]
  },
  {
   "cell_type": "code",
   "execution_count": 50,
   "metadata": {},
   "outputs": [
    {
     "data": {
      "text/plain": [
       "1    617588\n",
       "2    378448\n",
       "3      3049\n",
       "4       915\n",
       "Name: payment_type, dtype: int64"
      ]
     },
     "execution_count": 50,
     "metadata": {},
     "output_type": "execute_result"
    }
   ],
   "source": [
    "df.payment_type.value_counts()"
   ]
  },
  {
   "cell_type": "markdown",
   "metadata": {},
   "source": [
    "### % de propina promedio, según la hora del día"
   ]
  },
  {
   "cell_type": "code",
   "execution_count": 51,
   "metadata": {},
   "outputs": [
    {
     "data": {
      "text/plain": [
       "tpep_pickup_datetime\n",
       "0    0.210879\n",
       "1    0.330759\n",
       "2    0.209751\n",
       "3    0.212536\n",
       "4    0.214229\n",
       "Name: tip_fraction, dtype: float64"
      ]
     },
     "execution_count": 51,
     "metadata": {},
     "output_type": "execute_result"
    }
   ],
   "source": [
    "# Ratio propina/valor de la carrera\n",
    "# El tipo de pago 2 no tiene propina en muchos casos, así que lo filtramos\n",
    "df2 = df[(df.payment_type != 2) & (df.fare_amount > 0)]\n",
    "df2 = df2.assign(tip_fraction=df2.tip_amount / df2.fare_amount)  # ratio of tip to fare\n",
    "\n",
    "df2.tpep_pickup_datetime = df2.tpep_pickup_datetime.astype('datetime64[ns]')\n",
    "hour = df2.groupby(df2.tpep_pickup_datetime.dt.hour).tip_fraction.mean()\n",
    "\n",
    "hour.head()"
   ]
  },
  {
   "cell_type": "markdown",
   "metadata": {},
   "source": [
    "### Representación gŕafica con Bokeh"
   ]
  },
  {
   "cell_type": "code",
   "execution_count": 52,
   "metadata": {},
   "outputs": [
    {
     "data": {
      "text/html": [
       "\n",
       "    <div class=\"bk-root\">\n",
       "        <a href=\"http://bokeh.pydata.org\" target=\"_blank\" class=\"bk-logo bk-logo-small bk-logo-notebook\"></a>\n",
       "        <span id=\"d0a267c1-5bf2-4a88-a4b7-e8b394cf5e45\">Loading BokehJS ...</span>\n",
       "    </div>"
      ]
     },
     "metadata": {},
     "output_type": "display_data"
    },
    {
     "data": {
      "application/javascript": [
       "\n",
       "(function(global) {\n",
       "  function now() {\n",
       "    return new Date();\n",
       "  }\n",
       "\n",
       "  var force = true;\n",
       "\n",
       "  if (typeof (window._bokeh_onload_callbacks) === \"undefined\" || force === true) {\n",
       "    window._bokeh_onload_callbacks = [];\n",
       "    window._bokeh_is_loading = undefined;\n",
       "  }\n",
       "\n",
       "\n",
       "  \n",
       "  if (typeof (window._bokeh_timeout) === \"undefined\" || force === true) {\n",
       "    window._bokeh_timeout = Date.now() + 5000;\n",
       "    window._bokeh_failed_load = false;\n",
       "  }\n",
       "\n",
       "  var NB_LOAD_WARNING = {'data': {'text/html':\n",
       "     \"<div style='background-color: #fdd'>\\n\"+\n",
       "     \"<p>\\n\"+\n",
       "     \"BokehJS does not appear to have successfully loaded. If loading BokehJS from CDN, this \\n\"+\n",
       "     \"may be due to a slow or bad network connection. Possible fixes:\\n\"+\n",
       "     \"</p>\\n\"+\n",
       "     \"<ul>\\n\"+\n",
       "     \"<li>re-rerun `output_notebook()` to attempt to load from CDN again, or</li>\\n\"+\n",
       "     \"<li>use INLINE resources instead, as so:</li>\\n\"+\n",
       "     \"</ul>\\n\"+\n",
       "     \"<code>\\n\"+\n",
       "     \"from bokeh.resources import INLINE\\n\"+\n",
       "     \"output_notebook(resources=INLINE)\\n\"+\n",
       "     \"</code>\\n\"+\n",
       "     \"</div>\"}};\n",
       "\n",
       "  function display_loaded() {\n",
       "    if (window.Bokeh !== undefined) {\n",
       "      var el = document.getElementById(\"d0a267c1-5bf2-4a88-a4b7-e8b394cf5e45\");\n",
       "      el.textContent = \"BokehJS \" + Bokeh.version + \" successfully loaded.\";\n",
       "    } else if (Date.now() < window._bokeh_timeout) {\n",
       "      setTimeout(display_loaded, 100)\n",
       "    }\n",
       "  }\n",
       "\n",
       "  function run_callbacks() {\n",
       "    window._bokeh_onload_callbacks.forEach(function(callback) { callback() });\n",
       "    delete window._bokeh_onload_callbacks\n",
       "    console.info(\"Bokeh: all callbacks have finished\");\n",
       "  }\n",
       "\n",
       "  function load_libs(js_urls, callback) {\n",
       "    window._bokeh_onload_callbacks.push(callback);\n",
       "    if (window._bokeh_is_loading > 0) {\n",
       "      console.log(\"Bokeh: BokehJS is being loaded, scheduling callback at\", now());\n",
       "      return null;\n",
       "    }\n",
       "    if (js_urls == null || js_urls.length === 0) {\n",
       "      run_callbacks();\n",
       "      return null;\n",
       "    }\n",
       "    console.log(\"Bokeh: BokehJS not loaded, scheduling load and callback at\", now());\n",
       "    window._bokeh_is_loading = js_urls.length;\n",
       "    for (var i = 0; i < js_urls.length; i++) {\n",
       "      var url = js_urls[i];\n",
       "      var s = document.createElement('script');\n",
       "      s.src = url;\n",
       "      s.async = false;\n",
       "      s.onreadystatechange = s.onload = function() {\n",
       "        window._bokeh_is_loading--;\n",
       "        if (window._bokeh_is_loading === 0) {\n",
       "          console.log(\"Bokeh: all BokehJS libraries loaded\");\n",
       "          run_callbacks()\n",
       "        }\n",
       "      };\n",
       "      s.onerror = function() {\n",
       "        console.warn(\"failed to load library \" + url);\n",
       "      };\n",
       "      console.log(\"Bokeh: injecting script tag for BokehJS library: \", url);\n",
       "      document.getElementsByTagName(\"head\")[0].appendChild(s);\n",
       "    }\n",
       "  };var element = document.getElementById(\"d0a267c1-5bf2-4a88-a4b7-e8b394cf5e45\");\n",
       "  if (element == null) {\n",
       "    console.log(\"Bokeh: ERROR: autoload.js configured with elementid 'd0a267c1-5bf2-4a88-a4b7-e8b394cf5e45' but no matching script tag was found. \")\n",
       "    return false;\n",
       "  }\n",
       "\n",
       "  var js_urls = [\"https://cdn.pydata.org/bokeh/release/bokeh-0.12.5.min.js\", \"https://cdn.pydata.org/bokeh/release/bokeh-widgets-0.12.5.min.js\"];\n",
       "\n",
       "  var inline_js = [\n",
       "    function(Bokeh) {\n",
       "      Bokeh.set_log_level(\"info\");\n",
       "    },\n",
       "    \n",
       "    function(Bokeh) {\n",
       "      \n",
       "    },\n",
       "    \n",
       "    function(Bokeh) {\n",
       "      \n",
       "      document.getElementById(\"d0a267c1-5bf2-4a88-a4b7-e8b394cf5e45\").textContent = \"BokehJS is loading...\";\n",
       "    },\n",
       "    function(Bokeh) {\n",
       "      console.log(\"Bokeh: injecting CSS: https://cdn.pydata.org/bokeh/release/bokeh-0.12.5.min.css\");\n",
       "      Bokeh.embed.inject_css(\"https://cdn.pydata.org/bokeh/release/bokeh-0.12.5.min.css\");\n",
       "      console.log(\"Bokeh: injecting CSS: https://cdn.pydata.org/bokeh/release/bokeh-widgets-0.12.5.min.css\");\n",
       "      Bokeh.embed.inject_css(\"https://cdn.pydata.org/bokeh/release/bokeh-widgets-0.12.5.min.css\");\n",
       "    }\n",
       "  ];\n",
       "\n",
       "  function run_inline_js() {\n",
       "    \n",
       "    if ((window.Bokeh !== undefined) || (force === true)) {\n",
       "      for (var i = 0; i < inline_js.length; i++) {\n",
       "        inline_js[i](window.Bokeh);\n",
       "      }if (force === true) {\n",
       "        display_loaded();\n",
       "      }} else if (Date.now() < window._bokeh_timeout) {\n",
       "      setTimeout(run_inline_js, 100);\n",
       "    } else if (!window._bokeh_failed_load) {\n",
       "      console.log(\"Bokeh: BokehJS failed to load within specified timeout.\");\n",
       "      window._bokeh_failed_load = true;\n",
       "    } else if (force !== true) {\n",
       "      var cell = $(document.getElementById(\"d0a267c1-5bf2-4a88-a4b7-e8b394cf5e45\")).parents('.cell').data().cell;\n",
       "      cell.output_area.append_execute_result(NB_LOAD_WARNING)\n",
       "    }\n",
       "\n",
       "  }\n",
       "\n",
       "  if (window._bokeh_is_loading === 0) {\n",
       "    console.log(\"Bokeh: BokehJS loaded, going straight to plotting\");\n",
       "    run_inline_js();\n",
       "  } else {\n",
       "    load_libs(js_urls, function() {\n",
       "      console.log(\"Bokeh: BokehJS plotting callback run at\", now());\n",
       "      run_inline_js();\n",
       "    });\n",
       "  }\n",
       "}(this));"
      ]
     },
     "metadata": {},
     "output_type": "display_data"
    },
    {
     "data": {
      "text/html": [
       "\n",
       "\n",
       "    <div class=\"bk-root\">\n",
       "        <div class=\"bk-plotdiv\" id=\"789b0653-922a-4b60-8b1f-8cbc9135f28a\"></div>\n",
       "    </div>\n",
       "<script type=\"text/javascript\">\n",
       "  \n",
       "  (function(global) {\n",
       "    function now() {\n",
       "      return new Date();\n",
       "    }\n",
       "  \n",
       "    var force = false;\n",
       "  \n",
       "    if (typeof (window._bokeh_onload_callbacks) === \"undefined\" || force === true) {\n",
       "      window._bokeh_onload_callbacks = [];\n",
       "      window._bokeh_is_loading = undefined;\n",
       "    }\n",
       "  \n",
       "  \n",
       "    \n",
       "    if (typeof (window._bokeh_timeout) === \"undefined\" || force === true) {\n",
       "      window._bokeh_timeout = Date.now() + 0;\n",
       "      window._bokeh_failed_load = false;\n",
       "    }\n",
       "  \n",
       "    var NB_LOAD_WARNING = {'data': {'text/html':\n",
       "       \"<div style='background-color: #fdd'>\\n\"+\n",
       "       \"<p>\\n\"+\n",
       "       \"BokehJS does not appear to have successfully loaded. If loading BokehJS from CDN, this \\n\"+\n",
       "       \"may be due to a slow or bad network connection. Possible fixes:\\n\"+\n",
       "       \"</p>\\n\"+\n",
       "       \"<ul>\\n\"+\n",
       "       \"<li>re-rerun `output_notebook()` to attempt to load from CDN again, or</li>\\n\"+\n",
       "       \"<li>use INLINE resources instead, as so:</li>\\n\"+\n",
       "       \"</ul>\\n\"+\n",
       "       \"<code>\\n\"+\n",
       "       \"from bokeh.resources import INLINE\\n\"+\n",
       "       \"output_notebook(resources=INLINE)\\n\"+\n",
       "       \"</code>\\n\"+\n",
       "       \"</div>\"}};\n",
       "  \n",
       "    function display_loaded() {\n",
       "      if (window.Bokeh !== undefined) {\n",
       "        var el = document.getElementById(\"789b0653-922a-4b60-8b1f-8cbc9135f28a\");\n",
       "        el.textContent = \"BokehJS \" + Bokeh.version + \" successfully loaded.\";\n",
       "      } else if (Date.now() < window._bokeh_timeout) {\n",
       "        setTimeout(display_loaded, 100)\n",
       "      }\n",
       "    }\n",
       "  \n",
       "    function run_callbacks() {\n",
       "      window._bokeh_onload_callbacks.forEach(function(callback) { callback() });\n",
       "      delete window._bokeh_onload_callbacks\n",
       "      console.info(\"Bokeh: all callbacks have finished\");\n",
       "    }\n",
       "  \n",
       "    function load_libs(js_urls, callback) {\n",
       "      window._bokeh_onload_callbacks.push(callback);\n",
       "      if (window._bokeh_is_loading > 0) {\n",
       "        console.log(\"Bokeh: BokehJS is being loaded, scheduling callback at\", now());\n",
       "        return null;\n",
       "      }\n",
       "      if (js_urls == null || js_urls.length === 0) {\n",
       "        run_callbacks();\n",
       "        return null;\n",
       "      }\n",
       "      console.log(\"Bokeh: BokehJS not loaded, scheduling load and callback at\", now());\n",
       "      window._bokeh_is_loading = js_urls.length;\n",
       "      for (var i = 0; i < js_urls.length; i++) {\n",
       "        var url = js_urls[i];\n",
       "        var s = document.createElement('script');\n",
       "        s.src = url;\n",
       "        s.async = false;\n",
       "        s.onreadystatechange = s.onload = function() {\n",
       "          window._bokeh_is_loading--;\n",
       "          if (window._bokeh_is_loading === 0) {\n",
       "            console.log(\"Bokeh: all BokehJS libraries loaded\");\n",
       "            run_callbacks()\n",
       "          }\n",
       "        };\n",
       "        s.onerror = function() {\n",
       "          console.warn(\"failed to load library \" + url);\n",
       "        };\n",
       "        console.log(\"Bokeh: injecting script tag for BokehJS library: \", url);\n",
       "        document.getElementsByTagName(\"head\")[0].appendChild(s);\n",
       "      }\n",
       "    };var element = document.getElementById(\"789b0653-922a-4b60-8b1f-8cbc9135f28a\");\n",
       "    if (element == null) {\n",
       "      console.log(\"Bokeh: ERROR: autoload.js configured with elementid '789b0653-922a-4b60-8b1f-8cbc9135f28a' but no matching script tag was found. \")\n",
       "      return false;\n",
       "    }\n",
       "  \n",
       "    var js_urls = [];\n",
       "  \n",
       "    var inline_js = [\n",
       "      function(Bokeh) {\n",
       "        (function() {\n",
       "          var fn = function() {\n",
       "            var docs_json = {\"458dc4f8-eb9c-4098-9d2e-9a9e7fc07f67\":{\"roots\":{\"references\":[{\"attributes\":{\"callback\":null},\"id\":\"dc0a7cc0-8cd5-47d7-ae23-0a4391791b61\",\"type\":\"DataRange1d\"},{\"attributes\":{},\"id\":\"603cf23e-4dc2-4f35-8097-22a4adec3d5c\",\"type\":\"BasicTickFormatter\"},{\"attributes\":{\"axis_label\":\"Hour of day\",\"formatter\":{\"id\":\"603cf23e-4dc2-4f35-8097-22a4adec3d5c\",\"type\":\"BasicTickFormatter\"},\"plot\":{\"id\":\"096bec9e-660f-45ee-ae74-0361659d0115\",\"subtype\":\"Figure\",\"type\":\"Plot\"},\"ticker\":{\"id\":\"e30469c3-98e7-4583-b94e-e30bb65a83d2\",\"type\":\"BasicTicker\"}},\"id\":\"b180a71c-7298-4413-9dec-a8e2b419c488\",\"type\":\"LinearAxis\"},{\"attributes\":{\"callback\":null,\"start\":0},\"id\":\"03f545ae-6ee0-49dc-8d4f-7946eaf15d7f\",\"type\":\"DataRange1d\"},{\"attributes\":{},\"id\":\"e30469c3-98e7-4583-b94e-e30bb65a83d2\",\"type\":\"BasicTicker\"},{\"attributes\":{\"plot\":{\"id\":\"096bec9e-660f-45ee-ae74-0361659d0115\",\"subtype\":\"Figure\",\"type\":\"Plot\"},\"ticker\":{\"id\":\"e30469c3-98e7-4583-b94e-e30bb65a83d2\",\"type\":\"BasicTicker\"}},\"id\":\"007f2d49-a6e6-4716-bc96-f711fb4b9d21\",\"type\":\"Grid\"},{\"attributes\":{\"axis_label\":\"Tip Fraction\",\"formatter\":{\"id\":\"6df05dfc-ffd6-4cef-9512-fce6c5959fbc\",\"type\":\"BasicTickFormatter\"},\"plot\":{\"id\":\"096bec9e-660f-45ee-ae74-0361659d0115\",\"subtype\":\"Figure\",\"type\":\"Plot\"},\"ticker\":{\"id\":\"13bad3bf-2781-4d55-bea7-8bfd512d08b3\",\"type\":\"BasicTicker\"}},\"id\":\"e5ccff7d-ad90-4b66-a9d9-213b5bc2ac03\",\"type\":\"LinearAxis\"},{\"attributes\":{},\"id\":\"13bad3bf-2781-4d55-bea7-8bfd512d08b3\",\"type\":\"BasicTicker\"},{\"attributes\":{\"dimension\":1,\"plot\":{\"id\":\"096bec9e-660f-45ee-ae74-0361659d0115\",\"subtype\":\"Figure\",\"type\":\"Plot\"},\"ticker\":{\"id\":\"13bad3bf-2781-4d55-bea7-8bfd512d08b3\",\"type\":\"BasicTicker\"}},\"id\":\"926c1538-707d-405f-8c5b-044efab9a962\",\"type\":\"Grid\"},{\"attributes\":{},\"id\":\"6df05dfc-ffd6-4cef-9512-fce6c5959fbc\",\"type\":\"BasicTickFormatter\"},{\"attributes\":{\"bottom_units\":\"screen\",\"fill_alpha\":{\"value\":0.5},\"fill_color\":{\"value\":\"lightgrey\"},\"left_units\":\"screen\",\"level\":\"overlay\",\"line_alpha\":{\"value\":1.0},\"line_color\":{\"value\":\"black\"},\"line_dash\":[4,4],\"line_width\":{\"value\":2},\"plot\":null,\"render_mode\":\"css\",\"right_units\":\"screen\",\"top_units\":\"screen\"},\"id\":\"6d7aa9eb-6d60-449f-9b6a-05b8459e67d4\",\"type\":\"BoxAnnotation\"},{\"attributes\":{\"plot\":{\"id\":\"096bec9e-660f-45ee-ae74-0361659d0115\",\"subtype\":\"Figure\",\"type\":\"Plot\"}},\"id\":\"5fe1273b-6f85-4bc9-b6e7-6e8984641265\",\"type\":\"PanTool\"},{\"attributes\":{\"callback\":null,\"column_names\":[\"x\",\"y\"],\"data\":{\"x\":[0,1,2,3,4,5,6,7,8,9,10,11,12,13,14,15,16,17,18,19,20,21,22,23],\"y\":{\"__ndarray__\":\"HtY+chn+yj9RJDrsJyvVP4VCuJMd2co/OjP6JWU0yz+tGskz3mvLP6QXmoO4ess/Hlc7zghqyT/tuz0e49jJP05w/S17mtI/KzFNaMoFyj/e4SXEZD3KP/F2AISMfco/KT6K3qz/zz9Mt+2uLSDSPyzBbROeFt0/g319Af9Ryj8tD9F2xb7LPxMaUaGYcMw/nyKGxUOByz82ww4EMxXNP0J3PtG0TMs/lD1Vnc90zj9zXFPsHkPLP/G25zKtAMs/\",\"dtype\":\"float64\",\"shape\":[24]}}},\"id\":\"a2a31539-c2e3-4338-966d-778e0b3b5357\",\"type\":\"ColumnDataSource\"},{\"attributes\":{\"plot\":{\"id\":\"096bec9e-660f-45ee-ae74-0361659d0115\",\"subtype\":\"Figure\",\"type\":\"Plot\"}},\"id\":\"86b86364-3ae6-4104-aeef-c493f089eb29\",\"type\":\"WheelZoomTool\"},{\"attributes\":{\"line_color\":{\"value\":\"#1f77b4\"},\"line_width\":{\"value\":3},\"x\":{\"field\":\"x\"},\"y\":{\"field\":\"y\"}},\"id\":\"0b1b58ce-c7d4-4664-8a4a-0b27a95a72ad\",\"type\":\"Line\"},{\"attributes\":{\"overlay\":{\"id\":\"6d7aa9eb-6d60-449f-9b6a-05b8459e67d4\",\"type\":\"BoxAnnotation\"},\"plot\":{\"id\":\"096bec9e-660f-45ee-ae74-0361659d0115\",\"subtype\":\"Figure\",\"type\":\"Plot\"}},\"id\":\"5567de41-3997-49a8-9e8a-97e8579373e1\",\"type\":\"BoxZoomTool\"},{\"attributes\":{\"plot\":{\"id\":\"096bec9e-660f-45ee-ae74-0361659d0115\",\"subtype\":\"Figure\",\"type\":\"Plot\"}},\"id\":\"d3d9543a-04b8-458d-b234-62f9b8b44896\",\"type\":\"SaveTool\"},{\"attributes\":{\"plot\":{\"id\":\"096bec9e-660f-45ee-ae74-0361659d0115\",\"subtype\":\"Figure\",\"type\":\"Plot\"}},\"id\":\"050069cd-09ed-4ce5-bc7d-d209780a3db0\",\"type\":\"ResetTool\"},{\"attributes\":{\"plot\":{\"id\":\"096bec9e-660f-45ee-ae74-0361659d0115\",\"subtype\":\"Figure\",\"type\":\"Plot\"}},\"id\":\"abf75648-348f-413a-8c84-5983dfc006e2\",\"type\":\"HelpTool\"},{\"attributes\":{\"below\":[{\"id\":\"b180a71c-7298-4413-9dec-a8e2b419c488\",\"type\":\"LinearAxis\"}],\"left\":[{\"id\":\"e5ccff7d-ad90-4b66-a9d9-213b5bc2ac03\",\"type\":\"LinearAxis\"}],\"renderers\":[{\"id\":\"b180a71c-7298-4413-9dec-a8e2b419c488\",\"type\":\"LinearAxis\"},{\"id\":\"007f2d49-a6e6-4716-bc96-f711fb4b9d21\",\"type\":\"Grid\"},{\"id\":\"e5ccff7d-ad90-4b66-a9d9-213b5bc2ac03\",\"type\":\"LinearAxis\"},{\"id\":\"926c1538-707d-405f-8c5b-044efab9a962\",\"type\":\"Grid\"},{\"id\":\"6d7aa9eb-6d60-449f-9b6a-05b8459e67d4\",\"type\":\"BoxAnnotation\"},{\"id\":\"9dca68c6-93a7-45d4-8ca1-e299991d01cf\",\"type\":\"GlyphRenderer\"}],\"title\":{\"id\":\"d328997e-7081-4247-b014-b1d9d0d51860\",\"type\":\"Title\"},\"tool_events\":{\"id\":\"ea3cc79e-9ab8-4d5f-9e35-c896f50fe704\",\"type\":\"ToolEvents\"},\"toolbar\":{\"id\":\"83dc0a3f-ad9c-40f8-9989-e4363e764c51\",\"type\":\"Toolbar\"},\"x_range\":{\"id\":\"dc0a7cc0-8cd5-47d7-ae23-0a4391791b61\",\"type\":\"DataRange1d\"},\"y_range\":{\"id\":\"03f545ae-6ee0-49dc-8d4f-7946eaf15d7f\",\"type\":\"DataRange1d\"}},\"id\":\"096bec9e-660f-45ee-ae74-0361659d0115\",\"subtype\":\"Figure\",\"type\":\"Plot\"},{\"attributes\":{},\"id\":\"ea3cc79e-9ab8-4d5f-9e35-c896f50fe704\",\"type\":\"ToolEvents\"},{\"attributes\":{\"plot\":null,\"text\":\"Tip Fraction\"},\"id\":\"d328997e-7081-4247-b014-b1d9d0d51860\",\"type\":\"Title\"},{\"attributes\":{\"line_alpha\":{\"value\":0.1},\"line_color\":{\"value\":\"#1f77b4\"},\"line_width\":{\"value\":3},\"x\":{\"field\":\"x\"},\"y\":{\"field\":\"y\"}},\"id\":\"b0012376-eafd-4405-8eb3-36c8be0a0ca8\",\"type\":\"Line\"},{\"attributes\":{\"active_drag\":\"auto\",\"active_scroll\":\"auto\",\"active_tap\":\"auto\",\"tools\":[{\"id\":\"5fe1273b-6f85-4bc9-b6e7-6e8984641265\",\"type\":\"PanTool\"},{\"id\":\"86b86364-3ae6-4104-aeef-c493f089eb29\",\"type\":\"WheelZoomTool\"},{\"id\":\"5567de41-3997-49a8-9e8a-97e8579373e1\",\"type\":\"BoxZoomTool\"},{\"id\":\"d3d9543a-04b8-458d-b234-62f9b8b44896\",\"type\":\"SaveTool\"},{\"id\":\"050069cd-09ed-4ce5-bc7d-d209780a3db0\",\"type\":\"ResetTool\"},{\"id\":\"abf75648-348f-413a-8c84-5983dfc006e2\",\"type\":\"HelpTool\"}]},\"id\":\"83dc0a3f-ad9c-40f8-9989-e4363e764c51\",\"type\":\"Toolbar\"},{\"attributes\":{\"data_source\":{\"id\":\"a2a31539-c2e3-4338-966d-778e0b3b5357\",\"type\":\"ColumnDataSource\"},\"glyph\":{\"id\":\"0b1b58ce-c7d4-4664-8a4a-0b27a95a72ad\",\"type\":\"Line\"},\"hover_glyph\":null,\"muted_glyph\":null,\"nonselection_glyph\":{\"id\":\"b0012376-eafd-4405-8eb3-36c8be0a0ca8\",\"type\":\"Line\"},\"selection_glyph\":null},\"id\":\"9dca68c6-93a7-45d4-8ca1-e299991d01cf\",\"type\":\"GlyphRenderer\"}],\"root_ids\":[\"096bec9e-660f-45ee-ae74-0361659d0115\"]},\"title\":\"Bokeh Application\",\"version\":\"0.12.5\"}};\n",
       "            var render_items = [{\"docid\":\"458dc4f8-eb9c-4098-9d2e-9a9e7fc07f67\",\"elementid\":\"789b0653-922a-4b60-8b1f-8cbc9135f28a\",\"modelid\":\"096bec9e-660f-45ee-ae74-0361659d0115\"}];\n",
       "            \n",
       "            Bokeh.embed.embed_items(docs_json, render_items);\n",
       "          };\n",
       "          if (document.readyState != \"loading\") fn();\n",
       "          else document.addEventListener(\"DOMContentLoaded\", fn);\n",
       "        })();\n",
       "      },\n",
       "      function(Bokeh) {\n",
       "      }\n",
       "    ];\n",
       "  \n",
       "    function run_inline_js() {\n",
       "      \n",
       "      if ((window.Bokeh !== undefined) || (force === true)) {\n",
       "        for (var i = 0; i < inline_js.length; i++) {\n",
       "          inline_js[i](window.Bokeh);\n",
       "        }if (force === true) {\n",
       "          display_loaded();\n",
       "        }} else if (Date.now() < window._bokeh_timeout) {\n",
       "        setTimeout(run_inline_js, 100);\n",
       "      } else if (!window._bokeh_failed_load) {\n",
       "        console.log(\"Bokeh: BokehJS failed to load within specified timeout.\");\n",
       "        window._bokeh_failed_load = true;\n",
       "      } else if (force !== true) {\n",
       "        var cell = $(document.getElementById(\"789b0653-922a-4b60-8b1f-8cbc9135f28a\")).parents('.cell').data().cell;\n",
       "        cell.output_area.append_execute_result(NB_LOAD_WARNING)\n",
       "      }\n",
       "  \n",
       "    }\n",
       "  \n",
       "    if (window._bokeh_is_loading === 0) {\n",
       "      console.log(\"Bokeh: BokehJS loaded, going straight to plotting\");\n",
       "      run_inline_js();\n",
       "    } else {\n",
       "      load_libs(js_urls, function() {\n",
       "        console.log(\"Bokeh: BokehJS plotting callback run at\", now());\n",
       "        run_inline_js();\n",
       "      });\n",
       "    }\n",
       "  }(this));\n",
       "</script>"
      ]
     },
     "metadata": {},
     "output_type": "display_data"
    }
   ],
   "source": [
    "from bokeh.plotting import figure, output_notebook, show\n",
    "output_notebook()\n",
    "\n",
    "fig = figure(title='Tip Fraction', \n",
    "             x_axis_label='Hour of day', \n",
    "             y_axis_label='Tip Fraction')\n",
    "fig.line(x=hour.index, y=hour, line_width=3)\n",
    "fig.y_range.start = 0\n",
    "\n",
    "show(fig)"
   ]
  },
  {
   "cell_type": "markdown",
   "metadata": {
    "collapsed": true
   },
   "source": [
    "## 4.8 Referencias"
   ]
  },
  {
   "cell_type": "markdown",
   "metadata": {},
   "source": [
    "* [VanderPlas, 2015]. VanderPlas, J. *Python Data Science Handbook: Essential Tools for Working with Data*. O'Reilly Media, Aug. 2015.\n",
    "* [McKinney, 2012] McKinney, W. *Python for Data Analysis: Data Wrangling with Pandas, NumPy, and IPython*. O'Reilly Media, Oct. 2012. **Se espera la publicación de la segunda edición actualizada para abril de 2017**.\n",
    "* [Fonnesbeck, 2014] Fonnesbeck, C. *Advanced Statistical Computing* (Bios8366) at Vanderbilt University's Department of Biostatistics. <https://github.com/fonnesbeck/Bios8366/tree/master/>\n",
    "* [Doig, 2016] Doig, C. *Scaling Data Science in Python Tutorial* (notebook 1). Disponible en GitHub: <https://github.com/chdoig/dss-scaling-tutorial/blob/master/1-Scaling%20Data%20Analysis/1-pandas.ipynb>.\n",
    "* [Schneider, 2016] Schneider, T. W. **Unified New York City Taxi and Uber data**: Colección de URLs para descargar los archivos de datos públicos sobre taxis de NYC. Nosotros nos concentramos en el archivo para el servicio Yellow Taxi, en el mes de enero de 2015, disponible en la URL: <https://s3.amazonaws.com/nyc-tlc/trip+data/yellow_tripdata_2015-01.csv> . Lista completa de URLs: <https://github.com/toddwschneider/nyc-taxi-data/blob/master/raw_data_urls.txt>."
   ]
  },
  {
   "cell_type": "code",
   "execution_count": null,
   "metadata": {
    "collapsed": true
   },
   "outputs": [],
   "source": []
  }
 ],
 "metadata": {
  "anaconda-cloud": {},
  "kernelspec": {
   "display_name": "Python 3",
   "language": "python",
   "name": "python3"
  },
  "language_info": {
   "codemirror_mode": {
    "name": "ipython",
    "version": 3
   },
   "file_extension": ".py",
   "mimetype": "text/x-python",
   "name": "python",
   "nbconvert_exporter": "python",
   "pygments_lexer": "ipython3",
   "version": "3.7.3"
  }
 },
 "nbformat": 4,
 "nbformat_minor": 1
}
