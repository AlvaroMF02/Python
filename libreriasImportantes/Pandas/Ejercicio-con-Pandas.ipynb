{
 "cells": [
  {
   "cell_type": "markdown",
   "metadata": {},
   "source": [
    "# Ejercicio con Pandas"
   ]
  },
  {
   "cell_type": "markdown",
   "metadata": {},
   "source": [
    "## Análisis de datos sobre vehículos"
   ]
  },
  {
   "cell_type": "markdown",
   "metadata": {},
   "source": [
    "El objetivo de este ejercicio es realizar un análisis básico de los datos de unos modelos de coches que se encuentran en el dataset mtcars.csv para poner en práctica los conceptos aprendidos sobre el paquete `Pandas`. La información alamcenada en dicho dataset está organizada en las siguientes columnas:\n",
    "* model: modelo del vehículo\n",
    "* mpg: consumo (en millas/galón)\n",
    "* cyl: número de cilindros\n",
    "* disp: cilindrada (volumen útil de todos los cilindros de un motor en pulgadas cúbicas)\n",
    "* hp: potencia (en caballos de vapor)\n",
    "* drat: eje trasero\n",
    "* wt: peso (en miles de libras)\n",
    "* qsec: segundos en alcanzar 1/4 de milla\n",
    "* vs: vs=0 motor en V, vs=1 motor en línea\n",
    "* am: am=0 cambio automático, am=1 cambio manual\n",
    "* gear: número de engranajes delanteros\n",
    "* carb: número de carburadores"
   ]
  },
  {
   "cell_type": "markdown",
   "metadata": {},
   "source": [
    "Conteste a las siguientes preguntas en las celdas de código habilitadas para ello.\n",
    "\n",
    "Muestre el contenido de las 10 primeras filas de la tabla."
   ]
  },
  {
   "cell_type": "code",
   "execution_count": null,
   "metadata": {
    "collapsed": true
   },
   "outputs": [],
   "source": []
  },
  {
   "cell_type": "markdown",
   "metadata": {},
   "source": [
    "¿Cuáles son las columnas de este DataSet?"
   ]
  },
  {
   "cell_type": "code",
   "execution_count": null,
   "metadata": {
    "collapsed": true
   },
   "outputs": [],
   "source": []
  },
  {
   "cell_type": "markdown",
   "metadata": {},
   "source": [
    "¿Cuál es la media del consumo?"
   ]
  },
  {
   "cell_type": "code",
   "execution_count": null,
   "metadata": {
    "collapsed": true
   },
   "outputs": [],
   "source": []
  },
  {
   "cell_type": "markdown",
   "metadata": {},
   "source": [
    "¿Cuántos modelos de vehículos hay almacenados en el dataset?"
   ]
  },
  {
   "cell_type": "code",
   "execution_count": null,
   "metadata": {
    "collapsed": true
   },
   "outputs": [],
   "source": []
  },
  {
   "cell_type": "markdown",
   "metadata": {},
   "source": [
    "Muestre los modelos de los coches con un consumo entre 21.0 y 23.0 (ambos incluidos) y un número de cilindros mayor o igual que 6."
   ]
  },
  {
   "cell_type": "code",
   "execution_count": null,
   "metadata": {
    "collapsed": true
   },
   "outputs": [],
   "source": []
  },
  {
   "cell_type": "markdown",
   "metadata": {},
   "source": [
    "Obtenga la media de cilindrada para cada grupo de número de cilindros y para cada tipo de cambio de marcha (automático o manual)."
   ]
  },
  {
   "cell_type": "code",
   "execution_count": null,
   "metadata": {
    "collapsed": true
   },
   "outputs": [],
   "source": []
  }
 ],
 "metadata": {
  "kernelspec": {
   "display_name": "Python 3",
   "language": "python",
   "name": "python3"
  },
  "language_info": {
   "codemirror_mode": {
    "name": "ipython",
    "version": 3
   },
   "file_extension": ".py",
   "mimetype": "text/x-python",
   "name": "python",
   "nbconvert_exporter": "python",
   "pygments_lexer": "ipython3",
   "version": "3.6.1"
  }
 },
 "nbformat": 4,
 "nbformat_minor": 2
}
