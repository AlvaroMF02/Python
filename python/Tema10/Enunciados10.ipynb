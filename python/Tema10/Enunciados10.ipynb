{
 "cells": [
  {
   "cell_type": "markdown",
   "metadata": {},
   "source": [
    "# Tema 10: Métodos de las colecciones (Enunciados)\n",
    "*Nota: Estos ejercicios son optativos para hacer al final de la unidad y están pensados para apoyar tu aprendizaje*."
   ]
  },
  {
   "cell_type": "markdown",
   "metadata": {},
   "source": [
    "**1) Utilizando todo lo que sabes sobre cadenas, listas, sus métodos internos... Transforma este texto:**\n",
    "\n",
    "```\n",
    "un día que el viento soplaba con fuerza#mira como se mueve aquella banderola -dijo un monje#lo que se mueve es el viento -respondió otro monje#ni las banderolas ni el viento, lo que se mueve son vuestras mentes -dijo el maestro\n",
    "```\n",
    "**En este otro:**\n",
    "\n",
    "```\n",
    "Un día que el viento soplaba con fuerza...\n",
    "- Mira como se mueve aquella banderola -dijo un monje.\n",
    "- Lo que se mueve es el viento -respondió otro monje.\n",
    "- Ni las banderolas ni el viento, lo que se mueve son vuestras mentes -dijo el maestro.\n",
    "```\n",
    "**Lo único prohibido es modificar directamente el texto**"
   ]
  },
  {
   "cell_type": "code",
   "execution_count": 13,
   "metadata": {
    "collapsed": false
   },
   "outputs": [
    {
     "name": "stdout",
     "output_type": "stream",
     "text": [
      "Un día que el viento soplaba con fuerza...\n",
      "- Mira como se mueve aquella banderola -dijo un monje.\n",
      "- Lo que se mueve es el viento -respondió otro monje.\n",
      "- Ni las banderolas ni el viento, lo que se mueve son vuestras mentes -dijo el maestro.\n"
     ]
    }
   ],
   "source": [
    "# Completa el ejercicio aquí\n",
    "texto = \"un día que el viento soplaba con fuerza#mira como se mueve aquella banderola -dijo un monje#lo que se mueve es el viento -respondió otro monje#ni las banderolas ni el viento, lo que se mueve son vuestras mentes -dijo el maestro\"\n",
    "\n",
    "# Separar cada \"parrafo\"\n",
    "orac = texto.split('#')\n",
    "\n",
    "\n",
    "# Poner en mayusc la primera letra\n",
    "oracMayus = []\n",
    "for i in orac:\n",
    "    oracMayus.append(i.capitalize())\n",
    "\n",
    "# añadir etc\n",
    "oracMayus[0] += \"...\"\n",
    "# meter guiones y puntos y finales\n",
    "for i in range(1, len(oracMayus)): # me salto la primera\n",
    "    oracMayus[i] = \"- \" + oracMayus[i] + \".\"\n",
    "oracMayus\n",
    "\n",
    "# convertir a string\n",
    "oracion = \"\\n\".join(oracMayus)\n",
    "\n",
    "print(oracion)"
   ]
  },
  {
   "cell_type": "markdown",
   "metadata": {},
   "source": [
    "**2) Crea una función modificar() que a partir de una lista de números realice las siguientes tareas sin modificar la original:**\n",
    "\n",
    "* Borrar los elementos duplicados\n",
    "* Ordenar la lista de mayor a menor\n",
    "* Eliminar todos los números impares\n",
    "* Realizar una suma de todos los números que quedan\n",
    "* Añadir como primer elemento de la lista la suma realizada\n",
    "* Devolver la lista modificada\n",
    "* Finalmente, después de ejecutar la función, comprueba que la suma de todos los números a partir del segundo, concuerda con el primer número de la lista, tal que así:\n",
    "```python\n",
    "nueva_lista = modificar(lista)\n",
    "print( nueva_lista[0] == sum(nueva_lista[1:]) )\n",
    "> True\n",
    "```\n",
    "\n",
    "*Nota: La función sum(lista) devuelve una suma de los elementos de una lista*"
   ]
  },
  {
   "cell_type": "code",
   "execution_count": null,
   "metadata": {
    "collapsed": false
   },
   "outputs": [
    {
     "name": "stdout",
     "output_type": "stream",
     "text": [
      "[68, -12, 5, 12, 16, 23, 24]\n",
      "True\n"
     ]
    }
   ],
   "source": [
    "# Completa el ejercicio aquí\n",
    "\n",
    "def modificar(lista):\n",
    "    cop = list(set(lista))\n",
    "    cop.sort()\n",
    "    for i in cop:\n",
    "        if i % 2 != 0:\n",
    "            cop.remove(i)\n",
    "\n",
    "    suma = sum(cop)\n",
    "    cop.insert(0,suma)\n",
    "    return cop\n",
    "    \n",
    "lista = [29, -5, -12, 17, 5, 24, 5, 12, 23, 16, 12, 5, -12, 17]\n",
    "copia = modificar(lista)\n",
    "print(copia)\n",
    "\n",
    "print( copia[0] == sum(copia[1:]) )\n"
   ]
  }
 ],
 "metadata": {
  "anaconda-cloud": {},
  "kernelspec": {
   "display_name": "Python 3",
   "language": "python",
   "name": "python3"
  },
  "language_info": {
   "codemirror_mode": {
    "name": "ipython",
    "version": 3
   },
   "file_extension": ".py",
   "mimetype": "text/x-python",
   "name": "python",
   "nbconvert_exporter": "python",
   "pygments_lexer": "ipython3",
   "version": "3.13.0"
  }
 },
 "nbformat": 4,
 "nbformat_minor": 0
}
