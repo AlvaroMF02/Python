{
 "cells": [
  {
   "cell_type": "markdown",
   "metadata": {},
   "source": [
    "# Widget Frame (Marco)\n",
    "\n",
    "Los Frames son marcos contenedores de otros widgets. Pueden tener tamaño propio y posicionarse en distintos lugares de otro contenedor (ya sea la raíz u otro marco):"
   ]
  },
  {
   "cell_type": "code",
   "execution_count": 1,
   "metadata": {},
   "outputs": [],
   "source": [
    "from tkinter import *\n",
    "root = Tk()\n",
    "\n",
    "# Hijo de root, no ocurre nada\n",
    "frame = Frame(root)  \n",
    "\n",
    "# Empaqueta el frame en la raíz\n",
    "frame.pack()      \n",
    "\n",
    "# Como no tenemos ningún elemento dentro del frame, \n",
    "# no tiene tamaño y aparece ocupando lo mínimo posible, 0*0 px\n",
    "\n",
    "# Color de fondo, background\n",
    "frame.config(bg=\"lightblue\")     \n",
    "\n",
    "# Podemos establecer un tamaño,\n",
    "# la raíz se adapta al frame que contiene\n",
    "frame.config(width=480,height=320) \n",
    "\n",
    "root.mainloop()"
   ]
  },
  {
   "cell_type": "markdown",
   "metadata": {},
   "source": [
    "También podemos añadir la configuración al crear el frame:"
   ]
  },
  {
   "cell_type": "code",
   "execution_count": null,
   "metadata": {},
   "outputs": [],
   "source": [
    "Frame(root, width=480,height=320)"
   ]
  },
  {
   "cell_type": "markdown",
   "metadata": {},
   "source": [
    "Algo interesante de los frames es que permiten parámetros visuales utilizando atributos estándar:"
   ]
  },
  {
   "cell_type": "code",
   "execution_count": null,
   "metadata": {},
   "outputs": [],
   "source": [
    "frame.config(cursor=\"\")         # Tipo de cursor\n",
    "frame.config(relief=\"sunken\")   # relieve del frame hundido\n",
    "frame.config(bd=25)             # tamaño del borde en píxeles"
   ]
  },
  {
   "cell_type": "markdown",
   "metadata": {},
   "source": [
    "Pero esto no es algo único de los Frames, todos los widgets aceptan estos parámetros visuales, incluso la raíz:"
   ]
  },
  {
   "cell_type": "code",
   "execution_count": null,
   "metadata": {},
   "outputs": [],
   "source": [
    "root.config(bg=\"blue\")          # color de fondo, background\n",
    "root.config(cursor=\"pirate\")    # tipo de cursor (arrow defecto)\n",
    "root.config(relief=\"sunken\")    # relieve del root \n",
    "root.config(bd=25)              # tamaño del borde en píxeles"
   ]
  },
  {
   "cell_type": "markdown",
   "metadata": {},
   "source": [
    "De esta forma podéis apreciar como se diferencia claramente el espacio de la raíz y el frame.\n",
    "\n",
    "<img src=\"img\\03.png\">\n",
    "\n",
    "Sin embargo, fijaros que curiosamente si hacemos la ventana grande, el frame se encuentra centrado arriba al medio, eso es porque el método pack alinea el widget arriba al medio. Esta posición se conoce como la distribución del Widget y podemos cambiarla de dos formas posibles justo al empacar el frame. Con alineación [arriba, abajo, izquierda, derecha] o con anclaje [N,S,E,W,NE…]:"
   ]
  },
  {
   "cell_type": "code",
   "execution_count": null,
   "metadata": {},
   "outputs": [],
   "source": [
    "frame.pack(side=RIGHT)   # a la derecha al medio\n",
    "frame.pack(anchor=SE)    # sudeste, abajo a la derecha"
   ]
  },
  {
   "cell_type": "markdown",
   "metadata": {},
   "source": [
    "<img src=\"img\\04.png\">\n",
    "\n",
    "Y no sólo eso, también podemos redimensionar un widget:"
   ]
  },
  {
   "cell_type": "code",
   "execution_count": null,
   "metadata": {},
   "outputs": [],
   "source": [
    "frame.pack(fill=\"x\")                # ancho como el padre\n",
    "frame.pack(fill=\"y\")                # alto como el padre\n",
    "frame.pack(fill=\"both\")             # ambas opciones\n",
    "frame.pack(fill=\"both\", expand=1)   # expandirse para ocupar el espacio"
   ]
  },
  {
   "cell_type": "markdown",
   "metadata": {},
   "source": [
    "## Código final:"
   ]
  },
  {
   "cell_type": "code",
   "execution_count": null,
   "metadata": {},
   "outputs": [],
   "source": [
    "from tkinter import *\n",
    "\n",
    "# Configuración de la raíz\n",
    "root = Tk()\n",
    "root.title(\"Hola mundo\")\n",
    "root.resizable(1,1)\n",
    "root.iconbitmap('hola.ico')\n",
    "\n",
    "frame = Frame(root, width=480, height=320)\n",
    "frame.pack(fill='both', expand=1)\n",
    "frame.config(cursor=\"pirate\")\n",
    "frame.config(bg=\"lightblue\")\n",
    "frame.config(bd=5)\n",
    "frame.config(relief=\"sunken\")\n",
    "\n",
    "root.config(cursor=\"arrow\")\n",
    "root.config(bg=\"blue\")\n",
    "root.config(bd=15)\n",
    "root.config(relief=\"ridge\")\n",
    "\n",
    "# Finalmente bucle de la aplicación\n",
    "root.mainloop()"
   ]
  },
  {
   "cell_type": "code",
   "execution_count": null,
   "metadata": {},
   "outputs": [],
   "source": []
  }
 ],
 "metadata": {
  "kernelspec": {
   "display_name": "Python 3",
   "language": "python",
   "name": "python3"
  },
  "language_info": {
   "codemirror_mode": {
    "name": "ipython",
    "version": 3
   },
   "file_extension": ".py",
   "mimetype": "text/x-python",
   "name": "python",
   "nbconvert_exporter": "python",
   "pygments_lexer": "ipython3",
   "version": "3.13.0"
  }
 },
 "nbformat": 4,
 "nbformat_minor": 4
}
