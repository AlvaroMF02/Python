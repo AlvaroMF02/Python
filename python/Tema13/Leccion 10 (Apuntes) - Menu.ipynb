{
 "cells": [
  {
   "cell_type": "markdown",
   "metadata": {},
   "source": [
    "# Widget Menu (Menú)\n",
    "\n",
    "En esta lección vamos a aprender a crear un menú superior de toda la vida con varias secciones.\n",
    "\n",
    "El primer widget menú que creamos hace referencia a la barra de menú, de ahí que se le suele llamar menubar:"
   ]
  },
  {
   "cell_type": "code",
   "execution_count": 1,
   "metadata": {},
   "outputs": [],
   "source": [
    "from tkinter import *\n",
    "\n",
    "root = Tk()\n",
    "\n",
    "menubar = Menu(root)\n",
    "root.config(menu=menubar)  # Lo asignamos a la base\n",
    "\n",
    "root.mainloop()"
   ]
  },
  {
   "cell_type": "markdown",
   "metadata": {},
   "source": [
    "Una vez creada la barra podemos comenzar a añadir submenús y comandos. Empecemos con los submenús:"
   ]
  },
  {
   "cell_type": "code",
   "execution_count": null,
   "metadata": {},
   "outputs": [],
   "source": [
    "filemenu = Menu(menubar)\n",
    "editmenu = Menu(menubar)\n",
    "helpmenu = Menu(menubar)"
   ]
  },
  {
   "cell_type": "markdown",
   "metadata": {},
   "source": [
    "Ya tenemos los submenús, pero todavía nos falta añadirlos a la barra de menú:"
   ]
  },
  {
   "cell_type": "code",
   "execution_count": null,
   "metadata": {},
   "outputs": [],
   "source": [
    "menubar.add_cascade(label=\"Archivo\", menu=filemenu)\n",
    "menubar.add_cascade(label=\"Editar\", menu=editmenu)\n",
    "menubar.add_cascade(label=\"Ayuda\", menu=helpmenu)"
   ]
  },
  {
   "cell_type": "markdown",
   "metadata": {},
   "source": [
    "<img src=\"img\\16.png\">"
   ]
  },
  {
   "cell_type": "markdown",
   "metadata": {},
   "source": [
    "Bien ya tenemos nuestra barra con los 3 submenús funcionando bien, pero ocurre algo raro, nos aparece una especie de elemento por defecto. Podemos hacer que desaparezca si indicamos el parámetro tearoff=0:"
   ]
  },
  {
   "cell_type": "code",
   "execution_count": null,
   "metadata": {},
   "outputs": [],
   "source": [
    "filemenu = Menu(menubar, tearoff=0)\n",
    "editmenu = Menu(menubar, tearoff=0)\n",
    "helpmenu = Menu(menubar, tearoff=0)"
   ]
  },
  {
   "cell_type": "markdown",
   "metadata": {},
   "source": [
    "<img src=\"img\\17.png\">"
   ]
  },
  {
   "cell_type": "markdown",
   "metadata": {},
   "source": [
    "Ahora sí que lo tenemos bien, ¿pero está demasiado vacío no? Vamos a añadir comandos de ejemplo en nuestros submenús:"
   ]
  },
  {
   "cell_type": "code",
   "execution_count": null,
   "metadata": {},
   "outputs": [],
   "source": [
    "filemenu = Menu(menubar, tearoff=0)\n",
    "filemenu.add_command(label=\"Nuevo\")\n",
    "filemenu.add_command(label=\"Abrir\")\n",
    "filemenu.add_command(label=\"Guardar\")\n",
    "filemenu.add_command(label=\"Cerrar\")"
   ]
  },
  {
   "cell_type": "markdown",
   "metadata": {},
   "source": [
    "También podemos agregar un separador y un comando de salir con root.quit:"
   ]
  },
  {
   "cell_type": "code",
   "execution_count": null,
   "metadata": {},
   "outputs": [],
   "source": [
    "filemenu.add_separator()\n",
    "filemenu.add_command(label=\"Salir\", command=root.quit)"
   ]
  },
  {
   "cell_type": "markdown",
   "metadata": {},
   "source": [
    "<img src=\"img\\18.png\">"
   ]
  },
  {
   "cell_type": "markdown",
   "metadata": {},
   "source": [
    "Tened en cuenta que debéis crear una funcionalidad para cada comando, pero como sólo estamos haciendo una prueba vamos a crear algunas opciones más de ejemplo:"
   ]
  },
  {
   "cell_type": "code",
   "execution_count": null,
   "metadata": {},
   "outputs": [],
   "source": [
    "editmenu = Menu(menubar, tearoff=0)\n",
    "editmenu.add_command(label=\"Cortar\")\n",
    "editmenu.add_command(label=\"Copiar\")\n",
    "editmenu.add_command(label=\"Pegar\")\n",
    "\n",
    "helpmenu = Menu(menubar, tearoff=0)\n",
    "helpmenu.add_command(label=\"Ayuda\")\n",
    "helpmenu.add_separator()\n",
    "helpmenu.add_command(label=\"Acerca de...\")"
   ]
  },
  {
   "cell_type": "markdown",
   "metadata": {},
   "source": [
    "<img src=\"img\\19.png\">"
   ]
  },
  {
   "cell_type": "markdown",
   "metadata": {},
   "source": [
    "## Código final"
   ]
  },
  {
   "cell_type": "code",
   "execution_count": null,
   "metadata": {},
   "outputs": [
    {
     "ename": "",
     "evalue": "",
     "output_type": "error",
     "traceback": [
      "\u001b[1;31mThe Kernel crashed while executing code in the current cell or a previous cell. \n",
      "\u001b[1;31mPlease review the code in the cell(s) to identify a possible cause of the failure. \n",
      "\u001b[1;31mClick <a href='https://aka.ms/vscodeJupyterKernelCrash'>here</a> for more info. \n",
      "\u001b[1;31mView Jupyter <a href='command:jupyter.viewOutput'>log</a> for further details."
     ]
    }
   ],
   "source": [
    "from tkinter import *\n",
    "\n",
    "# Configuración de la raíz\n",
    "root = Tk()\n",
    "\n",
    "menubar = Menu(root)\n",
    "root.config(menu=menubar)\n",
    "\n",
    "filemenu = Menu(menubar, tearoff=0)\n",
    "filemenu.add_command(label=\"Nuevo\")\n",
    "filemenu.add_command(label=\"Abrir\")\n",
    "filemenu.add_command(label=\"Guardar\")\n",
    "filemenu.add_command(label=\"Cerrar\")\n",
    "filemenu.add_separator()\n",
    "filemenu.add_command(label=\"Salir\", command=root.quit)\n",
    "\n",
    "editmenu = Menu(menubar, tearoff=0)\n",
    "editmenu.add_command(label=\"Cortar\")\n",
    "editmenu.add_command(label=\"Copiar\")\n",
    "editmenu.add_command(label=\"Pegar\")\n",
    "\n",
    "helpmenu = Menu(menubar, tearoff=0)\n",
    "helpmenu.add_command(label=\"Ayuda\")\n",
    "helpmenu.add_separator()\n",
    "helpmenu.add_command(label=\"Acerca de...\")\n",
    "\n",
    "menubar.add_cascade(label=\"Archivo\", menu=filemenu)\n",
    "menubar.add_cascade(label=\"Editar\", menu=editmenu)\n",
    "menubar.add_cascade(label=\"Ayuda\", menu=helpmenu)\n",
    "\n",
    "# Finalmente bucle de la aplicación\n",
    "root.mainloop()"
   ]
  },
  {
   "cell_type": "code",
   "execution_count": null,
   "metadata": {},
   "outputs": [],
   "source": []
  }
 ],
 "metadata": {
  "kernelspec": {
   "display_name": "Python 3",
   "language": "python",
   "name": "python3"
  },
  "language_info": {
   "codemirror_mode": {
    "name": "ipython",
    "version": 3
   },
   "file_extension": ".py",
   "mimetype": "text/x-python",
   "name": "python",
   "nbconvert_exporter": "python",
   "pygments_lexer": "ipython3",
   "version": "3.13.0"
  }
 },
 "nbformat": 4,
 "nbformat_minor": 4
}
