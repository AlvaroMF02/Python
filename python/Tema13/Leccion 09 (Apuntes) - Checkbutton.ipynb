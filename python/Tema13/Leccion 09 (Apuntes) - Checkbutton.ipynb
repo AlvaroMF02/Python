{
 "cells": [
  {
   "cell_type": "markdown",
   "metadata": {},
   "source": [
    "# Widget Checkbutton (Seleccionable)\n",
    "\n",
    "Con los radiobutton vimos que el usuario puede marcar una opción de entre varias, pero si queremos simplemente proponer una única opción es mejor utilizar un botón de selección. Son bastante parecidos. Vamos a crear un par de checkbuttons para por ejemplo, pedir a un usuario como quiere que le sirvan un café, él tendrá que marcar si quiere leche, y también si quiere azúcar:"
   ]
  },
  {
   "cell_type": "code",
   "execution_count": null,
   "metadata": {},
   "outputs": [],
   "source": [
    "from tkinter import *\n",
    "\n",
    "root = Tk()\n",
    "root.config(bd=15)\n",
    "\n",
    "leche = IntVar()      # 1 si, 0 no\n",
    "azucar = IntVar()    # 1 si, 0 no\n",
    "\n",
    "Label(root,text=\"¿Cómo quieres el café?\").pack()\n",
    "Checkbutton(root, text=\"Con leche\", variable=leche, \n",
    "            onvalue=1, offvalue=0).pack()\n",
    "Checkbutton(root, text=\"Con azúcar\",variable=leche, \n",
    "            onvalue=1, offvalue=0).pack()\n",
    "\n",
    "root.mainloop()"
   ]
  },
  {
   "cell_type": "markdown",
   "metadata": {},
   "source": [
    "Aprovechando que tenemos una imagen, y para practicar un poco la distribución, podríamos mejorar un poco la presentación del formulario:"
   ]
  },
  {
   "cell_type": "code",
   "execution_count": null,
   "metadata": {},
   "outputs": [],
   "source": [
    "from tkinter import *\n",
    "\n",
    "root = Tk()\n",
    "root.config(bd=15)\n",
    "\n",
    "leche = IntVar()\n",
    "azucar = IntVar()\n",
    "\n",
    "imagen = PhotoImage(file=\"imagen.gif\")\n",
    "Label(root, image=imagen).pack(side=LEFT)\n",
    "\n",
    "frame = Frame(root).pack(side=RIGHT)\n",
    "Label(frame, text=\"¿Cómo quieres el café?\\n\").pack(anchor=W)\n",
    "Checkbutton(frame, text=\"Con leche\", variable=leche, \n",
    "            onvalue=1, offvalue=0).pack(anchor=W)\n",
    "Checkbutton(frame, text=\"Con azúcar\", variable=leche, \n",
    "            onvalue=1, offvalue=0).pack(anchor=W)\n",
    "\n",
    "root.mainloop()"
   ]
  },
  {
   "cell_type": "markdown",
   "metadata": {},
   "source": [
    "Bien, entonces ¿cómo podemos recuperar los valores de nuestros botones de selección? Podríamos crear una función y añadir un comando a los checkbutton para mostrar el resumen de nuestro café en una label:"
   ]
  },
  {
   "cell_type": "code",
   "execution_count": null,
   "metadata": {},
   "outputs": [],
   "source": [
    "def selec():\n",
    "    cadena = \"\"\n",
    "\n",
    "    if (leche.get()): cadena += \"Con leche\"\n",
    "    else: cadena += \"Sin leche\"\n",
    "\n",
    "    if (azucar.get()): cadena += \" y con azúcar\"\n",
    "    else: cadena += \" y sin azúcar\"\n",
    "\n",
    "    monitor.config(text=cadena)\n",
    "\n",
    "...\n",
    "\n",
    "monitor = Label(frame)\n",
    "monitor.pack()"
   ]
  },
  {
   "cell_type": "markdown",
   "metadata": {},
   "source": [
    "<img src=\"img\\15.png\">"
   ]
  },
  {
   "cell_type": "markdown",
   "metadata": {},
   "source": [
    "## Código final"
   ]
  },
  {
   "cell_type": "code",
   "execution_count": null,
   "metadata": {},
   "outputs": [],
   "source": [
    "from tkinter import *\n",
    "\n",
    "def seleccionar():\n",
    "    cadena = \"\"\n",
    "    if (leche.get()):\n",
    "        cadena += \"Con leche\"\n",
    "    else:\n",
    "        cadena += \"Sin leche\"\n",
    "\n",
    "    if (azucar.get()):\n",
    "        cadena += \" y con azúcar\"\n",
    "    else:\n",
    "        cadena += \" y sin azúcar\"\n",
    "\n",
    "    monitor.config(text=cadena)\n",
    "\n",
    "# Configuración de la raíz\n",
    "root = Tk()\n",
    "root.title(\"Cafetería\")\n",
    "root.config(bd=15)\n",
    "\n",
    "leche = IntVar()    # 1 si, 0 no\n",
    "azucar = IntVar()   # 1 si, 0 no\n",
    "\n",
    "imagen = PhotoImage(file=\"imagen.gif\")\n",
    "Label(root, image=imagen).pack(side=\"left\")\n",
    "\n",
    "frame = Frame(root)\n",
    "frame.pack(side=\"left\")\n",
    "\n",
    "Label(frame, text=\"¿Cómo quieres el café?\").pack(anchor=\"w\")\n",
    "Checkbutton(frame, text=\"Con leche\", variable=leche, onvalue=1, \n",
    "            offvalue=0, command=seleccionar).pack(anchor=\"w\")\n",
    "Checkbutton(frame, text=\"Con azúcar\", variable=azucar, onvalue=1, \n",
    "            offvalue=0, command=seleccionar).pack(anchor=\"w\")\n",
    "\n",
    "monitor = Label(frame)\n",
    "monitor.pack()\n",
    "\n",
    "root.mainloop()"
   ]
  }
 ],
 "metadata": {
  "kernelspec": {
   "display_name": "Python 3",
   "language": "python",
   "name": "python3"
  },
  "language_info": {
   "codemirror_mode": {
    "name": "ipython",
    "version": 3
   },
   "file_extension": ".py",
   "mimetype": "text/x-python",
   "name": "python",
   "nbconvert_exporter": "python",
   "pygments_lexer": "ipython3",
   "version": "3.8.0"
  }
 },
 "nbformat": 4,
 "nbformat_minor": 4
}
