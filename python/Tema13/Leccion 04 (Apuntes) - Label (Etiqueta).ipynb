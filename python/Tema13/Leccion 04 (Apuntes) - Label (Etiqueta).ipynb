{
 "cells": [
  {
   "cell_type": "markdown",
   "metadata": {},
   "source": [
    "# Widget Label (Etiqueta de texto)\n",
    "\n",
    "En esta lección vamos a trabajar el widget label utilizado para mostrar textos. Suele ser texto estático, de ahí que se llame label o etiqueta de texto."
   ]
  },
  {
   "cell_type": "code",
   "execution_count": null,
   "metadata": {},
   "outputs": [],
   "source": [
    "from tkinter import *\n",
    "root = Tk()\n",
    "\n",
    "label = Label(frame,text=\"¡Hola Mundo!\")\n",
    "label.pack()\n",
    "\n",
    "root.mainloop()"
   ]
  },
  {
   "cell_type": "markdown",
   "metadata": {},
   "source": [
    "También se puede añadir directamente a la raíz y empaquetarla:"
   ]
  },
  {
   "cell_type": "code",
   "execution_count": null,
   "metadata": {},
   "outputs": [],
   "source": [
    "Label(root, text=\"¡Hola Mundo!\").pack()"
   ]
  },
  {
   "cell_type": "markdown",
   "metadata": {},
   "source": [
    "<img src=\"img\\05.png\">\n",
    "\n",
    "Vamos a crear más etiquetas:"
   ]
  },
  {
   "cell_type": "code",
   "execution_count": null,
   "metadata": {},
   "outputs": [],
   "source": [
    "from tkinter import *\n",
    "root = Tk()\n",
    "Label(root, text=\"¡Hola Mundo!\").pack()\n",
    "Label(root, text=\"¡Otra etiqueta!\").pack()\n",
    "Label(root, text=\"¡Última etiqueta!\").pack()\n",
    "root.mainloop()"
   ]
  },
  {
   "cell_type": "markdown",
   "metadata": {},
   "source": [
    "<img src=\"img\\06.png\">\n",
    "\n",
    "Como véis las tres etiquetas se muestran una encima de otra porque al hacer pack() por defecto se posicionan así, pero podemos cambiar su distribución:"
   ]
  },
  {
   "cell_type": "code",
   "execution_count": null,
   "metadata": {},
   "outputs": [],
   "source": [
    "Label(root, text=\"¡Hola Mundo!\").pack(anchor=NW)\n",
    "Label(root, text=\"¡Otra etiqueta!\").pack(anchor=CENTER)\n",
    "Label(root, text=\"¡Última etiqueta!\").pack(anchor=SE)"
   ]
  },
  {
   "cell_type": "markdown",
   "metadata": {},
   "source": [
    "<img src=\"img\\07.png\">\n",
    "\n",
    "Evidentemente también tienen distintos parámetros visuales, para cambiar el color en primer plano, el del fondo, la fuente y su tamaño...:"
   ]
  },
  {
   "cell_type": "code",
   "execution_count": null,
   "metadata": {},
   "outputs": [],
   "source": [
    "label = Label(root, text=\"¡Otra etiqueta!\")\n",
    "label.pack(anchor=CENTER)\n",
    "label.config(fg=\"blue\",    # Foreground\n",
    "            bg=\"green\",   # Background\n",
    "            font=(\"Verdana\",24))"
   ]
  },
  {
   "cell_type": "markdown",
   "metadata": {},
   "source": [
    "<img src=\"img\\08.png\">\n",
    "\n",
    "Pero una de las cosas más interesantes que nos permiten hacer es cambiar el texto sobre la marcha utilizando un objeto llamado StringVar() y su propiedad textvariable:"
   ]
  },
  {
   "cell_type": "code",
   "execution_count": null,
   "metadata": {},
   "outputs": [],
   "source": [
    "texto = StringVar()\n",
    "texto.set(\"Un nuevo texto\")\n",
    "label.config(textvariable=texto)  # añadimos una variable de texto"
   ]
  },
  {
   "cell_type": "markdown",
   "metadata": {},
   "source": [
    "<img src=\"img\\09.png\">\n",
    "\n",
    "Quizá ahora no parece muy útil, pero más adelante veremos cómo capturar el momento en que apretamos un botón y entonces cambiaremos el texto de una etiqueta.\n",
    "\n",
    "Por cierto, algo que os va a gustar es que las etiquetas pueden contener imágenes, lo malo es que tkinter sólo acepta dos formatos de imagen a través de la clase PhotoImage: pgm y gif."
   ]
  },
  {
   "cell_type": "code",
   "execution_count": null,
   "metadata": {},
   "outputs": [],
   "source": [
    "imagen = PhotoImage(file=\"imagen.gif\")\n",
    "Label(root, image=imagen, bd=0).pack()"
   ]
  },
  {
   "cell_type": "markdown",
   "metadata": {},
   "source": [
    "<img src=\"img\\10.png\">\n",
    "\n",
    "Si quisiéramos trabajar con otros formatos de imágen deberíamos utilizar un módulo externo como PIL, pero eso me lo reservo por si más adelante os interesa profundizar en el mundo de las interfaces.\n",
    "\n",
    "## Código final:"
   ]
  },
  {
   "cell_type": "code",
   "execution_count": null,
   "metadata": {},
   "outputs": [],
   "source": [
    "from tkinter import *\n",
    "\n",
    "# Configuración de la raíz\n",
    "root = Tk()\n",
    "\n",
    "\"\"\"\n",
    "# Variables dinámicas\n",
    "texto = StringVar()\n",
    "texto.set(\"Un nuevo texto\")\n",
    "\n",
    "Label(root, text=\"¡Hola mundo!\").pack(anchor=\"nw\")\n",
    "label = Label(root, text=\"¡Otra etiqueta!\")\n",
    "label.pack(anchor=\"center\")\n",
    "Label(root, text=\"¡Última etiqueta!\").pack(anchor=\"se\")\n",
    "\n",
    "label.config(bg=\"green\", fg=\"blue\", font=(\"Verdana\",24))\n",
    "label.config(textvariable=texto)\n",
    "\"\"\"\n",
    "\n",
    "imagen = PhotoImage(file=\"imagen.gif\")\n",
    "Label(root, image=imagen, bd=0).pack(side=\"left\")\n",
    "\n",
    "# Finalmente bucle de la aplicación\n",
    "root.mainloop()"
   ]
  }
 ],
 "metadata": {
  "kernelspec": {
   "display_name": "Python 3",
   "language": "python",
   "name": "python3"
  },
  "language_info": {
   "codemirror_mode": {
    "name": "ipython",
    "version": 3
   },
   "file_extension": ".py",
   "mimetype": "text/x-python",
   "name": "python",
   "nbconvert_exporter": "python",
   "pygments_lexer": "ipython3",
   "version": "3.13.0"
  }
 },
 "nbformat": 4,
 "nbformat_minor": 4
}
