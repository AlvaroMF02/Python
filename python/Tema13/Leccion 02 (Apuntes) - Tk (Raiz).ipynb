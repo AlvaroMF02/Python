{
 "cells": [
  {
   "cell_type": "markdown",
   "metadata": {},
   "source": [
    "# Widget Tk (Raíz)\n",
    "\n",
    "Muy bien, pues vamos a comenzar por lo más esencial, la raíz o base de la interfaz gráfica.\n",
    "\n",
    "Recordad que la raíz es el contenedor base de todos los widgets que forman la interfaz, no tiene tamaño propio sino que se adapta a los widgets que contiene:"
   ]
  },
  {
   "cell_type": "code",
   "execution_count": 1,
   "metadata": {},
   "outputs": [],
   "source": [
    "from tkinter import *\n",
    "\n",
    "# Creamos la raíz\n",
    "root = Tk()\n",
    "\n",
    "# Comenzamos el bucle de aplicación, es como un while True\n",
    "root.mainloop()"
   ]
  },
  {
   "cell_type": "markdown",
   "metadata": {},
   "source": [
    "<img src=\"img\\01.png\">\n",
    "\n",
    "Un par de opciones interesantes:"
   ]
  },
  {
   "cell_type": "code",
   "execution_count": null,
   "metadata": {},
   "outputs": [],
   "source": [
    "root.title(\"Hola mundo\")     # Título de la ventana \n",
    "root.iconbitmap('hola.ico')  # Icono de la ventana, en ico o xbm en Linux\n",
    "root.resizable(0, 0)         # Desactivar redimensión de ventana"
   ]
  },
  {
   "cell_type": "markdown",
   "metadata": {},
   "source": [
    "## Icono en GNU/Linux\n",
    "\n",
    "En la mayoría de distribuciones hay que usar un icono de tipo xbm con la siguiente lógica:"
   ]
  },
  {
   "cell_type": "code",
   "execution_count": null,
   "metadata": {},
   "outputs": [],
   "source": [
    "root.iconbitmap('@hola.xbm')"
   ]
  },
  {
   "cell_type": "markdown",
   "metadata": {},
   "source": [
    "<img src = \"img\\02.png\">"
   ]
  },
  {
   "cell_type": "markdown",
   "metadata": {},
   "source": [
    "## Tip Windows: Abrir los scripts gráficos con doble clic\n",
    "\n",
    "Si cambiamos la extensión de nuestros scripts gráficos a .pyw y asignamos el ejecutable pythonw.exe como aplicación por defecto para abrirlos podremos ejecutarlos haciendo doble clic. Podéis encontrar el ejeuctable en la carpeta de Anaconda. Por cierto, la 'w' significa 'windowed' (modo ventana) y esconde la terminal de fondo.\n",
    "\n",
    "## Código final:"
   ]
  },
  {
   "cell_type": "code",
   "execution_count": 3,
   "metadata": {},
   "outputs": [],
   "source": [
    "from tkinter import *\n",
    "\n",
    "# Configuración de la raíz\n",
    "root = Tk()\n",
    "root.title(\"Hola mundo\")\n",
    "root.resizable(0,0)\n",
    "root.iconbitmap('hola.ico')\n",
    "\n",
    "# Finalmente bucle de la aplicación\n",
    "root.mainloop()"
   ]
  },
  {
   "cell_type": "code",
   "execution_count": null,
   "metadata": {},
   "outputs": [],
   "source": []
  }
 ],
 "metadata": {
  "kernelspec": {
   "display_name": "Python 3",
   "language": "python",
   "name": "python3"
  },
  "language_info": {
   "codemirror_mode": {
    "name": "ipython",
    "version": 3
   },
   "file_extension": ".py",
   "mimetype": "text/x-python",
   "name": "python",
   "nbconvert_exporter": "python",
   "pygments_lexer": "ipython3",
   "version": "3.13.0"
  }
 },
 "nbformat": 4,
 "nbformat_minor": 4
}
