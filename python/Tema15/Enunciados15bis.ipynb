{
 "cells": [
  {
   "cell_type": "markdown",
   "metadata": {},
   "source": [
    "# Ejercicios avanzados de Python\n",
    "Estos ejercicios están diseñados para reforzar y poner en práctica los conceptos aprendidos sobre funciones decoradoras, generadores, funciones lambda, iteradores y más."
   ]
  },
  {
   "cell_type": "markdown",
   "metadata": {},
   "source": [
    "### Ejercicio 1: Generador con lógica avanzada\n",
    "Crea una función generadora llamada `fibonacci_pares` que genere los números pares de la serie de Fibonacci hasta un valor máximo dado `n`. La serie de Fibonacci comienza con 0 y 1, y cada número siguiente es la suma de los dos anteriores.\n",
    "\n",
    "**Ejemplo**:\n",
    "```python\n",
    "for num in fibonacci_pares(50):\n",
    "    print(num)\n",
    "```\n",
    "\n",
    "**Salida esperada**:\n",
    "```\n",
    "0\n",
    "2\n",
    "8\n",
    "34\n",
    "```"
   ]
  },
  {
   "cell_type": "code",
   "execution_count": null,
   "metadata": {},
   "outputs": [],
   "source": [
    "def fibonacci_pares(n):\n",
    "    a, b = 0, 1  # Inicializamos los primeros dos números de Fibonacci\n",
    "    while a <= n:\n",
    "        if a % 2 == 0:\n",
    "            yield a\n",
    "        a, b = b, a + b  # Avanzamos al siguiente número de Fibonacci\n",
    "\n",
    "# Prueba del generador\n",
    "for num in fibonacci_pares(50):\n",
    "    print(num)\n"
   ]
  },
  {
   "cell_type": "markdown",
   "metadata": {},
   "source": [
    "### Ejercicio 2: Decorador con argumentos dinámicos\n",
    "Crea un decorador llamado `tiempo_ejecucion` que mida el tiempo que tarda en ejecutarse una función. El decorador debe:\n",
    "- Mostrar el tiempo en milisegundos.\n",
    "- Funcionar con funciones que tomen cualquier cantidad de argumentos.\n",
    "\n",
    "**Ejemplo**:\n",
    "```python\n",
    "@tiempo_ejecucion\n",
    "def calcular_factorial(n):\n",
    "    if n == 0:\n",
    "        return 1\n",
    "    return n * calcular_factorial(n - 1)\n",
    "\n",
    "print(calcular_factorial(10))\n",
    "```\n",
    "\n",
    "**Salida esperada** (el tiempo puede variar):\n",
    "```\n",
    "Tiempo de ejecución: 0.123 ms\n",
    "3628800\n",
    "```"
   ]
  },
  {
   "cell_type": "code",
   "execution_count": null,
   "metadata": {},
   "outputs": [
    {
     "name": "stdout",
     "output_type": "stream",
     "text": [
      "Tiempo de ejecución: 0.000476837158203125 ms\n",
      "Tiempo de ejecución: 0.347137451171875 ms\n",
      "Tiempo de ejecución: 0.3757476806640625 ms\n",
      "Tiempo de ejecución: 0.38552284240722656 ms\n",
      "Tiempo de ejecución: 0.392913818359375 ms\n",
      "Tiempo de ejecución: 0.4138946533203125 ms\n",
      "Tiempo de ejecución: 0.42057037353515625 ms\n",
      "Tiempo de ejecución: 0.42748451232910156 ms\n",
      "Tiempo de ejecución: 0.4360675811767578 ms\n",
      "Tiempo de ejecución: 0.4429817199707031 ms\n",
      "Tiempo de ejecución: 0.4508495330810547 ms\n",
      "3628800\n"
     ]
    }
   ],
   "source": [
    "import time\n",
    "\n",
    "def tiempo_ejecucion(func):\n",
    "    \n",
    "    def wrapper(*args, **kwargs):\n",
    "        inicio = time.time()\n",
    "        # ejecutar la funcion con la decoracion\n",
    "        resultado = func(*args, **kwargs)\n",
    "        fin = time.time()\n",
    "        tiempo_total = (fin - inicio) * 1000\n",
    "        print(f\"Tiempo de ejecución: {tiempo_total}\")\n",
    "        return resultado\n",
    "    \n",
    "    return wrapper\n",
    "\n",
    "\n",
    "@tiempo_ejecucion\n",
    "def calcular_factorial(n):\n",
    "    if n == 0:\n",
    "        return 1\n",
    "    return n * calcular_factorial(n - 1)\n",
    "\n",
    "print(calcular_factorial(10))\n"
   ]
  },
  {
   "cell_type": "markdown",
   "metadata": {},
   "source": [
    "### Ejercicio 3: Operaciones encadenadas con `map` y `filter`\n",
    "Dada una lista de números enteros, escribe una función llamada `procesar_numeros` que realice las siguientes operaciones encadenadas usando `map`, `filter` y funciones `lambda`:\n",
    "1. Filtrar los números mayores que 10.\n",
    "2. Elevar al cuadrado los números filtrados.\n",
    "3. Obtener únicamente los números pares resultantes.\n",
    "\n",
    "**Ejemplo**:\n",
    "```python\n",
    "numeros = [4, 15, 8, 23, 16, 42, 9]\n",
    "print(procesar_numeros(numeros))\n",
    "```\n",
    "\n",
    "**Salida esperada**:\n",
    "```\n",
    "[256, 1764]\n",
    "```"
   ]
  },
  {
   "cell_type": "code",
   "execution_count": null,
   "metadata": {},
   "outputs": [
    {
     "name": "stdout",
     "output_type": "stream",
     "text": [
      "[256, 1764]\n"
     ]
    }
   ],
   "source": [
    "def procesar_numeros(numeros):\n",
    "    return list(filter(lambda numeros:numeros%2==0 ,map(lambda numeros:numeros**2,filter(lambda numeros:numeros>10,numeros))))\n",
    "\n",
    "numeros = [4, 15, 8, 23, 16, 42, 9]\n",
    "print(procesar_numeros(numeros))"
   ]
  },
  {
   "cell_type": "markdown",
   "metadata": {},
   "source": [
    "### Ejercicio 4: Decorador para múltiples funciones\n",
    "Crea un decorador llamado `verificar_argumentos` que valide los argumentos de una función. El decorador debe:\n",
    "- Asegurarse de que todos los argumentos de la función sean números positivos.\n",
    "- Si algún argumento no es válido, debe lanzar una excepción con el mensaje: `Argumento no válido: [valor]`.\n",
    "\n",
    "Aplica el decorador a las siguientes funciones:\n",
    "1. `suma_total`, que recibe una lista de números y retorna su suma.\n",
    "2. `calcular_promedio`, que recibe una lista de números y retorna el promedio.\n",
    "\n",
    "**Ejemplo**:\n",
    "```python\n",
    "print(suma_total([10, 20, 30]))\n",
    "print(calcular_promedio([10, 20, 30]))\n",
    "```\n",
    "\n",
    "**Salida esperada**:\n",
    "```\n",
    "60\n",
    "20.0\n",
    "```\n",
    "\n",
    "Si algún valor no es válido:\n",
    "```python\n",
    "print(suma_total([10, -20, 30]))\n",
    "```\n",
    "\n",
    "**Salida esperada**:\n",
    "```\n",
    "ValueError: Argumento no válido: -20\n",
    "```"
   ]
  },
  {
   "cell_type": "code",
   "execution_count": 26,
   "metadata": {},
   "outputs": [
    {
     "ename": "ValueError",
     "evalue": "Argumento no válido: -30",
     "output_type": "error",
     "traceback": [
      "\u001b[1;31m---------------------------------------------------------------------------\u001b[0m",
      "\u001b[1;31mValueError\u001b[0m                                Traceback (most recent call last)",
      "Cell \u001b[1;32mIn[26], line 22\u001b[0m\n\u001b[0;32m     19\u001b[0m     \u001b[38;5;28;01mreturn\u001b[39;00m \u001b[38;5;28msum\u001b[39m(lista) \u001b[38;5;241m/\u001b[39m \u001b[38;5;28mlen\u001b[39m(lista)\n\u001b[0;32m     21\u001b[0m \u001b[38;5;66;03m# Pruebas\u001b[39;00m\n\u001b[1;32m---> 22\u001b[0m \u001b[38;5;28mprint\u001b[39m(\u001b[43msuma_total\u001b[49m\u001b[43m(\u001b[49m\u001b[43m[\u001b[49m\u001b[38;5;241;43m10\u001b[39;49m\u001b[43m,\u001b[49m\u001b[43m \u001b[49m\u001b[38;5;241;43m20\u001b[39;49m\u001b[43m,\u001b[49m\u001b[43m \u001b[49m\u001b[38;5;241;43m-\u001b[39;49m\u001b[38;5;241;43m30\u001b[39;49m\u001b[43m]\u001b[49m\u001b[43m)\u001b[49m)\n\u001b[0;32m     23\u001b[0m \u001b[38;5;28mprint\u001b[39m(calcular_promedio([\u001b[38;5;241m10\u001b[39m, \u001b[38;5;241m20\u001b[39m, \u001b[38;5;241m30\u001b[39m]))\n",
      "Cell \u001b[1;32mIn[26], line 6\u001b[0m, in \u001b[0;36mverificar_argumentos.<locals>.envolv\u001b[1;34m(*args, **kwargs)\u001b[0m\n\u001b[0;32m      4\u001b[0m     \u001b[38;5;28;01mfor\u001b[39;00m j \u001b[38;5;129;01min\u001b[39;00m i:\n\u001b[0;32m      5\u001b[0m         \u001b[38;5;28;01mif\u001b[39;00m j \u001b[38;5;241m<\u001b[39m \u001b[38;5;241m0\u001b[39m:\n\u001b[1;32m----> 6\u001b[0m             \u001b[38;5;28;01mraise\u001b[39;00m \u001b[38;5;167;01mValueError\u001b[39;00m (\u001b[38;5;124m\"\u001b[39m\u001b[38;5;124mArgumento no válido: \u001b[39m\u001b[38;5;132;01m{}\u001b[39;00m\u001b[38;5;124m\"\u001b[39m\u001b[38;5;241m.\u001b[39mformat(j))\n\u001b[0;32m      9\u001b[0m \u001b[38;5;28;01mreturn\u001b[39;00m funcion(\u001b[38;5;241m*\u001b[39margs, \u001b[38;5;241m*\u001b[39m\u001b[38;5;241m*\u001b[39mkwargs)\n",
      "\u001b[1;31mValueError\u001b[0m: Argumento no válido: -30"
     ]
    }
   ],
   "source": [
    "def verificar_argumentos(funcion):\n",
    "    def envolv(*args, **kwargs):\n",
    "        for i in args:\n",
    "            for j in i:\n",
    "                if j < 0:\n",
    "                    raise ValueError (\"Argumento no válido: {}\".format(j))\n",
    "                \n",
    "                        \n",
    "        return funcion(*args, **kwargs)\n",
    "    \n",
    "    return envolv\n",
    "\n",
    "@verificar_argumentos\n",
    "def suma_total(lista):\n",
    "    return sum(lista)\n",
    "\n",
    "@verificar_argumentos\n",
    "def calcular_promedio(lista):\n",
    "    return sum(lista) / len(lista)\n",
    "\n",
    "# Pruebas\n",
    "print(suma_total([10, 20, -30]))\n",
    "print(calcular_promedio([10, 20, 30]))"
   ]
  },
  {
   "cell_type": "markdown",
   "metadata": {},
   "source": [
    "### Ejercicio 5: Iteradores personalizados\n",
    "Crea una clase llamada `IteradorRangoPersonalizado` que sea un iterador similar a `range`, pero que:\n",
    "- Reciba un rango definido por tres parámetros: `inicio`, `fin`, y un `paso`.\n",
    "- Genere los números en el rango de forma inversa si el `paso` es negativo.\n",
    "- Lance una excepción `StopIteration` cuando se alcance el final del rango.\n",
    "\n",
    "**Ejemplo**:\n",
    "```python\n",
    "iterador = IteradorRangoPersonalizado(10, 0, -2)\n",
    "for numero in iterador:\n",
    "    print(numero)\n",
    "```\n",
    "\n",
    "**Salida esperada**:\n",
    "```\n",
    "10\n",
    "8\n",
    "6\n",
    "4\n",
    "2\n",
    "```"
   ]
  },
  {
   "cell_type": "code",
   "execution_count": null,
   "metadata": {},
   "outputs": [],
   "source": [
    "class IteradorRangoPersonalizado:\n",
    "    def __init__(self,inicio, fin ,paso):\n",
    "        self.inicio = inicio\n",
    "        self.fin = fin\n",
    "        self.paso = paso\n",
    "    \n",
    "\n",
    "# Prueba del iterador\n",
    "iterador = IteradorRangoPersonalizado(10, 0, -2)\n",
    "for numero in iterador:\n",
    "    print(numero)"
   ]
  }
 ],
 "metadata": {
  "kernelspec": {
   "display_name": "Python 3",
   "language": "python",
   "name": "python3"
  },
  "language_info": {
   "codemirror_mode": {
    "name": "ipython",
    "version": 3
   },
   "file_extension": ".py",
   "mimetype": "text/x-python",
   "name": "python",
   "nbconvert_exporter": "python",
   "pygments_lexer": "ipython3",
   "version": "3.13.0"
  }
 },
 "nbformat": 4,
 "nbformat_minor": 4
}
