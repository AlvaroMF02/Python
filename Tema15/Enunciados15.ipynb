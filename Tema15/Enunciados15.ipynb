{
 "cells": [
  {
   "cell_type": "markdown",
   "metadata": {},
   "source": [
    "# Ejercicios para consolidar lo aprendido\n",
    "En esta notebook encontrarás ejercicios que te ayudarán a practicar y reforzar los conceptos aprendidos en las lecciones anteriores:"
   ]
  },
  {
   "cell_type": "markdown",
   "metadata": {},
   "source": [
    "### Ejercicio 1: Validar rangos con operadores encadenados\n",
    "Escribe una función llamada `validar_rango` que reciba un número y devuelva:\n",
    "- `\"Dentro del rango\"` si el número está entre 10 y 20 (ambos incluidos).\n",
    "- `\"Fuera del rango\"` en caso contrario.\n",
    "\n",
    "Prueba la función con varios valores para asegurarte de que funciona correctamente."
   ]
  },
  {
   "cell_type": "code",
   "execution_count": 3,
   "metadata": {},
   "outputs": [
    {
     "name": "stdout",
     "output_type": "stream",
     "text": [
      "Dentro del rango\n",
      "None\n",
      "Fuera del rango\n",
      "None\n"
     ]
    }
   ],
   "source": [
    "# Tu solución aquí\n",
    "def validar_rango(numero):\n",
    "    # Implementa la lógica usando operadores encadenados\n",
    "    if 10 <= numero <= 20:\n",
    "        print(\"Dentro del rango\")\n",
    "    else:\n",
    "        print(\"Fuera del rango\")\n",
    "\n",
    "# Prueba la función\n",
    "print(validar_rango(15))  # Debería devolver \"Dentro del rango\"\n",
    "print(validar_rango(5))   # Debería devolver \"Fuera del rango\""
   ]
  },
  {
   "cell_type": "markdown",
   "metadata": {},
   "source": [
    "### Ejercicio 2: Comprensión de listas\n",
    "Crea una lista usando comprensión de listas que contenga los cuadrados de los números pares entre 0 y 20. \n",
    "\n",
    "Prueba imprimiendo el resultado."
   ]
  },
  {
   "cell_type": "code",
   "execution_count": 6,
   "metadata": {},
   "outputs": [
    {
     "name": "stdout",
     "output_type": "stream",
     "text": [
      "[0, 1, 4, 9, 16, 25, 36, 49, 64, 81, 100, 121, 144, 169, 196, 225, 256, 289, 324, 361, 400]\n"
     ]
    }
   ],
   "source": [
    "# Tu solución aquí\n",
    "lista_cuadrados_pares = [numero**2 for numero in range(0,21)]  # Usa comprensión de listas\n",
    "print(lista_cuadrados_pares)  # Debería devolver [0, 4, 16, 36, 64, 100, 144, 196, 256, 324, 400]"
   ]
  },
  {
   "cell_type": "markdown",
   "metadata": {},
   "source": [
    "### Ejercicio 3: Funciones decoradoras\n",
    "Escribe un decorador llamado `decorador_suma` que reciba una función y haga lo siguiente:\n",
    "- Imprima `\"Ejecutando la función...\"` antes de ejecutar la función.\n",
    "- Ejecute la función.\n",
    "- Imprima `\"Ejecución finalizada\"` después de ejecutarla.\n",
    "\n",
    "Crea una función llamada `suma` que reciba dos números y retorne su suma. Aplícale el decorador `@decorador_suma`."
   ]
  },
  {
   "cell_type": "code",
   "execution_count": null,
   "metadata": {},
   "outputs": [
    {
     "name": "stdout",
     "output_type": "stream",
     "text": [
      "\t* Se está a punto de ejecutar la función: suma\n",
      "\t* Se ha finalizado de ejecutar la función: suma\n",
      "15\n"
     ]
    }
   ],
   "source": [
    "# Decorador correcto\n",
    "def decorador_suma(funcion):\n",
    "    def envolv(*args, **kwargs):\n",
    "        \n",
    "        print(\"\\t* Se está a punto de ejecutar la función:\", funcion.__name__)\n",
    "        resultado = funcion(*args, **kwargs)\n",
    "        print(\"\\t* Se ha finalizado de ejecutar la función:\", funcion.__name__)\n",
    "        return resultado\n",
    "    \n",
    "    return envolv\n",
    "\n",
    "# Decoramos la función suma\n",
    "@decorador_suma\n",
    "def suma(a, b):\n",
    "    return a + b\n",
    "\n",
    "# Prueba la función\n",
    "print(suma(5, 10))  # Debería mostrar mensajes del decorador y devolver 15\n"
   ]
  },
  {
   "cell_type": "markdown",
   "metadata": {},
   "source": [
    "### Ejercicio 4: Generadores\n",
    "Escribe una función generadora llamada `numeros_impares` que reciba un número `n` y genere todos los números impares desde 1 hasta `n` (inclusive). \n",
    "\n",
    "Prueba el generador usando un `for` para imprimir los valores generados."
   ]
  },
  {
   "cell_type": "code",
   "execution_count": 14,
   "metadata": {},
   "outputs": [
    {
     "name": "stdout",
     "output_type": "stream",
     "text": [
      "1\n",
      "3\n",
      "5\n",
      "7\n",
      "9\n"
     ]
    }
   ],
   "source": [
    "# Tu solución aquí\n",
    "def numeros_impares(n):\n",
    "    for numero in range(n+1):\n",
    "        if numero % 2 != 0:\n",
    "            yield numero\n",
    "\n",
    "# Prueba el generador\n",
    "for num in numeros_impares(10):\n",
    "    print(num)  # Debería imprimir 1, 3, 5, 7, 9"
   ]
  },
  {
   "cell_type": "markdown",
   "metadata": {},
   "source": [
    "### Ejercicio 5: Usando `lambda`, `map` y `filter`\n",
    "Dada la lista `numeros = [1, 2, 3, 4, 5, 6, 7, 8, 9, 10]`, realiza las siguientes operaciones:\n",
    "\n",
    "1. Usa `filter` para obtener los números pares de la lista.\n",
    "2. Usa `map` para obtener el cuadrado de los números pares filtrados.\n",
    "3. Usa una expresión `lambda` para implementar tanto el filtro como la operación en `map`.\n",
    "\n",
    "Imprime la lista resultante."
   ]
  },
  {
   "cell_type": "code",
   "execution_count": 20,
   "metadata": {},
   "outputs": [
    {
     "name": "stdout",
     "output_type": "stream",
     "text": [
      "[2, 4, 6, 8, 10]\n",
      "[4, 16, 36, 64, 100]\n"
     ]
    }
   ],
   "source": [
    "# Tu solución aquí\n",
    "numeros = [1, 2, 3, 4, 5, 6, 7, 8, 9, 10]\n",
    "\n",
    "# Filtra los números pares\n",
    "\n",
    "numeros_pares = list(filter(lambda numeros:numeros%2==0 , numeros))  # Usa filter con lambda\n",
    "print(numeros_pares)\n",
    "\n",
    "# Obtén el cuadrado de los números pares\n",
    "cuadrados_pares = list(map(lambda numero:numero**2 , numeros_pares))  # Usa map con lambda\n",
    "\n",
    "print(cuadrados_pares)  # Debería devolver [4, 16, 36, 64, 100]"
   ]
  },
  {
   "cell_type": "code",
   "execution_count": null,
   "id": "0db70030",
   "metadata": {},
   "outputs": [],
   "source": []
  }
 ],
 "metadata": {
  "kernelspec": {
   "display_name": "Python 3",
   "language": "python",
   "name": "python3"
  },
  "language_info": {
   "codemirror_mode": {
    "name": "ipython",
    "version": 3
   },
   "file_extension": ".py",
   "mimetype": "text/x-python",
   "name": "python",
   "nbconvert_exporter": "python",
   "pygments_lexer": "ipython3",
   "version": "3.13.0"
  }
 },
 "nbformat": 4,
 "nbformat_minor": 5
}
