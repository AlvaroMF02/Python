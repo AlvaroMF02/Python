{
 "cells": [
  {
   "cell_type": "markdown",
   "metadata": {},
   "source": [
    "# Ejercicios avanzados de Python\n",
    "Estos ejercicios están diseñados para reforzar y poner en práctica los conceptos aprendidos sobre funciones decoradoras, generadores, funciones lambda, iteradores y más."
   ]
  },
  {
   "cell_type": "markdown",
   "metadata": {},
   "source": [
    "### Ejercicio 1: Generador con lógica avanzada\n",
    "Crea una función generadora llamada `fibonacci_pares` que genere los números pares de la serie de Fibonacci hasta un valor máximo dado `n`. La serie de Fibonacci comienza con 0 y 1, y cada número siguiente es la suma de los dos anteriores.\n",
    "\n",
    "**Ejemplo**:\n",
    "```python\n",
    "for num in fibonacci_pares(50):\n",
    "    print(num)\n",
    "```\n",
    "\n",
    "**Salida esperada**:\n",
    "```\n",
    "0\n",
    "2\n",
    "8\n",
    "34\n",
    "```"
   ]
  },
  {
   "cell_type": "code",
   "execution_count": null,
   "metadata": {},
   "outputs": [],
   "source": [
    "def fibonacci_pares(n):\n",
    "    a, b = 0, 1  # Inicializamos los primeros dos números de Fibonacci\n",
    "    while a <= n:\n",
    "        if a % 2 == 0:  # Verificamos si el número es par\n",
    "            yield a  # Devolvemos el número par de Fibonacci\n",
    "        a, b = b, a + b  # Avanzamos al siguiente número de Fibonacci\n",
    "\n",
    "# Prueba del generador\n",
    "for num in fibonacci_pares(50):\n",
    "    print(num)\n"
   ]
  },
  {
   "cell_type": "markdown",
   "metadata": {},
   "source": [
    "### Ejercicio 2: Decorador con argumentos dinámicos\n",
    "Crea un decorador llamado `tiempo_ejecucion` que mida el tiempo que tarda en ejecutarse una función. El decorador debe:\n",
    "- Mostrar el tiempo en milisegundos.\n",
    "- Funcionar con funciones que tomen cualquier cantidad de argumentos.\n",
    "\n",
    "**Ejemplo**:\n",
    "```python\n",
    "@tiempo_ejecucion\n",
    "def calcular_factorial(n):\n",
    "    if n == 0:\n",
    "        return 1\n",
    "    return n * calcular_factorial(n - 1)\n",
    "\n",
    "print(calcular_factorial(10))\n",
    "```\n",
    "\n",
    "**Salida esperada** (el tiempo puede variar):\n",
    "```\n",
    "Tiempo de ejecución: 0.123 ms\n",
    "3628800\n",
    "```"
   ]
  },
  {
   "cell_type": "code",
   "execution_count": 2,
   "metadata": {},
   "outputs": [
    {
     "name": "stdout",
     "output_type": "stream",
     "text": [
      "Tiempo de ejecución: 0.000 ms\n",
      "Tiempo de ejecución: 0.313 ms\n",
      "Tiempo de ejecución: 0.330 ms\n",
      "Tiempo de ejecución: 0.351 ms\n",
      "Tiempo de ejecución: 0.369 ms\n",
      "Tiempo de ejecución: 0.383 ms\n",
      "Tiempo de ejecución: 0.395 ms\n",
      "Tiempo de ejecución: 0.406 ms\n",
      "Tiempo de ejecución: 0.418 ms\n",
      "Tiempo de ejecución: 0.430 ms\n",
      "Tiempo de ejecución: 0.443 ms\n",
      "3628800\n"
     ]
    }
   ],
   "source": [
    "import time  # Importamos el módulo para medir el tiempo\n",
    "\n",
    "def tiempo_ejecucion(func):\n",
    "    def wrapper(*args, **kwargs):  # Aceptamos cualquier cantidad de argumentos\n",
    "        inicio = time.time()  # Registramos el tiempo inicial\n",
    "        resultado = func(*args, **kwargs)  # Ejecutamos la función decorada\n",
    "        fin = time.time()  # Registramos el tiempo final\n",
    "        tiempo_total = (fin - inicio) * 1000  # Convertimos a milisegundos\n",
    "        print(f\"Tiempo de ejecución: {tiempo_total:.3f} ms\")\n",
    "        return resultado  # Devolvemos el resultado de la función original\n",
    "    return wrapper\n",
    "\n",
    "# Ejemplo de uso\n",
    "@tiempo_ejecucion\n",
    "def calcular_factorial(n):\n",
    "    if n == 0:\n",
    "        return 1\n",
    "    return n * calcular_factorial(n - 1)\n",
    "\n",
    "# Probar la función decorada\n",
    "print(calcular_factorial(10))\n"
   ]
  },
  {
   "cell_type": "markdown",
   "metadata": {},
   "source": [
    "### Ejercicio 3: Operaciones encadenadas con `map` y `filter`\n",
    "Dada una lista de números enteros, escribe una función llamada `procesar_numeros` que realice las siguientes operaciones encadenadas usando `map`, `filter` y funciones `lambda`:\n",
    "1. Filtrar los números mayores que 10.\n",
    "2. Elevar al cuadrado los números filtrados.\n",
    "3. Obtener únicamente los números pares resultantes.\n",
    "\n",
    "**Ejemplo**:\n",
    "```python\n",
    "numeros = [4, 15, 8, 23, 16, 42, 9]\n",
    "print(procesar_numeros(numeros))\n",
    "```\n",
    "\n",
    "**Salida esperada**:\n",
    "```\n",
    "[256, 1764]\n",
    "```"
   ]
  },
  {
   "cell_type": "code",
   "execution_count": null,
   "metadata": {},
   "outputs": [],
   "source": [
    "def procesar_numeros(numeros):\n",
    "    pass  # Implementa las operaciones encadenadas\n",
    "\n",
    "numeros = [4, 15, 8, 23, 16, 42, 9]\n",
    "print(procesar_numeros(numeros))"
   ]
  },
  {
   "cell_type": "markdown",
   "metadata": {},
   "source": [
    "### Ejercicio 4: Decorador para múltiples funciones\n",
    "Crea un decorador llamado `verificar_argumentos` que valide los argumentos de una función. El decorador debe:\n",
    "- Asegurarse de que todos los argumentos de la función sean números positivos.\n",
    "- Si algún argumento no es válido, debe lanzar una excepción con el mensaje: `Argumento no válido: [valor]`.\n",
    "\n",
    "Aplica el decorador a las siguientes funciones:\n",
    "1. `suma_total`, que recibe una lista de números y retorna su suma.\n",
    "2. `calcular_promedio`, que recibe una lista de números y retorna el promedio.\n",
    "\n",
    "**Ejemplo**:\n",
    "```python\n",
    "print(suma_total([10, 20, 30]))\n",
    "print(calcular_promedio([10, 20, 30]))\n",
    "```\n",
    "\n",
    "**Salida esperada**:\n",
    "```\n",
    "60\n",
    "20.0\n",
    "```\n",
    "\n",
    "Si algún valor no es válido:\n",
    "```python\n",
    "print(suma_total([10, -20, 30]))\n",
    "```\n",
    "\n",
    "**Salida esperada**:\n",
    "```\n",
    "ValueError: Argumento no válido: -20\n",
    "```"
   ]
  },
  {
   "cell_type": "code",
   "execution_count": null,
   "metadata": {},
   "outputs": [],
   "source": [
    "def verificar_argumentos(funcion):\n",
    "    pass  # Implementa la lógica del decorador\n",
    "\n",
    "@verificar_argumentos\n",
    "def suma_total(lista):\n",
    "    return sum(lista)\n",
    "\n",
    "@verificar_argumentos\n",
    "def calcular_promedio(lista):\n",
    "    return sum(lista) / len(lista)\n",
    "\n",
    "# Pruebas\n",
    "print(suma_total([10, 20, 30]))\n",
    "print(calcular_promedio([10, 20, 30]))"
   ]
  },
  {
   "cell_type": "markdown",
   "metadata": {},
   "source": [
    "### Ejercicio 5: Iteradores personalizados\n",
    "Crea una clase llamada `IteradorRangoPersonalizado` que sea un iterador similar a `range`, pero que:\n",
    "- Reciba un rango definido por tres parámetros: `inicio`, `fin`, y un `paso`.\n",
    "- Genere los números en el rango de forma inversa si el `paso` es negativo.\n",
    "- Lance una excepción `StopIteration` cuando se alcance el final del rango.\n",
    "\n",
    "**Ejemplo**:\n",
    "```python\n",
    "iterador = IteradorRangoPersonalizado(10, 0, -2)\n",
    "for numero in iterador:\n",
    "    print(numero)\n",
    "```\n",
    "\n",
    "**Salida esperada**:\n",
    "```\n",
    "10\n",
    "8\n",
    "6\n",
    "4\n",
    "2\n",
    "```"
   ]
  },
  {
   "cell_type": "code",
   "execution_count": null,
   "metadata": {},
   "outputs": [],
   "source": [
    "class IteradorRangoPersonalizado:\n",
    "    pass  # Implementa el iterador personalizado\n",
    "\n",
    "# Prueba del iterador\n",
    "iterador = IteradorRangoPersonalizado(10, 0, -2)\n",
    "for numero in iterador:\n",
    "    print(numero)"
   ]
  }
 ],
 "metadata": {
  "kernelspec": {
   "display_name": "Python 3",
   "language": "python",
   "name": "python3"
  },
  "language_info": {
   "codemirror_mode": {
    "name": "ipython",
    "version": 3
   },
   "file_extension": ".py",
   "mimetype": "text/x-python",
   "name": "python",
   "nbconvert_exporter": "python",
   "pygments_lexer": "ipython3",
   "version": "3.13.0"
  }
 },
 "nbformat": 4,
 "nbformat_minor": 4
}
