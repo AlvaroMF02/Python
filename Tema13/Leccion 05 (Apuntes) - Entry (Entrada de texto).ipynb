{
 "cells": [
  {
   "cell_type": "markdown",
   "metadata": {},
   "source": [
    "# Widget Entry (Texto corto)\n",
    "\n",
    "Los campos de texto sirven generalmente para que el usuario escriba un valor. Sería un puente que equivaldría a la función input() pero gráficamente. Lo bueno es que integra muchos métodos que le permiten desde borrar el texto a desactivar el campo."
   ]
  },
  {
   "cell_type": "code",
   "execution_count": null,
   "metadata": {},
   "outputs": [],
   "source": [
    "from tkinter import *\n",
    "root = Tk()\n",
    "\n",
    "entry = Entry(root)\n",
    "entry.pack()\n",
    "\n",
    "root.mainloop()"
   ]
  },
  {
   "cell_type": "markdown",
   "metadata": {},
   "source": [
    "Podemos añadir una label a la izquierda para indicar información sobre el campo:"
   ]
  },
  {
   "cell_type": "code",
   "execution_count": null,
   "metadata": {},
   "outputs": [],
   "source": [
    "entry = Entry(root)\n",
    "entry.pack(side=RIGHT)\n",
    "\n",
    "label = Label(root, text=\"Nombre\")\n",
    "label.pack(side=LEFT)"
   ]
  },
  {
   "cell_type": "markdown",
   "metadata": {},
   "source": [
    "Lo malo es que si intentamos crear más etiquetas y campos, esto se posicionan mal:"
   ]
  },
  {
   "cell_type": "code",
   "execution_count": null,
   "metadata": {},
   "outputs": [],
   "source": [
    "entry2 = Entry(root)\n",
    "entry2.pack(side=RIGHT)\n",
    "\n",
    "label2 = Label(root, text=\"Apellidos\")\n",
    "label2.pack(side=LEFT)"
   ]
  },
  {
   "cell_type": "markdown",
   "metadata": {},
   "source": [
    "Para solucionarlo se puede hacer de distintas formas. Por ejemplo creando dos marcos, y añadir una etiqueta y un campo de texto en cada una. De esta forma el marco hará de separador:"
   ]
  },
  {
   "cell_type": "code",
   "execution_count": null,
   "metadata": {},
   "outputs": [],
   "source": [
    "frame1 = Frame(root)\n",
    "frame1.pack()\n",
    "\n",
    "entry = Entry(frame1)\n",
    "entry.pack(side=RIGHT)\n",
    "\n",
    "label = Label(frame1, text=\"Nombre\")\n",
    "label.pack(side=LEFT)\n",
    "\n",
    "frame2 = Frame(root)\n",
    "frame2.pack()\n",
    "\n",
    "entry2 = Entry(frame2)\n",
    "entry2.pack(side=RIGHT)\n",
    "\n",
    "label2 = Label(frame2, text=\"Apellidos\")\n",
    "label2.pack(side=LEFT)"
   ]
  },
  {
   "cell_type": "markdown",
   "metadata": {},
   "source": [
    "Para posicionar mejor los widgets, utilizaremos una disposición en cuadrícula con grid():"
   ]
  },
  {
   "cell_type": "code",
   "execution_count": null,
   "metadata": {},
   "outputs": [],
   "source": [
    "label = Label(root, text=\"Nombre\")\n",
    "label.grid(row=0,column=0)\n",
    "\n",
    "entry = Entry(root)\n",
    "entry.grid(row=0,column=1)\n",
    "\n",
    "label2 = Label(root, text=\"Apellidos\")\n",
    "label2.grid(row=1,column=0)\n",
    "\n",
    "entry2 = Entry(root)\n",
    "entry2.grid(row=1,column=1)"
   ]
  },
  {
   "cell_type": "markdown",
   "metadata": {},
   "source": [
    "Podemos mejorar la apariencia usando sticky y padding:"
   ]
  },
  {
   "cell_type": "code",
   "execution_count": null,
   "metadata": {},
   "outputs": [],
   "source": [
    "label = Label(root, text=\"Nombre\")\n",
    "label.grid(row=0,column=0, sticky=W, padx=5, pady=5)\n",
    "\n",
    "entry = Entry(root)\n",
    "entry.grid(row=0,column=1, padx=5, pady=5)\n",
    "\n",
    "label2 = Label(root, text=\"Apellidos\")\n",
    "label2.grid(row=1,column=0, sticky=W, padx=5, pady=5)\n",
    "\n",
    "entry2 = Entry(root)\n",
    "entry2.grid(row=1,column=1, padx=5, pady=5)"
   ]
  },
  {
   "cell_type": "markdown",
   "metadata": {},
   "source": [
    "Algunos parámetros adicionales de los campos de texto:\n",
    "\n",
    "* justify=LEFT, CENTER, RIGHT   # justificar el texto\n",
    "* state=DISABLED, NORMAL        # desactivar el campo\n",
    "* show=\"*\"                      # para contraseñas mostrar * o lo que sea"
   ]
  },
  {
   "cell_type": "markdown",
   "metadata": {},
   "source": [
    "<img src=\"img\\11.png\">"
   ]
  },
  {
   "cell_type": "markdown",
   "metadata": {},
   "source": [
    "## Código final:"
   ]
  },
  {
   "cell_type": "code",
   "execution_count": null,
   "metadata": {},
   "outputs": [],
   "source": [
    "from tkinter import *\n",
    "\n",
    "# Configuración de la raíz\n",
    "root = Tk()\n",
    "\n",
    "label = Label(root, text=\"Nombre muy largo\")\n",
    "label.grid(row=0, column=0, sticky=\"w\", padx=5, pady=5)\n",
    "\n",
    "entry = Entry(root)\n",
    "entry.grid(row=0, column=1, padx=5, pady=5)\n",
    "entry.config(justify=\"right\", state=\"normal\")\n",
    "\n",
    "label2 = Label(root, text=\"Contraseña\")\n",
    "label2.grid(row=1, column=0, sticky=\"w\", padx=5, pady=5)\n",
    "\n",
    "entry2 = Entry(root)\n",
    "entry2.grid(row=1, column=1, padx=5, pady=5)\n",
    "entry2.config(justify=\"center\", show=\"?\")\n",
    "\n",
    "# Finalmente bucle de la aplicación\n",
    "root.mainloop()"
   ]
  }
 ],
 "metadata": {
  "kernelspec": {
   "display_name": "Python 3",
   "language": "python",
   "name": "python3"
  },
  "language_info": {
   "codemirror_mode": {
    "name": "ipython",
    "version": 3
   },
   "file_extension": ".py",
   "mimetype": "text/x-python",
   "name": "python",
   "nbconvert_exporter": "python",
   "pygments_lexer": "ipython3",
   "version": "3.8.0"
  }
 },
 "nbformat": 4,
 "nbformat_minor": 4
}
