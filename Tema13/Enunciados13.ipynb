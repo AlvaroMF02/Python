{
 "cells": [
  {
   "cell_type": "markdown",
   "metadata": {},
   "source": [
    "# Ejercicios de Interfaces Gráficas con Tkinter\n",
    "\n",
    "## Ejercicio 1: Editor de Texto Simple\n",
    "\n",
    "Crear un editor de texto simple que incluya:\n",
    "- Una ventana principal con un título \"Editor de Texto\"\n",
    "- Un widget Text que ocupe la mayor parte de la ventana\n",
    "- Una barra de menú con las siguientes opciones:\n",
    "  - Archivo: Nuevo, Abrir, Guardar, Salir\n",
    "  - Edición: Cortar, Copiar, Pegar\n",
    "- Implementar todas las funcionalidades básicas (usar FileDialog para abrir/guardar)\n",
    "- Agregar un diálogo de confirmación antes de cerrar si hay cambios sin guardar\n",
    "\n",
    "Objetivos de aprendizaje:\n",
    "- Uso de menús\n",
    "- Manejo de archivos con diálogos\n",
    "- Widgets Text\n",
    "- Gestión de eventos\n",
    "\n",
    "---"
   ]
  },
  {
   "cell_type": "markdown",
   "metadata": {},
   "source": [
    "## Ejercicio 2: Calculadora de Conversión de Unidades\n",
    "\n",
    "Desarrollar una calculadora de conversión de unidades que incluya:\n",
    "- Una ventana con título \"Conversor de Unidades\"\n",
    "- Un ComboBox para seleccionar el tipo de conversión (Temperatura, Longitud, Peso)\n",
    "- Dos ComboBox para seleccionar las unidades de origen y destino\n",
    "- Entry para introducir el valor a convertir\n",
    "- Label para mostrar el resultado\n",
    "- Botón para realizar la conversión\n",
    "- Manejo de errores con MessageBox para entradas inválidas\n",
    "\n",
    "Tipos de conversión mínimos:\n",
    "- Temperatura: Celsius, Fahrenheit, Kelvin\n",
    "- Longitud: Metros, Kilómetros, Millas, Pies\n",
    "- Peso: Kilogramos, Libras, Onzas\n",
    "\n",
    "Objetivos de aprendizaje:\n",
    "- Uso de ComboBox\n",
    "- Validación de entrada\n",
    "- Manejo de eventos\n",
    "- Diálogos de mensaje\n",
    "\n",
    "---"
   ]
  },
  {
   "cell_type": "markdown",
   "metadata": {},
   "source": [
    "## Ejercicio 3: Gestor de Tareas\n",
    "\n",
    "Crear un gestor de tareas (To-Do List) que incluya:\n",
    "- Ventana principal con título \"Gestor de Tareas\"\n",
    "- Lista de tareas usando Treeview con columnas:\n",
    "  - Tarea\n",
    "  - Prioridad (Alta, Media, Baja)\n",
    "  - Fecha límite\n",
    "  - Estado (Pendiente, Completada)\n",
    "- Frame con controles:\n",
    "  - Botones: Agregar, Editar, Eliminar, Marcar como completada\n",
    "  - Entry para búsqueda/filtrado de tareas\n",
    "- Diálogo personalizado para agregar/editar tareas con:\n",
    "  - Entry para el nombre de la tarea\n",
    "  - RadioButtons para la prioridad\n",
    "  - DateEntry para la fecha límite\n",
    "- Guardar/Cargar tareas en un archivo JSON\n",
    "\n",
    "Objetivos de aprendizaje:\n",
    "- Uso de Treeview\n",
    "- Creación de diálogos personalizados\n",
    "- Persistencia de datos\n",
    "- Widgets compuestos\n",
    "- Manejo de fechas\n",
    "\n",
    "---"
   ]
  },
  {
   "cell_type": "markdown",
   "metadata": {},
   "source": [
    "### Notas importantes para todos los ejercicios:\n",
    "\n",
    "1. Implementar una interfaz responsiva que se adapte al redimensionamiento de la ventana\n",
    "2. Manejar apropiadamente los errores y mostrar mensajes al usuario\n",
    "3. Seguir las buenas prácticas de programación y organización del código\n",
    "4. Documentar el código adecuadamente\n"
   ]
  },
  {
   "cell_type": "markdown",
   "metadata": {},
   "source": []
  }
 ],
 "metadata": {
  "kernelspec": {
   "display_name": "Python 3",
   "language": "python",
   "name": "python3"
  },
  "language_info": {
   "codemirror_mode": {
    "name": "ipython",
    "version": 3
   },
   "file_extension": ".py",
   "mimetype": "text/x-python",
   "name": "python",
   "nbconvert_exporter": "python",
   "pygments_lexer": "ipython3",
   "version": "3.8.0"
  }
 },
 "nbformat": 4,
 "nbformat_minor": 4
}
