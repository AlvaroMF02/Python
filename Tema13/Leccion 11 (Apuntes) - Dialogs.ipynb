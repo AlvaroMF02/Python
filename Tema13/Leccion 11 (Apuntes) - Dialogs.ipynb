{
 "cells": [
  {
   "cell_type": "markdown",
   "metadata": {},
   "source": [
    "# Dialogs (Diálogos)\n",
    "\n",
    "## Bug en Mac OS 10.13 o superior\n",
    "\n",
    "Debido a incompatibilidades de la librería tk de Anaconda, los iconos de los diálogos no se muestran correctamente."
   ]
  },
  {
   "cell_type": "markdown",
   "metadata": {},
   "source": [
    "Las ventanas emergentes, cuadros de diálogo o simplemente Pop Ups, sirven para mostrar o pedir información rápida al usuario. Reciben ese nombre porque no forma parte de la ventana principal, sinó que aparecen de golpe encima.\n",
    "\n",
    "La ventana emergente por excelencia es la MessageBox, que sirve para mostrar un icono y un mensaje, pero tiene algunas variantes. Desde la clásico ventana con la opción de aceptar, la de alerta para informar de excepciones o errores, y las de aceptar o rechazar algo.\n",
    "\n",
    "Vamos a echar un vistazo a todas ellas.\n",
    "\n",
    "## ShowInfo\n",
    "\n",
    "Sirve para mostrar un diálogo de más información:"
   ]
  },
  {
   "cell_type": "code",
   "execution_count": null,
   "metadata": {},
   "outputs": [],
   "source": [
    "from tkinter import *\n",
    "from tkinter import messagebox as MessageBox\n",
    "\n",
    "def test():\n",
    "    MessageBox.showinfo(\"Hola!\", \"Hola mundo\") # título, mensaje\n",
    "\n",
    "root = Tk()\n",
    "\n",
    "Button(root, text = \"Clícame\", command=test).pack()\n",
    "\n",
    "root.mainloop()"
   ]
  },
  {
   "cell_type": "markdown",
   "metadata": {},
   "source": [
    "<img src=\"img\\20.png\">"
   ]
  },
  {
   "cell_type": "markdown",
   "metadata": {},
   "source": [
    "## ShowWarning\n",
    "\n",
    "Sirve para mostrar un diálogo con un mensaje de alerta:"
   ]
  },
  {
   "cell_type": "code",
   "execution_count": null,
   "metadata": {},
   "outputs": [],
   "source": [
    "MessageBox.showwarning(\"Alerta\", \n",
    "    \"Sección sólo para administradores.\")"
   ]
  },
  {
   "cell_type": "markdown",
   "metadata": {},
   "source": [
    "<img src=\"img\\21.png\">"
   ]
  },
  {
   "cell_type": "markdown",
   "metadata": {},
   "source": [
    "## ShowError\n",
    "\n",
    "Sirve para mostrar un diálogo con un mensaje de error:"
   ]
  },
  {
   "cell_type": "code",
   "execution_count": null,
   "metadata": {},
   "outputs": [],
   "source": [
    "MessageBox.showerror(\"Error\", \n",
    "    \"Ha ocurrido un error inesperado.\")"
   ]
  },
  {
   "cell_type": "markdown",
   "metadata": {},
   "source": [
    "<img src=\"img\\22.png\">"
   ]
  },
  {
   "cell_type": "markdown",
   "metadata": {},
   "source": [
    "## AskQuestion\n",
    "\n",
    "Sirve para mostrar un diálogo con una pregunta de Sí/No al usuario:"
   ]
  },
  {
   "cell_type": "code",
   "execution_count": null,
   "metadata": {},
   "outputs": [],
   "source": [
    "resultado = MessageBox.askquestion(\"Salir\", \n",
    "    \"¿Está seguro que desea salir sin guardar?\")\n",
    "\n",
    "if resultado == \"yes\":\n",
    "    root.destroy()  # Destruir, alternativa a quit"
   ]
  },
  {
   "cell_type": "markdown",
   "metadata": {},
   "source": [
    "<img src=\"img\\23.png\">"
   ]
  },
  {
   "cell_type": "markdown",
   "metadata": {},
   "source": [
    "## AskOkCancel\n",
    "\n",
    "Sirve para mostrar un diálogo con una pregunta de Ok/Cancelar al usuario:"
   ]
  },
  {
   "cell_type": "code",
   "execution_count": null,
   "metadata": {},
   "outputs": [],
   "source": [
    "resultado = MessageBox.askokcancel(\"Salir\", \n",
    "    \"¿Sobreescribir fichero actual?\")\n",
    "\n",
    "if resultado == True:\n",
    "    # Hacer algo\n",
    "    pass"
   ]
  },
  {
   "cell_type": "markdown",
   "metadata": {},
   "source": [
    "<img src=\"img\\24.png\">"
   ]
  },
  {
   "cell_type": "markdown",
   "metadata": {},
   "source": [
    "## AskRetryCancel\n",
    "\n",
    "Sirve para mostrar un diálogo con una pregunta de Reintenar/Cancelar al usuario:"
   ]
  },
  {
   "cell_type": "code",
   "execution_count": null,
   "metadata": {},
   "outputs": [],
   "source": [
    "resultado = MessageBox.askretrycancel(\"Reintentar\",\n",
    "    \"No se puede conectar\")\n",
    "\n",
    "if resultado == True:\n",
    "    # Hacer algo\n",
    "    pass"
   ]
  },
  {
   "cell_type": "markdown",
   "metadata": {},
   "source": [
    "<img src=\"img\\26.png\">"
   ]
  },
  {
   "cell_type": "markdown",
   "metadata": {},
   "source": [
    "## AskColor\n",
    "\n",
    "Imaginad que queréis crear una aplicación y necesitáis que el usuario seleccione un color. Pues para este caso tenemos una clase llamada colorchooser:"
   ]
  },
  {
   "cell_type": "code",
   "execution_count": null,
   "metadata": {},
   "outputs": [],
   "source": [
    "from tkinter import colorchooser as ColorChooser\n",
    "\n",
    "def test():\n",
    "    color = ColorChooser.askcolor(title=\"Elige un color\")\n",
    "    print(color)"
   ]
  },
  {
   "cell_type": "markdown",
   "metadata": {},
   "source": [
    "<img src=\"img\\27.png\">"
   ]
  },
  {
   "cell_type": "markdown",
   "metadata": {},
   "source": [
    "Como véis nos muestra el cuadro de diálogo del sistema operativo y como resultado conseguimos una cómoda tupla con el color en dos formatos, RGB y Hexadecimal. En caso de no seleccionar ningún color la tupla tendrá dos valores nulos None por defecto.\n",
    "\n",
    "## AskOpenFile\n",
    "\n",
    "Y por último, un vistazo a la clase FileDialog, que nos permite realizar varias tareas como conseguir la ruta de un fichero para poder abrirlo, o para guardarlo:"
   ]
  },
  {
   "cell_type": "code",
   "execution_count": null,
   "metadata": {},
   "outputs": [],
   "source": [
    "from tkinter import filedialog as FileDialog\n",
    "\n",
    "def test():\n",
    "    fichero = FileDialog.askopenfilename(title=\"Abrir un fichero\")\n",
    "    print(fichero)"
   ]
  },
  {
   "cell_type": "markdown",
   "metadata": {},
   "source": [
    "<img src=\"img\\28.png\">"
   ]
  },
  {
   "cell_type": "markdown",
   "metadata": {},
   "source": [
    "Como véis nos abre el cuadro de diálogo para gestionar ficheros en modo Abrir y nos devuelve la ruta. Y si no elegimos un fichero, se devuelve un valor vacío.\n",
    "\n",
    "Sin embargo lo más interesante es que también podemos establecer otras opciones, por ejemplo un directorio inicial y un filtro de extensiones. Pero debéis tener cuidado con el directorio, ya que no todos los sistemas operativos utilizan el mismo tipo de rutas:"
   ]
  },
  {
   "cell_type": "code",
   "execution_count": null,
   "metadata": {},
   "outputs": [],
   "source": [
    "file = FileDialog.askopenfilename(\n",
    "    initialdir=\"C:\", \n",
    "    filetypes=(\n",
    "        (\"Ficheros de texto\", \"*.txt\"),\n",
    "        (\"Todos los ficheros\",\"*.*\")\n",
    "    ), \n",
    "    title = \"Abrir un fichero.\"\n",
    ")"
   ]
  },
  {
   "cell_type": "markdown",
   "metadata": {},
   "source": [
    "<img src=\"img\\29.png\">"
   ]
  },
  {
   "cell_type": "markdown",
   "metadata": {},
   "source": [
    "## AskSaveAsFile\n",
    "\n",
    "Por contra, también podemos hacer lo mismo para buscar un directorio donde guardar un fichero. Aunque la lógica tras de ésto ya es más compleja, el proceso es muy similar:"
   ]
  },
  {
   "cell_type": "code",
   "execution_count": null,
   "metadata": {},
   "outputs": [],
   "source": [
    "def test():\n",
    "    ruta = FileDialog.asksaveasfile(title=\"Guardar un fichero\")\n",
    "    print(fichero)"
   ]
  },
  {
   "cell_type": "markdown",
   "metadata": {},
   "source": [
    "Este proceso equivaldría a abrir un fichero de texto plano con open(ruta,'w'), así que cuidado si abrís un fichero ya existente porque lo dejaréis sin nada, es decir, inservible.\n",
    "\n",
    "En cuanto a los parámetros que podemos enviar tenemos por ejemplo para establecer un modo (por si queréis escribir en append o en binario) y una extensión por defecto:"
   ]
  },
  {
   "cell_type": "code",
   "execution_count": null,
   "metadata": {},
   "outputs": [],
   "source": [
    "def test():\n",
    "    fichero = FileDialog.asksaveasfile(\n",
    "        title=\"Guardar un fichero\", mode='w', defaultextension=\".txt\")\n",
    "\n",
    "    if fichero is not None:\n",
    "        fichero.write(\"Hola!\")\n",
    "        fichero.close()"
   ]
  },
  {
   "cell_type": "markdown",
   "metadata": {},
   "source": [
    "<img src=\"img\\30.png\">"
   ]
  },
  {
   "cell_type": "markdown",
   "metadata": {},
   "source": []
  }
 ],
 "metadata": {
  "kernelspec": {
   "display_name": "Python 3",
   "language": "python",
   "name": "python3"
  },
  "language_info": {
   "codemirror_mode": {
    "name": "ipython",
    "version": 3
   },
   "file_extension": ".py",
   "mimetype": "text/x-python",
   "name": "python",
   "nbconvert_exporter": "python",
   "pygments_lexer": "ipython3",
   "version": "3.8.0"
  }
 },
 "nbformat": 4,
 "nbformat_minor": 4
}
