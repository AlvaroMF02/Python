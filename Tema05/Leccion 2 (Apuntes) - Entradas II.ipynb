{
 "cells": [
  {
   "cell_type": "markdown",
   "metadata": {},
   "source": [
    "# Entradas mediante argumentos\n",
    "En Python, además de la entrada por teclado, podemos recibir entradas a través de argumentos utilizando la biblioteca `argparse`.\n",
    "\n",
    "Esto es útil para ejecutar scripts desde la línea de comandos con diferentes parámetros."
   ]
  },
  {
   "cell_type": "markdown",
   "metadata": {},
   "source": [
    "## Uso básico de `sys.argv`\n",
    "`sys.argv` es una lista en Python, que contiene los argumentos pasados al script desde la línea de comandos."
   ]
  },
  {
   "cell_type": "code",
   "execution_count": null,
   "metadata": {},
   "outputs": [
    {
     "name": "stdout",
     "output_type": "stream",
     "text": [
      "C:\\Users\\alvaro\\AppData\\Roaming\\Python\\Python313\\site-packages\\ipykernel_launcher.py\n"
     ]
    }
   ],
   "source": [
    "import sys\n",
    "\n",
    "print(sys.argv)\n",
    "# Ejecuta este script desde la línea de comandos con argumentos para ver la salida:\n",
    "# python script.py arg1 arg2 arg3"
   ]
  },
  {
   "cell_type": "markdown",
   "metadata": {},
   "source": [
    "## ¿Qué es `argparse`?\n",
    "`argparse` es una biblioteca estándar de Python que facilita la escritura de interfaces de línea de comandos fáciles de usar. El programa define los argumentos que requiere, y `argparse` se encarga de analizarlos y generarlos para el usuario."
   ]
  },
  {
   "cell_type": "code",
   "execution_count": 2,
   "metadata": {},
   "outputs": [],
   "source": [
    "import argparse"
   ]
  },
  {
   "cell_type": "markdown",
   "metadata": {},
   "source": [
    "## Ejemplo básico\n",
    "Vamos a crear un script que acepte un nombre y una edad desde la línea de comandos y luego imprima un mensaje."
   ]
  },
  {
   "cell_type": "code",
   "execution_count": 3,
   "metadata": {},
   "outputs": [],
   "source": [
    "def main():\n",
    "    parser = argparse.ArgumentParser(description='Procesa algunos enteros.')\n",
    "    parser.add_argument('nombre', type=str, help='El nombre del usuario')\n",
    "    parser.add_argument('edad', type=int, help='La edad del usuario')\n",
    "\n",
    "    args = parser.parse_args()\n",
    "    print(f'Hola {args.nombre}, tienes {args.edad} años.')\n",
    "\n",
    "# Para probar este código, guarda el script en un archivo y ejecútalo desde la línea de comandos:\n",
    "# python script.py Juan 30"
   ]
  },
  {
   "cell_type": "markdown",
   "metadata": {},
   "source": [
    "## Argumentos opcionales\n",
    "También podemos definir argumentos opcionales. Estos argumentos no son obligatorios y pueden tener valores por defecto."
   ]
  },
  {
   "cell_type": "code",
   "execution_count": 4,
   "metadata": {},
   "outputs": [],
   "source": [
    "def main_opcional():\n",
    "    parser = argparse.ArgumentParser(description='Procesa algunos enteros.')\n",
    "    parser.add_argument('--nombre', type=str, default='Usuario', help='El nombre del usuario')\n",
    "    parser.add_argument('--edad', type=int, default=0, help='La edad del usuario')\n",
    "\n",
    "    args = parser.parse_args()\n",
    "    print(f'Hola {args.nombre}, tienes {args.edad} años.')\n",
    "\n",
    "# Ejecuta el script desde la línea de comandos para ver los valores por defecto:\n",
    "# python script.py"
   ]
  },
  {
   "cell_type": "code",
   "execution_count": null,
   "metadata": {},
   "outputs": [],
   "source": [
    "import argparse\n",
    "\n",
    "def main():\n",
    "    parser = argparse.ArgumentParser(description='Procesa algunos enteros.')\n",
    "    parser.add_argument('nombre', type=str, help='El nombre del usuario')\n",
    "    parser.add_argument('edad', type=int, help='La edad del usuario')\n",
    "\n",
    "    args = parser.parse_args()\n",
    "    print(f'Hola {args.nombre}, tienes {args.edad} años.')\n",
    "\n",
    "def main_opcional():\n",
    "    parser = argparse.ArgumentParser(description='Procesa algunos enteros.')\n",
    "    parser.add_argument('--nombre', type=str, default='Usuario', help='El nombre del usuario')\n",
    "    parser.add_argument('--edad', type=int, default=0, help='La edad del usuario')\n",
    "\n",
    "    args = parser.parse_args()\n",
    "    print(f'Hola {args.nombre}, tienes {args.edad} años.')\n",
    "\n",
    "if __name__ == \"__main__\":\n",
    "    main()"
   ]
  }
 ],
 "metadata": {
  "kernelspec": {
   "display_name": "Python 3",
   "language": "python",
   "name": "python3"
  },
  "language_info": {
   "codemirror_mode": {
    "name": "ipython",
    "version": 3
   },
   "file_extension": ".py",
   "mimetype": "text/x-python",
   "name": "python",
   "nbconvert_exporter": "python",
   "pygments_lexer": "ipython3",
   "version": "3.13.0"
  }
 },
 "nbformat": 4,
 "nbformat_minor": 1
}
