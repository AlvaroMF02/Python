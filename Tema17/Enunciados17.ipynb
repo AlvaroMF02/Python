{
 "cells": [
  {
   "cell_type": "markdown",
   "metadata": {},
   "source": [
    "# Ejercicios de Setuptools y PyInstaller\n",
    "\n",
    "A continuación se presentan tres ejercicios para practicar los conceptos aprendidos sobre empaquetamiento y distribución de código Python."
   ]
  },
  {
   "cell_type": "markdown", 
   "metadata": {},
   "source": [
    "## Ejercicio 1: Crear y Distribuir un Paquete de Utilidades\n",
    "\n",
    "Desarrolla un paquete llamado `utils_mate` que contenga las siguientes funcionalidades:\n",
    "\n",
    "- Un módulo `basic_math.py` con funciones básicas (suma, resta, multiplicación, división)\n",
    "- Un módulo `advanced_math.py` con funciones más complejas (potencia, raíz cuadrada, factorial)\n",
    "- Tests unitarios para verificar el funcionamiento de todas las funciones\n",
    "\n",
    "Requisitos:\n",
    "1. Crear la estructura correcta del paquete incluyendo `__init__.py`\n",
    "2. Configurar `setup.py` con toda la información necesaria (nombre, versión, autor, etc.)\n",
    "3. Incluir el módulo `math` como dependencia\n",
    "4. Crear tests unitarios en una carpeta `tests/`\n",
    "5. Generar un distribuible local (.zip o .tar.gz)\n",
    "\n",
    "El paquete debe poder instalarse usando pip y las funciones deben poder importarse correctamente."
   ]
  },
  {
   "cell_type": "markdown",
   "metadata": {},
   "source": [
    "## Ejercicio 2: Crear una Aplicación con GUI y Convertirla a Ejecutable\n",
    "\n",
    "Desarrolla una aplicación con interfaz gráfica usando tkinter que funcione como un conversor de unidades con estas características:\n",
    "\n",
    "- Conversión entre diferentes unidades de temperatura (Celsius, Fahrenheit, Kelvin)\n",
    "- Interfaz con campos de entrada, botones y etiquetas\n",
    "- Un menú desplegable para seleccionar el tipo de conversión\n",
    "- Manejo de errores para entradas inválidas\n",
    "\n",
    "Requisitos:\n",
    "1. Crear el programa en un archivo `converter.py`\n",
    "2. Usar PyInstaller para generar un ejecutable\n",
    "3. El ejecutable debe funcionar sin mostrar la terminal\n",
    "4. Incluir un icono personalizado\n",
    "5. Generar un ejecutable en un solo archivo\n",
    "\n",
    "El programa debe funcionar correctamente cuando se distribuya a otros usuarios."
   ]
  },
  {
   "cell_type": "markdown",
   "metadata": {},
   "source": [
    "## Ejercicio 3: Crear un Paquete con Dependencias Externas\n",
    "\n",
    "Desarrolla un paquete llamado `image_tools` para procesamiento básico de imágenes que:\n",
    "\n",
    "- Permita redimensionar imágenes\n",
    "- Aplique filtros básicos (blanco y negro, sepia)\n",
    "- Pueda rotar y voltear imágenes\n",
    "- Guarde las imágenes procesadas\n",
    "\n",
    "Requisitos:\n",
    "1. Usar Pillow para el procesamiento de imágenes\n",
    "2. Crear un `requirements.txt` con las dependencias necesarias\n",
    "3. Configurar `setup.py` para instalar automáticamente las dependencias\n",
    "4. Incluir documentación básica de uso\n",
    "5. Crear tests que verifiquen cada funcionalidad\n",
    "\n",
    "El paquete debe poder instalarse y utilizarse en cualquier entorno que tenga pip.\n",
    "\n",
    "Bonus: Crear también un ejecutable con PyInstaller que incluya una interfaz gráfica básica para usar las funciones del paquete."
   ]
  }
 ],
 "metadata": {
  "kernelspec": {
   "display_name": "Python 3",
   "language": "python",
   "name": "python3"
  },
  "language_info": {
   "codemirror_mode": {
    "name": "ipython",
    "version": 3
   },
   "file_extension": ".py",
   "mimetype": "text/x-python", 
   "name": "python",
   "nbconvert_exporter": "python",
   "pygments_lexer": "ipython3",
   "version": "3.8.0"
  }
 },
 "nbformat": 4,
 "nbformat_minor": 4
}