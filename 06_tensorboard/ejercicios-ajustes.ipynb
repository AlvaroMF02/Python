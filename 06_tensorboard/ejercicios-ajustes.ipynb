{
 "cells": [
  {
   "cell_type": "markdown",
   "metadata": {},
   "source": [
    "# Ejercicio 1: Ajuste de Hiperparámetros con TensorBoard\n",
    "\n",
    "## Objetivo\n",
    "Desarrollar un modelo de red neuronal para clasificación binaria ajustando hiperparámetros y visualizar el proceso de entrenamiento usando TensorBoard.\n",
    "\n",
    "## Descripción\n",
    "1. Utiliza el conjunto de datos sobre detección de spam proporcionado\n",
    "2. Implementa una red neuronal con al menos 2 capas ocultas\n",
    "3. Realiza un proceso de búsqueda de hiperparámetros probando:\n",
    "   - Diferentes tasas de aprendizaje: [0.001, 0.01, 0.1]\n",
    "   - Diferentes arquitecturas: [32-16, 64-32, 128-64] neuronas\n",
    "   - Diferentes funciones de activación: ['relu', 'tanh']\n",
    "4. Utiliza TensorBoard para visualizar:\n",
    "   - Curvas de pérdida y precisión \n",
    "   - Distribución de pesos por capa\n",
    "   - Métricas de evaluación\n",
    "\n",
    "\n",
    "\n",
    "---\n",
    "\n",
    "\n",
    "\n",
    "# Ejercicio 2: Transfer Learning y Fine-tuning con Monitoreo\n",
    "\n",
    "## Objetivo\n",
    "Aplicar transfer learning a un modelo pre-entrenado y realizar fine-tuning monitoreando el proceso con TensorBoard.\n",
    "\n",
    "## Descripción\n",
    "1. Utiliza un modelo pre-entrenado (ej: ResNet50) para la clasificación de imágenes\n",
    "2. Implementa:\n",
    "   - Congelamiento de capas base\n",
    "   - Adición de nuevas capas para fine-tuning\n",
    "   - Callbacks personalizados para TensorBoard\n",
    "3. Monitorea durante el entrenamiento:\n",
    "   - Gradientes por capa\n",
    "   - Mapas de activación\n",
    "   - Learning rate adaptativo\n",
    "4. Compara el rendimiento:\n",
    "   - Modelo base vs fine-tuned\n",
    "   - Diferentes estrategias de congelamiento\n",
    "   - Impacto del data augmentation\n",
    "\n"
   ]
  },
  {
   "cell_type": "markdown",
   "metadata": {},
   "source": []
  }
 ],
 "metadata": {
  "language_info": {
   "name": "python"
  }
 },
 "nbformat": 4,
 "nbformat_minor": 2
}
